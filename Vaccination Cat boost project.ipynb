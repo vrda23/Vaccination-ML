{
 "cells": [
  {
   "cell_type": "code",
   "execution_count": 1,
   "id": "6427d167",
   "metadata": {},
   "outputs": [],
   "source": [
    "import pandas as pd\n",
    "import numpy as np\n",
    "import matplotlib.pyplot as plt"
   ]
  },
  {
   "cell_type": "markdown",
   "id": "efea6ec0",
   "metadata": {},
   "source": [
    "Loading data"
   ]
  },
  {
   "cell_type": "code",
   "execution_count": 208,
   "id": "536d933f",
   "metadata": {},
   "outputs": [],
   "source": [
    "train = pd.read_csv(r\"C:\\Users\\jvrdo\\Downloads\\training_set_features.csv\", index_col='respondent_id')"
   ]
  },
  {
   "cell_type": "code",
   "execution_count": 209,
   "id": "af465d1d",
   "metadata": {},
   "outputs": [],
   "source": [
    "test = pd.read_csv(r\"C:\\Users\\jvrdo\\Downloads\\test_set_features.csv\", index_col='respondent_id')"
   ]
  },
  {
   "cell_type": "code",
   "execution_count": 210,
   "id": "6a629c0c",
   "metadata": {},
   "outputs": [],
   "source": [
    "labels = pd.read_csv(r\"C:\\Users\\jvrdo\\Downloads\\training_set_labels.csv\", index_col='respondent_id')"
   ]
  },
  {
   "cell_type": "code",
   "execution_count": 211,
   "id": "05fd10f6",
   "metadata": {},
   "outputs": [],
   "source": [
    "seas_mean_risk_emp= train.groupby(\"employment_industry\")[\"opinion_seas_risk\"].mean()\n",
    "\n",
    "race_seas_eff = train.groupby(\"race\")[\"opinion_seas_vacc_effective\"].mean() \n",
    "\n",
    "race_seas_sick = train.groupby(\"race\")[\"opinion_seas_sick_from_vacc\"].mean() "
   ]
  },
  {
   "cell_type": "code",
   "execution_count": 212,
   "id": "a3cc02b6",
   "metadata": {},
   "outputs": [
    {
     "data": {
      "text/plain": [
       "race\n",
       "Black                2.436108\n",
       "Hispanic             2.703576\n",
       "Other or Multiple    2.300000\n",
       "White                2.024123\n",
       "Name: opinion_seas_sick_from_vacc, dtype: float64"
      ]
     },
     "execution_count": 212,
     "metadata": {},
     "output_type": "execute_result"
    }
   ],
   "source": [
    "race_seas_sick"
   ]
  },
  {
   "cell_type": "code",
   "execution_count": 179,
   "id": "4218ea5b",
   "metadata": {},
   "outputs": [],
   "source": [
    "\n",
    "train= train.join(seas_mean_risk_emp, on=\"employment_industry\",rsuffix='_r' )"
   ]
  },
  {
   "cell_type": "code",
   "execution_count": 193,
   "id": "60d57d70",
   "metadata": {},
   "outputs": [],
   "source": []
  },
  {
   "cell_type": "code",
   "execution_count": null,
   "id": "938cef68",
   "metadata": {},
   "outputs": [],
   "source": [
    "train= train.join(race_seas_eff, on=\"race\",rsuffix='_r' )"
   ]
  },
  {
   "cell_type": "code",
   "execution_count": 194,
   "id": "6e92d5d5",
   "metadata": {},
   "outputs": [
    {
     "data": {
      "text/html": [
       "<div>\n",
       "<style scoped>\n",
       "    .dataframe tbody tr th:only-of-type {\n",
       "        vertical-align: middle;\n",
       "    }\n",
       "\n",
       "    .dataframe tbody tr th {\n",
       "        vertical-align: top;\n",
       "    }\n",
       "\n",
       "    .dataframe thead th {\n",
       "        text-align: right;\n",
       "    }\n",
       "</style>\n",
       "<table border=\"1\" class=\"dataframe\">\n",
       "  <thead>\n",
       "    <tr style=\"text-align: right;\">\n",
       "      <th></th>\n",
       "      <th>h1n1_concern</th>\n",
       "      <th>h1n1_knowledge</th>\n",
       "      <th>behavioral_antiviral_meds</th>\n",
       "      <th>behavioral_avoidance</th>\n",
       "      <th>behavioral_face_mask</th>\n",
       "      <th>behavioral_wash_hands</th>\n",
       "      <th>behavioral_large_gatherings</th>\n",
       "      <th>behavioral_outside_home</th>\n",
       "      <th>behavioral_touch_face</th>\n",
       "      <th>doctor_recc_h1n1</th>\n",
       "      <th>...</th>\n",
       "      <th>employment_status</th>\n",
       "      <th>hhs_geo_region</th>\n",
       "      <th>census_msa</th>\n",
       "      <th>household_adults</th>\n",
       "      <th>household_children</th>\n",
       "      <th>employment_industry</th>\n",
       "      <th>employment_occupation</th>\n",
       "      <th>opinion_seas_vacc_effective_r</th>\n",
       "      <th>opinion_seas_risk_r</th>\n",
       "      <th>opinion_seas_sick_from_vacc_s</th>\n",
       "    </tr>\n",
       "    <tr>\n",
       "      <th>respondent_id</th>\n",
       "      <th></th>\n",
       "      <th></th>\n",
       "      <th></th>\n",
       "      <th></th>\n",
       "      <th></th>\n",
       "      <th></th>\n",
       "      <th></th>\n",
       "      <th></th>\n",
       "      <th></th>\n",
       "      <th></th>\n",
       "      <th></th>\n",
       "      <th></th>\n",
       "      <th></th>\n",
       "      <th></th>\n",
       "      <th></th>\n",
       "      <th></th>\n",
       "      <th></th>\n",
       "      <th></th>\n",
       "      <th></th>\n",
       "      <th></th>\n",
       "      <th></th>\n",
       "    </tr>\n",
       "  </thead>\n",
       "  <tbody>\n",
       "    <tr>\n",
       "      <th>0</th>\n",
       "      <td>1.0</td>\n",
       "      <td>0.0</td>\n",
       "      <td>0.0</td>\n",
       "      <td>0.0</td>\n",
       "      <td>0.0</td>\n",
       "      <td>0.0</td>\n",
       "      <td>0.0</td>\n",
       "      <td>1.0</td>\n",
       "      <td>1.0</td>\n",
       "      <td>0.0</td>\n",
       "      <td>...</td>\n",
       "      <td>2.0</td>\n",
       "      <td>oxchjgsf</td>\n",
       "      <td>Non-MSA</td>\n",
       "      <td>0.0</td>\n",
       "      <td>0.0</td>\n",
       "      <td>None</td>\n",
       "      <td>None</td>\n",
       "      <td>3.978607</td>\n",
       "      <td>2.602551</td>\n",
       "      <td>1.965413</td>\n",
       "    </tr>\n",
       "    <tr>\n",
       "      <th>1</th>\n",
       "      <td>3.0</td>\n",
       "      <td>2.0</td>\n",
       "      <td>0.0</td>\n",
       "      <td>1.0</td>\n",
       "      <td>0.0</td>\n",
       "      <td>1.0</td>\n",
       "      <td>0.0</td>\n",
       "      <td>1.0</td>\n",
       "      <td>1.0</td>\n",
       "      <td>0.0</td>\n",
       "      <td>...</td>\n",
       "      <td>0.0</td>\n",
       "      <td>bhuqouqj</td>\n",
       "      <td>MSA, Not Principle  City</td>\n",
       "      <td>0.0</td>\n",
       "      <td>0.0</td>\n",
       "      <td>pxcmvdjn</td>\n",
       "      <td>xgwztkwe</td>\n",
       "      <td>3.978607</td>\n",
       "      <td>2.608486</td>\n",
       "      <td>1.965413</td>\n",
       "    </tr>\n",
       "    <tr>\n",
       "      <th>2</th>\n",
       "      <td>1.0</td>\n",
       "      <td>1.0</td>\n",
       "      <td>0.0</td>\n",
       "      <td>1.0</td>\n",
       "      <td>0.0</td>\n",
       "      <td>0.0</td>\n",
       "      <td>0.0</td>\n",
       "      <td>0.0</td>\n",
       "      <td>0.0</td>\n",
       "      <td>-1.0</td>\n",
       "      <td>...</td>\n",
       "      <td>0.0</td>\n",
       "      <td>qufhixun</td>\n",
       "      <td>MSA, Not Principle  City</td>\n",
       "      <td>2.0</td>\n",
       "      <td>0.0</td>\n",
       "      <td>rucpziij</td>\n",
       "      <td>xtkaffoo</td>\n",
       "      <td>3.978607</td>\n",
       "      <td>2.648184</td>\n",
       "      <td>1.965413</td>\n",
       "    </tr>\n",
       "    <tr>\n",
       "      <th>3</th>\n",
       "      <td>1.0</td>\n",
       "      <td>1.0</td>\n",
       "      <td>0.0</td>\n",
       "      <td>1.0</td>\n",
       "      <td>0.0</td>\n",
       "      <td>1.0</td>\n",
       "      <td>1.0</td>\n",
       "      <td>0.0</td>\n",
       "      <td>0.0</td>\n",
       "      <td>0.0</td>\n",
       "      <td>...</td>\n",
       "      <td>2.0</td>\n",
       "      <td>lrircsnp</td>\n",
       "      <td>MSA, Principle City</td>\n",
       "      <td>0.0</td>\n",
       "      <td>0.0</td>\n",
       "      <td>None</td>\n",
       "      <td>None</td>\n",
       "      <td>3.978607</td>\n",
       "      <td>2.602551</td>\n",
       "      <td>1.965413</td>\n",
       "    </tr>\n",
       "    <tr>\n",
       "      <th>4</th>\n",
       "      <td>2.0</td>\n",
       "      <td>1.0</td>\n",
       "      <td>0.0</td>\n",
       "      <td>1.0</td>\n",
       "      <td>0.0</td>\n",
       "      <td>1.0</td>\n",
       "      <td>1.0</td>\n",
       "      <td>0.0</td>\n",
       "      <td>1.0</td>\n",
       "      <td>0.0</td>\n",
       "      <td>...</td>\n",
       "      <td>0.0</td>\n",
       "      <td>qufhixun</td>\n",
       "      <td>MSA, Not Principle  City</td>\n",
       "      <td>1.0</td>\n",
       "      <td>0.0</td>\n",
       "      <td>wxleyezf</td>\n",
       "      <td>emcorrxb</td>\n",
       "      <td>3.978607</td>\n",
       "      <td>2.904102</td>\n",
       "      <td>1.965413</td>\n",
       "    </tr>\n",
       "    <tr>\n",
       "      <th>...</th>\n",
       "      <td>...</td>\n",
       "      <td>...</td>\n",
       "      <td>...</td>\n",
       "      <td>...</td>\n",
       "      <td>...</td>\n",
       "      <td>...</td>\n",
       "      <td>...</td>\n",
       "      <td>...</td>\n",
       "      <td>...</td>\n",
       "      <td>...</td>\n",
       "      <td>...</td>\n",
       "      <td>...</td>\n",
       "      <td>...</td>\n",
       "      <td>...</td>\n",
       "      <td>...</td>\n",
       "      <td>...</td>\n",
       "      <td>...</td>\n",
       "      <td>...</td>\n",
       "      <td>...</td>\n",
       "      <td>...</td>\n",
       "      <td>...</td>\n",
       "    </tr>\n",
       "    <tr>\n",
       "      <th>26702</th>\n",
       "      <td>2.0</td>\n",
       "      <td>0.0</td>\n",
       "      <td>0.0</td>\n",
       "      <td>1.0</td>\n",
       "      <td>0.0</td>\n",
       "      <td>0.0</td>\n",
       "      <td>0.0</td>\n",
       "      <td>1.0</td>\n",
       "      <td>0.0</td>\n",
       "      <td>0.0</td>\n",
       "      <td>...</td>\n",
       "      <td>2.0</td>\n",
       "      <td>qufhixun</td>\n",
       "      <td>Non-MSA</td>\n",
       "      <td>0.0</td>\n",
       "      <td>0.0</td>\n",
       "      <td>None</td>\n",
       "      <td>None</td>\n",
       "      <td>3.978607</td>\n",
       "      <td>2.602551</td>\n",
       "      <td>1.965413</td>\n",
       "    </tr>\n",
       "    <tr>\n",
       "      <th>26703</th>\n",
       "      <td>1.0</td>\n",
       "      <td>2.0</td>\n",
       "      <td>0.0</td>\n",
       "      <td>1.0</td>\n",
       "      <td>0.0</td>\n",
       "      <td>1.0</td>\n",
       "      <td>0.0</td>\n",
       "      <td>0.0</td>\n",
       "      <td>0.0</td>\n",
       "      <td>1.0</td>\n",
       "      <td>...</td>\n",
       "      <td>0.0</td>\n",
       "      <td>lzgpxyit</td>\n",
       "      <td>MSA, Principle City</td>\n",
       "      <td>1.0</td>\n",
       "      <td>0.0</td>\n",
       "      <td>fcxhlnwr</td>\n",
       "      <td>cmhcxjea</td>\n",
       "      <td>3.978607</td>\n",
       "      <td>3.107780</td>\n",
       "      <td>1.965413</td>\n",
       "    </tr>\n",
       "    <tr>\n",
       "      <th>26704</th>\n",
       "      <td>2.0</td>\n",
       "      <td>2.0</td>\n",
       "      <td>0.0</td>\n",
       "      <td>1.0</td>\n",
       "      <td>1.0</td>\n",
       "      <td>1.0</td>\n",
       "      <td>1.0</td>\n",
       "      <td>0.0</td>\n",
       "      <td>1.0</td>\n",
       "      <td>0.0</td>\n",
       "      <td>...</td>\n",
       "      <td>1.0</td>\n",
       "      <td>lzgpxyit</td>\n",
       "      <td>MSA, Not Principle  City</td>\n",
       "      <td>0.0</td>\n",
       "      <td>0.0</td>\n",
       "      <td>None</td>\n",
       "      <td>None</td>\n",
       "      <td>3.978607</td>\n",
       "      <td>2.602551</td>\n",
       "      <td>1.965413</td>\n",
       "    </tr>\n",
       "    <tr>\n",
       "      <th>26705</th>\n",
       "      <td>1.0</td>\n",
       "      <td>1.0</td>\n",
       "      <td>0.0</td>\n",
       "      <td>0.0</td>\n",
       "      <td>0.0</td>\n",
       "      <td>0.0</td>\n",
       "      <td>0.0</td>\n",
       "      <td>0.0</td>\n",
       "      <td>-1.0</td>\n",
       "      <td>0.0</td>\n",
       "      <td>...</td>\n",
       "      <td>0.0</td>\n",
       "      <td>lrircsnp</td>\n",
       "      <td>Non-MSA</td>\n",
       "      <td>1.0</td>\n",
       "      <td>0.0</td>\n",
       "      <td>fcxhlnwr</td>\n",
       "      <td>haliazsg</td>\n",
       "      <td>3.887749</td>\n",
       "      <td>3.107780</td>\n",
       "      <td>2.659259</td>\n",
       "    </tr>\n",
       "    <tr>\n",
       "      <th>26706</th>\n",
       "      <td>0.0</td>\n",
       "      <td>0.0</td>\n",
       "      <td>0.0</td>\n",
       "      <td>1.0</td>\n",
       "      <td>0.0</td>\n",
       "      <td>0.0</td>\n",
       "      <td>0.0</td>\n",
       "      <td>0.0</td>\n",
       "      <td>0.0</td>\n",
       "      <td>0.0</td>\n",
       "      <td>...</td>\n",
       "      <td>2.0</td>\n",
       "      <td>mlyzmhmf</td>\n",
       "      <td>MSA, Principle City</td>\n",
       "      <td>1.0</td>\n",
       "      <td>0.0</td>\n",
       "      <td>None</td>\n",
       "      <td>None</td>\n",
       "      <td>3.978607</td>\n",
       "      <td>2.602551</td>\n",
       "      <td>1.965413</td>\n",
       "    </tr>\n",
       "  </tbody>\n",
       "</table>\n",
       "<p>26707 rows × 38 columns</p>\n",
       "</div>"
      ],
      "text/plain": [
       "               h1n1_concern  h1n1_knowledge  behavioral_antiviral_meds  \\\n",
       "respondent_id                                                            \n",
       "0                       1.0             0.0                        0.0   \n",
       "1                       3.0             2.0                        0.0   \n",
       "2                       1.0             1.0                        0.0   \n",
       "3                       1.0             1.0                        0.0   \n",
       "4                       2.0             1.0                        0.0   \n",
       "...                     ...             ...                        ...   \n",
       "26702                   2.0             0.0                        0.0   \n",
       "26703                   1.0             2.0                        0.0   \n",
       "26704                   2.0             2.0                        0.0   \n",
       "26705                   1.0             1.0                        0.0   \n",
       "26706                   0.0             0.0                        0.0   \n",
       "\n",
       "               behavioral_avoidance  behavioral_face_mask  \\\n",
       "respondent_id                                               \n",
       "0                               0.0                   0.0   \n",
       "1                               1.0                   0.0   \n",
       "2                               1.0                   0.0   \n",
       "3                               1.0                   0.0   \n",
       "4                               1.0                   0.0   \n",
       "...                             ...                   ...   \n",
       "26702                           1.0                   0.0   \n",
       "26703                           1.0                   0.0   \n",
       "26704                           1.0                   1.0   \n",
       "26705                           0.0                   0.0   \n",
       "26706                           1.0                   0.0   \n",
       "\n",
       "               behavioral_wash_hands  behavioral_large_gatherings  \\\n",
       "respondent_id                                                       \n",
       "0                                0.0                          0.0   \n",
       "1                                1.0                          0.0   \n",
       "2                                0.0                          0.0   \n",
       "3                                1.0                          1.0   \n",
       "4                                1.0                          1.0   \n",
       "...                              ...                          ...   \n",
       "26702                            0.0                          0.0   \n",
       "26703                            1.0                          0.0   \n",
       "26704                            1.0                          1.0   \n",
       "26705                            0.0                          0.0   \n",
       "26706                            0.0                          0.0   \n",
       "\n",
       "               behavioral_outside_home  behavioral_touch_face  \\\n",
       "respondent_id                                                   \n",
       "0                                  1.0                    1.0   \n",
       "1                                  1.0                    1.0   \n",
       "2                                  0.0                    0.0   \n",
       "3                                  0.0                    0.0   \n",
       "4                                  0.0                    1.0   \n",
       "...                                ...                    ...   \n",
       "26702                              1.0                    0.0   \n",
       "26703                              0.0                    0.0   \n",
       "26704                              0.0                    1.0   \n",
       "26705                              0.0                   -1.0   \n",
       "26706                              0.0                    0.0   \n",
       "\n",
       "               doctor_recc_h1n1  ...  employment_status  hhs_geo_region  \\\n",
       "respondent_id                    ...                                      \n",
       "0                           0.0  ...                2.0        oxchjgsf   \n",
       "1                           0.0  ...                0.0        bhuqouqj   \n",
       "2                          -1.0  ...                0.0        qufhixun   \n",
       "3                           0.0  ...                2.0        lrircsnp   \n",
       "4                           0.0  ...                0.0        qufhixun   \n",
       "...                         ...  ...                ...             ...   \n",
       "26702                       0.0  ...                2.0        qufhixun   \n",
       "26703                       1.0  ...                0.0        lzgpxyit   \n",
       "26704                       0.0  ...                1.0        lzgpxyit   \n",
       "26705                       0.0  ...                0.0        lrircsnp   \n",
       "26706                       0.0  ...                2.0        mlyzmhmf   \n",
       "\n",
       "                             census_msa  household_adults  household_children  \\\n",
       "respondent_id                                                                   \n",
       "0                               Non-MSA               0.0                 0.0   \n",
       "1              MSA, Not Principle  City               0.0                 0.0   \n",
       "2              MSA, Not Principle  City               2.0                 0.0   \n",
       "3                   MSA, Principle City               0.0                 0.0   \n",
       "4              MSA, Not Principle  City               1.0                 0.0   \n",
       "...                                 ...               ...                 ...   \n",
       "26702                           Non-MSA               0.0                 0.0   \n",
       "26703               MSA, Principle City               1.0                 0.0   \n",
       "26704          MSA, Not Principle  City               0.0                 0.0   \n",
       "26705                           Non-MSA               1.0                 0.0   \n",
       "26706               MSA, Principle City               1.0                 0.0   \n",
       "\n",
       "               employment_industry  employment_occupation  \\\n",
       "respondent_id                                               \n",
       "0                             None                   None   \n",
       "1                         pxcmvdjn               xgwztkwe   \n",
       "2                         rucpziij               xtkaffoo   \n",
       "3                             None                   None   \n",
       "4                         wxleyezf               emcorrxb   \n",
       "...                            ...                    ...   \n",
       "26702                         None                   None   \n",
       "26703                     fcxhlnwr               cmhcxjea   \n",
       "26704                         None                   None   \n",
       "26705                     fcxhlnwr               haliazsg   \n",
       "26706                         None                   None   \n",
       "\n",
       "               opinion_seas_vacc_effective_r  opinion_seas_risk_r  \\\n",
       "respondent_id                                                       \n",
       "0                                   3.978607             2.602551   \n",
       "1                                   3.978607             2.608486   \n",
       "2                                   3.978607             2.648184   \n",
       "3                                   3.978607             2.602551   \n",
       "4                                   3.978607             2.904102   \n",
       "...                                      ...                  ...   \n",
       "26702                               3.978607             2.602551   \n",
       "26703                               3.978607             3.107780   \n",
       "26704                               3.978607             2.602551   \n",
       "26705                               3.887749             3.107780   \n",
       "26706                               3.978607             2.602551   \n",
       "\n",
       "               opinion_seas_sick_from_vacc_s  \n",
       "respondent_id                                 \n",
       "0                                   1.965413  \n",
       "1                                   1.965413  \n",
       "2                                   1.965413  \n",
       "3                                   1.965413  \n",
       "4                                   1.965413  \n",
       "...                                      ...  \n",
       "26702                               1.965413  \n",
       "26703                               1.965413  \n",
       "26704                               1.965413  \n",
       "26705                               2.659259  \n",
       "26706                               1.965413  \n",
       "\n",
       "[26707 rows x 38 columns]"
      ]
     },
     "execution_count": 194,
     "metadata": {},
     "output_type": "execute_result"
    }
   ],
   "source": [
    "train"
   ]
  },
  {
   "cell_type": "markdown",
   "id": "4b455709",
   "metadata": {},
   "source": [
    "Imputation"
   ]
  },
  {
   "cell_type": "code",
   "execution_count": 8,
   "id": "24b15574",
   "metadata": {},
   "outputs": [],
   "source": [
    "num_cols = train.select_dtypes('number').columns"
   ]
  },
  {
   "cell_type": "code",
   "execution_count": 9,
   "id": "aa4f54e4",
   "metadata": {},
   "outputs": [],
   "source": [
    "cat_cols = ['race', 'sex', \n",
    "       'marital_status', 'rent_or_own',  'hhs_geo_region',\n",
    "       'census_msa', 'employment_industry', 'employment_occupation']"
   ]
  },
  {
   "cell_type": "code",
   "execution_count": 10,
   "id": "9f6eacca",
   "metadata": {},
   "outputs": [],
   "source": [
    "ord_cols = ['age_group', 'education',  'income_poverty',\n",
    "        'employment_status']"
   ]
  },
  {
   "cell_type": "code",
   "execution_count": 11,
   "id": "87a0a122",
   "metadata": {},
   "outputs": [],
   "source": [
    "from sklearn.pipeline import Pipeline\n",
    "from sklearn.preprocessing import MinMaxScaler, StandardScaler, OneHotEncoder\n",
    "from sklearn.impute import SimpleImputer\n",
    "from sklearn.compose import ColumnTransformer\n",
    "from catboost import CatBoostClassifier\n",
    "from catboost import Pool, cv\n",
    "from sklearn.metrics import roc_curve, roc_auc_score\n",
    "import optuna\n",
    "from sklearn.preprocessing import OrdinalEncoder\n",
    "\n",
    "oe = OrdinalEncoder()"
   ]
  },
  {
   "cell_type": "markdown",
   "id": "2fe66fc5",
   "metadata": {},
   "source": [
    "Impute train"
   ]
  },
  {
   "cell_type": "code",
   "execution_count": 133,
   "id": "5128ea39",
   "metadata": {},
   "outputs": [],
   "source": [
    "# Categorical columns None\n",
    "for col in (cat_cols+ord_cols):\n",
    "    train[col] = train[col].fillna(value='None')"
   ]
  },
  {
   "cell_type": "code",
   "execution_count": 134,
   "id": "97e6bddc",
   "metadata": {},
   "outputs": [],
   "source": [
    "for col in num_cols:\n",
    "    train[col] = train[col].fillna(value=-1)"
   ]
  },
  {
   "cell_type": "markdown",
   "id": "08432042",
   "metadata": {},
   "source": [
    "Impute test"
   ]
  },
  {
   "cell_type": "code",
   "execution_count": 158,
   "id": "0e5de22f",
   "metadata": {},
   "outputs": [
    {
     "ename": "KeyError",
     "evalue": "'race'",
     "output_type": "error",
     "traceback": [
      "\u001b[1;31m---------------------------------------------------------------------------\u001b[0m",
      "\u001b[1;31mKeyError\u001b[0m                                  Traceback (most recent call last)",
      "\u001b[1;32m~\\anaconda3\\lib\\site-packages\\pandas\\core\\indexes\\base.py\u001b[0m in \u001b[0;36mget_loc\u001b[1;34m(self, key, method, tolerance)\u001b[0m\n\u001b[0;32m   3620\u001b[0m             \u001b[1;32mtry\u001b[0m\u001b[1;33m:\u001b[0m\u001b[1;33m\u001b[0m\u001b[1;33m\u001b[0m\u001b[0m\n\u001b[1;32m-> 3621\u001b[1;33m                 \u001b[1;32mreturn\u001b[0m \u001b[0mself\u001b[0m\u001b[1;33m.\u001b[0m\u001b[0m_engine\u001b[0m\u001b[1;33m.\u001b[0m\u001b[0mget_loc\u001b[0m\u001b[1;33m(\u001b[0m\u001b[0mcasted_key\u001b[0m\u001b[1;33m)\u001b[0m\u001b[1;33m\u001b[0m\u001b[1;33m\u001b[0m\u001b[0m\n\u001b[0m\u001b[0;32m   3622\u001b[0m             \u001b[1;32mexcept\u001b[0m \u001b[0mKeyError\u001b[0m \u001b[1;32mas\u001b[0m \u001b[0merr\u001b[0m\u001b[1;33m:\u001b[0m\u001b[1;33m\u001b[0m\u001b[1;33m\u001b[0m\u001b[0m\n",
      "\u001b[1;32m~\\anaconda3\\lib\\site-packages\\pandas\\_libs\\index.pyx\u001b[0m in \u001b[0;36mpandas._libs.index.IndexEngine.get_loc\u001b[1;34m()\u001b[0m\n",
      "\u001b[1;32m~\\anaconda3\\lib\\site-packages\\pandas\\_libs\\index.pyx\u001b[0m in \u001b[0;36mpandas._libs.index.IndexEngine.get_loc\u001b[1;34m()\u001b[0m\n",
      "\u001b[1;32mpandas\\_libs\\hashtable_class_helper.pxi\u001b[0m in \u001b[0;36mpandas._libs.hashtable.PyObjectHashTable.get_item\u001b[1;34m()\u001b[0m\n",
      "\u001b[1;32mpandas\\_libs\\hashtable_class_helper.pxi\u001b[0m in \u001b[0;36mpandas._libs.hashtable.PyObjectHashTable.get_item\u001b[1;34m()\u001b[0m\n",
      "\u001b[1;31mKeyError\u001b[0m: 'race'",
      "\nThe above exception was the direct cause of the following exception:\n",
      "\u001b[1;31mKeyError\u001b[0m                                  Traceback (most recent call last)",
      "\u001b[1;32m<ipython-input-158-bc0707e4f603>\u001b[0m in \u001b[0;36m<module>\u001b[1;34m\u001b[0m\n\u001b[0;32m      1\u001b[0m \u001b[1;31m# Categorical columns None\u001b[0m\u001b[1;33m\u001b[0m\u001b[1;33m\u001b[0m\u001b[1;33m\u001b[0m\u001b[0m\n\u001b[0;32m      2\u001b[0m \u001b[1;32mfor\u001b[0m \u001b[0mcol\u001b[0m \u001b[1;32min\u001b[0m \u001b[1;33m(\u001b[0m\u001b[0mcat_cols\u001b[0m\u001b[1;33m+\u001b[0m\u001b[0mord_cols\u001b[0m\u001b[1;33m)\u001b[0m\u001b[1;33m:\u001b[0m\u001b[1;33m\u001b[0m\u001b[1;33m\u001b[0m\u001b[0m\n\u001b[1;32m----> 3\u001b[1;33m     \u001b[0mtest\u001b[0m\u001b[1;33m[\u001b[0m\u001b[0mcol\u001b[0m\u001b[1;33m]\u001b[0m \u001b[1;33m=\u001b[0m \u001b[0mtest\u001b[0m\u001b[1;33m[\u001b[0m\u001b[0mcol\u001b[0m\u001b[1;33m]\u001b[0m\u001b[1;33m.\u001b[0m\u001b[0mfillna\u001b[0m\u001b[1;33m(\u001b[0m\u001b[0mvalue\u001b[0m\u001b[1;33m=\u001b[0m\u001b[1;34m'None'\u001b[0m\u001b[1;33m)\u001b[0m\u001b[1;33m\u001b[0m\u001b[1;33m\u001b[0m\u001b[0m\n\u001b[0m",
      "\u001b[1;32m~\\anaconda3\\lib\\site-packages\\pandas\\core\\frame.py\u001b[0m in \u001b[0;36m__getitem__\u001b[1;34m(self, key)\u001b[0m\n\u001b[0;32m   3503\u001b[0m             \u001b[1;32mif\u001b[0m \u001b[0mself\u001b[0m\u001b[1;33m.\u001b[0m\u001b[0mcolumns\u001b[0m\u001b[1;33m.\u001b[0m\u001b[0mnlevels\u001b[0m \u001b[1;33m>\u001b[0m \u001b[1;36m1\u001b[0m\u001b[1;33m:\u001b[0m\u001b[1;33m\u001b[0m\u001b[1;33m\u001b[0m\u001b[0m\n\u001b[0;32m   3504\u001b[0m                 \u001b[1;32mreturn\u001b[0m \u001b[0mself\u001b[0m\u001b[1;33m.\u001b[0m\u001b[0m_getitem_multilevel\u001b[0m\u001b[1;33m(\u001b[0m\u001b[0mkey\u001b[0m\u001b[1;33m)\u001b[0m\u001b[1;33m\u001b[0m\u001b[1;33m\u001b[0m\u001b[0m\n\u001b[1;32m-> 3505\u001b[1;33m             \u001b[0mindexer\u001b[0m \u001b[1;33m=\u001b[0m \u001b[0mself\u001b[0m\u001b[1;33m.\u001b[0m\u001b[0mcolumns\u001b[0m\u001b[1;33m.\u001b[0m\u001b[0mget_loc\u001b[0m\u001b[1;33m(\u001b[0m\u001b[0mkey\u001b[0m\u001b[1;33m)\u001b[0m\u001b[1;33m\u001b[0m\u001b[1;33m\u001b[0m\u001b[0m\n\u001b[0m\u001b[0;32m   3506\u001b[0m             \u001b[1;32mif\u001b[0m \u001b[0mis_integer\u001b[0m\u001b[1;33m(\u001b[0m\u001b[0mindexer\u001b[0m\u001b[1;33m)\u001b[0m\u001b[1;33m:\u001b[0m\u001b[1;33m\u001b[0m\u001b[1;33m\u001b[0m\u001b[0m\n\u001b[0;32m   3507\u001b[0m                 \u001b[0mindexer\u001b[0m \u001b[1;33m=\u001b[0m \u001b[1;33m[\u001b[0m\u001b[0mindexer\u001b[0m\u001b[1;33m]\u001b[0m\u001b[1;33m\u001b[0m\u001b[1;33m\u001b[0m\u001b[0m\n",
      "\u001b[1;32m~\\anaconda3\\lib\\site-packages\\pandas\\core\\indexes\\base.py\u001b[0m in \u001b[0;36mget_loc\u001b[1;34m(self, key, method, tolerance)\u001b[0m\n\u001b[0;32m   3621\u001b[0m                 \u001b[1;32mreturn\u001b[0m \u001b[0mself\u001b[0m\u001b[1;33m.\u001b[0m\u001b[0m_engine\u001b[0m\u001b[1;33m.\u001b[0m\u001b[0mget_loc\u001b[0m\u001b[1;33m(\u001b[0m\u001b[0mcasted_key\u001b[0m\u001b[1;33m)\u001b[0m\u001b[1;33m\u001b[0m\u001b[1;33m\u001b[0m\u001b[0m\n\u001b[0;32m   3622\u001b[0m             \u001b[1;32mexcept\u001b[0m \u001b[0mKeyError\u001b[0m \u001b[1;32mas\u001b[0m \u001b[0merr\u001b[0m\u001b[1;33m:\u001b[0m\u001b[1;33m\u001b[0m\u001b[1;33m\u001b[0m\u001b[0m\n\u001b[1;32m-> 3623\u001b[1;33m                 \u001b[1;32mraise\u001b[0m \u001b[0mKeyError\u001b[0m\u001b[1;33m(\u001b[0m\u001b[0mkey\u001b[0m\u001b[1;33m)\u001b[0m \u001b[1;32mfrom\u001b[0m \u001b[0merr\u001b[0m\u001b[1;33m\u001b[0m\u001b[1;33m\u001b[0m\u001b[0m\n\u001b[0m\u001b[0;32m   3624\u001b[0m             \u001b[1;32mexcept\u001b[0m \u001b[0mTypeError\u001b[0m\u001b[1;33m:\u001b[0m\u001b[1;33m\u001b[0m\u001b[1;33m\u001b[0m\u001b[0m\n\u001b[0;32m   3625\u001b[0m                 \u001b[1;31m# If we have a listlike key, _check_indexing_error will raise\u001b[0m\u001b[1;33m\u001b[0m\u001b[1;33m\u001b[0m\u001b[1;33m\u001b[0m\u001b[0m\n",
      "\u001b[1;31mKeyError\u001b[0m: 'race'"
     ]
    }
   ],
   "source": [
    "# Categorical columns None\n",
    "for col in (cat_cols+ord_cols):\n",
    "    test[col] = test[col].fillna(value='None')"
   ]
  },
  {
   "cell_type": "code",
   "execution_count": 159,
   "id": "88a32e8e",
   "metadata": {},
   "outputs": [],
   "source": [
    "for col in num_cols:\n",
    "    test[col] = test[col].fillna(value=-1)"
   ]
  },
  {
   "cell_type": "markdown",
   "id": "cde9c19a",
   "metadata": {},
   "source": [
    "Feature Engineering"
   ]
  },
  {
   "cell_type": "code",
   "execution_count": 49,
   "id": "c1837b01",
   "metadata": {},
   "outputs": [],
   "source": [
    "# Creating a new feature based on opinion of vaccine effectiveness\n",
    "def good_opinion_h1n1(train):  \n",
    "    if train['opinion_h1n1_vacc_effective'] > 3:\n",
    "        return 1\n",
    "    else:\n",
    "        return 0\n",
    "    \n",
    "    \n",
    "def good_opinion_season(train):  \n",
    "    if train['opinion_seas_vacc_effective'] > 3:\n",
    "        return 1\n",
    "    else:\n",
    "        return 0\n",
    "\n",
    "def risk_season(train):  \n",
    "    if train['opinion_seas_sick_from_vacc'] > 3:\n",
    "        return 1\n",
    "    else:\n",
    "        return 0\n",
    "    \n",
    "def risk_h1n1(train):  \n",
    "    if train['opinion_h1n1_sick_from_vacc'] > 3:\n",
    "        return 1\n",
    "    else:\n",
    "        return 0\n",
    "    \n",
    "def risk_get_h1n1(train):\n",
    "    if train[\"opinion_h1n1_risk\"] > 3:\n",
    "        return 1\n",
    "    else:\n",
    "        return 0\n",
    "    \n",
    "def risk_get_flu(train):\n",
    "    if train[\"opinion_seas_risk\"] > 3:\n",
    "        return 1\n",
    "    else:\n",
    "        return 0\n",
    "    \n",
    "def concerned(train):\n",
    "    if train[\"h1n1_concern\"] > 3:\n",
    "        return 1\n",
    "    else:\n",
    "        return 0"
   ]
  },
  {
   "cell_type": "code",
   "execution_count": 50,
   "id": "9eeee6a1",
   "metadata": {},
   "outputs": [],
   "source": [
    "train['good_opinion_h1n1'] = train.apply(lambda train: good_opinion_h1n1(train), axis=1)\n",
    "\n",
    "train['good_opinion_season'] = train.apply(lambda train: good_opinion_season(train), axis=1)\n",
    "\n",
    "train[\"Concerned\"]= train.apply(lambda train: concerned(train), axis= 1)"
   ]
  },
  {
   "cell_type": "code",
   "execution_count": 51,
   "id": "f3b37a46",
   "metadata": {},
   "outputs": [
    {
     "data": {
      "text/html": [
       "<div>\n",
       "<style scoped>\n",
       "    .dataframe tbody tr th:only-of-type {\n",
       "        vertical-align: middle;\n",
       "    }\n",
       "\n",
       "    .dataframe tbody tr th {\n",
       "        vertical-align: top;\n",
       "    }\n",
       "\n",
       "    .dataframe thead th {\n",
       "        text-align: right;\n",
       "    }\n",
       "</style>\n",
       "<table border=\"1\" class=\"dataframe\">\n",
       "  <thead>\n",
       "    <tr style=\"text-align: right;\">\n",
       "      <th></th>\n",
       "      <th>age_group</th>\n",
       "      <th>education</th>\n",
       "      <th>income_poverty</th>\n",
       "      <th>employment_status</th>\n",
       "    </tr>\n",
       "    <tr>\n",
       "      <th>respondent_id</th>\n",
       "      <th></th>\n",
       "      <th></th>\n",
       "      <th></th>\n",
       "      <th></th>\n",
       "    </tr>\n",
       "  </thead>\n",
       "  <tbody>\n",
       "    <tr>\n",
       "      <th>0</th>\n",
       "      <td>55 - 64 Years</td>\n",
       "      <td>&lt; 12 Years</td>\n",
       "      <td>Below Poverty</td>\n",
       "      <td>Not in Labor Force</td>\n",
       "    </tr>\n",
       "    <tr>\n",
       "      <th>1</th>\n",
       "      <td>35 - 44 Years</td>\n",
       "      <td>12 Years</td>\n",
       "      <td>Below Poverty</td>\n",
       "      <td>Employed</td>\n",
       "    </tr>\n",
       "    <tr>\n",
       "      <th>2</th>\n",
       "      <td>18 - 34 Years</td>\n",
       "      <td>College Graduate</td>\n",
       "      <td>&lt;= $75,000, Above Poverty</td>\n",
       "      <td>Employed</td>\n",
       "    </tr>\n",
       "    <tr>\n",
       "      <th>3</th>\n",
       "      <td>65+ Years</td>\n",
       "      <td>12 Years</td>\n",
       "      <td>Below Poverty</td>\n",
       "      <td>Not in Labor Force</td>\n",
       "    </tr>\n",
       "    <tr>\n",
       "      <th>4</th>\n",
       "      <td>45 - 54 Years</td>\n",
       "      <td>Some College</td>\n",
       "      <td>&lt;= $75,000, Above Poverty</td>\n",
       "      <td>Employed</td>\n",
       "    </tr>\n",
       "    <tr>\n",
       "      <th>...</th>\n",
       "      <td>...</td>\n",
       "      <td>...</td>\n",
       "      <td>...</td>\n",
       "      <td>...</td>\n",
       "    </tr>\n",
       "    <tr>\n",
       "      <th>26702</th>\n",
       "      <td>65+ Years</td>\n",
       "      <td>Some College</td>\n",
       "      <td>&lt;= $75,000, Above Poverty</td>\n",
       "      <td>Not in Labor Force</td>\n",
       "    </tr>\n",
       "    <tr>\n",
       "      <th>26703</th>\n",
       "      <td>18 - 34 Years</td>\n",
       "      <td>College Graduate</td>\n",
       "      <td>&lt;= $75,000, Above Poverty</td>\n",
       "      <td>Employed</td>\n",
       "    </tr>\n",
       "    <tr>\n",
       "      <th>26704</th>\n",
       "      <td>55 - 64 Years</td>\n",
       "      <td>Some College</td>\n",
       "      <td>None</td>\n",
       "      <td>None</td>\n",
       "    </tr>\n",
       "    <tr>\n",
       "      <th>26705</th>\n",
       "      <td>18 - 34 Years</td>\n",
       "      <td>Some College</td>\n",
       "      <td>&lt;= $75,000, Above Poverty</td>\n",
       "      <td>Employed</td>\n",
       "    </tr>\n",
       "    <tr>\n",
       "      <th>26706</th>\n",
       "      <td>65+ Years</td>\n",
       "      <td>Some College</td>\n",
       "      <td>&lt;= $75,000, Above Poverty</td>\n",
       "      <td>Not in Labor Force</td>\n",
       "    </tr>\n",
       "  </tbody>\n",
       "</table>\n",
       "<p>26707 rows × 4 columns</p>\n",
       "</div>"
      ],
      "text/plain": [
       "                   age_group         education             income_poverty  \\\n",
       "respondent_id                                                               \n",
       "0              55 - 64 Years        < 12 Years              Below Poverty   \n",
       "1              35 - 44 Years          12 Years              Below Poverty   \n",
       "2              18 - 34 Years  College Graduate  <= $75,000, Above Poverty   \n",
       "3                  65+ Years          12 Years              Below Poverty   \n",
       "4              45 - 54 Years      Some College  <= $75,000, Above Poverty   \n",
       "...                      ...               ...                        ...   \n",
       "26702              65+ Years      Some College  <= $75,000, Above Poverty   \n",
       "26703          18 - 34 Years  College Graduate  <= $75,000, Above Poverty   \n",
       "26704          55 - 64 Years      Some College                       None   \n",
       "26705          18 - 34 Years      Some College  <= $75,000, Above Poverty   \n",
       "26706              65+ Years      Some College  <= $75,000, Above Poverty   \n",
       "\n",
       "                employment_status  \n",
       "respondent_id                      \n",
       "0              Not in Labor Force  \n",
       "1                        Employed  \n",
       "2                        Employed  \n",
       "3              Not in Labor Force  \n",
       "4                        Employed  \n",
       "...                           ...  \n",
       "26702          Not in Labor Force  \n",
       "26703                    Employed  \n",
       "26704                        None  \n",
       "26705                    Employed  \n",
       "26706          Not in Labor Force  \n",
       "\n",
       "[26707 rows x 4 columns]"
      ]
     },
     "execution_count": 51,
     "metadata": {},
     "output_type": "execute_result"
    }
   ],
   "source": [
    "train[ord_cols]"
   ]
  },
  {
   "cell_type": "code",
   "execution_count": 16,
   "id": "c517877d",
   "metadata": {},
   "outputs": [],
   "source": [
    "train=pd.get_dummies(train, columns=cat_cols)\n"
   ]
  },
  {
   "cell_type": "code",
   "execution_count": 142,
   "id": "fc86b351",
   "metadata": {},
   "outputs": [],
   "source": [
    "train[ord_cols]= oe.fit_transform(train[ord_cols])"
   ]
  },
  {
   "cell_type": "markdown",
   "id": "6e76f389",
   "metadata": {},
   "source": [
    "Train test split"
   ]
  },
  {
   "cell_type": "code",
   "execution_count": 201,
   "id": "812c76aa",
   "metadata": {},
   "outputs": [],
   "source": [
    "from sklearn.model_selection import train_test_split\n",
    "X_train, X_test, y_train, y_test = train_test_split(\n",
    "    train,\n",
    "    labels,\n",
    "    test_size=0.30,\n",
    "    shuffle=True,\n",
    "    random_state=68\n",
    ")\n"
   ]
  },
  {
   "cell_type": "code",
   "execution_count": 144,
   "id": "dd269728",
   "metadata": {},
   "outputs": [],
   "source": [
    "# Get the index number of categorical features\n",
    "categorical_features_indices = np.where(X_train.dtypes != float)[0]"
   ]
  },
  {
   "cell_type": "markdown",
   "id": "47f469af",
   "metadata": {},
   "source": [
    "CatBoost"
   ]
  },
  {
   "cell_type": "code",
   "execution_count": 145,
   "id": "cae28c83",
   "metadata": {},
   "outputs": [],
   "source": [
    "train_dataset = Pool(data=X_train,\n",
    "                     label=y_train.h1n1_vaccine,\n",
    "                     cat_features = categorical_features_indices)"
   ]
  },
  {
   "cell_type": "code",
   "execution_count": 31,
   "id": "736b1d5f",
   "metadata": {},
   "outputs": [],
   "source": [
    "def objective(trial):\n",
    "    param = {\n",
    "        'iterations':trial.suggest_categorical('iterations', [100,200,300,500,700,1000,1200,1300,1500]),\n",
    "        'learning_rate':trial.suggest_float(\"learning_rate\", 0.001, 0.3),\n",
    "        'random_strength':trial.suggest_int(\"random_strength\", 1,10),\n",
    "        'bagging_temperature':trial.suggest_int(\"bagging_temperature\", 0,10),\n",
    "        'max_bin':trial.suggest_categorical('max_bin', [4,5,6,8,10,20,30]),\n",
    "        'grow_policy':trial.suggest_categorical('grow_policy', ['SymmetricTree', 'Depthwise', 'Lossguide']),\n",
    "        'min_data_in_leaf':trial.suggest_int(\"min_data_in_leaf\", 1,10,20),\n",
    "        'od_type' : \"Iter\",\n",
    "        'od_wait' : 100,\n",
    "        \"depth\": trial.suggest_int(\"max_depth\", 2,10,15),\n",
    "        \"l2_leaf_reg\": trial.suggest_loguniform(\"l2_leaf_reg\", 1e-8, 100),\n",
    "         'one_hot_max_size':trial.suggest_categorical('one_hot_max_size', [5,10,12,100,500,1024]),\n",
    "        'custom_metric' : ['AUC'],\n",
    "        \"loss_function\": \"Logloss\",\n",
    "        'auto_class_weights':trial.suggest_categorical('auto_class_weights', ['Balanced', 'SqrtBalanced']),\n",
    "        }\n",
    "\n",
    "    scores = cv(train_dataset,\n",
    "            param,\n",
    "            fold_count=5, \n",
    "            early_stopping_rounds=10,         \n",
    "            plot=False, verbose=False)\n",
    "\n",
    "    return scores['test-AUC-mean'].max()"
   ]
  },
  {
   "cell_type": "code",
   "execution_count": 32,
   "id": "1ac3ce3e",
   "metadata": {},
   "outputs": [
    {
     "name": "stderr",
     "output_type": "stream",
     "text": [
      "\u001b[32m[I 2022-07-16 15:39:31,930]\u001b[0m A new study created in memory with name: no-name-f7d8e94b-57c6-4cc3-b19d-fd9f0510c638\u001b[0m\n",
      "C:\\Users\\jvrdo\\anaconda3\\lib\\site-packages\\optuna\\distributions.py:560: UserWarning: The distribution is specified by [1, 10] and step=20, but the range is not divisible by `step`. It will be replaced by [1, 1].\n",
      "  warnings.warn(\n",
      "C:\\Users\\jvrdo\\anaconda3\\lib\\site-packages\\optuna\\distributions.py:560: UserWarning: The distribution is specified by [2, 10] and step=15, but the range is not divisible by `step`. It will be replaced by [2, 2].\n",
      "  warnings.warn(\n"
     ]
    },
    {
     "name": "stdout",
     "output_type": "stream",
     "text": [
      "Training on fold [0/5]\n",
      "\n",
      "bestTest = 0.4303044062\n",
      "bestIteration = 104\n",
      "\n",
      "Training on fold [1/5]\n",
      "\n",
      "bestTest = 0.4215859411\n",
      "bestIteration = 141\n",
      "\n",
      "Training on fold [2/5]\n",
      "\n",
      "bestTest = 0.4294144143\n",
      "bestIteration = 192\n",
      "\n",
      "Training on fold [3/5]\n",
      "\n",
      "bestTest = 0.4302298332\n",
      "bestIteration = 95\n",
      "\n",
      "Training on fold [4/5]\n"
     ]
    },
    {
     "name": "stderr",
     "output_type": "stream",
     "text": [
      "\u001b[32m[I 2022-07-16 15:39:33,927]\u001b[0m Trial 0 finished with value: 0.8625042810932199 and parameters: {'iterations': 1200, 'learning_rate': 0.27993591089710923, 'random_strength': 9, 'bagging_temperature': 8, 'max_bin': 4, 'grow_policy': 'Lossguide', 'min_data_in_leaf': 1, 'max_depth': 2, 'l2_leaf_reg': 0.001991194871120998, 'one_hot_max_size': 100, 'auto_class_weights': 'SqrtBalanced'}. Best is trial 0 with value: 0.8625042810932199.\u001b[0m\n"
     ]
    },
    {
     "name": "stdout",
     "output_type": "stream",
     "text": [
      "\n",
      "bestTest = 0.4300377323\n",
      "bestIteration = 116\n",
      "\n",
      "Training on fold [0/5]\n"
     ]
    },
    {
     "name": "stderr",
     "output_type": "stream",
     "text": [
      "C:\\Users\\jvrdo\\anaconda3\\lib\\site-packages\\optuna\\distributions.py:560: UserWarning: The distribution is specified by [1, 10] and step=20, but the range is not divisible by `step`. It will be replaced by [1, 1].\n",
      "  warnings.warn(\n",
      "C:\\Users\\jvrdo\\anaconda3\\lib\\site-packages\\optuna\\distributions.py:560: UserWarning: The distribution is specified by [2, 10] and step=15, but the range is not divisible by `step`. It will be replaced by [2, 2].\n",
      "  warnings.warn(\n"
     ]
    },
    {
     "name": "stdout",
     "output_type": "stream",
     "text": [
      "\n",
      "bestTest = 0.4293915449\n",
      "bestIteration = 265\n",
      "\n",
      "Training on fold [1/5]\n",
      "\n",
      "bestTest = 0.4221458729\n",
      "bestIteration = 291\n",
      "\n",
      "Training on fold [2/5]\n",
      "\n",
      "bestTest = 0.4315867513\n",
      "bestIteration = 268\n",
      "\n",
      "Training on fold [3/5]\n",
      "\n",
      "bestTest = 0.4300834897\n",
      "bestIteration = 173\n",
      "\n",
      "Training on fold [4/5]\n"
     ]
    },
    {
     "name": "stderr",
     "output_type": "stream",
     "text": [
      "\u001b[32m[I 2022-07-16 15:39:37,058]\u001b[0m Trial 1 finished with value: 0.8630154185933563 and parameters: {'iterations': 1500, 'learning_rate': 0.10842629332974436, 'random_strength': 4, 'bagging_temperature': 1, 'max_bin': 30, 'grow_policy': 'SymmetricTree', 'min_data_in_leaf': 1, 'max_depth': 2, 'l2_leaf_reg': 0.028402775147703313, 'one_hot_max_size': 500, 'auto_class_weights': 'SqrtBalanced'}. Best is trial 1 with value: 0.8630154185933563.\u001b[0m\n"
     ]
    },
    {
     "name": "stdout",
     "output_type": "stream",
     "text": [
      "\n",
      "bestTest = 0.4312099262\n",
      "bestIteration = 294\n",
      "\n",
      "Training on fold [0/5]\n"
     ]
    },
    {
     "name": "stderr",
     "output_type": "stream",
     "text": [
      "C:\\Users\\jvrdo\\anaconda3\\lib\\site-packages\\optuna\\distributions.py:560: UserWarning: The distribution is specified by [1, 10] and step=20, but the range is not divisible by `step`. It will be replaced by [1, 1].\n",
      "  warnings.warn(\n",
      "C:\\Users\\jvrdo\\anaconda3\\lib\\site-packages\\optuna\\distributions.py:560: UserWarning: The distribution is specified by [2, 10] and step=15, but the range is not divisible by `step`. It will be replaced by [2, 2].\n",
      "  warnings.warn(\n"
     ]
    },
    {
     "name": "stdout",
     "output_type": "stream",
     "text": [
      "\n",
      "bestTest = 0.4268631073\n",
      "bestIteration = 147\n",
      "\n",
      "Training on fold [1/5]\n",
      "\n",
      "bestTest = 0.4226052437\n",
      "bestIteration = 115\n",
      "\n",
      "Training on fold [2/5]\n",
      "\n",
      "bestTest = 0.432100999\n",
      "bestIteration = 94\n",
      "\n",
      "Training on fold [3/5]\n",
      "\n",
      "bestTest = 0.4246456516\n",
      "bestIteration = 153\n",
      "\n",
      "Training on fold [4/5]\n"
     ]
    },
    {
     "name": "stderr",
     "output_type": "stream",
     "text": [
      "\u001b[32m[I 2022-07-16 15:39:46,718]\u001b[0m Trial 2 finished with value: 0.8639176148745434 and parameters: {'iterations': 200, 'learning_rate': 0.23559884921762703, 'random_strength': 2, 'bagging_temperature': 9, 'max_bin': 6, 'grow_policy': 'SymmetricTree', 'min_data_in_leaf': 1, 'max_depth': 2, 'l2_leaf_reg': 0.027330135035255495, 'one_hot_max_size': 10, 'auto_class_weights': 'SqrtBalanced'}. Best is trial 2 with value: 0.8639176148745434.\u001b[0m\n"
     ]
    },
    {
     "name": "stdout",
     "output_type": "stream",
     "text": [
      "\n",
      "bestTest = 0.4309377804\n",
      "bestIteration = 89\n",
      "\n",
      "Training on fold [0/5]\n"
     ]
    },
    {
     "name": "stderr",
     "output_type": "stream",
     "text": [
      "C:\\Users\\jvrdo\\anaconda3\\lib\\site-packages\\optuna\\distributions.py:560: UserWarning: The distribution is specified by [1, 10] and step=20, but the range is not divisible by `step`. It will be replaced by [1, 1].\n",
      "  warnings.warn(\n",
      "C:\\Users\\jvrdo\\anaconda3\\lib\\site-packages\\optuna\\distributions.py:560: UserWarning: The distribution is specified by [2, 10] and step=15, but the range is not divisible by `step`. It will be replaced by [2, 2].\n",
      "  warnings.warn(\n"
     ]
    },
    {
     "name": "stdout",
     "output_type": "stream",
     "text": [
      "\n",
      "bestTest = 0.4279449381\n",
      "bestIteration = 131\n",
      "\n",
      "Training on fold [1/5]\n",
      "\n",
      "bestTest = 0.4209373091\n",
      "bestIteration = 183\n",
      "\n",
      "Training on fold [2/5]\n",
      "\n",
      "bestTest = 0.4320394548\n",
      "bestIteration = 165\n",
      "\n",
      "Training on fold [3/5]\n",
      "\n",
      "bestTest = 0.4273397509\n",
      "bestIteration = 143\n",
      "\n",
      "Training on fold [4/5]\n"
     ]
    },
    {
     "name": "stderr",
     "output_type": "stream",
     "text": [
      "\u001b[32m[I 2022-07-16 15:39:58,538]\u001b[0m Trial 3 finished with value: 0.8634832218431729 and parameters: {'iterations': 1000, 'learning_rate': 0.194974145539544, 'random_strength': 10, 'bagging_temperature': 7, 'max_bin': 20, 'grow_policy': 'SymmetricTree', 'min_data_in_leaf': 1, 'max_depth': 2, 'l2_leaf_reg': 1.300471404766049e-07, 'one_hot_max_size': 10, 'auto_class_weights': 'SqrtBalanced'}. Best is trial 2 with value: 0.8639176148745434.\u001b[0m\n"
     ]
    },
    {
     "name": "stdout",
     "output_type": "stream",
     "text": [
      "\n",
      "bestTest = 0.4301928903\n",
      "bestIteration = 136\n",
      "\n",
      "Training on fold [0/5]\n"
     ]
    },
    {
     "name": "stderr",
     "output_type": "stream",
     "text": [
      "C:\\Users\\jvrdo\\anaconda3\\lib\\site-packages\\optuna\\distributions.py:560: UserWarning: The distribution is specified by [1, 10] and step=20, but the range is not divisible by `step`. It will be replaced by [1, 1].\n",
      "  warnings.warn(\n",
      "C:\\Users\\jvrdo\\anaconda3\\lib\\site-packages\\optuna\\distributions.py:560: UserWarning: The distribution is specified by [2, 10] and step=15, but the range is not divisible by `step`. It will be replaced by [2, 2].\n",
      "  warnings.warn(\n"
     ]
    },
    {
     "name": "stdout",
     "output_type": "stream",
     "text": [
      "\n",
      "bestTest = 0.4303080417\n",
      "bestIteration = 299\n",
      "\n",
      "Training on fold [1/5]\n",
      "\n",
      "bestTest = 0.4254738211\n",
      "bestIteration = 299\n",
      "\n",
      "Training on fold [2/5]\n",
      "\n",
      "bestTest = 0.4348329902\n",
      "bestIteration = 299\n",
      "\n",
      "Training on fold [3/5]\n",
      "\n",
      "bestTest = 0.4274913542\n",
      "bestIteration = 297\n",
      "\n",
      "Training on fold [4/5]\n"
     ]
    },
    {
     "name": "stderr",
     "output_type": "stream",
     "text": [
      "\u001b[32m[I 2022-07-16 15:40:02,471]\u001b[0m Trial 4 finished with value: 0.862800896903094 and parameters: {'iterations': 300, 'learning_rate': 0.06928147101485782, 'random_strength': 6, 'bagging_temperature': 4, 'max_bin': 10, 'grow_policy': 'Depthwise', 'min_data_in_leaf': 1, 'max_depth': 2, 'l2_leaf_reg': 0.00010293033487726667, 'one_hot_max_size': 500, 'auto_class_weights': 'SqrtBalanced'}. Best is trial 2 with value: 0.8639176148745434.\u001b[0m\n"
     ]
    },
    {
     "name": "stdout",
     "output_type": "stream",
     "text": [
      "\n",
      "bestTest = 0.431207203\n",
      "bestIteration = 299\n",
      "\n",
      "Training on fold [0/5]\n"
     ]
    },
    {
     "name": "stderr",
     "output_type": "stream",
     "text": [
      "C:\\Users\\jvrdo\\anaconda3\\lib\\site-packages\\optuna\\distributions.py:560: UserWarning: The distribution is specified by [1, 10] and step=20, but the range is not divisible by `step`. It will be replaced by [1, 1].\n",
      "  warnings.warn(\n",
      "C:\\Users\\jvrdo\\anaconda3\\lib\\site-packages\\optuna\\distributions.py:560: UserWarning: The distribution is specified by [2, 10] and step=15, but the range is not divisible by `step`. It will be replaced by [2, 2].\n",
      "  warnings.warn(\n"
     ]
    },
    {
     "name": "stdout",
     "output_type": "stream",
     "text": [
      "\n",
      "bestTest = 0.4660840559\n",
      "bestIteration = 98\n",
      "\n",
      "Training on fold [1/5]\n",
      "\n",
      "bestTest = 0.461188831\n",
      "bestIteration = 99\n",
      "\n",
      "Training on fold [2/5]\n",
      "\n",
      "bestTest = 0.4717143587\n",
      "bestIteration = 99\n",
      "\n",
      "Training on fold [3/5]\n",
      "\n",
      "bestTest = 0.4650365264\n",
      "bestIteration = 99\n",
      "\n",
      "Training on fold [4/5]\n"
     ]
    },
    {
     "name": "stderr",
     "output_type": "stream",
     "text": [
      "\u001b[32m[I 2022-07-16 15:40:04,097]\u001b[0m Trial 5 finished with value: 0.8609287418116509 and parameters: {'iterations': 100, 'learning_rate': 0.1307813521062255, 'random_strength': 2, 'bagging_temperature': 3, 'max_bin': 8, 'grow_policy': 'Depthwise', 'min_data_in_leaf': 1, 'max_depth': 2, 'l2_leaf_reg': 13.751833235431702, 'one_hot_max_size': 100, 'auto_class_weights': 'Balanced'}. Best is trial 2 with value: 0.8639176148745434.\u001b[0m\n"
     ]
    },
    {
     "name": "stdout",
     "output_type": "stream",
     "text": [
      "\n",
      "bestTest = 0.4715011979\n",
      "bestIteration = 98\n",
      "\n",
      "Training on fold [0/5]\n"
     ]
    },
    {
     "name": "stderr",
     "output_type": "stream",
     "text": [
      "C:\\Users\\jvrdo\\anaconda3\\lib\\site-packages\\optuna\\distributions.py:560: UserWarning: The distribution is specified by [1, 10] and step=20, but the range is not divisible by `step`. It will be replaced by [1, 1].\n",
      "  warnings.warn(\n",
      "C:\\Users\\jvrdo\\anaconda3\\lib\\site-packages\\optuna\\distributions.py:560: UserWarning: The distribution is specified by [2, 10] and step=15, but the range is not divisible by `step`. It will be replaced by [2, 2].\n",
      "  warnings.warn(\n"
     ]
    },
    {
     "name": "stdout",
     "output_type": "stream",
     "text": [
      "\n",
      "bestTest = 0.4287952935\n",
      "bestIteration = 348\n",
      "\n",
      "Training on fold [1/5]\n",
      "\n",
      "bestTest = 0.42279947\n",
      "bestIteration = 400\n",
      "\n",
      "Training on fold [2/5]\n",
      "\n",
      "bestTest = 0.4285356336\n",
      "bestIteration = 568\n",
      "\n",
      "Training on fold [3/5]\n",
      "\n",
      "bestTest = 0.4253679324\n",
      "bestIteration = 461\n",
      "\n",
      "Training on fold [4/5]\n"
     ]
    },
    {
     "name": "stderr",
     "output_type": "stream",
     "text": [
      "\u001b[32m[I 2022-07-16 15:40:48,917]\u001b[0m Trial 6 finished with value: 0.8647544955239456 and parameters: {'iterations': 1500, 'learning_rate': 0.05805171287971286, 'random_strength': 4, 'bagging_temperature': 8, 'max_bin': 10, 'grow_policy': 'Lossguide', 'min_data_in_leaf': 1, 'max_depth': 2, 'l2_leaf_reg': 2.6558249848041764, 'one_hot_max_size': 5, 'auto_class_weights': 'SqrtBalanced'}. Best is trial 6 with value: 0.8647544955239456.\u001b[0m\n"
     ]
    },
    {
     "name": "stdout",
     "output_type": "stream",
     "text": [
      "\n",
      "bestTest = 0.4275278356\n",
      "bestIteration = 512\n",
      "\n",
      "Training on fold [0/5]\n"
     ]
    },
    {
     "name": "stderr",
     "output_type": "stream",
     "text": [
      "C:\\Users\\jvrdo\\anaconda3\\lib\\site-packages\\optuna\\distributions.py:560: UserWarning: The distribution is specified by [1, 10] and step=20, but the range is not divisible by `step`. It will be replaced by [1, 1].\n",
      "  warnings.warn(\n",
      "C:\\Users\\jvrdo\\anaconda3\\lib\\site-packages\\optuna\\distributions.py:560: UserWarning: The distribution is specified by [2, 10] and step=15, but the range is not divisible by `step`. It will be replaced by [2, 2].\n",
      "  warnings.warn(\n"
     ]
    },
    {
     "name": "stdout",
     "output_type": "stream",
     "text": [
      "\n",
      "bestTest = 0.4646437715\n",
      "bestIteration = 121\n",
      "\n",
      "Training on fold [1/5]\n",
      "\n",
      "bestTest = 0.4519260416\n",
      "bestIteration = 195\n",
      "\n",
      "Training on fold [2/5]\n",
      "\n",
      "bestTest = 0.4633602604\n",
      "bestIteration = 141\n",
      "\n",
      "Training on fold [3/5]\n",
      "\n",
      "bestTest = 0.4626753027\n",
      "bestIteration = 138\n",
      "\n",
      "Training on fold [4/5]\n"
     ]
    },
    {
     "name": "stderr",
     "output_type": "stream",
     "text": [
      "\u001b[32m[I 2022-07-16 15:40:51,285]\u001b[0m Trial 7 finished with value: 0.8632600507977722 and parameters: {'iterations': 1300, 'learning_rate': 0.1807096213514747, 'random_strength': 4, 'bagging_temperature': 3, 'max_bin': 30, 'grow_policy': 'SymmetricTree', 'min_data_in_leaf': 1, 'max_depth': 2, 'l2_leaf_reg': 4.9369231964322795, 'one_hot_max_size': 1024, 'auto_class_weights': 'Balanced'}. Best is trial 6 with value: 0.8647544955239456.\u001b[0m\n"
     ]
    },
    {
     "name": "stdout",
     "output_type": "stream",
     "text": [
      "\n",
      "bestTest = 0.4639969945\n",
      "bestIteration = 170\n",
      "\n",
      "Training on fold [0/5]\n"
     ]
    },
    {
     "name": "stderr",
     "output_type": "stream",
     "text": [
      "C:\\Users\\jvrdo\\anaconda3\\lib\\site-packages\\optuna\\distributions.py:560: UserWarning: The distribution is specified by [1, 10] and step=20, but the range is not divisible by `step`. It will be replaced by [1, 1].\n",
      "  warnings.warn(\n",
      "C:\\Users\\jvrdo\\anaconda3\\lib\\site-packages\\optuna\\distributions.py:560: UserWarning: The distribution is specified by [2, 10] and step=15, but the range is not divisible by `step`. It will be replaced by [2, 2].\n",
      "  warnings.warn(\n"
     ]
    },
    {
     "name": "stdout",
     "output_type": "stream",
     "text": [
      "\n",
      "bestTest = 0.4338268932\n",
      "bestIteration = 1174\n",
      "\n",
      "Training on fold [1/5]\n",
      "\n",
      "bestTest = 0.4295563045\n",
      "bestIteration = 1199\n",
      "\n",
      "Training on fold [2/5]\n",
      "\n",
      "bestTest = 0.4389100369\n",
      "bestIteration = 1199\n",
      "\n",
      "Training on fold [3/5]\n",
      "\n",
      "bestTest = 0.4302403835\n",
      "bestIteration = 1199\n",
      "\n",
      "Training on fold [4/5]\n"
     ]
    },
    {
     "name": "stderr",
     "output_type": "stream",
     "text": [
      "\u001b[32m[I 2022-07-16 15:41:07,659]\u001b[0m Trial 8 finished with value: 0.8611337286491209 and parameters: {'iterations': 1200, 'learning_rate': 0.01226996693484591, 'random_strength': 5, 'bagging_temperature': 5, 'max_bin': 30, 'grow_policy': 'Depthwise', 'min_data_in_leaf': 1, 'max_depth': 2, 'l2_leaf_reg': 9.501510078266123e-06, 'one_hot_max_size': 500, 'auto_class_weights': 'SqrtBalanced'}. Best is trial 6 with value: 0.8647544955239456.\u001b[0m\n"
     ]
    },
    {
     "name": "stdout",
     "output_type": "stream",
     "text": [
      "\n",
      "bestTest = 0.4369376552\n",
      "bestIteration = 1199\n",
      "\n",
      "Training on fold [0/5]\n"
     ]
    },
    {
     "name": "stderr",
     "output_type": "stream",
     "text": [
      "C:\\Users\\jvrdo\\anaconda3\\lib\\site-packages\\optuna\\distributions.py:560: UserWarning: The distribution is specified by [1, 10] and step=20, but the range is not divisible by `step`. It will be replaced by [1, 1].\n",
      "  warnings.warn(\n",
      "C:\\Users\\jvrdo\\anaconda3\\lib\\site-packages\\optuna\\distributions.py:560: UserWarning: The distribution is specified by [2, 10] and step=15, but the range is not divisible by `step`. It will be replaced by [2, 2].\n",
      "  warnings.warn(\n"
     ]
    },
    {
     "name": "stdout",
     "output_type": "stream",
     "text": [
      "\n",
      "bestTest = 0.5698880999\n",
      "bestIteration = 99\n",
      "\n",
      "Training on fold [1/5]\n",
      "\n",
      "bestTest = 0.5719671926\n",
      "bestIteration = 99\n",
      "\n",
      "Training on fold [2/5]\n",
      "\n",
      "bestTest = 0.5748295806\n",
      "bestIteration = 99\n",
      "\n",
      "Training on fold [3/5]\n",
      "\n",
      "bestTest = 0.5662757913\n",
      "bestIteration = 99\n",
      "\n",
      "Training on fold [4/5]\n"
     ]
    },
    {
     "name": "stderr",
     "output_type": "stream",
     "text": [
      "\u001b[32m[I 2022-07-16 15:41:15,690]\u001b[0m Trial 9 finished with value: 0.8255509425985756 and parameters: {'iterations': 100, 'learning_rate': 0.007429919004710596, 'random_strength': 8, 'bagging_temperature': 2, 'max_bin': 4, 'grow_policy': 'SymmetricTree', 'min_data_in_leaf': 1, 'max_depth': 2, 'l2_leaf_reg': 1.1694576328936887e-07, 'one_hot_max_size': 12, 'auto_class_weights': 'SqrtBalanced'}. Best is trial 6 with value: 0.8647544955239456.\u001b[0m\n"
     ]
    },
    {
     "name": "stdout",
     "output_type": "stream",
     "text": [
      "\n",
      "bestTest = 0.5776049298\n",
      "bestIteration = 99\n",
      "\n",
      "Training on fold [0/5]\n"
     ]
    },
    {
     "name": "stderr",
     "output_type": "stream",
     "text": [
      "C:\\Users\\jvrdo\\anaconda3\\lib\\site-packages\\optuna\\distributions.py:560: UserWarning: The distribution is specified by [1, 10] and step=20, but the range is not divisible by `step`. It will be replaced by [1, 1].\n",
      "  warnings.warn(\n",
      "C:\\Users\\jvrdo\\anaconda3\\lib\\site-packages\\optuna\\distributions.py:560: UserWarning: The distribution is specified by [2, 10] and step=15, but the range is not divisible by `step`. It will be replaced by [2, 2].\n",
      "  warnings.warn(\n"
     ]
    },
    {
     "name": "stdout",
     "output_type": "stream",
     "text": [
      "\n",
      "bestTest = 0.4608934193\n",
      "bestIteration = 432\n",
      "\n",
      "Training on fold [1/5]\n",
      "\n",
      "bestTest = 0.4542212611\n",
      "bestIteration = 368\n",
      "\n",
      "Training on fold [2/5]\n",
      "\n",
      "bestTest = 0.4653638427\n",
      "bestIteration = 351\n",
      "\n",
      "Training on fold [3/5]\n",
      "\n",
      "bestTest = 0.4608350465\n",
      "bestIteration = 373\n",
      "\n",
      "Training on fold [4/5]\n"
     ]
    },
    {
     "name": "stderr",
     "output_type": "stream",
     "text": [
      "\u001b[32m[I 2022-07-16 15:42:00,669]\u001b[0m Trial 10 finished with value: 0.8635703619103747 and parameters: {'iterations': 500, 'learning_rate': 0.07030691356337633, 'random_strength': 7, 'bagging_temperature': 10, 'max_bin': 10, 'grow_policy': 'Lossguide', 'min_data_in_leaf': 1, 'max_depth': 2, 'l2_leaf_reg': 67.55513953843523, 'one_hot_max_size': 5, 'auto_class_weights': 'Balanced'}. Best is trial 6 with value: 0.8647544955239456.\u001b[0m\n"
     ]
    },
    {
     "name": "stdout",
     "output_type": "stream",
     "text": [
      "\n",
      "bestTest = 0.4659561739\n",
      "bestIteration = 401\n",
      "\n",
      "Training on fold [0/5]\n"
     ]
    },
    {
     "name": "stderr",
     "output_type": "stream",
     "text": [
      "C:\\Users\\jvrdo\\anaconda3\\lib\\site-packages\\optuna\\distributions.py:560: UserWarning: The distribution is specified by [1, 10] and step=20, but the range is not divisible by `step`. It will be replaced by [1, 1].\n",
      "  warnings.warn(\n",
      "C:\\Users\\jvrdo\\anaconda3\\lib\\site-packages\\optuna\\distributions.py:560: UserWarning: The distribution is specified by [2, 10] and step=15, but the range is not divisible by `step`. It will be replaced by [2, 2].\n",
      "  warnings.warn(\n"
     ]
    },
    {
     "name": "stdout",
     "output_type": "stream",
     "text": [
      "\n",
      "bestTest = 0.4257126955\n",
      "bestIteration = 129\n",
      "\n",
      "Training on fold [1/5]\n",
      "\n",
      "bestTest = 0.4211593999\n",
      "bestIteration = 97\n",
      "\n",
      "Training on fold [2/5]\n",
      "\n",
      "bestTest = 0.4267705599\n",
      "bestIteration = 145\n",
      "\n",
      "Training on fold [3/5]\n",
      "\n",
      "bestTest = 0.4254746258\n",
      "bestIteration = 73\n",
      "\n",
      "Training on fold [4/5]\n"
     ]
    },
    {
     "name": "stderr",
     "output_type": "stream",
     "text": [
      "\u001b[32m[I 2022-07-16 15:42:14,976]\u001b[0m Trial 11 finished with value: 0.8651925858219425 and parameters: {'iterations': 200, 'learning_rate': 0.2757375958594691, 'random_strength': 1, 'bagging_temperature': 10, 'max_bin': 6, 'grow_policy': 'Lossguide', 'min_data_in_leaf': 1, 'max_depth': 2, 'l2_leaf_reg': 0.14700033488450495, 'one_hot_max_size': 5, 'auto_class_weights': 'SqrtBalanced'}. Best is trial 11 with value: 0.8651925858219425.\u001b[0m\n"
     ]
    },
    {
     "name": "stdout",
     "output_type": "stream",
     "text": [
      "\n",
      "bestTest = 0.4279687273\n",
      "bestIteration = 146\n",
      "\n",
      "Training on fold [0/5]\n"
     ]
    },
    {
     "name": "stderr",
     "output_type": "stream",
     "text": [
      "C:\\Users\\jvrdo\\anaconda3\\lib\\site-packages\\optuna\\distributions.py:560: UserWarning: The distribution is specified by [1, 10] and step=20, but the range is not divisible by `step`. It will be replaced by [1, 1].\n",
      "  warnings.warn(\n",
      "C:\\Users\\jvrdo\\anaconda3\\lib\\site-packages\\optuna\\distributions.py:560: UserWarning: The distribution is specified by [2, 10] and step=15, but the range is not divisible by `step`. It will be replaced by [2, 2].\n",
      "  warnings.warn(\n"
     ]
    },
    {
     "name": "stdout",
     "output_type": "stream",
     "text": [
      "\n",
      "bestTest = 0.4259671152\n",
      "bestIteration = 95\n",
      "\n",
      "Training on fold [1/5]\n",
      "\n",
      "bestTest = 0.4209954457\n",
      "bestIteration = 100\n",
      "\n",
      "Training on fold [2/5]\n",
      "\n",
      "bestTest = 0.4261745188\n",
      "bestIteration = 113\n",
      "\n",
      "Training on fold [3/5]\n",
      "\n",
      "bestTest = 0.4273656369\n",
      "bestIteration = 50\n",
      "\n",
      "Training on fold [4/5]\n"
     ]
    },
    {
     "name": "stderr",
     "output_type": "stream",
     "text": [
      "\u001b[32m[I 2022-07-16 15:42:27,239]\u001b[0m Trial 12 finished with value: 0.8647483306817765 and parameters: {'iterations': 200, 'learning_rate': 0.29381704597490466, 'random_strength': 1, 'bagging_temperature': 7, 'max_bin': 5, 'grow_policy': 'Lossguide', 'min_data_in_leaf': 1, 'max_depth': 2, 'l2_leaf_reg': 0.5095295221450813, 'one_hot_max_size': 5, 'auto_class_weights': 'SqrtBalanced'}. Best is trial 11 with value: 0.8651925858219425.\u001b[0m\n"
     ]
    },
    {
     "name": "stdout",
     "output_type": "stream",
     "text": [
      "\n",
      "bestTest = 0.4287193928\n",
      "bestIteration = 108\n",
      "\n",
      "Training on fold [0/5]\n"
     ]
    },
    {
     "name": "stderr",
     "output_type": "stream",
     "text": [
      "C:\\Users\\jvrdo\\anaconda3\\lib\\site-packages\\optuna\\distributions.py:560: UserWarning: The distribution is specified by [1, 10] and step=20, but the range is not divisible by `step`. It will be replaced by [1, 1].\n",
      "  warnings.warn(\n",
      "C:\\Users\\jvrdo\\anaconda3\\lib\\site-packages\\optuna\\distributions.py:560: UserWarning: The distribution is specified by [2, 10] and step=15, but the range is not divisible by `step`. It will be replaced by [2, 2].\n",
      "  warnings.warn(\n"
     ]
    },
    {
     "name": "stdout",
     "output_type": "stream",
     "text": [
      "\n",
      "bestTest = 0.4267645818\n",
      "bestIteration = 118\n",
      "\n",
      "Training on fold [1/5]\n",
      "\n",
      "bestTest = 0.4201054387\n",
      "bestIteration = 141\n",
      "\n",
      "Training on fold [2/5]\n",
      "\n",
      "bestTest = 0.431566869\n",
      "bestIteration = 138\n",
      "\n",
      "Training on fold [3/5]\n",
      "\n",
      "bestTest = 0.4236425199\n",
      "bestIteration = 127\n",
      "\n",
      "Training on fold [4/5]\n"
     ]
    },
    {
     "name": "stderr",
     "output_type": "stream",
     "text": [
      "\u001b[32m[I 2022-07-16 15:42:42,892]\u001b[0m Trial 13 finished with value: 0.8644864752573496 and parameters: {'iterations': 1500, 'learning_rate': 0.23445822932054491, 'random_strength': 3, 'bagging_temperature': 10, 'max_bin': 6, 'grow_policy': 'Lossguide', 'min_data_in_leaf': 1, 'max_depth': 2, 'l2_leaf_reg': 0.29185440909668253, 'one_hot_max_size': 5, 'auto_class_weights': 'SqrtBalanced'}. Best is trial 11 with value: 0.8651925858219425.\u001b[0m\n"
     ]
    },
    {
     "name": "stdout",
     "output_type": "stream",
     "text": [
      "\n",
      "bestTest = 0.4289016475\n",
      "bestIteration = 130\n",
      "\n",
      "Training on fold [0/5]\n"
     ]
    },
    {
     "name": "stderr",
     "output_type": "stream",
     "text": [
      "C:\\Users\\jvrdo\\anaconda3\\lib\\site-packages\\optuna\\distributions.py:560: UserWarning: The distribution is specified by [1, 10] and step=20, but the range is not divisible by `step`. It will be replaced by [1, 1].\n",
      "  warnings.warn(\n",
      "C:\\Users\\jvrdo\\anaconda3\\lib\\site-packages\\optuna\\distributions.py:560: UserWarning: The distribution is specified by [2, 10] and step=15, but the range is not divisible by `step`. It will be replaced by [2, 2].\n",
      "  warnings.warn(\n"
     ]
    },
    {
     "name": "stdout",
     "output_type": "stream",
     "text": [
      "\n",
      "bestTest = 0.4239742885\n",
      "bestIteration = 330\n",
      "\n",
      "Training on fold [1/5]\n",
      "\n",
      "bestTest = 0.4221573869\n",
      "bestIteration = 323\n",
      "\n",
      "Training on fold [2/5]\n",
      "\n",
      "bestTest = 0.4290167942\n",
      "bestIteration = 355\n",
      "\n",
      "Training on fold [3/5]\n",
      "\n",
      "bestTest = 0.4259608587\n",
      "bestIteration = 289\n",
      "\n",
      "Training on fold [4/5]\n"
     ]
    },
    {
     "name": "stderr",
     "output_type": "stream",
     "text": [
      "\u001b[32m[I 2022-07-16 15:43:18,271]\u001b[0m Trial 14 finished with value: 0.8651194411216512 and parameters: {'iterations': 700, 'learning_rate': 0.0737500885506709, 'random_strength': 1, 'bagging_temperature': 7, 'max_bin': 6, 'grow_policy': 'Lossguide', 'min_data_in_leaf': 1, 'max_depth': 2, 'l2_leaf_reg': 0.8542639505816968, 'one_hot_max_size': 5, 'auto_class_weights': 'SqrtBalanced'}. Best is trial 11 with value: 0.8651925858219425.\u001b[0m\n"
     ]
    },
    {
     "name": "stdout",
     "output_type": "stream",
     "text": [
      "\n",
      "bestTest = 0.429793576\n",
      "bestIteration = 290\n",
      "\n",
      "Training on fold [0/5]\n"
     ]
    },
    {
     "name": "stderr",
     "output_type": "stream",
     "text": [
      "C:\\Users\\jvrdo\\anaconda3\\lib\\site-packages\\optuna\\distributions.py:560: UserWarning: The distribution is specified by [1, 10] and step=20, but the range is not divisible by `step`. It will be replaced by [1, 1].\n",
      "  warnings.warn(\n",
      "C:\\Users\\jvrdo\\anaconda3\\lib\\site-packages\\optuna\\distributions.py:560: UserWarning: The distribution is specified by [2, 10] and step=15, but the range is not divisible by `step`. It will be replaced by [2, 2].\n",
      "  warnings.warn(\n"
     ]
    },
    {
     "name": "stdout",
     "output_type": "stream",
     "text": [
      "\n",
      "bestTest = 0.4578029068\n",
      "bestIteration = 181\n",
      "\n",
      "Training on fold [1/5]\n",
      "\n",
      "bestTest = 0.4520792848\n",
      "bestIteration = 220\n",
      "\n",
      "Training on fold [2/5]\n",
      "\n",
      "bestTest = 0.4625991964\n",
      "bestIteration = 180\n",
      "\n",
      "Training on fold [3/5]\n",
      "\n",
      "bestTest = 0.4594143432\n",
      "bestIteration = 133\n",
      "\n",
      "Training on fold [4/5]\n"
     ]
    },
    {
     "name": "stderr",
     "output_type": "stream",
     "text": [
      "\u001b[32m[I 2022-07-16 15:43:39,573]\u001b[0m Trial 15 finished with value: 0.8650273427790367 and parameters: {'iterations': 700, 'learning_rate': 0.13959295341938688, 'random_strength': 1, 'bagging_temperature': 6, 'max_bin': 6, 'grow_policy': 'Lossguide', 'min_data_in_leaf': 1, 'max_depth': 2, 'l2_leaf_reg': 0.007021984804640195, 'one_hot_max_size': 5, 'auto_class_weights': 'Balanced'}. Best is trial 11 with value: 0.8651925858219425.\u001b[0m\n"
     ]
    },
    {
     "name": "stdout",
     "output_type": "stream",
     "text": [
      "\n",
      "bestTest = 0.4604200526\n",
      "bestIteration = 205\n",
      "\n",
      "Training on fold [0/5]\n"
     ]
    },
    {
     "name": "stderr",
     "output_type": "stream",
     "text": [
      "C:\\Users\\jvrdo\\anaconda3\\lib\\site-packages\\optuna\\distributions.py:560: UserWarning: The distribution is specified by [1, 10] and step=20, but the range is not divisible by `step`. It will be replaced by [1, 1].\n",
      "  warnings.warn(\n",
      "C:\\Users\\jvrdo\\anaconda3\\lib\\site-packages\\optuna\\distributions.py:560: UserWarning: The distribution is specified by [2, 10] and step=15, but the range is not divisible by `step`. It will be replaced by [2, 2].\n",
      "  warnings.warn(\n"
     ]
    },
    {
     "name": "stdout",
     "output_type": "stream",
     "text": [
      "\n",
      "bestTest = 0.424801554\n",
      "bestIteration = 258\n",
      "\n",
      "Training on fold [1/5]\n",
      "\n",
      "bestTest = 0.4190515558\n",
      "bestIteration = 325\n",
      "\n",
      "Training on fold [2/5]\n",
      "\n",
      "bestTest = 0.4295361044\n",
      "bestIteration = 308\n",
      "\n",
      "Training on fold [3/5]\n",
      "\n",
      "bestTest = 0.4261551047\n",
      "bestIteration = 251\n",
      "\n",
      "Training on fold [4/5]\n"
     ]
    },
    {
     "name": "stderr",
     "output_type": "stream",
     "text": [
      "\u001b[32m[I 2022-07-16 15:44:10,095]\u001b[0m Trial 16 finished with value: 0.8652199915501496 and parameters: {'iterations': 700, 'learning_rate': 0.10012360248348064, 'random_strength': 1, 'bagging_temperature': 9, 'max_bin': 6, 'grow_policy': 'Lossguide', 'min_data_in_leaf': 1, 'max_depth': 2, 'l2_leaf_reg': 0.3230131740157611, 'one_hot_max_size': 12, 'auto_class_weights': 'SqrtBalanced'}. Best is trial 16 with value: 0.8652199915501496.\u001b[0m\n"
     ]
    },
    {
     "name": "stdout",
     "output_type": "stream",
     "text": [
      "\n",
      "bestTest = 0.4287518773\n",
      "bestIteration = 228\n",
      "\n",
      "Training on fold [0/5]\n"
     ]
    },
    {
     "name": "stderr",
     "output_type": "stream",
     "text": [
      "C:\\Users\\jvrdo\\anaconda3\\lib\\site-packages\\optuna\\distributions.py:560: UserWarning: The distribution is specified by [1, 10] and step=20, but the range is not divisible by `step`. It will be replaced by [1, 1].\n",
      "  warnings.warn(\n",
      "C:\\Users\\jvrdo\\anaconda3\\lib\\site-packages\\optuna\\distributions.py:560: UserWarning: The distribution is specified by [2, 10] and step=15, but the range is not divisible by `step`. It will be replaced by [2, 2].\n",
      "  warnings.warn(\n"
     ]
    },
    {
     "name": "stdout",
     "output_type": "stream",
     "text": [
      "\n",
      "bestTest = 0.4269537875\n",
      "bestIteration = 128\n",
      "\n",
      "Training on fold [1/5]\n",
      "\n",
      "bestTest = 0.4207482005\n",
      "bestIteration = 129\n",
      "\n",
      "Training on fold [2/5]\n",
      "\n",
      "bestTest = 0.4310944201\n",
      "bestIteration = 124\n",
      "\n",
      "Training on fold [3/5]\n",
      "\n",
      "bestTest = 0.4243837318\n",
      "bestIteration = 124\n",
      "\n",
      "Training on fold [4/5]\n"
     ]
    },
    {
     "name": "stderr",
     "output_type": "stream",
     "text": [
      "\u001b[32m[I 2022-07-16 15:44:25,694]\u001b[0m Trial 17 finished with value: 0.8647166789252335 and parameters: {'iterations': 200, 'learning_rate': 0.17886862449617366, 'random_strength': 3, 'bagging_temperature': 10, 'max_bin': 6, 'grow_policy': 'Lossguide', 'min_data_in_leaf': 1, 'max_depth': 2, 'l2_leaf_reg': 0.0002893322648060348, 'one_hot_max_size': 12, 'auto_class_weights': 'SqrtBalanced'}. Best is trial 16 with value: 0.8652199915501496.\u001b[0m\n"
     ]
    },
    {
     "name": "stdout",
     "output_type": "stream",
     "text": [
      "\n",
      "bestTest = 0.4283089092\n",
      "bestIteration = 153\n",
      "\n",
      "Training on fold [0/5]\n"
     ]
    },
    {
     "name": "stderr",
     "output_type": "stream",
     "text": [
      "C:\\Users\\jvrdo\\anaconda3\\lib\\site-packages\\optuna\\distributions.py:560: UserWarning: The distribution is specified by [1, 10] and step=20, but the range is not divisible by `step`. It will be replaced by [1, 1].\n",
      "  warnings.warn(\n",
      "C:\\Users\\jvrdo\\anaconda3\\lib\\site-packages\\optuna\\distributions.py:560: UserWarning: The distribution is specified by [2, 10] and step=15, but the range is not divisible by `step`. It will be replaced by [2, 2].\n",
      "  warnings.warn(\n"
     ]
    },
    {
     "name": "stdout",
     "output_type": "stream",
     "text": [
      "\n",
      "bestTest = 0.4599058655\n",
      "bestIteration = 97\n",
      "\n",
      "Training on fold [1/5]\n",
      "\n",
      "bestTest = 0.4538230147\n",
      "bestIteration = 89\n",
      "\n",
      "Training on fold [2/5]\n",
      "\n",
      "bestTest = 0.462893531\n",
      "bestIteration = 121\n",
      "\n",
      "Training on fold [3/5]\n",
      "\n",
      "bestTest = 0.4599287686\n",
      "bestIteration = 127\n",
      "\n",
      "Training on fold [4/5]\n"
     ]
    },
    {
     "name": "stderr",
     "output_type": "stream",
     "text": [
      "\u001b[32m[I 2022-07-16 15:44:39,239]\u001b[0m Trial 18 finished with value: 0.8643450269801389 and parameters: {'iterations': 700, 'learning_rate': 0.24093380809270865, 'random_strength': 2, 'bagging_temperature': 9, 'max_bin': 8, 'grow_policy': 'Lossguide', 'min_data_in_leaf': 1, 'max_depth': 2, 'l2_leaf_reg': 0.11193806124762479, 'one_hot_max_size': 12, 'auto_class_weights': 'Balanced'}. Best is trial 16 with value: 0.8652199915501496.\u001b[0m\n"
     ]
    },
    {
     "name": "stdout",
     "output_type": "stream",
     "text": [
      "\n",
      "bestTest = 0.4614484674\n",
      "bestIteration = 118\n",
      "\n",
      "Training on fold [0/5]\n"
     ]
    },
    {
     "name": "stderr",
     "output_type": "stream",
     "text": [
      "C:\\Users\\jvrdo\\anaconda3\\lib\\site-packages\\optuna\\distributions.py:560: UserWarning: The distribution is specified by [1, 10] and step=20, but the range is not divisible by `step`. It will be replaced by [1, 1].\n",
      "  warnings.warn(\n",
      "C:\\Users\\jvrdo\\anaconda3\\lib\\site-packages\\optuna\\distributions.py:560: UserWarning: The distribution is specified by [2, 10] and step=15, but the range is not divisible by `step`. It will be replaced by [2, 2].\n",
      "  warnings.warn(\n"
     ]
    },
    {
     "name": "stdout",
     "output_type": "stream",
     "text": [
      "\n",
      "bestTest = 0.4296538982\n",
      "bestIteration = 174\n",
      "\n",
      "Training on fold [1/5]\n",
      "\n",
      "bestTest = 0.4251542958\n",
      "bestIteration = 189\n",
      "\n",
      "Training on fold [2/5]\n",
      "\n",
      "bestTest = 0.4271522864\n",
      "bestIteration = 336\n",
      "\n",
      "Training on fold [3/5]\n",
      "\n",
      "bestTest = 0.426960893\n",
      "bestIteration = 187\n",
      "\n",
      "Training on fold [4/5]\n"
     ]
    },
    {
     "name": "stderr",
     "output_type": "stream",
     "text": [
      "\u001b[32m[I 2022-07-16 15:44:42,585]\u001b[0m Trial 19 finished with value: 0.8634708894851068 and parameters: {'iterations': 500, 'learning_rate': 0.1159562016937926, 'random_strength': 6, 'bagging_temperature': 0, 'max_bin': 5, 'grow_policy': 'Lossguide', 'min_data_in_leaf': 1, 'max_depth': 2, 'l2_leaf_reg': 7.347359489511391e-06, 'one_hot_max_size': 1024, 'auto_class_weights': 'SqrtBalanced'}. Best is trial 16 with value: 0.8652199915501496.\u001b[0m\n"
     ]
    },
    {
     "name": "stdout",
     "output_type": "stream",
     "text": [
      "\n",
      "bestTest = 0.4329814664\n",
      "bestIteration = 204\n",
      "\n",
      "Training on fold [0/5]\n"
     ]
    },
    {
     "name": "stderr",
     "output_type": "stream",
     "text": [
      "C:\\Users\\jvrdo\\anaconda3\\lib\\site-packages\\optuna\\distributions.py:560: UserWarning: The distribution is specified by [1, 10] and step=20, but the range is not divisible by `step`. It will be replaced by [1, 1].\n",
      "  warnings.warn(\n",
      "C:\\Users\\jvrdo\\anaconda3\\lib\\site-packages\\optuna\\distributions.py:560: UserWarning: The distribution is specified by [2, 10] and step=15, but the range is not divisible by `step`. It will be replaced by [2, 2].\n",
      "  warnings.warn(\n"
     ]
    },
    {
     "name": "stdout",
     "output_type": "stream",
     "text": [
      "\n",
      "bestTest = 0.4263916941\n",
      "bestIteration = 130\n",
      "\n",
      "Training on fold [1/5]\n",
      "\n",
      "bestTest = 0.4187442016\n",
      "bestIteration = 152\n",
      "\n",
      "Training on fold [2/5]\n",
      "\n",
      "bestTest = 0.4293635074\n",
      "bestIteration = 121\n",
      "\n",
      "Training on fold [3/5]\n",
      "\n",
      "bestTest = 0.4267625242\n",
      "bestIteration = 108\n",
      "\n",
      "Training on fold [4/5]\n"
     ]
    },
    {
     "name": "stderr",
     "output_type": "stream",
     "text": [
      "\u001b[32m[I 2022-07-16 15:44:55,268]\u001b[0m Trial 20 finished with value: 0.8652154011157613 and parameters: {'iterations': 1000, 'learning_rate': 0.21017216303016012, 'random_strength': 3, 'bagging_temperature': 9, 'max_bin': 20, 'grow_policy': 'Depthwise', 'min_data_in_leaf': 1, 'max_depth': 2, 'l2_leaf_reg': 86.49974565825786, 'one_hot_max_size': 12, 'auto_class_weights': 'SqrtBalanced'}. Best is trial 16 with value: 0.8652199915501496.\u001b[0m\n"
     ]
    },
    {
     "name": "stdout",
     "output_type": "stream",
     "text": [
      "\n",
      "bestTest = 0.4282548609\n",
      "bestIteration = 169\n",
      "\n",
      "Training on fold [0/5]\n"
     ]
    },
    {
     "name": "stderr",
     "output_type": "stream",
     "text": [
      "C:\\Users\\jvrdo\\anaconda3\\lib\\site-packages\\optuna\\distributions.py:560: UserWarning: The distribution is specified by [1, 10] and step=20, but the range is not divisible by `step`. It will be replaced by [1, 1].\n",
      "  warnings.warn(\n",
      "C:\\Users\\jvrdo\\anaconda3\\lib\\site-packages\\optuna\\distributions.py:560: UserWarning: The distribution is specified by [2, 10] and step=15, but the range is not divisible by `step`. It will be replaced by [2, 2].\n",
      "  warnings.warn(\n"
     ]
    },
    {
     "name": "stdout",
     "output_type": "stream",
     "text": [
      "\n",
      "bestTest = 0.4260356843\n",
      "bestIteration = 99\n",
      "\n",
      "Training on fold [1/5]\n",
      "\n",
      "bestTest = 0.4254367555\n",
      "bestIteration = 89\n",
      "\n",
      "Training on fold [2/5]\n",
      "\n",
      "bestTest = 0.4244990307\n",
      "bestIteration = 257\n",
      "\n",
      "Training on fold [3/5]\n",
      "\n",
      "bestTest = 0.424285866\n",
      "bestIteration = 105\n",
      "\n",
      "Training on fold [4/5]\n"
     ]
    },
    {
     "name": "stderr",
     "output_type": "stream",
     "text": [
      "\u001b[32m[I 2022-07-16 15:45:08,960]\u001b[0m Trial 21 finished with value: 0.8647785961836985 and parameters: {'iterations': 1000, 'learning_rate': 0.2704787058540193, 'random_strength': 3, 'bagging_temperature': 9, 'max_bin': 20, 'grow_policy': 'Depthwise', 'min_data_in_leaf': 1, 'max_depth': 2, 'l2_leaf_reg': 52.29914991957594, 'one_hot_max_size': 12, 'auto_class_weights': 'SqrtBalanced'}. Best is trial 16 with value: 0.8652199915501496.\u001b[0m\n"
     ]
    },
    {
     "name": "stdout",
     "output_type": "stream",
     "text": [
      "\n",
      "bestTest = 0.429138123\n",
      "bestIteration = 138\n",
      "\n",
      "Training on fold [0/5]\n"
     ]
    },
    {
     "name": "stderr",
     "output_type": "stream",
     "text": [
      "C:\\Users\\jvrdo\\anaconda3\\lib\\site-packages\\optuna\\distributions.py:560: UserWarning: The distribution is specified by [1, 10] and step=20, but the range is not divisible by `step`. It will be replaced by [1, 1].\n",
      "  warnings.warn(\n",
      "C:\\Users\\jvrdo\\anaconda3\\lib\\site-packages\\optuna\\distributions.py:560: UserWarning: The distribution is specified by [2, 10] and step=15, but the range is not divisible by `step`. It will be replaced by [2, 2].\n",
      "  warnings.warn(\n"
     ]
    },
    {
     "name": "stdout",
     "output_type": "stream",
     "text": [
      "\n",
      "bestTest = 0.4236307936\n",
      "bestIteration = 120\n",
      "\n",
      "Training on fold [1/5]\n",
      "\n",
      "bestTest = 0.42121602\n",
      "bestIteration = 145\n",
      "\n",
      "Training on fold [2/5]\n",
      "\n",
      "bestTest = 0.4274736181\n",
      "bestIteration = 154\n",
      "\n",
      "Training on fold [3/5]\n",
      "\n",
      "bestTest = 0.4256554167\n",
      "bestIteration = 115\n",
      "\n",
      "Training on fold [4/5]\n"
     ]
    },
    {
     "name": "stderr",
     "output_type": "stream",
     "text": [
      "\u001b[32m[I 2022-07-16 15:45:22,728]\u001b[0m Trial 22 finished with value: 0.8651305184150078 and parameters: {'iterations': 1000, 'learning_rate': 0.20512830666732826, 'random_strength': 1, 'bagging_temperature': 8, 'max_bin': 20, 'grow_policy': 'Depthwise', 'min_data_in_leaf': 1, 'max_depth': 2, 'l2_leaf_reg': 5.753820253542187, 'one_hot_max_size': 12, 'auto_class_weights': 'SqrtBalanced'}. Best is trial 16 with value: 0.8652199915501496.\u001b[0m\n"
     ]
    },
    {
     "name": "stdout",
     "output_type": "stream",
     "text": [
      "\n",
      "bestTest = 0.4282849239\n",
      "bestIteration = 152\n",
      "\n",
      "Training on fold [0/5]\n"
     ]
    },
    {
     "name": "stderr",
     "output_type": "stream",
     "text": [
      "C:\\Users\\jvrdo\\anaconda3\\lib\\site-packages\\optuna\\distributions.py:560: UserWarning: The distribution is specified by [1, 10] and step=20, but the range is not divisible by `step`. It will be replaced by [1, 1].\n",
      "  warnings.warn(\n",
      "C:\\Users\\jvrdo\\anaconda3\\lib\\site-packages\\optuna\\distributions.py:560: UserWarning: The distribution is specified by [2, 10] and step=15, but the range is not divisible by `step`. It will be replaced by [2, 2].\n",
      "  warnings.warn(\n"
     ]
    },
    {
     "name": "stdout",
     "output_type": "stream",
     "text": [
      "\n",
      "bestTest = 0.42563647\n",
      "bestIteration = 137\n",
      "\n",
      "Training on fold [1/5]\n",
      "\n",
      "bestTest = 0.4198931594\n",
      "bestIteration = 170\n",
      "\n",
      "Training on fold [2/5]\n",
      "\n",
      "bestTest = 0.4285029341\n",
      "bestIteration = 199\n",
      "\n",
      "Training on fold [3/5]\n",
      "\n",
      "bestTest = 0.4263669368\n",
      "bestIteration = 207\n",
      "\n",
      "Training on fold [4/5]\n"
     ]
    },
    {
     "name": "stderr",
     "output_type": "stream",
     "text": [
      "\u001b[32m[I 2022-07-16 15:45:39,186]\u001b[0m Trial 23 finished with value: 0.8650042183882153 and parameters: {'iterations': 1300, 'learning_rate': 0.15876605864882465, 'random_strength': 2, 'bagging_temperature': 10, 'max_bin': 20, 'grow_policy': 'Depthwise', 'min_data_in_leaf': 1, 'max_depth': 2, 'l2_leaf_reg': 0.08310429060310566, 'one_hot_max_size': 12, 'auto_class_weights': 'SqrtBalanced'}. Best is trial 16 with value: 0.8652199915501496.\u001b[0m\n"
     ]
    },
    {
     "name": "stdout",
     "output_type": "stream",
     "text": [
      "\n",
      "bestTest = 0.4282680213\n",
      "bestIteration = 189\n",
      "\n",
      "Training on fold [0/5]\n"
     ]
    },
    {
     "name": "stderr",
     "output_type": "stream",
     "text": [
      "C:\\Users\\jvrdo\\anaconda3\\lib\\site-packages\\optuna\\distributions.py:560: UserWarning: The distribution is specified by [1, 10] and step=20, but the range is not divisible by `step`. It will be replaced by [1, 1].\n",
      "  warnings.warn(\n",
      "C:\\Users\\jvrdo\\anaconda3\\lib\\site-packages\\optuna\\distributions.py:560: UserWarning: The distribution is specified by [2, 10] and step=15, but the range is not divisible by `step`. It will be replaced by [2, 2].\n",
      "  warnings.warn(\n"
     ]
    },
    {
     "name": "stdout",
     "output_type": "stream",
     "text": [
      "\n",
      "bestTest = 0.4279620559\n",
      "bestIteration = 113\n",
      "\n",
      "Training on fold [1/5]\n",
      "\n",
      "bestTest = 0.4210614257\n",
      "bestIteration = 134\n",
      "\n",
      "Training on fold [2/5]\n",
      "\n",
      "bestTest = 0.4251284723\n",
      "bestIteration = 193\n",
      "\n",
      "Training on fold [3/5]\n",
      "\n",
      "bestTest = 0.4231317882\n",
      "bestIteration = 110\n",
      "\n",
      "Training on fold [4/5]\n"
     ]
    },
    {
     "name": "stderr",
     "output_type": "stream",
     "text": [
      "\u001b[32m[I 2022-07-16 15:45:50,090]\u001b[0m Trial 24 finished with value: 0.8649644606475441 and parameters: {'iterations': 300, 'learning_rate': 0.2603253094502179, 'random_strength': 3, 'bagging_temperature': 6, 'max_bin': 6, 'grow_policy': 'Depthwise', 'min_data_in_leaf': 1, 'max_depth': 2, 'l2_leaf_reg': 0.0043432818615556775, 'one_hot_max_size': 12, 'auto_class_weights': 'SqrtBalanced'}. Best is trial 16 with value: 0.8652199915501496.\u001b[0m\n"
     ]
    },
    {
     "name": "stdout",
     "output_type": "stream",
     "text": [
      "\n",
      "bestTest = 0.4298653418\n",
      "bestIteration = 117\n",
      "\n",
      "Training on fold [0/5]\n"
     ]
    },
    {
     "name": "stderr",
     "output_type": "stream",
     "text": [
      "C:\\Users\\jvrdo\\anaconda3\\lib\\site-packages\\optuna\\distributions.py:560: UserWarning: The distribution is specified by [1, 10] and step=20, but the range is not divisible by `step`. It will be replaced by [1, 1].\n",
      "  warnings.warn(\n",
      "C:\\Users\\jvrdo\\anaconda3\\lib\\site-packages\\optuna\\distributions.py:560: UserWarning: The distribution is specified by [2, 10] and step=15, but the range is not divisible by `step`. It will be replaced by [2, 2].\n",
      "  warnings.warn(\n"
     ]
    },
    {
     "name": "stdout",
     "output_type": "stream",
     "text": [
      "\n",
      "bestTest = 0.4249190648\n",
      "bestIteration = 136\n",
      "\n",
      "Training on fold [1/5]\n",
      "\n",
      "bestTest = 0.4229592427\n",
      "bestIteration = 109\n",
      "\n",
      "Training on fold [2/5]\n",
      "\n",
      "bestTest = 0.4291748578\n",
      "bestIteration = 120\n",
      "\n",
      "Training on fold [3/5]\n",
      "\n",
      "bestTest = 0.4252969139\n",
      "bestIteration = 146\n",
      "\n",
      "Training on fold [4/5]\n"
     ]
    },
    {
     "name": "stderr",
     "output_type": "stream",
     "text": [
      "\u001b[32m[I 2022-07-16 15:46:06,427]\u001b[0m Trial 25 finished with value: 0.8649026026264757 and parameters: {'iterations': 700, 'learning_rate': 0.2113531874991687, 'random_strength': 1, 'bagging_temperature': 9, 'max_bin': 6, 'grow_policy': 'Lossguide', 'min_data_in_leaf': 1, 'max_depth': 2, 'l2_leaf_reg': 84.7519051824865, 'one_hot_max_size': 12, 'auto_class_weights': 'SqrtBalanced'}. Best is trial 16 with value: 0.8652199915501496.\u001b[0m\n"
     ]
    },
    {
     "name": "stdout",
     "output_type": "stream",
     "text": [
      "\n",
      "bestTest = 0.427742063\n",
      "bestIteration = 145\n",
      "\n",
      "Training on fold [0/5]\n"
     ]
    },
    {
     "name": "stderr",
     "output_type": "stream",
     "text": [
      "C:\\Users\\jvrdo\\anaconda3\\lib\\site-packages\\optuna\\distributions.py:560: UserWarning: The distribution is specified by [1, 10] and step=20, but the range is not divisible by `step`. It will be replaced by [1, 1].\n",
      "  warnings.warn(\n",
      "C:\\Users\\jvrdo\\anaconda3\\lib\\site-packages\\optuna\\distributions.py:560: UserWarning: The distribution is specified by [2, 10] and step=15, but the range is not divisible by `step`. It will be replaced by [2, 2].\n",
      "  warnings.warn(\n"
     ]
    },
    {
     "name": "stdout",
     "output_type": "stream",
     "text": [
      "\n",
      "bestTest = 0.4279386675\n",
      "bestIteration = 135\n",
      "\n",
      "Training on fold [1/5]\n",
      "\n",
      "bestTest = 0.4213774972\n",
      "bestIteration = 166\n",
      "\n",
      "Training on fold [2/5]\n",
      "\n",
      "bestTest = 0.4338551544\n",
      "bestIteration = 125\n",
      "\n",
      "Training on fold [3/5]\n",
      "\n",
      "bestTest = 0.4254766667\n",
      "bestIteration = 126\n",
      "\n",
      "Training on fold [4/5]\n"
     ]
    },
    {
     "name": "stderr",
     "output_type": "stream",
     "text": [
      "\u001b[32m[I 2022-07-16 15:46:20,284]\u001b[0m Trial 26 finished with value: 0.8641724372074912 and parameters: {'iterations': 200, 'learning_rate': 0.15871159231426457, 'random_strength': 2, 'bagging_temperature': 8, 'max_bin': 20, 'grow_policy': 'Depthwise', 'min_data_in_leaf': 1, 'max_depth': 2, 'l2_leaf_reg': 1.1879583884353406, 'one_hot_max_size': 10, 'auto_class_weights': 'SqrtBalanced'}. Best is trial 16 with value: 0.8652199915501496.\u001b[0m\n"
     ]
    },
    {
     "name": "stdout",
     "output_type": "stream",
     "text": [
      "\n",
      "bestTest = 0.4266772883\n",
      "bestIteration = 199\n",
      "\n",
      "Training on fold [0/5]\n"
     ]
    },
    {
     "name": "stderr",
     "output_type": "stream",
     "text": [
      "C:\\Users\\jvrdo\\anaconda3\\lib\\site-packages\\optuna\\distributions.py:560: UserWarning: The distribution is specified by [1, 10] and step=20, but the range is not divisible by `step`. It will be replaced by [1, 1].\n",
      "  warnings.warn(\n",
      "C:\\Users\\jvrdo\\anaconda3\\lib\\site-packages\\optuna\\distributions.py:560: UserWarning: The distribution is specified by [2, 10] and step=15, but the range is not divisible by `step`. It will be replaced by [2, 2].\n",
      "  warnings.warn(\n"
     ]
    },
    {
     "name": "stdout",
     "output_type": "stream",
     "text": [
      "\n",
      "bestTest = 0.4617697185\n",
      "bestIteration = 283\n",
      "\n",
      "Training on fold [1/5]\n",
      "\n",
      "bestTest = 0.4539640076\n",
      "bestIteration = 338\n",
      "\n",
      "Training on fold [2/5]\n",
      "\n",
      "bestTest = 0.4630507751\n",
      "bestIteration = 289\n",
      "\n",
      "Training on fold [3/5]\n",
      "\n",
      "bestTest = 0.4635495225\n",
      "bestIteration = 196\n",
      "\n",
      "Training on fold [4/5]\n"
     ]
    },
    {
     "name": "stderr",
     "output_type": "stream",
     "text": [
      "\u001b[32m[I 2022-07-16 15:46:25,178]\u001b[0m Trial 27 finished with value: 0.8635177048459612 and parameters: {'iterations': 1000, 'learning_rate': 0.0945565127510036, 'random_strength': 5, 'bagging_temperature': 6, 'max_bin': 6, 'grow_policy': 'Lossguide', 'min_data_in_leaf': 1, 'max_depth': 2, 'l2_leaf_reg': 11.030700147905396, 'one_hot_max_size': 1024, 'auto_class_weights': 'Balanced'}. Best is trial 16 with value: 0.8652199915501496.\u001b[0m\n"
     ]
    },
    {
     "name": "stdout",
     "output_type": "stream",
     "text": [
      "\n",
      "bestTest = 0.4628647731\n",
      "bestIteration = 307\n",
      "\n",
      "Training on fold [0/5]\n"
     ]
    },
    {
     "name": "stderr",
     "output_type": "stream",
     "text": [
      "C:\\Users\\jvrdo\\anaconda3\\lib\\site-packages\\optuna\\distributions.py:560: UserWarning: The distribution is specified by [1, 10] and step=20, but the range is not divisible by `step`. It will be replaced by [1, 1].\n",
      "  warnings.warn(\n",
      "C:\\Users\\jvrdo\\anaconda3\\lib\\site-packages\\optuna\\distributions.py:560: UserWarning: The distribution is specified by [2, 10] and step=15, but the range is not divisible by `step`. It will be replaced by [2, 2].\n",
      "  warnings.warn(\n"
     ]
    },
    {
     "name": "stdout",
     "output_type": "stream",
     "text": [
      "\n",
      "bestTest = 0.4273013295\n",
      "bestIteration = 89\n",
      "\n",
      "Training on fold [1/5]\n",
      "\n",
      "bestTest = 0.4205339264\n",
      "bestIteration = 146\n",
      "\n",
      "Training on fold [2/5]\n",
      "\n",
      "bestTest = 0.4380522478\n",
      "bestIteration = 47\n",
      "\n",
      "Training on fold [3/5]\n",
      "\n",
      "bestTest = 0.4273592148\n",
      "bestIteration = 60\n",
      "\n",
      "Training on fold [4/5]\n"
     ]
    },
    {
     "name": "stderr",
     "output_type": "stream",
     "text": [
      "\u001b[32m[I 2022-07-16 15:46:26,575]\u001b[0m Trial 28 finished with value: 0.8626688520697746 and parameters: {'iterations': 700, 'learning_rate': 0.29837251858949926, 'random_strength': 2, 'bagging_temperature': 9, 'max_bin': 8, 'grow_policy': 'Depthwise', 'min_data_in_leaf': 1, 'max_depth': 2, 'l2_leaf_reg': 0.020373223011668724, 'one_hot_max_size': 100, 'auto_class_weights': 'SqrtBalanced'}. Best is trial 16 with value: 0.8652199915501496.\u001b[0m\n"
     ]
    },
    {
     "name": "stdout",
     "output_type": "stream",
     "text": [
      "\n",
      "bestTest = 0.4296499809\n",
      "bestIteration = 75\n",
      "\n",
      "Training on fold [0/5]\n"
     ]
    },
    {
     "name": "stderr",
     "output_type": "stream",
     "text": [
      "C:\\Users\\jvrdo\\anaconda3\\lib\\site-packages\\optuna\\distributions.py:560: UserWarning: The distribution is specified by [1, 10] and step=20, but the range is not divisible by `step`. It will be replaced by [1, 1].\n",
      "  warnings.warn(\n",
      "C:\\Users\\jvrdo\\anaconda3\\lib\\site-packages\\optuna\\distributions.py:560: UserWarning: The distribution is specified by [2, 10] and step=15, but the range is not divisible by `step`. It will be replaced by [2, 2].\n",
      "  warnings.warn(\n"
     ]
    },
    {
     "name": "stdout",
     "output_type": "stream",
     "text": [
      "\n",
      "bestTest = 0.4310162336\n",
      "bestIteration = 76\n",
      "\n",
      "Training on fold [1/5]\n",
      "\n",
      "bestTest = 0.4187158834\n",
      "bestIteration = 127\n",
      "\n",
      "Training on fold [2/5]\n",
      "\n",
      "bestTest = 0.432173881\n",
      "bestIteration = 71\n",
      "\n",
      "Training on fold [3/5]\n",
      "\n",
      "bestTest = 0.4288774728\n",
      "bestIteration = 53\n",
      "\n",
      "Training on fold [4/5]\n"
     ]
    },
    {
     "name": "stderr",
     "output_type": "stream",
     "text": [
      "\u001b[32m[I 2022-07-16 15:46:28,186]\u001b[0m Trial 29 finished with value: 0.8625159753519697 and parameters: {'iterations': 1200, 'learning_rate': 0.26395380540127117, 'random_strength': 1, 'bagging_temperature': 10, 'max_bin': 4, 'grow_policy': 'Lossguide', 'min_data_in_leaf': 1, 'max_depth': 2, 'l2_leaf_reg': 0.001010717504930939, 'one_hot_max_size': 100, 'auto_class_weights': 'SqrtBalanced'}. Best is trial 16 with value: 0.8652199915501496.\u001b[0m\n"
     ]
    },
    {
     "name": "stdout",
     "output_type": "stream",
     "text": [
      "\n",
      "bestTest = 0.4318872173\n",
      "bestIteration = 74\n",
      "\n",
      "Training on fold [0/5]\n"
     ]
    },
    {
     "name": "stderr",
     "output_type": "stream",
     "text": [
      "C:\\Users\\jvrdo\\anaconda3\\lib\\site-packages\\optuna\\distributions.py:560: UserWarning: The distribution is specified by [1, 10] and step=20, but the range is not divisible by `step`. It will be replaced by [1, 1].\n",
      "  warnings.warn(\n",
      "C:\\Users\\jvrdo\\anaconda3\\lib\\site-packages\\optuna\\distributions.py:560: UserWarning: The distribution is specified by [2, 10] and step=15, but the range is not divisible by `step`. It will be replaced by [2, 2].\n",
      "  warnings.warn(\n"
     ]
    },
    {
     "name": "stdout",
     "output_type": "stream",
     "text": [
      "\n",
      "bestTest = 0.4454448357\n",
      "bestIteration = 199\n",
      "\n",
      "Training on fold [1/5]\n",
      "\n",
      "bestTest = 0.4453805226\n",
      "bestIteration = 199\n",
      "\n",
      "Training on fold [2/5]\n",
      "\n",
      "bestTest = 0.4529671129\n",
      "bestIteration = 199\n",
      "\n",
      "Training on fold [3/5]\n",
      "\n",
      "bestTest = 0.4428753367\n",
      "bestIteration = 199\n",
      "\n",
      "Training on fold [4/5]\n"
     ]
    },
    {
     "name": "stderr",
     "output_type": "stream",
     "text": [
      "\u001b[32m[I 2022-07-16 15:46:51,530]\u001b[0m Trial 30 finished with value: 0.8543079482326554 and parameters: {'iterations': 200, 'learning_rate': 0.035211843064830314, 'random_strength': 3, 'bagging_temperature': 8, 'max_bin': 5, 'grow_policy': 'Lossguide', 'min_data_in_leaf': 1, 'max_depth': 2, 'l2_leaf_reg': 0.15346032944821053, 'one_hot_max_size': 12, 'auto_class_weights': 'SqrtBalanced'}. Best is trial 16 with value: 0.8652199915501496.\u001b[0m\n"
     ]
    },
    {
     "name": "stdout",
     "output_type": "stream",
     "text": [
      "\n",
      "bestTest = 0.4514570572\n",
      "bestIteration = 199\n",
      "\n",
      "Training on fold [0/5]\n"
     ]
    },
    {
     "name": "stderr",
     "output_type": "stream",
     "text": [
      "C:\\Users\\jvrdo\\anaconda3\\lib\\site-packages\\optuna\\distributions.py:560: UserWarning: The distribution is specified by [1, 10] and step=20, but the range is not divisible by `step`. It will be replaced by [1, 1].\n",
      "  warnings.warn(\n",
      "C:\\Users\\jvrdo\\anaconda3\\lib\\site-packages\\optuna\\distributions.py:560: UserWarning: The distribution is specified by [2, 10] and step=15, but the range is not divisible by `step`. It will be replaced by [2, 2].\n",
      "  warnings.warn(\n"
     ]
    },
    {
     "name": "stdout",
     "output_type": "stream",
     "text": [
      "\n",
      "bestTest = 0.4236393212\n",
      "bestIteration = 121\n",
      "\n",
      "Training on fold [1/5]\n",
      "\n",
      "bestTest = 0.4213566299\n",
      "bestIteration = 126\n",
      "\n",
      "Training on fold [2/5]\n",
      "\n",
      "bestTest = 0.4258000673\n",
      "bestIteration = 199\n",
      "\n",
      "Training on fold [3/5]\n",
      "\n",
      "bestTest = 0.426505149\n",
      "bestIteration = 99\n",
      "\n",
      "Training on fold [4/5]\n"
     ]
    },
    {
     "name": "stderr",
     "output_type": "stream",
     "text": [
      "\u001b[32m[I 2022-07-16 15:47:04,573]\u001b[0m Trial 31 finished with value: 0.8653687546169854 and parameters: {'iterations': 1000, 'learning_rate': 0.21474137659552017, 'random_strength': 1, 'bagging_temperature': 8, 'max_bin': 20, 'grow_policy': 'Depthwise', 'min_data_in_leaf': 1, 'max_depth': 2, 'l2_leaf_reg': 15.54645056519929, 'one_hot_max_size': 12, 'auto_class_weights': 'SqrtBalanced'}. Best is trial 31 with value: 0.8653687546169854.\u001b[0m\n"
     ]
    },
    {
     "name": "stdout",
     "output_type": "stream",
     "text": [
      "\n",
      "bestTest = 0.4283203935\n",
      "bestIteration = 145\n",
      "\n",
      "Training on fold [0/5]\n"
     ]
    },
    {
     "name": "stderr",
     "output_type": "stream",
     "text": [
      "C:\\Users\\jvrdo\\anaconda3\\lib\\site-packages\\optuna\\distributions.py:560: UserWarning: The distribution is specified by [1, 10] and step=20, but the range is not divisible by `step`. It will be replaced by [1, 1].\n",
      "  warnings.warn(\n",
      "C:\\Users\\jvrdo\\anaconda3\\lib\\site-packages\\optuna\\distributions.py:560: UserWarning: The distribution is specified by [2, 10] and step=15, but the range is not divisible by `step`. It will be replaced by [2, 2].\n",
      "  warnings.warn(\n"
     ]
    },
    {
     "name": "stdout",
     "output_type": "stream",
     "text": [
      "\n",
      "bestTest = 0.4242259976\n",
      "bestIteration = 132\n",
      "\n",
      "Training on fold [1/5]\n",
      "\n",
      "bestTest = 0.4228329367\n",
      "bestIteration = 98\n",
      "\n",
      "Training on fold [2/5]\n",
      "\n",
      "bestTest = 0.4311734858\n",
      "bestIteration = 97\n",
      "\n",
      "Training on fold [3/5]\n",
      "\n",
      "bestTest = 0.4286937375\n",
      "bestIteration = 80\n",
      "\n",
      "Training on fold [4/5]\n"
     ]
    },
    {
     "name": "stderr",
     "output_type": "stream",
     "text": [
      "\u001b[32m[I 2022-07-16 15:47:15,230]\u001b[0m Trial 32 finished with value: 0.8644241168236961 and parameters: {'iterations': 1000, 'learning_rate': 0.21636072395369368, 'random_strength': 1, 'bagging_temperature': 9, 'max_bin': 20, 'grow_policy': 'Depthwise', 'min_data_in_leaf': 1, 'max_depth': 2, 'l2_leaf_reg': 27.389383536011074, 'one_hot_max_size': 12, 'auto_class_weights': 'SqrtBalanced'}. Best is trial 31 with value: 0.8653687546169854.\u001b[0m\n"
     ]
    },
    {
     "name": "stdout",
     "output_type": "stream",
     "text": [
      "\n",
      "bestTest = 0.427611018\n",
      "bestIteration = 148\n",
      "\n",
      "Training on fold [0/5]\n"
     ]
    },
    {
     "name": "stderr",
     "output_type": "stream",
     "text": [
      "C:\\Users\\jvrdo\\anaconda3\\lib\\site-packages\\optuna\\distributions.py:560: UserWarning: The distribution is specified by [1, 10] and step=20, but the range is not divisible by `step`. It will be replaced by [1, 1].\n",
      "  warnings.warn(\n",
      "C:\\Users\\jvrdo\\anaconda3\\lib\\site-packages\\optuna\\distributions.py:560: UserWarning: The distribution is specified by [2, 10] and step=15, but the range is not divisible by `step`. It will be replaced by [2, 2].\n",
      "  warnings.warn(\n"
     ]
    },
    {
     "name": "stdout",
     "output_type": "stream",
     "text": [
      "\n",
      "bestTest = 0.4258684223\n",
      "bestIteration = 86\n",
      "\n",
      "Training on fold [1/5]\n",
      "\n",
      "bestTest = 0.421900975\n",
      "bestIteration = 102\n",
      "\n",
      "Training on fold [2/5]\n",
      "\n",
      "bestTest = 0.4303642004\n",
      "bestIteration = 90\n",
      "\n",
      "Training on fold [3/5]\n",
      "\n",
      "bestTest = 0.4282808092\n",
      "bestIteration = 94\n",
      "\n",
      "Training on fold [4/5]\n"
     ]
    },
    {
     "name": "stderr",
     "output_type": "stream",
     "text": [
      "\u001b[32m[I 2022-07-16 15:47:25,374]\u001b[0m Trial 33 finished with value: 0.8642915678266204 and parameters: {'iterations': 1000, 'learning_rate': 0.24657837365737365, 'random_strength': 4, 'bagging_temperature': 8, 'max_bin': 20, 'grow_policy': 'Depthwise', 'min_data_in_leaf': 1, 'max_depth': 2, 'l2_leaf_reg': 2.6266289233354803, 'one_hot_max_size': 12, 'auto_class_weights': 'SqrtBalanced'}. Best is trial 31 with value: 0.8653687546169854.\u001b[0m\n"
     ]
    },
    {
     "name": "stdout",
     "output_type": "stream",
     "text": [
      "\n",
      "bestTest = 0.4277937863\n",
      "bestIteration = 118\n",
      "\n",
      "Training on fold [0/5]\n"
     ]
    },
    {
     "name": "stderr",
     "output_type": "stream",
     "text": [
      "C:\\Users\\jvrdo\\anaconda3\\lib\\site-packages\\optuna\\distributions.py:560: UserWarning: The distribution is specified by [1, 10] and step=20, but the range is not divisible by `step`. It will be replaced by [1, 1].\n",
      "  warnings.warn(\n",
      "C:\\Users\\jvrdo\\anaconda3\\lib\\site-packages\\optuna\\distributions.py:560: UserWarning: The distribution is specified by [2, 10] and step=15, but the range is not divisible by `step`. It will be replaced by [2, 2].\n",
      "  warnings.warn(\n"
     ]
    },
    {
     "name": "stdout",
     "output_type": "stream",
     "text": [
      "\n",
      "bestTest = 0.4262357749\n",
      "bestIteration = 149\n",
      "\n",
      "Training on fold [1/5]\n",
      "\n",
      "bestTest = 0.4220457128\n",
      "bestIteration = 149\n",
      "\n",
      "Training on fold [2/5]\n",
      "\n",
      "bestTest = 0.4288625616\n",
      "bestIteration = 171\n",
      "\n",
      "Training on fold [3/5]\n",
      "\n",
      "bestTest = 0.426157654\n",
      "bestIteration = 111\n",
      "\n",
      "Training on fold [4/5]\n"
     ]
    },
    {
     "name": "stderr",
     "output_type": "stream",
     "text": [
      "\u001b[32m[I 2022-07-16 15:47:39,836]\u001b[0m Trial 34 finished with value: 0.8645230552801155 and parameters: {'iterations': 1000, 'learning_rate': 0.22737035597106608, 'random_strength': 2, 'bagging_temperature': 7, 'max_bin': 20, 'grow_policy': 'SymmetricTree', 'min_data_in_leaf': 1, 'max_depth': 2, 'l2_leaf_reg': 14.226151799243935, 'one_hot_max_size': 10, 'auto_class_weights': 'SqrtBalanced'}. Best is trial 31 with value: 0.8653687546169854.\u001b[0m\n"
     ]
    },
    {
     "name": "stdout",
     "output_type": "stream",
     "text": [
      "\n",
      "bestTest = 0.4283899123\n",
      "bestIteration = 197\n",
      "\n",
      "Training on fold [0/5]\n"
     ]
    },
    {
     "name": "stderr",
     "output_type": "stream",
     "text": [
      "C:\\Users\\jvrdo\\anaconda3\\lib\\site-packages\\optuna\\distributions.py:560: UserWarning: The distribution is specified by [1, 10] and step=20, but the range is not divisible by `step`. It will be replaced by [1, 1].\n",
      "  warnings.warn(\n",
      "C:\\Users\\jvrdo\\anaconda3\\lib\\site-packages\\optuna\\distributions.py:560: UserWarning: The distribution is specified by [2, 10] and step=15, but the range is not divisible by `step`. It will be replaced by [2, 2].\n",
      "  warnings.warn(\n"
     ]
    },
    {
     "name": "stdout",
     "output_type": "stream",
     "text": [
      "\n",
      "bestTest = 0.4280243633\n",
      "bestIteration = 98\n",
      "\n",
      "Training on fold [1/5]\n",
      "\n",
      "bestTest = 0.4210687956\n",
      "bestIteration = 94\n",
      "\n",
      "Training on fold [2/5]\n",
      "\n",
      "bestTest = 0.4332866657\n",
      "bestIteration = 87\n",
      "\n",
      "Training on fold [3/5]\n",
      "\n",
      "bestTest = 0.4274976322\n",
      "bestIteration = 89\n",
      "\n",
      "Training on fold [4/5]\n"
     ]
    },
    {
     "name": "stderr",
     "output_type": "stream",
     "text": [
      "\u001b[32m[I 2022-07-16 15:47:41,365]\u001b[0m Trial 35 finished with value: 0.8632049472796768 and parameters: {'iterations': 1000, 'learning_rate': 0.28011069285114293, 'random_strength': 2, 'bagging_temperature': 9, 'max_bin': 6, 'grow_policy': 'Depthwise', 'min_data_in_leaf': 1, 'max_depth': 2, 'l2_leaf_reg': 0.9228720410213881, 'one_hot_max_size': 500, 'auto_class_weights': 'SqrtBalanced'}. Best is trial 31 with value: 0.8653687546169854.\u001b[0m\n"
     ]
    },
    {
     "name": "stdout",
     "output_type": "stream",
     "text": [
      "\n",
      "bestTest = 0.4312055218\n",
      "bestIteration = 95\n",
      "\n",
      "Training on fold [0/5]\n"
     ]
    },
    {
     "name": "stderr",
     "output_type": "stream",
     "text": [
      "C:\\Users\\jvrdo\\anaconda3\\lib\\site-packages\\optuna\\distributions.py:560: UserWarning: The distribution is specified by [1, 10] and step=20, but the range is not divisible by `step`. It will be replaced by [1, 1].\n",
      "  warnings.warn(\n",
      "C:\\Users\\jvrdo\\anaconda3\\lib\\site-packages\\optuna\\distributions.py:560: UserWarning: The distribution is specified by [2, 10] and step=15, but the range is not divisible by `step`. It will be replaced by [2, 2].\n",
      "  warnings.warn(\n"
     ]
    },
    {
     "name": "stdout",
     "output_type": "stream",
     "text": [
      "\n",
      "bestTest = 0.4281725995\n",
      "bestIteration = 153\n",
      "\n",
      "Training on fold [1/5]\n",
      "\n",
      "bestTest = 0.4220725176\n",
      "bestIteration = 189\n",
      "\n",
      "Training on fold [2/5]\n",
      "\n",
      "bestTest = 0.4286634673\n",
      "bestIteration = 221\n",
      "\n",
      "Training on fold [3/5]\n",
      "\n",
      "bestTest = 0.428035055\n",
      "bestIteration = 137\n",
      "\n",
      "Training on fold [4/5]\n"
     ]
    },
    {
     "name": "stderr",
     "output_type": "stream",
     "text": [
      "\u001b[32m[I 2022-07-16 15:47:56,821]\u001b[0m Trial 36 finished with value: 0.8632605816431237 and parameters: {'iterations': 300, 'learning_rate': 0.1852017482059674, 'random_strength': 10, 'bagging_temperature': 10, 'max_bin': 4, 'grow_policy': 'Depthwise', 'min_data_in_leaf': 1, 'max_depth': 2, 'l2_leaf_reg': 0.04027123070440849, 'one_hot_max_size': 12, 'auto_class_weights': 'SqrtBalanced'}. Best is trial 31 with value: 0.8653687546169854.\u001b[0m\n"
     ]
    },
    {
     "name": "stdout",
     "output_type": "stream",
     "text": [
      "\n",
      "bestTest = 0.4314482131\n",
      "bestIteration = 160\n",
      "\n",
      "Training on fold [0/5]\n"
     ]
    },
    {
     "name": "stderr",
     "output_type": "stream",
     "text": [
      "C:\\Users\\jvrdo\\anaconda3\\lib\\site-packages\\optuna\\distributions.py:560: UserWarning: The distribution is specified by [1, 10] and step=20, but the range is not divisible by `step`. It will be replaced by [1, 1].\n",
      "  warnings.warn(\n",
      "C:\\Users\\jvrdo\\anaconda3\\lib\\site-packages\\optuna\\distributions.py:560: UserWarning: The distribution is specified by [2, 10] and step=15, but the range is not divisible by `step`. It will be replaced by [2, 2].\n",
      "  warnings.warn(\n"
     ]
    },
    {
     "name": "stdout",
     "output_type": "stream",
     "text": [
      "\n",
      "bestTest = 0.4374854041\n",
      "bestIteration = 99\n",
      "\n",
      "Training on fold [1/5]\n",
      "\n",
      "bestTest = 0.4347199294\n",
      "bestIteration = 99\n",
      "\n",
      "Training on fold [2/5]\n",
      "\n",
      "bestTest = 0.4433187312\n",
      "bestIteration = 99\n",
      "\n",
      "Training on fold [3/5]\n",
      "\n",
      "bestTest = 0.4343745095\n",
      "bestIteration = 99\n",
      "\n",
      "Training on fold [4/5]\n"
     ]
    },
    {
     "name": "stderr",
     "output_type": "stream",
     "text": [
      "\u001b[32m[I 2022-07-16 15:48:05,331]\u001b[0m Trial 37 finished with value: 0.8584084018434932 and parameters: {'iterations': 100, 'learning_rate': 0.10494329236766387, 'random_strength': 1, 'bagging_temperature': 5, 'max_bin': 20, 'grow_policy': 'SymmetricTree', 'min_data_in_leaf': 1, 'max_depth': 2, 'l2_leaf_reg': 2.502013315436424, 'one_hot_max_size': 12, 'auto_class_weights': 'SqrtBalanced'}. Best is trial 31 with value: 0.8653687546169854.\u001b[0m\n"
     ]
    },
    {
     "name": "stdout",
     "output_type": "stream",
     "text": [
      "\n",
      "bestTest = 0.4420704863\n",
      "bestIteration = 99\n",
      "\n",
      "Training on fold [0/5]\n"
     ]
    },
    {
     "name": "stderr",
     "output_type": "stream",
     "text": [
      "C:\\Users\\jvrdo\\anaconda3\\lib\\site-packages\\optuna\\distributions.py:560: UserWarning: The distribution is specified by [1, 10] and step=20, but the range is not divisible by `step`. It will be replaced by [1, 1].\n",
      "  warnings.warn(\n",
      "C:\\Users\\jvrdo\\anaconda3\\lib\\site-packages\\optuna\\distributions.py:560: UserWarning: The distribution is specified by [2, 10] and step=15, but the range is not divisible by `step`. It will be replaced by [2, 2].\n",
      "  warnings.warn(\n"
     ]
    },
    {
     "name": "stdout",
     "output_type": "stream",
     "text": [
      "\n",
      "bestTest = 0.4594446183\n",
      "bestIteration = 154\n",
      "\n",
      "Training on fold [1/5]\n",
      "\n",
      "bestTest = 0.4533603742\n",
      "bestIteration = 172\n",
      "\n",
      "Training on fold [2/5]\n",
      "\n",
      "bestTest = 0.4619378079\n",
      "bestIteration = 139\n",
      "\n",
      "Training on fold [3/5]\n",
      "\n",
      "bestTest = 0.4601363104\n",
      "bestIteration = 129\n",
      "\n",
      "Training on fold [4/5]\n"
     ]
    },
    {
     "name": "stderr",
     "output_type": "stream",
     "text": [
      "\u001b[32m[I 2022-07-16 15:48:18,989]\u001b[0m Trial 38 finished with value: 0.8648648080191428 and parameters: {'iterations': 200, 'learning_rate': 0.1682134686217847, 'random_strength': 3, 'bagging_temperature': 8, 'max_bin': 30, 'grow_policy': 'Depthwise', 'min_data_in_leaf': 1, 'max_depth': 2, 'l2_leaf_reg': 2.5546572748793384e-08, 'one_hot_max_size': 5, 'auto_class_weights': 'Balanced'}. Best is trial 31 with value: 0.8653687546169854.\u001b[0m\n"
     ]
    },
    {
     "name": "stdout",
     "output_type": "stream",
     "text": [
      "\n",
      "bestTest = 0.4603535469\n",
      "bestIteration = 161\n",
      "\n",
      "Training on fold [0/5]\n"
     ]
    },
    {
     "name": "stderr",
     "output_type": "stream",
     "text": [
      "C:\\Users\\jvrdo\\anaconda3\\lib\\site-packages\\optuna\\distributions.py:560: UserWarning: The distribution is specified by [1, 10] and step=20, but the range is not divisible by `step`. It will be replaced by [1, 1].\n",
      "  warnings.warn(\n",
      "C:\\Users\\jvrdo\\anaconda3\\lib\\site-packages\\optuna\\distributions.py:560: UserWarning: The distribution is specified by [2, 10] and step=15, but the range is not divisible by `step`. It will be replaced by [2, 2].\n",
      "  warnings.warn(\n"
     ]
    },
    {
     "name": "stdout",
     "output_type": "stream",
     "text": [
      "\n",
      "bestTest = 0.4291105419\n",
      "bestIteration = 100\n",
      "\n",
      "Training on fold [1/5]\n",
      "\n",
      "bestTest = 0.4255281678\n",
      "bestIteration = 121\n",
      "\n",
      "Training on fold [2/5]\n",
      "\n",
      "bestTest = 0.4299094556\n",
      "bestIteration = 112\n",
      "\n",
      "Training on fold [3/5]\n",
      "\n",
      "bestTest = 0.4262546224\n",
      "bestIteration = 140\n",
      "\n",
      "Training on fold [4/5]\n"
     ]
    },
    {
     "name": "stderr",
     "output_type": "stream",
     "text": [
      "\u001b[32m[I 2022-07-16 15:48:21,135]\u001b[0m Trial 39 finished with value: 0.8634084896145264 and parameters: {'iterations': 1300, 'learning_rate': 0.198340646663188, 'random_strength': 5, 'bagging_temperature': 9, 'max_bin': 6, 'grow_policy': 'Lossguide', 'min_data_in_leaf': 1, 'max_depth': 2, 'l2_leaf_reg': 6.939254637140129, 'one_hot_max_size': 500, 'auto_class_weights': 'SqrtBalanced'}. Best is trial 31 with value: 0.8653687546169854.\u001b[0m\n"
     ]
    },
    {
     "name": "stdout",
     "output_type": "stream",
     "text": [
      "\n",
      "bestTest = 0.4272788689\n",
      "bestIteration = 150\n",
      "\n",
      "Training on fold [0/5]\n"
     ]
    },
    {
     "name": "stderr",
     "output_type": "stream",
     "text": [
      "C:\\Users\\jvrdo\\anaconda3\\lib\\site-packages\\optuna\\distributions.py:560: UserWarning: The distribution is specified by [1, 10] and step=20, but the range is not divisible by `step`. It will be replaced by [1, 1].\n",
      "  warnings.warn(\n",
      "C:\\Users\\jvrdo\\anaconda3\\lib\\site-packages\\optuna\\distributions.py:560: UserWarning: The distribution is specified by [2, 10] and step=15, but the range is not divisible by `step`. It will be replaced by [2, 2].\n",
      "  warnings.warn(\n"
     ]
    },
    {
     "name": "stdout",
     "output_type": "stream",
     "text": [
      "\n",
      "bestTest = 0.4262421318\n",
      "bestIteration = 239\n",
      "\n",
      "Training on fold [1/5]\n",
      "\n",
      "bestTest = 0.4220916938\n",
      "bestIteration = 249\n",
      "\n",
      "Training on fold [2/5]\n",
      "\n",
      "bestTest = 0.4287773867\n",
      "bestIteration = 302\n",
      "\n",
      "Training on fold [3/5]\n",
      "\n",
      "bestTest = 0.4256061153\n",
      "bestIteration = 223\n",
      "\n",
      "Training on fold [4/5]\n"
     ]
    },
    {
     "name": "stderr",
     "output_type": "stream",
     "text": [
      "\u001b[32m[I 2022-07-16 15:48:41,979]\u001b[0m Trial 40 finished with value: 0.8646314085820432 and parameters: {'iterations': 1200, 'learning_rate': 0.13219846524060902, 'random_strength': 4, 'bagging_temperature': 7, 'max_bin': 10, 'grow_policy': 'SymmetricTree', 'min_data_in_leaf': 1, 'max_depth': 2, 'l2_leaf_reg': 22.20575619911856, 'one_hot_max_size': 10, 'auto_class_weights': 'SqrtBalanced'}. Best is trial 31 with value: 0.8653687546169854.\u001b[0m\n"
     ]
    },
    {
     "name": "stdout",
     "output_type": "stream",
     "text": [
      "\n",
      "bestTest = 0.4311548997\n",
      "bestIteration = 179\n",
      "\n",
      "Training on fold [0/5]\n"
     ]
    },
    {
     "name": "stderr",
     "output_type": "stream",
     "text": [
      "C:\\Users\\jvrdo\\anaconda3\\lib\\site-packages\\optuna\\distributions.py:560: UserWarning: The distribution is specified by [1, 10] and step=20, but the range is not divisible by `step`. It will be replaced by [1, 1].\n",
      "  warnings.warn(\n",
      "C:\\Users\\jvrdo\\anaconda3\\lib\\site-packages\\optuna\\distributions.py:560: UserWarning: The distribution is specified by [2, 10] and step=15, but the range is not divisible by `step`. It will be replaced by [2, 2].\n",
      "  warnings.warn(\n"
     ]
    },
    {
     "name": "stdout",
     "output_type": "stream",
     "text": [
      "\n",
      "bestTest = 0.4237530276\n",
      "bestIteration = 116\n",
      "\n",
      "Training on fold [1/5]\n",
      "\n",
      "bestTest = 0.4214411796\n",
      "bestIteration = 134\n",
      "\n",
      "Training on fold [2/5]\n",
      "\n",
      "bestTest = 0.4261538509\n",
      "bestIteration = 202\n",
      "\n",
      "Training on fold [3/5]\n",
      "\n",
      "bestTest = 0.426396327\n",
      "bestIteration = 84\n",
      "\n",
      "Training on fold [4/5]\n"
     ]
    },
    {
     "name": "stderr",
     "output_type": "stream",
     "text": [
      "\u001b[32m[I 2022-07-16 15:48:53,722]\u001b[0m Trial 41 finished with value: 0.8653673385165682 and parameters: {'iterations': 1000, 'learning_rate': 0.2058411472676317, 'random_strength': 1, 'bagging_temperature': 8, 'max_bin': 20, 'grow_policy': 'Depthwise', 'min_data_in_leaf': 1, 'max_depth': 2, 'l2_leaf_reg': 5.9521780429263105, 'one_hot_max_size': 12, 'auto_class_weights': 'SqrtBalanced'}. Best is trial 31 with value: 0.8653687546169854.\u001b[0m\n"
     ]
    },
    {
     "name": "stdout",
     "output_type": "stream",
     "text": [
      "\n",
      "bestTest = 0.4277873876\n",
      "bestIteration = 118\n",
      "\n",
      "Training on fold [0/5]\n"
     ]
    },
    {
     "name": "stderr",
     "output_type": "stream",
     "text": [
      "C:\\Users\\jvrdo\\anaconda3\\lib\\site-packages\\optuna\\distributions.py:560: UserWarning: The distribution is specified by [1, 10] and step=20, but the range is not divisible by `step`. It will be replaced by [1, 1].\n",
      "  warnings.warn(\n",
      "C:\\Users\\jvrdo\\anaconda3\\lib\\site-packages\\optuna\\distributions.py:560: UserWarning: The distribution is specified by [2, 10] and step=15, but the range is not divisible by `step`. It will be replaced by [2, 2].\n",
      "  warnings.warn(\n"
     ]
    },
    {
     "name": "stdout",
     "output_type": "stream",
     "text": [
      "\n",
      "bestTest = 0.4265308581\n",
      "bestIteration = 114\n",
      "\n",
      "Training on fold [1/5]\n",
      "\n",
      "bestTest = 0.4188938266\n",
      "bestIteration = 130\n",
      "\n",
      "Training on fold [2/5]\n",
      "\n",
      "bestTest = 0.4284826215\n",
      "bestIteration = 157\n",
      "\n",
      "Training on fold [3/5]\n",
      "\n",
      "bestTest = 0.4272655119\n",
      "bestIteration = 113\n",
      "\n",
      "Training on fold [4/5]\n"
     ]
    },
    {
     "name": "stderr",
     "output_type": "stream",
     "text": [
      "\u001b[32m[I 2022-07-16 15:49:04,312]\u001b[0m Trial 42 finished with value: 0.8642549527496179 and parameters: {'iterations': 1000, 'learning_rate': 0.25215964314154105, 'random_strength': 2, 'bagging_temperature': 8, 'max_bin': 20, 'grow_policy': 'Depthwise', 'min_data_in_leaf': 1, 'max_depth': 2, 'l2_leaf_reg': 0.29111896166305357, 'one_hot_max_size': 12, 'auto_class_weights': 'SqrtBalanced'}. Best is trial 31 with value: 0.8653687546169854.\u001b[0m\n"
     ]
    },
    {
     "name": "stdout",
     "output_type": "stream",
     "text": [
      "\n",
      "bestTest = 0.4312101782\n",
      "bestIteration = 76\n",
      "\n",
      "Training on fold [0/5]\n"
     ]
    },
    {
     "name": "stderr",
     "output_type": "stream",
     "text": [
      "C:\\Users\\jvrdo\\anaconda3\\lib\\site-packages\\optuna\\distributions.py:560: UserWarning: The distribution is specified by [1, 10] and step=20, but the range is not divisible by `step`. It will be replaced by [1, 1].\n",
      "  warnings.warn(\n",
      "C:\\Users\\jvrdo\\anaconda3\\lib\\site-packages\\optuna\\distributions.py:560: UserWarning: The distribution is specified by [2, 10] and step=15, but the range is not divisible by `step`. It will be replaced by [2, 2].\n",
      "  warnings.warn(\n"
     ]
    },
    {
     "name": "stdout",
     "output_type": "stream",
     "text": [
      "\n",
      "bestTest = 0.4238244987\n",
      "bestIteration = 121\n",
      "\n",
      "Training on fold [1/5]\n",
      "\n",
      "bestTest = 0.4195291395\n",
      "bestIteration = 154\n",
      "\n",
      "Training on fold [2/5]\n",
      "\n",
      "bestTest = 0.4287177731\n",
      "bestIteration = 91\n",
      "\n",
      "Training on fold [3/5]\n",
      "\n",
      "bestTest = 0.4236479689\n",
      "bestIteration = 95\n",
      "\n",
      "Training on fold [4/5]\n"
     ]
    },
    {
     "name": "stderr",
     "output_type": "stream",
     "text": [
      "\u001b[32m[I 2022-07-16 15:49:14,844]\u001b[0m Trial 43 finished with value: 0.8655851776302402 and parameters: {'iterations': 1000, 'learning_rate': 0.22449050217777933, 'random_strength': 1, 'bagging_temperature': 10, 'max_bin': 20, 'grow_policy': 'Depthwise', 'min_data_in_leaf': 1, 'max_depth': 2, 'l2_leaf_reg': 2.0977699290854406, 'one_hot_max_size': 12, 'auto_class_weights': 'SqrtBalanced'}. Best is trial 43 with value: 0.8655851776302402.\u001b[0m\n"
     ]
    },
    {
     "name": "stdout",
     "output_type": "stream",
     "text": [
      "\n",
      "bestTest = 0.4295376619\n",
      "bestIteration = 106\n",
      "\n",
      "Training on fold [0/5]\n"
     ]
    },
    {
     "name": "stderr",
     "output_type": "stream",
     "text": [
      "C:\\Users\\jvrdo\\anaconda3\\lib\\site-packages\\optuna\\distributions.py:560: UserWarning: The distribution is specified by [1, 10] and step=20, but the range is not divisible by `step`. It will be replaced by [1, 1].\n",
      "  warnings.warn(\n",
      "C:\\Users\\jvrdo\\anaconda3\\lib\\site-packages\\optuna\\distributions.py:560: UserWarning: The distribution is specified by [2, 10] and step=15, but the range is not divisible by `step`. It will be replaced by [2, 2].\n",
      "  warnings.warn(\n"
     ]
    },
    {
     "name": "stdout",
     "output_type": "stream",
     "text": [
      "\n",
      "bestTest = 0.4247298898\n",
      "bestIteration = 110\n",
      "\n",
      "Training on fold [1/5]\n",
      "\n",
      "bestTest = 0.4196278617\n",
      "bestIteration = 161\n",
      "\n",
      "Training on fold [2/5]\n",
      "\n",
      "bestTest = 0.4280483655\n",
      "bestIteration = 190\n",
      "\n",
      "Training on fold [3/5]\n",
      "\n",
      "bestTest = 0.4242015667\n",
      "bestIteration = 108\n",
      "\n",
      "Training on fold [4/5]\n"
     ]
    },
    {
     "name": "stderr",
     "output_type": "stream",
     "text": [
      "\u001b[32m[I 2022-07-16 15:49:27,355]\u001b[0m Trial 44 finished with value: 0.8654220985461976 and parameters: {'iterations': 1000, 'learning_rate': 0.21678755098628283, 'random_strength': 1, 'bagging_temperature': 4, 'max_bin': 20, 'grow_policy': 'Depthwise', 'min_data_in_leaf': 1, 'max_depth': 2, 'l2_leaf_reg': 28.445733527268168, 'one_hot_max_size': 12, 'auto_class_weights': 'SqrtBalanced'}. Best is trial 43 with value: 0.8655851776302402.\u001b[0m\n"
     ]
    },
    {
     "name": "stdout",
     "output_type": "stream",
     "text": [
      "\n",
      "bestTest = 0.4294401912\n",
      "bestIteration = 121\n",
      "\n",
      "Training on fold [0/5]\n"
     ]
    },
    {
     "name": "stderr",
     "output_type": "stream",
     "text": [
      "C:\\Users\\jvrdo\\anaconda3\\lib\\site-packages\\optuna\\distributions.py:560: UserWarning: The distribution is specified by [1, 10] and step=20, but the range is not divisible by `step`. It will be replaced by [1, 1].\n",
      "  warnings.warn(\n",
      "C:\\Users\\jvrdo\\anaconda3\\lib\\site-packages\\optuna\\distributions.py:560: UserWarning: The distribution is specified by [2, 10] and step=15, but the range is not divisible by `step`. It will be replaced by [2, 2].\n",
      "  warnings.warn(\n"
     ]
    },
    {
     "name": "stdout",
     "output_type": "stream",
     "text": [
      "\n",
      "bestTest = 0.4253645577\n",
      "bestIteration = 156\n",
      "\n",
      "Training on fold [1/5]\n",
      "\n",
      "bestTest = 0.4208215653\n",
      "bestIteration = 125\n",
      "\n",
      "Training on fold [2/5]\n",
      "\n",
      "bestTest = 0.4274337402\n",
      "bestIteration = 184\n",
      "\n",
      "Training on fold [3/5]\n",
      "\n",
      "bestTest = 0.4270010987\n",
      "bestIteration = 121\n",
      "\n",
      "Training on fold [4/5]\n"
     ]
    },
    {
     "name": "stderr",
     "output_type": "stream",
     "text": [
      "\u001b[32m[I 2022-07-16 15:49:40,745]\u001b[0m Trial 45 finished with value: 0.8648501289221588 and parameters: {'iterations': 1000, 'learning_rate': 0.18773276806602474, 'random_strength': 2, 'bagging_temperature': 3, 'max_bin': 20, 'grow_policy': 'Depthwise', 'min_data_in_leaf': 1, 'max_depth': 2, 'l2_leaf_reg': 2.5186349530679735, 'one_hot_max_size': 12, 'auto_class_weights': 'SqrtBalanced'}. Best is trial 43 with value: 0.8655851776302402.\u001b[0m\n"
     ]
    },
    {
     "name": "stdout",
     "output_type": "stream",
     "text": [
      "\n",
      "bestTest = 0.4296774891\n",
      "bestIteration = 166\n",
      "\n",
      "Training on fold [0/5]\n"
     ]
    },
    {
     "name": "stderr",
     "output_type": "stream",
     "text": [
      "C:\\Users\\jvrdo\\anaconda3\\lib\\site-packages\\optuna\\distributions.py:560: UserWarning: The distribution is specified by [1, 10] and step=20, but the range is not divisible by `step`. It will be replaced by [1, 1].\n",
      "  warnings.warn(\n",
      "C:\\Users\\jvrdo\\anaconda3\\lib\\site-packages\\optuna\\distributions.py:560: UserWarning: The distribution is specified by [2, 10] and step=15, but the range is not divisible by `step`. It will be replaced by [2, 2].\n",
      "  warnings.warn(\n"
     ]
    },
    {
     "name": "stdout",
     "output_type": "stream",
     "text": [
      "\n",
      "bestTest = 0.4243228055\n",
      "bestIteration = 145\n",
      "\n",
      "Training on fold [1/5]\n",
      "\n",
      "bestTest = 0.420571957\n",
      "bestIteration = 125\n",
      "\n",
      "Training on fold [2/5]\n",
      "\n",
      "bestTest = 0.4278157571\n",
      "bestIteration = 166\n",
      "\n",
      "Training on fold [3/5]\n",
      "\n",
      "bestTest = 0.4262342383\n",
      "bestIteration = 101\n",
      "\n",
      "Training on fold [4/5]\n"
     ]
    },
    {
     "name": "stderr",
     "output_type": "stream",
     "text": [
      "\u001b[32m[I 2022-07-16 15:49:52,376]\u001b[0m Trial 46 finished with value: 0.8650835992531223 and parameters: {'iterations': 1500, 'learning_rate': 0.22014877414704234, 'random_strength': 1, 'bagging_temperature': 4, 'max_bin': 20, 'grow_policy': 'Depthwise', 'min_data_in_leaf': 1, 'max_depth': 2, 'l2_leaf_reg': 27.60159469206259, 'one_hot_max_size': 12, 'auto_class_weights': 'SqrtBalanced'}. Best is trial 43 with value: 0.8655851776302402.\u001b[0m\n"
     ]
    },
    {
     "name": "stdout",
     "output_type": "stream",
     "text": [
      "\n",
      "bestTest = 0.429722525\n",
      "bestIteration = 113\n",
      "\n",
      "Training on fold [0/5]\n"
     ]
    },
    {
     "name": "stderr",
     "output_type": "stream",
     "text": [
      "C:\\Users\\jvrdo\\anaconda3\\lib\\site-packages\\optuna\\distributions.py:560: UserWarning: The distribution is specified by [1, 10] and step=20, but the range is not divisible by `step`. It will be replaced by [1, 1].\n",
      "  warnings.warn(\n",
      "C:\\Users\\jvrdo\\anaconda3\\lib\\site-packages\\optuna\\distributions.py:560: UserWarning: The distribution is specified by [2, 10] and step=15, but the range is not divisible by `step`. It will be replaced by [2, 2].\n",
      "  warnings.warn(\n"
     ]
    },
    {
     "name": "stdout",
     "output_type": "stream",
     "text": [
      "\n",
      "bestTest = 0.4635646305\n",
      "bestIteration = 96\n",
      "\n",
      "Training on fold [1/5]\n",
      "\n",
      "bestTest = 0.4536590038\n",
      "bestIteration = 130\n",
      "\n",
      "Training on fold [2/5]\n",
      "\n",
      "bestTest = 0.4607986227\n",
      "bestIteration = 163\n",
      "\n",
      "Training on fold [3/5]\n",
      "\n",
      "bestTest = 0.4615525553\n",
      "bestIteration = 89\n",
      "\n",
      "Training on fold [4/5]\n"
     ]
    },
    {
     "name": "stderr",
     "output_type": "stream",
     "text": [
      "\u001b[32m[I 2022-07-16 15:50:03,019]\u001b[0m Trial 47 finished with value: 0.8632195226230985 and parameters: {'iterations': 1000, 'learning_rate': 0.2316812465257306, 'random_strength': 8, 'bagging_temperature': 4, 'max_bin': 20, 'grow_policy': 'Depthwise', 'min_data_in_leaf': 1, 'max_depth': 2, 'l2_leaf_reg': 1.3036702379205562e-05, 'one_hot_max_size': 12, 'auto_class_weights': 'Balanced'}. Best is trial 43 with value: 0.8655851776302402.\u001b[0m\n"
     ]
    },
    {
     "name": "stdout",
     "output_type": "stream",
     "text": [
      "\n",
      "bestTest = 0.4629661381\n",
      "bestIteration = 127\n",
      "\n",
      "Training on fold [0/5]\n"
     ]
    },
    {
     "name": "stderr",
     "output_type": "stream",
     "text": [
      "C:\\Users\\jvrdo\\anaconda3\\lib\\site-packages\\optuna\\distributions.py:560: UserWarning: The distribution is specified by [1, 10] and step=20, but the range is not divisible by `step`. It will be replaced by [1, 1].\n",
      "  warnings.warn(\n",
      "C:\\Users\\jvrdo\\anaconda3\\lib\\site-packages\\optuna\\distributions.py:560: UserWarning: The distribution is specified by [2, 10] and step=15, but the range is not divisible by `step`. It will be replaced by [2, 2].\n",
      "  warnings.warn(\n"
     ]
    },
    {
     "name": "stdout",
     "output_type": "stream",
     "text": [
      "\n",
      "bestTest = 0.4296453502\n",
      "bestIteration = 177\n",
      "\n",
      "Training on fold [1/5]\n",
      "\n",
      "bestTest = 0.4212030688\n",
      "bestIteration = 257\n",
      "\n",
      "Training on fold [2/5]\n",
      "\n",
      "bestTest = 0.4311416972\n",
      "bestIteration = 236\n",
      "\n",
      "Training on fold [3/5]\n",
      "\n",
      "bestTest = 0.4279138406\n",
      "bestIteration = 161\n",
      "\n",
      "Training on fold [4/5]\n"
     ]
    },
    {
     "name": "stderr",
     "output_type": "stream",
     "text": [
      "\u001b[32m[I 2022-07-16 15:50:06,014]\u001b[0m Trial 48 finished with value: 0.8633225380544085 and parameters: {'iterations': 500, 'learning_rate': 0.14728836527094202, 'random_strength': 9, 'bagging_temperature': 4, 'max_bin': 30, 'grow_policy': 'Depthwise', 'min_data_in_leaf': 1, 'max_depth': 2, 'l2_leaf_reg': 6.781197735811021, 'one_hot_max_size': 100, 'auto_class_weights': 'SqrtBalanced'}. Best is trial 43 with value: 0.8655851776302402.\u001b[0m\n"
     ]
    },
    {
     "name": "stdout",
     "output_type": "stream",
     "text": [
      "\n",
      "bestTest = 0.4297246773\n",
      "bestIteration = 169\n",
      "\n",
      "Training on fold [0/5]\n"
     ]
    },
    {
     "name": "stderr",
     "output_type": "stream",
     "text": [
      "C:\\Users\\jvrdo\\anaconda3\\lib\\site-packages\\optuna\\distributions.py:560: UserWarning: The distribution is specified by [1, 10] and step=20, but the range is not divisible by `step`. It will be replaced by [1, 1].\n",
      "  warnings.warn(\n",
      "C:\\Users\\jvrdo\\anaconda3\\lib\\site-packages\\optuna\\distributions.py:560: UserWarning: The distribution is specified by [2, 10] and step=15, but the range is not divisible by `step`. It will be replaced by [2, 2].\n",
      "  warnings.warn(\n"
     ]
    },
    {
     "name": "stdout",
     "output_type": "stream",
     "text": [
      "\n",
      "bestTest = 0.4294229674\n",
      "bestIteration = 128\n",
      "\n",
      "Training on fold [1/5]\n",
      "\n",
      "bestTest = 0.4210403813\n",
      "bestIteration = 172\n",
      "\n",
      "Training on fold [2/5]\n",
      "\n",
      "bestTest = 0.4292831122\n",
      "bestIteration = 168\n",
      "\n",
      "Training on fold [3/5]\n",
      "\n",
      "bestTest = 0.42516717\n",
      "bestIteration = 144\n",
      "\n",
      "Training on fold [4/5]\n"
     ]
    },
    {
     "name": "stderr",
     "output_type": "stream",
     "text": [
      "\u001b[32m[I 2022-07-16 15:50:08,478]\u001b[0m Trial 49 finished with value: 0.8643375252899276 and parameters: {'iterations': 1000, 'learning_rate': 0.1722712869306427, 'random_strength': 1, 'bagging_temperature': 2, 'max_bin': 10, 'grow_policy': 'Depthwise', 'min_data_in_leaf': 1, 'max_depth': 2, 'l2_leaf_reg': 0.5407782302952462, 'one_hot_max_size': 1024, 'auto_class_weights': 'SqrtBalanced'}. Best is trial 43 with value: 0.8655851776302402.\u001b[0m\n"
     ]
    },
    {
     "name": "stdout",
     "output_type": "stream",
     "text": [
      "\n",
      "bestTest = 0.427458303\n",
      "bestIteration = 154\n",
      "\n",
      "Training on fold [0/5]\n"
     ]
    },
    {
     "name": "stderr",
     "output_type": "stream",
     "text": [
      "C:\\Users\\jvrdo\\anaconda3\\lib\\site-packages\\optuna\\distributions.py:560: UserWarning: The distribution is specified by [1, 10] and step=20, but the range is not divisible by `step`. It will be replaced by [1, 1].\n",
      "  warnings.warn(\n",
      "C:\\Users\\jvrdo\\anaconda3\\lib\\site-packages\\optuna\\distributions.py:560: UserWarning: The distribution is specified by [2, 10] and step=15, but the range is not divisible by `step`. It will be replaced by [2, 2].\n",
      "  warnings.warn(\n"
     ]
    },
    {
     "name": "stdout",
     "output_type": "stream",
     "text": [
      "\n",
      "bestTest = 0.4256616381\n",
      "bestIteration = 99\n",
      "\n",
      "Training on fold [1/5]\n",
      "\n",
      "bestTest = 0.4231743692\n",
      "bestIteration = 99\n",
      "\n",
      "Training on fold [2/5]\n",
      "\n",
      "bestTest = 0.4344280625\n",
      "bestIteration = 99\n",
      "\n",
      "Training on fold [3/5]\n",
      "\n",
      "bestTest = 0.4269431864\n",
      "bestIteration = 98\n",
      "\n",
      "Training on fold [4/5]\n"
     ]
    },
    {
     "name": "stderr",
     "output_type": "stream",
     "text": [
      "\u001b[32m[I 2022-07-16 15:50:16,683]\u001b[0m Trial 50 finished with value: 0.8636481692251747 and parameters: {'iterations': 100, 'learning_rate': 0.19613813875902691, 'random_strength': 2, 'bagging_temperature': 5, 'max_bin': 8, 'grow_policy': 'Depthwise', 'min_data_in_leaf': 1, 'max_depth': 2, 'l2_leaf_reg': 1.7077503319168332, 'one_hot_max_size': 12, 'auto_class_weights': 'SqrtBalanced'}. Best is trial 43 with value: 0.8655851776302402.\u001b[0m\n"
     ]
    },
    {
     "name": "stdout",
     "output_type": "stream",
     "text": [
      "\n",
      "bestTest = 0.4303413898\n",
      "bestIteration = 99\n",
      "\n",
      "Training on fold [0/5]\n"
     ]
    },
    {
     "name": "stderr",
     "output_type": "stream",
     "text": [
      "C:\\Users\\jvrdo\\anaconda3\\lib\\site-packages\\optuna\\distributions.py:560: UserWarning: The distribution is specified by [1, 10] and step=20, but the range is not divisible by `step`. It will be replaced by [1, 1].\n",
      "  warnings.warn(\n",
      "C:\\Users\\jvrdo\\anaconda3\\lib\\site-packages\\optuna\\distributions.py:560: UserWarning: The distribution is specified by [2, 10] and step=15, but the range is not divisible by `step`. It will be replaced by [2, 2].\n",
      "  warnings.warn(\n"
     ]
    },
    {
     "name": "stdout",
     "output_type": "stream",
     "text": [
      "\n",
      "bestTest = 0.4254467267\n",
      "bestIteration = 126\n",
      "\n",
      "Training on fold [1/5]\n",
      "\n",
      "bestTest = 0.4197712775\n",
      "bestIteration = 128\n",
      "\n",
      "Training on fold [2/5]\n",
      "\n",
      "bestTest = 0.4295511731\n",
      "bestIteration = 118\n",
      "\n",
      "Training on fold [3/5]\n",
      "\n",
      "bestTest = 0.4243861929\n",
      "bestIteration = 105\n",
      "\n",
      "Training on fold [4/5]\n"
     ]
    },
    {
     "name": "stderr",
     "output_type": "stream",
     "text": [
      "\u001b[32m[I 2022-07-16 15:50:27,190]\u001b[0m Trial 51 finished with value: 0.8650763966603872 and parameters: {'iterations': 1000, 'learning_rate': 0.22430098915596797, 'random_strength': 1, 'bagging_temperature': 9, 'max_bin': 20, 'grow_policy': 'Depthwise', 'min_data_in_leaf': 1, 'max_depth': 2, 'l2_leaf_reg': 51.08383250255133, 'one_hot_max_size': 12, 'auto_class_weights': 'SqrtBalanced'}. Best is trial 43 with value: 0.8655851776302402.\u001b[0m\n"
     ]
    },
    {
     "name": "stdout",
     "output_type": "stream",
     "text": [
      "\n",
      "bestTest = 0.4309328968\n",
      "bestIteration = 90\n",
      "\n",
      "Training on fold [0/5]\n"
     ]
    },
    {
     "name": "stderr",
     "output_type": "stream",
     "text": [
      "C:\\Users\\jvrdo\\anaconda3\\lib\\site-packages\\optuna\\distributions.py:560: UserWarning: The distribution is specified by [1, 10] and step=20, but the range is not divisible by `step`. It will be replaced by [1, 1].\n",
      "  warnings.warn(\n",
      "C:\\Users\\jvrdo\\anaconda3\\lib\\site-packages\\optuna\\distributions.py:560: UserWarning: The distribution is specified by [2, 10] and step=15, but the range is not divisible by `step`. It will be replaced by [2, 2].\n",
      "  warnings.warn(\n"
     ]
    },
    {
     "name": "stdout",
     "output_type": "stream",
     "text": [
      "\n",
      "bestTest = 0.4257950937\n",
      "bestIteration = 102\n",
      "\n",
      "Training on fold [1/5]\n",
      "\n",
      "bestTest = 0.4204047426\n",
      "bestIteration = 142\n",
      "\n",
      "Training on fold [2/5]\n",
      "\n",
      "bestTest = 0.4282069496\n",
      "bestIteration = 179\n",
      "\n",
      "Training on fold [3/5]\n",
      "\n",
      "bestTest = 0.4250230002\n",
      "bestIteration = 130\n",
      "\n",
      "Training on fold [4/5]\n"
     ]
    },
    {
     "name": "stderr",
     "output_type": "stream",
     "text": [
      "\u001b[32m[I 2022-07-16 15:50:41,273]\u001b[0m Trial 52 finished with value: 0.8656327318151421 and parameters: {'iterations': 1000, 'learning_rate': 0.2080636308274448, 'random_strength': 1, 'bagging_temperature': 10, 'max_bin': 20, 'grow_policy': 'Depthwise', 'min_data_in_leaf': 1, 'max_depth': 2, 'l2_leaf_reg': 96.50742148228932, 'one_hot_max_size': 12, 'auto_class_weights': 'SqrtBalanced'}. Best is trial 52 with value: 0.8656327318151421.\u001b[0m\n"
     ]
    },
    {
     "name": "stdout",
     "output_type": "stream",
     "text": [
      "\n",
      "bestTest = 0.4272728222\n",
      "bestIteration = 182\n",
      "\n",
      "Training on fold [0/5]\n"
     ]
    },
    {
     "name": "stderr",
     "output_type": "stream",
     "text": [
      "C:\\Users\\jvrdo\\anaconda3\\lib\\site-packages\\optuna\\distributions.py:560: UserWarning: The distribution is specified by [1, 10] and step=20, but the range is not divisible by `step`. It will be replaced by [1, 1].\n",
      "  warnings.warn(\n",
      "C:\\Users\\jvrdo\\anaconda3\\lib\\site-packages\\optuna\\distributions.py:560: UserWarning: The distribution is specified by [2, 10] and step=15, but the range is not divisible by `step`. It will be replaced by [2, 2].\n",
      "  warnings.warn(\n"
     ]
    },
    {
     "name": "stdout",
     "output_type": "stream",
     "text": [
      "\n",
      "bestTest = 0.4251340817\n",
      "bestIteration = 114\n",
      "\n",
      "Training on fold [1/5]\n",
      "\n",
      "bestTest = 0.4188389801\n",
      "bestIteration = 169\n",
      "\n",
      "Training on fold [2/5]\n",
      "\n",
      "bestTest = 0.4261294748\n",
      "bestIteration = 209\n",
      "\n",
      "Training on fold [3/5]\n",
      "\n",
      "bestTest = 0.4264655933\n",
      "bestIteration = 89\n",
      "\n",
      "Training on fold [4/5]\n"
     ]
    },
    {
     "name": "stderr",
     "output_type": "stream",
     "text": [
      "\u001b[32m[I 2022-07-16 15:50:52,958]\u001b[0m Trial 53 finished with value: 0.8657734887033441 and parameters: {'iterations': 1000, 'learning_rate': 0.24314087560877246, 'random_strength': 1, 'bagging_temperature': 10, 'max_bin': 20, 'grow_policy': 'Depthwise', 'min_data_in_leaf': 1, 'max_depth': 2, 'l2_leaf_reg': 22.095321757665303, 'one_hot_max_size': 12, 'auto_class_weights': 'SqrtBalanced'}. Best is trial 53 with value: 0.8657734887033441.\u001b[0m\n"
     ]
    },
    {
     "name": "stdout",
     "output_type": "stream",
     "text": [
      "\n",
      "bestTest = 0.4269414231\n",
      "bestIteration = 118\n",
      "\n",
      "Training on fold [0/5]\n"
     ]
    },
    {
     "name": "stderr",
     "output_type": "stream",
     "text": [
      "C:\\Users\\jvrdo\\anaconda3\\lib\\site-packages\\optuna\\distributions.py:560: UserWarning: The distribution is specified by [1, 10] and step=20, but the range is not divisible by `step`. It will be replaced by [1, 1].\n",
      "  warnings.warn(\n",
      "C:\\Users\\jvrdo\\anaconda3\\lib\\site-packages\\optuna\\distributions.py:560: UserWarning: The distribution is specified by [2, 10] and step=15, but the range is not divisible by `step`. It will be replaced by [2, 2].\n",
      "  warnings.warn(\n"
     ]
    },
    {
     "name": "stdout",
     "output_type": "stream",
     "text": [
      "\n",
      "bestTest = 0.4273075499\n",
      "bestIteration = 115\n",
      "\n",
      "Training on fold [1/5]\n",
      "\n",
      "bestTest = 0.4216005203\n",
      "bestIteration = 102\n",
      "\n",
      "Training on fold [2/5]\n",
      "\n",
      "bestTest = 0.4273598192\n",
      "bestIteration = 214\n",
      "\n",
      "Training on fold [3/5]\n",
      "\n",
      "bestTest = 0.4259690044\n",
      "bestIteration = 81\n",
      "\n",
      "Training on fold [4/5]\n"
     ]
    },
    {
     "name": "stderr",
     "output_type": "stream",
     "text": [
      "\u001b[32m[I 2022-07-16 15:51:04,581]\u001b[0m Trial 54 finished with value: 0.8650963524072625 and parameters: {'iterations': 1000, 'learning_rate': 0.2406656542636649, 'random_strength': 1, 'bagging_temperature': 10, 'max_bin': 20, 'grow_policy': 'Depthwise', 'min_data_in_leaf': 1, 'max_depth': 2, 'l2_leaf_reg': 28.88383573239311, 'one_hot_max_size': 12, 'auto_class_weights': 'SqrtBalanced'}. Best is trial 53 with value: 0.8657734887033441.\u001b[0m\n"
     ]
    },
    {
     "name": "stdout",
     "output_type": "stream",
     "text": [
      "\n",
      "bestTest = 0.4272378958\n",
      "bestIteration = 166\n",
      "\n",
      "Training on fold [0/5]\n"
     ]
    },
    {
     "name": "stderr",
     "output_type": "stream",
     "text": [
      "C:\\Users\\jvrdo\\anaconda3\\lib\\site-packages\\optuna\\distributions.py:560: UserWarning: The distribution is specified by [1, 10] and step=20, but the range is not divisible by `step`. It will be replaced by [1, 1].\n",
      "  warnings.warn(\n",
      "C:\\Users\\jvrdo\\anaconda3\\lib\\site-packages\\optuna\\distributions.py:560: UserWarning: The distribution is specified by [2, 10] and step=15, but the range is not divisible by `step`. It will be replaced by [2, 2].\n",
      "  warnings.warn(\n"
     ]
    },
    {
     "name": "stdout",
     "output_type": "stream",
     "text": [
      "\n",
      "bestTest = 0.4256554715\n",
      "bestIteration = 104\n",
      "\n",
      "Training on fold [1/5]\n",
      "\n",
      "bestTest = 0.4206965645\n",
      "bestIteration = 128\n",
      "\n",
      "Training on fold [2/5]\n",
      "\n",
      "bestTest = 0.4309425978\n",
      "bestIteration = 129\n",
      "\n",
      "Training on fold [3/5]\n",
      "\n",
      "bestTest = 0.4258435195\n",
      "bestIteration = 106\n",
      "\n",
      "Training on fold [4/5]\n"
     ]
    },
    {
     "name": "stderr",
     "output_type": "stream",
     "text": [
      "\u001b[32m[I 2022-07-16 15:51:15,255]\u001b[0m Trial 55 finished with value: 0.8648701479492011 and parameters: {'iterations': 1000, 'learning_rate': 0.20145867638246703, 'random_strength': 2, 'bagging_temperature': 10, 'max_bin': 20, 'grow_policy': 'Depthwise', 'min_data_in_leaf': 1, 'max_depth': 2, 'l2_leaf_reg': 13.012633269270232, 'one_hot_max_size': 12, 'auto_class_weights': 'SqrtBalanced'}. Best is trial 53 with value: 0.8657734887033441.\u001b[0m\n"
     ]
    },
    {
     "name": "stdout",
     "output_type": "stream",
     "text": [
      "\n",
      "bestTest = 0.426083929\n",
      "bestIteration = 186\n",
      "\n",
      "Training on fold [0/5]\n"
     ]
    },
    {
     "name": "stderr",
     "output_type": "stream",
     "text": [
      "C:\\Users\\jvrdo\\anaconda3\\lib\\site-packages\\optuna\\distributions.py:560: UserWarning: The distribution is specified by [1, 10] and step=20, but the range is not divisible by `step`. It will be replaced by [1, 1].\n",
      "  warnings.warn(\n",
      "C:\\Users\\jvrdo\\anaconda3\\lib\\site-packages\\optuna\\distributions.py:560: UserWarning: The distribution is specified by [2, 10] and step=15, but the range is not divisible by `step`. It will be replaced by [2, 2].\n",
      "  warnings.warn(\n"
     ]
    },
    {
     "name": "stdout",
     "output_type": "stream",
     "text": [
      "\n",
      "bestTest = 0.4598809265\n",
      "bestIteration = 83\n",
      "\n",
      "Training on fold [1/5]\n",
      "\n",
      "bestTest = 0.4538311586\n",
      "bestIteration = 117\n",
      "\n",
      "Training on fold [2/5]\n",
      "\n",
      "bestTest = 0.4592249796\n",
      "bestIteration = 124\n",
      "\n",
      "Training on fold [3/5]\n",
      "\n",
      "bestTest = 0.4611358213\n",
      "bestIteration = 73\n",
      "\n",
      "Training on fold [4/5]\n"
     ]
    },
    {
     "name": "stderr",
     "output_type": "stream",
     "text": [
      "\u001b[32m[I 2022-07-16 15:51:16,891]\u001b[0m Trial 56 finished with value: 0.8640554090091601 and parameters: {'iterations': 1000, 'learning_rate': 0.24861498692651451, 'random_strength': 1, 'bagging_temperature': 5, 'max_bin': 20, 'grow_policy': 'Depthwise', 'min_data_in_leaf': 1, 'max_depth': 2, 'l2_leaf_reg': 5.188061738217462, 'one_hot_max_size': 500, 'auto_class_weights': 'Balanced'}. Best is trial 53 with value: 0.8657734887033441.\u001b[0m\n"
     ]
    },
    {
     "name": "stdout",
     "output_type": "stream",
     "text": [
      "\n",
      "bestTest = 0.4649279365\n",
      "bestIteration = 100\n",
      "\n",
      "Training on fold [0/5]\n"
     ]
    },
    {
     "name": "stderr",
     "output_type": "stream",
     "text": [
      "C:\\Users\\jvrdo\\anaconda3\\lib\\site-packages\\optuna\\distributions.py:560: UserWarning: The distribution is specified by [1, 10] and step=20, but the range is not divisible by `step`. It will be replaced by [1, 1].\n",
      "  warnings.warn(\n",
      "C:\\Users\\jvrdo\\anaconda3\\lib\\site-packages\\optuna\\distributions.py:560: UserWarning: The distribution is specified by [2, 10] and step=15, but the range is not divisible by `step`. It will be replaced by [2, 2].\n",
      "  warnings.warn(\n"
     ]
    },
    {
     "name": "stdout",
     "output_type": "stream",
     "text": [
      "\n",
      "bestTest = 0.4275864133\n",
      "bestIteration = 57\n",
      "\n",
      "Training on fold [1/5]\n",
      "\n",
      "bestTest = 0.4209550547\n",
      "bestIteration = 96\n",
      "\n",
      "Training on fold [2/5]\n",
      "\n",
      "bestTest = 0.4262668005\n",
      "bestIteration = 175\n",
      "\n",
      "Training on fold [3/5]\n",
      "\n",
      "bestTest = 0.4287633457\n",
      "bestIteration = 105\n",
      "\n",
      "Training on fold [4/5]\n"
     ]
    },
    {
     "name": "stderr",
     "output_type": "stream",
     "text": [
      "\u001b[32m[I 2022-07-16 15:51:27,010]\u001b[0m Trial 57 finished with value: 0.8646228461391576 and parameters: {'iterations': 1000, 'learning_rate': 0.2819833897720272, 'random_strength': 2, 'bagging_temperature': 10, 'max_bin': 20, 'grow_policy': 'Depthwise', 'min_data_in_leaf': 1, 'max_depth': 2, 'l2_leaf_reg': 58.119185641170034, 'one_hot_max_size': 12, 'auto_class_weights': 'SqrtBalanced'}. Best is trial 53 with value: 0.8657734887033441.\u001b[0m\n"
     ]
    },
    {
     "name": "stdout",
     "output_type": "stream",
     "text": [
      "\n",
      "bestTest = 0.4268357947\n",
      "bestIteration = 123\n",
      "\n",
      "Training on fold [0/5]\n"
     ]
    },
    {
     "name": "stderr",
     "output_type": "stream",
     "text": [
      "C:\\Users\\jvrdo\\anaconda3\\lib\\site-packages\\optuna\\distributions.py:560: UserWarning: The distribution is specified by [1, 10] and step=20, but the range is not divisible by `step`. It will be replaced by [1, 1].\n",
      "  warnings.warn(\n",
      "C:\\Users\\jvrdo\\anaconda3\\lib\\site-packages\\optuna\\distributions.py:560: UserWarning: The distribution is specified by [2, 10] and step=15, but the range is not divisible by `step`. It will be replaced by [2, 2].\n",
      "  warnings.warn(\n"
     ]
    },
    {
     "name": "stdout",
     "output_type": "stream",
     "text": [
      "\n",
      "bestTest = 0.4251254235\n",
      "bestIteration = 120\n",
      "\n",
      "Training on fold [1/5]\n",
      "\n",
      "bestTest = 0.4260412077\n",
      "bestIteration = 74\n",
      "\n",
      "Training on fold [2/5]\n",
      "\n",
      "bestTest = 0.4264372483\n",
      "bestIteration = 236\n",
      "\n",
      "Training on fold [3/5]\n",
      "\n",
      "bestTest = 0.4266823645\n",
      "bestIteration = 116\n",
      "\n",
      "Training on fold [4/5]\n"
     ]
    },
    {
     "name": "stderr",
     "output_type": "stream",
     "text": [
      "\u001b[32m[I 2022-07-16 15:51:39,530]\u001b[0m Trial 58 finished with value: 0.8646858291682257 and parameters: {'iterations': 1500, 'learning_rate': 0.2593785044478544, 'random_strength': 1, 'bagging_temperature': 2, 'max_bin': 20, 'grow_policy': 'Depthwise', 'min_data_in_leaf': 1, 'max_depth': 2, 'l2_leaf_reg': 99.54069751116207, 'one_hot_max_size': 12, 'auto_class_weights': 'SqrtBalanced'}. Best is trial 53 with value: 0.8657734887033441.\u001b[0m\n"
     ]
    },
    {
     "name": "stdout",
     "output_type": "stream",
     "text": [
      "\n",
      "bestTest = 0.4276565826\n",
      "bestIteration = 109\n",
      "\n",
      "Training on fold [0/5]\n"
     ]
    },
    {
     "name": "stderr",
     "output_type": "stream",
     "text": [
      "C:\\Users\\jvrdo\\anaconda3\\lib\\site-packages\\optuna\\distributions.py:560: UserWarning: The distribution is specified by [1, 10] and step=20, but the range is not divisible by `step`. It will be replaced by [1, 1].\n",
      "  warnings.warn(\n",
      "C:\\Users\\jvrdo\\anaconda3\\lib\\site-packages\\optuna\\distributions.py:560: UserWarning: The distribution is specified by [2, 10] and step=15, but the range is not divisible by `step`. It will be replaced by [2, 2].\n",
      "  warnings.warn(\n"
     ]
    },
    {
     "name": "stdout",
     "output_type": "stream",
     "text": [
      "\n",
      "bestTest = 0.4262705868\n",
      "bestIteration = 102\n",
      "\n",
      "Training on fold [1/5]\n",
      "\n",
      "bestTest = 0.4215850405\n",
      "bestIteration = 101\n",
      "\n",
      "Training on fold [2/5]\n",
      "\n",
      "bestTest = 0.426748206\n",
      "bestIteration = 172\n",
      "\n",
      "Training on fold [3/5]\n",
      "\n",
      "bestTest = 0.4256376609\n",
      "bestIteration = 122\n",
      "\n",
      "Training on fold [4/5]\n"
     ]
    },
    {
     "name": "stderr",
     "output_type": "stream",
     "text": [
      "\u001b[32m[I 2022-07-16 15:51:49,303]\u001b[0m Trial 59 finished with value: 0.8649539567897111 and parameters: {'iterations': 1000, 'learning_rate': 0.2363013254264037, 'random_strength': 1, 'bagging_temperature': 3, 'max_bin': 5, 'grow_policy': 'Depthwise', 'min_data_in_leaf': 1, 'max_depth': 2, 'l2_leaf_reg': 13.572949631175735, 'one_hot_max_size': 12, 'auto_class_weights': 'SqrtBalanced'}. Best is trial 53 with value: 0.8657734887033441.\u001b[0m\n"
     ]
    },
    {
     "name": "stdout",
     "output_type": "stream",
     "text": [
      "\n",
      "bestTest = 0.4291680064\n",
      "bestIteration = 97\n",
      "\n",
      "Training on fold [0/5]\n"
     ]
    },
    {
     "name": "stderr",
     "output_type": "stream",
     "text": [
      "C:\\Users\\jvrdo\\anaconda3\\lib\\site-packages\\optuna\\distributions.py:560: UserWarning: The distribution is specified by [1, 10] and step=20, but the range is not divisible by `step`. It will be replaced by [1, 1].\n",
      "  warnings.warn(\n",
      "C:\\Users\\jvrdo\\anaconda3\\lib\\site-packages\\optuna\\distributions.py:560: UserWarning: The distribution is specified by [2, 10] and step=15, but the range is not divisible by `step`. It will be replaced by [2, 2].\n",
      "  warnings.warn(\n"
     ]
    },
    {
     "name": "stdout",
     "output_type": "stream",
     "text": [
      "\n",
      "bestTest = 0.4294621641\n",
      "bestIteration = 89\n",
      "\n",
      "Training on fold [1/5]\n",
      "\n",
      "bestTest = 0.4197157397\n",
      "bestIteration = 144\n",
      "\n",
      "Training on fold [2/5]\n",
      "\n",
      "bestTest = 0.4286551181\n",
      "bestIteration = 181\n",
      "\n",
      "Training on fold [3/5]\n",
      "\n",
      "bestTest = 0.4269941982\n",
      "bestIteration = 85\n",
      "\n",
      "Training on fold [4/5]\n"
     ]
    },
    {
     "name": "stderr",
     "output_type": "stream",
     "text": [
      "\u001b[32m[I 2022-07-16 15:51:51,221]\u001b[0m Trial 60 finished with value: 0.8639797068355397 and parameters: {'iterations': 1000, 'learning_rate': 0.21776740715725126, 'random_strength': 2, 'bagging_temperature': 7, 'max_bin': 20, 'grow_policy': 'Depthwise', 'min_data_in_leaf': 1, 'max_depth': 2, 'l2_leaf_reg': 4.607758880414898, 'one_hot_max_size': 1024, 'auto_class_weights': 'SqrtBalanced'}. Best is trial 53 with value: 0.8657734887033441.\u001b[0m\n"
     ]
    },
    {
     "name": "stdout",
     "output_type": "stream",
     "text": [
      "\n",
      "bestTest = 0.4301181583\n",
      "bestIteration = 141\n",
      "\n",
      "Training on fold [0/5]\n"
     ]
    },
    {
     "name": "stderr",
     "output_type": "stream",
     "text": [
      "C:\\Users\\jvrdo\\anaconda3\\lib\\site-packages\\optuna\\distributions.py:560: UserWarning: The distribution is specified by [1, 10] and step=20, but the range is not divisible by `step`. It will be replaced by [1, 1].\n",
      "  warnings.warn(\n",
      "C:\\Users\\jvrdo\\anaconda3\\lib\\site-packages\\optuna\\distributions.py:560: UserWarning: The distribution is specified by [2, 10] and step=15, but the range is not divisible by `step`. It will be replaced by [2, 2].\n",
      "  warnings.warn(\n"
     ]
    },
    {
     "name": "stdout",
     "output_type": "stream",
     "text": [
      "\n",
      "bestTest = 0.4257957561\n",
      "bestIteration = 148\n",
      "\n",
      "Training on fold [1/5]\n",
      "\n",
      "bestTest = 0.419869798\n",
      "bestIteration = 160\n",
      "\n",
      "Training on fold [2/5]\n",
      "\n",
      "bestTest = 0.4257038701\n",
      "bestIteration = 323\n",
      "\n",
      "Training on fold [3/5]\n",
      "\n",
      "bestTest = 0.4262910108\n",
      "bestIteration = 124\n",
      "\n",
      "Training on fold [4/5]\n"
     ]
    },
    {
     "name": "stderr",
     "output_type": "stream",
     "text": [
      "\u001b[32m[I 2022-07-16 15:52:07,288]\u001b[0m Trial 61 finished with value: 0.8653474524133232 and parameters: {'iterations': 700, 'learning_rate': 0.20680709042352496, 'random_strength': 1, 'bagging_temperature': 10, 'max_bin': 20, 'grow_policy': 'SymmetricTree', 'min_data_in_leaf': 1, 'max_depth': 2, 'l2_leaf_reg': 33.79709648686925, 'one_hot_max_size': 12, 'auto_class_weights': 'SqrtBalanced'}. Best is trial 53 with value: 0.8657734887033441.\u001b[0m\n"
     ]
    },
    {
     "name": "stdout",
     "output_type": "stream",
     "text": [
      "\n",
      "bestTest = 0.4299043205\n",
      "bestIteration = 136\n",
      "\n",
      "Training on fold [0/5]\n"
     ]
    },
    {
     "name": "stderr",
     "output_type": "stream",
     "text": [
      "C:\\Users\\jvrdo\\anaconda3\\lib\\site-packages\\optuna\\distributions.py:560: UserWarning: The distribution is specified by [1, 10] and step=20, but the range is not divisible by `step`. It will be replaced by [1, 1].\n",
      "  warnings.warn(\n",
      "C:\\Users\\jvrdo\\anaconda3\\lib\\site-packages\\optuna\\distributions.py:560: UserWarning: The distribution is specified by [2, 10] and step=15, but the range is not divisible by `step`. It will be replaced by [2, 2].\n",
      "  warnings.warn(\n"
     ]
    },
    {
     "name": "stdout",
     "output_type": "stream",
     "text": [
      "\n",
      "bestTest = 0.426279948\n",
      "bestIteration = 161\n",
      "\n",
      "Training on fold [1/5]\n",
      "\n",
      "bestTest = 0.4217253436\n",
      "bestIteration = 121\n",
      "\n",
      "Training on fold [2/5]\n",
      "\n",
      "bestTest = 0.4299027978\n",
      "bestIteration = 189\n",
      "\n",
      "Training on fold [3/5]\n",
      "\n",
      "bestTest = 0.425153147\n",
      "bestIteration = 150\n",
      "\n",
      "Training on fold [4/5]\n"
     ]
    },
    {
     "name": "stderr",
     "output_type": "stream",
     "text": [
      "\u001b[32m[I 2022-07-16 15:52:19,709]\u001b[0m Trial 62 finished with value: 0.8642551896883571 and parameters: {'iterations': 700, 'learning_rate': 0.19122228952541245, 'random_strength': 1, 'bagging_temperature': 10, 'max_bin': 20, 'grow_policy': 'SymmetricTree', 'min_data_in_leaf': 1, 'max_depth': 2, 'l2_leaf_reg': 37.55912350455491, 'one_hot_max_size': 12, 'auto_class_weights': 'SqrtBalanced'}. Best is trial 53 with value: 0.8657734887033441.\u001b[0m\n"
     ]
    },
    {
     "name": "stdout",
     "output_type": "stream",
     "text": [
      "\n",
      "bestTest = 0.4323903053\n",
      "bestIteration = 105\n",
      "\n",
      "Training on fold [0/5]\n"
     ]
    },
    {
     "name": "stderr",
     "output_type": "stream",
     "text": [
      "C:\\Users\\jvrdo\\anaconda3\\lib\\site-packages\\optuna\\distributions.py:560: UserWarning: The distribution is specified by [1, 10] and step=20, but the range is not divisible by `step`. It will be replaced by [1, 1].\n",
      "  warnings.warn(\n",
      "C:\\Users\\jvrdo\\anaconda3\\lib\\site-packages\\optuna\\distributions.py:560: UserWarning: The distribution is specified by [2, 10] and step=15, but the range is not divisible by `step`. It will be replaced by [2, 2].\n",
      "  warnings.warn(\n"
     ]
    },
    {
     "name": "stdout",
     "output_type": "stream",
     "text": [
      "\n",
      "bestTest = 0.4257916721\n",
      "bestIteration = 166\n",
      "\n",
      "Training on fold [1/5]\n",
      "\n",
      "bestTest = 0.4218754147\n",
      "bestIteration = 124\n",
      "\n",
      "Training on fold [2/5]\n",
      "\n",
      "bestTest = 0.4281431978\n",
      "bestIteration = 171\n",
      "\n",
      "Training on fold [3/5]\n",
      "\n",
      "bestTest = 0.4278237321\n",
      "bestIteration = 91\n",
      "\n",
      "Training on fold [4/5]\n"
     ]
    },
    {
     "name": "stderr",
     "output_type": "stream",
     "text": [
      "\u001b[32m[I 2022-07-16 15:52:33,140]\u001b[0m Trial 63 finished with value: 0.8646115569634771 and parameters: {'iterations': 300, 'learning_rate': 0.20927825218222573, 'random_strength': 1, 'bagging_temperature': 10, 'max_bin': 20, 'grow_policy': 'SymmetricTree', 'min_data_in_leaf': 1, 'max_depth': 2, 'l2_leaf_reg': 19.82477735984825, 'one_hot_max_size': 12, 'auto_class_weights': 'SqrtBalanced'}. Best is trial 53 with value: 0.8657734887033441.\u001b[0m\n"
     ]
    },
    {
     "name": "stdout",
     "output_type": "stream",
     "text": [
      "\n",
      "bestTest = 0.4300003358\n",
      "bestIteration = 151\n",
      "\n",
      "Training on fold [0/5]\n"
     ]
    },
    {
     "name": "stderr",
     "output_type": "stream",
     "text": [
      "C:\\Users\\jvrdo\\anaconda3\\lib\\site-packages\\optuna\\distributions.py:560: UserWarning: The distribution is specified by [1, 10] and step=20, but the range is not divisible by `step`. It will be replaced by [1, 1].\n",
      "  warnings.warn(\n",
      "C:\\Users\\jvrdo\\anaconda3\\lib\\site-packages\\optuna\\distributions.py:560: UserWarning: The distribution is specified by [2, 10] and step=15, but the range is not divisible by `step`. It will be replaced by [2, 2].\n",
      "  warnings.warn(\n"
     ]
    },
    {
     "name": "stdout",
     "output_type": "stream",
     "text": [
      "\n",
      "bestTest = 0.4253351798\n",
      "bestIteration = 145\n",
      "\n",
      "Training on fold [1/5]\n",
      "\n",
      "bestTest = 0.4212554618\n",
      "bestIteration = 163\n",
      "\n",
      "Training on fold [2/5]\n",
      "\n",
      "bestTest = 0.432007298\n",
      "bestIteration = 104\n",
      "\n",
      "Training on fold [3/5]\n",
      "\n",
      "bestTest = 0.4277784852\n",
      "bestIteration = 127\n",
      "\n",
      "Training on fold [4/5]\n"
     ]
    },
    {
     "name": "stderr",
     "output_type": "stream",
     "text": [
      "\u001b[32m[I 2022-07-16 15:52:45,314]\u001b[0m Trial 64 finished with value: 0.8640910653770358 and parameters: {'iterations': 500, 'learning_rate': 0.23031506995791637, 'random_strength': 2, 'bagging_temperature': 6, 'max_bin': 20, 'grow_policy': 'SymmetricTree', 'min_data_in_leaf': 1, 'max_depth': 2, 'l2_leaf_reg': 12.940371937141967, 'one_hot_max_size': 12, 'auto_class_weights': 'SqrtBalanced'}. Best is trial 53 with value: 0.8657734887033441.\u001b[0m\n"
     ]
    },
    {
     "name": "stdout",
     "output_type": "stream",
     "text": [
      "\n",
      "bestTest = 0.4288077835\n",
      "bestIteration = 148\n",
      "\n",
      "Training on fold [0/5]\n"
     ]
    },
    {
     "name": "stderr",
     "output_type": "stream",
     "text": [
      "C:\\Users\\jvrdo\\anaconda3\\lib\\site-packages\\optuna\\distributions.py:560: UserWarning: The distribution is specified by [1, 10] and step=20, but the range is not divisible by `step`. It will be replaced by [1, 1].\n",
      "  warnings.warn(\n",
      "C:\\Users\\jvrdo\\anaconda3\\lib\\site-packages\\optuna\\distributions.py:560: UserWarning: The distribution is specified by [2, 10] and step=15, but the range is not divisible by `step`. It will be replaced by [2, 2].\n",
      "  warnings.warn(\n"
     ]
    },
    {
     "name": "stdout",
     "output_type": "stream",
     "text": [
      "\n",
      "bestTest = 0.427404326\n",
      "bestIteration = 176\n",
      "\n",
      "Training on fold [1/5]\n",
      "\n",
      "bestTest = 0.4200447168\n",
      "bestIteration = 236\n",
      "\n",
      "Training on fold [2/5]\n",
      "\n",
      "bestTest = 0.4258989383\n",
      "bestIteration = 261\n",
      "\n",
      "Training on fold [3/5]\n",
      "\n",
      "bestTest = 0.4259356949\n",
      "bestIteration = 148\n",
      "\n",
      "Training on fold [4/5]\n"
     ]
    },
    {
     "name": "stderr",
     "output_type": "stream",
     "text": [
      "\u001b[32m[I 2022-07-16 15:53:02,841]\u001b[0m Trial 65 finished with value: 0.8650476412131706 and parameters: {'iterations': 1300, 'learning_rate': 0.1775732260390827, 'random_strength': 1, 'bagging_temperature': 10, 'max_bin': 4, 'grow_policy': 'SymmetricTree', 'min_data_in_leaf': 1, 'max_depth': 2, 'l2_leaf_reg': 4.011614627277099, 'one_hot_max_size': 12, 'auto_class_weights': 'SqrtBalanced'}. Best is trial 53 with value: 0.8657734887033441.\u001b[0m\n"
     ]
    },
    {
     "name": "stdout",
     "output_type": "stream",
     "text": [
      "\n",
      "bestTest = 0.43001478\n",
      "bestIteration = 212\n",
      "\n",
      "Training on fold [0/5]\n"
     ]
    },
    {
     "name": "stderr",
     "output_type": "stream",
     "text": [
      "C:\\Users\\jvrdo\\anaconda3\\lib\\site-packages\\optuna\\distributions.py:560: UserWarning: The distribution is specified by [1, 10] and step=20, but the range is not divisible by `step`. It will be replaced by [1, 1].\n",
      "  warnings.warn(\n",
      "C:\\Users\\jvrdo\\anaconda3\\lib\\site-packages\\optuna\\distributions.py:560: UserWarning: The distribution is specified by [2, 10] and step=15, but the range is not divisible by `step`. It will be replaced by [2, 2].\n",
      "  warnings.warn(\n"
     ]
    },
    {
     "name": "stdout",
     "output_type": "stream",
     "text": [
      "\n",
      "bestTest = 0.4287083141\n",
      "bestIteration = 152\n",
      "\n",
      "Training on fold [1/5]\n",
      "\n",
      "bestTest = 0.421836106\n",
      "bestIteration = 190\n",
      "\n",
      "Training on fold [2/5]\n",
      "\n",
      "bestTest = 0.4340257053\n",
      "bestIteration = 126\n",
      "\n",
      "Training on fold [3/5]\n",
      "\n",
      "bestTest = 0.4263479262\n",
      "bestIteration = 133\n",
      "\n",
      "Training on fold [4/5]\n"
     ]
    },
    {
     "name": "stderr",
     "output_type": "stream",
     "text": [
      "\u001b[32m[I 2022-07-16 15:53:05,181]\u001b[0m Trial 66 finished with value: 0.8628181689718444 and parameters: {'iterations': 700, 'learning_rate': 0.20576823750782414, 'random_strength': 7, 'bagging_temperature': 9, 'max_bin': 20, 'grow_policy': 'Depthwise', 'min_data_in_leaf': 1, 'max_depth': 2, 'l2_leaf_reg': 94.5210420867664, 'one_hot_max_size': 100, 'auto_class_weights': 'SqrtBalanced'}. Best is trial 53 with value: 0.8657734887033441.\u001b[0m\n"
     ]
    },
    {
     "name": "stdout",
     "output_type": "stream",
     "text": [
      "\n",
      "bestTest = 0.4301856276\n",
      "bestIteration = 151\n",
      "\n",
      "Training on fold [0/5]\n"
     ]
    },
    {
     "name": "stderr",
     "output_type": "stream",
     "text": [
      "C:\\Users\\jvrdo\\anaconda3\\lib\\site-packages\\optuna\\distributions.py:560: UserWarning: The distribution is specified by [1, 10] and step=20, but the range is not divisible by `step`. It will be replaced by [1, 1].\n",
      "  warnings.warn(\n",
      "C:\\Users\\jvrdo\\anaconda3\\lib\\site-packages\\optuna\\distributions.py:560: UserWarning: The distribution is specified by [2, 10] and step=15, but the range is not divisible by `step`. It will be replaced by [2, 2].\n",
      "  warnings.warn(\n"
     ]
    },
    {
     "name": "stdout",
     "output_type": "stream",
     "text": [
      "\n",
      "bestTest = 0.4265549023\n",
      "bestIteration = 128\n",
      "\n",
      "Training on fold [1/5]\n",
      "\n",
      "bestTest = 0.4195233576\n",
      "bestIteration = 145\n",
      "\n",
      "Training on fold [2/5]\n",
      "\n",
      "bestTest = 0.4285311187\n",
      "bestIteration = 168\n",
      "\n",
      "Training on fold [3/5]\n",
      "\n",
      "bestTest = 0.4255043375\n",
      "bestIteration = 110\n",
      "\n",
      "Training on fold [4/5]\n"
     ]
    },
    {
     "name": "stderr",
     "output_type": "stream",
     "text": [
      "\u001b[32m[I 2022-07-16 15:53:16,705]\u001b[0m Trial 67 finished with value: 0.8646273609461692 and parameters: {'iterations': 1000, 'learning_rate': 0.2218464878585374, 'random_strength': 2, 'bagging_temperature': 10, 'max_bin': 20, 'grow_policy': 'Depthwise', 'min_data_in_leaf': 1, 'max_depth': 2, 'l2_leaf_reg': 1.3683972185063058, 'one_hot_max_size': 12, 'auto_class_weights': 'SqrtBalanced'}. Best is trial 53 with value: 0.8657734887033441.\u001b[0m\n"
     ]
    },
    {
     "name": "stdout",
     "output_type": "stream",
     "text": [
      "\n",
      "bestTest = 0.4312688176\n",
      "bestIteration = 88\n",
      "\n",
      "Training on fold [0/5]\n"
     ]
    },
    {
     "name": "stderr",
     "output_type": "stream",
     "text": [
      "C:\\Users\\jvrdo\\anaconda3\\lib\\site-packages\\optuna\\distributions.py:560: UserWarning: The distribution is specified by [1, 10] and step=20, but the range is not divisible by `step`. It will be replaced by [1, 1].\n",
      "  warnings.warn(\n",
      "C:\\Users\\jvrdo\\anaconda3\\lib\\site-packages\\optuna\\distributions.py:560: UserWarning: The distribution is specified by [2, 10] and step=15, but the range is not divisible by `step`. It will be replaced by [2, 2].\n",
      "  warnings.warn(\n"
     ]
    },
    {
     "name": "stdout",
     "output_type": "stream",
     "text": [
      "\n",
      "bestTest = 0.4596674646\n",
      "bestIteration = 214\n",
      "\n",
      "Training on fold [1/5]\n",
      "\n",
      "bestTest = 0.4539179006\n",
      "bestIteration = 158\n",
      "\n",
      "Training on fold [2/5]\n",
      "\n",
      "bestTest = 0.4594928165\n",
      "bestIteration = 247\n",
      "\n",
      "Training on fold [3/5]\n",
      "\n",
      "bestTest = 0.4615320583\n",
      "bestIteration = 164\n",
      "\n",
      "Training on fold [4/5]\n"
     ]
    },
    {
     "name": "stderr",
     "output_type": "stream",
     "text": [
      "\u001b[32m[I 2022-07-16 15:53:36,756]\u001b[0m Trial 68 finished with value: 0.8648723149751316 and parameters: {'iterations': 1200, 'learning_rate': 0.16176528382238753, 'random_strength': 1, 'bagging_temperature': 9, 'max_bin': 30, 'grow_policy': 'SymmetricTree', 'min_data_in_leaf': 1, 'max_depth': 2, 'l2_leaf_reg': 9.28945084769313, 'one_hot_max_size': 10, 'auto_class_weights': 'Balanced'}. Best is trial 53 with value: 0.8657734887033441.\u001b[0m\n"
     ]
    },
    {
     "name": "stdout",
     "output_type": "stream",
     "text": [
      "\n",
      "bestTest = 0.4603618198\n",
      "bestIteration = 223\n",
      "\n",
      "Training on fold [0/5]\n"
     ]
    },
    {
     "name": "stderr",
     "output_type": "stream",
     "text": [
      "C:\\Users\\jvrdo\\anaconda3\\lib\\site-packages\\optuna\\distributions.py:560: UserWarning: The distribution is specified by [1, 10] and step=20, but the range is not divisible by `step`. It will be replaced by [1, 1].\n",
      "  warnings.warn(\n",
      "C:\\Users\\jvrdo\\anaconda3\\lib\\site-packages\\optuna\\distributions.py:560: UserWarning: The distribution is specified by [2, 10] and step=15, but the range is not divisible by `step`. It will be replaced by [2, 2].\n",
      "  warnings.warn(\n"
     ]
    },
    {
     "name": "stdout",
     "output_type": "stream",
     "text": [
      "\n",
      "bestTest = 0.4272902499\n",
      "bestIteration = 127\n",
      "\n",
      "Training on fold [1/5]\n",
      "\n",
      "bestTest = 0.4221135361\n",
      "bestIteration = 108\n",
      "\n",
      "Training on fold [2/5]\n",
      "\n",
      "bestTest = 0.4264054729\n",
      "bestIteration = 196\n",
      "\n",
      "Training on fold [3/5]\n",
      "\n",
      "bestTest = 0.4251000114\n",
      "bestIteration = 108\n",
      "\n",
      "Training on fold [4/5]\n"
     ]
    },
    {
     "name": "stderr",
     "output_type": "stream",
     "text": [
      "\u001b[32m[I 2022-07-16 15:53:49,404]\u001b[0m Trial 69 finished with value: 0.8645280427885963 and parameters: {'iterations': 1000, 'learning_rate': 0.25666766507568417, 'random_strength': 3, 'bagging_temperature': 8, 'max_bin': 8, 'grow_policy': 'Depthwise', 'min_data_in_leaf': 1, 'max_depth': 2, 'l2_leaf_reg': 34.433915951141124, 'one_hot_max_size': 12, 'auto_class_weights': 'SqrtBalanced'}. Best is trial 53 with value: 0.8657734887033441.\u001b[0m\n"
     ]
    },
    {
     "name": "stdout",
     "output_type": "stream",
     "text": [
      "\n",
      "bestTest = 0.4289644313\n",
      "bestIteration = 115\n",
      "\n",
      "Training on fold [0/5]\n"
     ]
    },
    {
     "name": "stderr",
     "output_type": "stream",
     "text": [
      "C:\\Users\\jvrdo\\anaconda3\\lib\\site-packages\\optuna\\distributions.py:560: UserWarning: The distribution is specified by [1, 10] and step=20, but the range is not divisible by `step`. It will be replaced by [1, 1].\n",
      "  warnings.warn(\n",
      "C:\\Users\\jvrdo\\anaconda3\\lib\\site-packages\\optuna\\distributions.py:560: UserWarning: The distribution is specified by [2, 10] and step=15, but the range is not divisible by `step`. It will be replaced by [2, 2].\n",
      "  warnings.warn(\n"
     ]
    },
    {
     "name": "stdout",
     "output_type": "stream",
     "text": [
      "\n",
      "bestTest = 0.4243379477\n",
      "bestIteration = 105\n",
      "\n",
      "Training on fold [1/5]\n",
      "\n",
      "bestTest = 0.4239808425\n",
      "bestIteration = 92\n",
      "\n",
      "Training on fold [2/5]\n",
      "\n",
      "bestTest = 0.4262689794\n",
      "bestIteration = 126\n",
      "\n",
      "Training on fold [3/5]\n",
      "\n",
      "bestTest = 0.4259155852\n",
      "bestIteration = 79\n",
      "\n",
      "Training on fold [4/5]\n"
     ]
    },
    {
     "name": "stderr",
     "output_type": "stream",
     "text": [
      "\u001b[32m[I 2022-07-16 15:53:58,762]\u001b[0m Trial 70 finished with value: 0.8651996785723274 and parameters: {'iterations': 1000, 'learning_rate': 0.2678194922258008, 'random_strength': 1, 'bagging_temperature': 0, 'max_bin': 20, 'grow_policy': 'Depthwise', 'min_data_in_leaf': 1, 'max_depth': 2, 'l2_leaf_reg': 0.5761796937122583, 'one_hot_max_size': 12, 'auto_class_weights': 'SqrtBalanced'}. Best is trial 53 with value: 0.8657734887033441.\u001b[0m\n"
     ]
    },
    {
     "name": "stdout",
     "output_type": "stream",
     "text": [
      "\n",
      "bestTest = 0.4270244658\n",
      "bestIteration = 78\n",
      "\n",
      "Training on fold [0/5]\n"
     ]
    },
    {
     "name": "stderr",
     "output_type": "stream",
     "text": [
      "C:\\Users\\jvrdo\\anaconda3\\lib\\site-packages\\optuna\\distributions.py:560: UserWarning: The distribution is specified by [1, 10] and step=20, but the range is not divisible by `step`. It will be replaced by [1, 1].\n",
      "  warnings.warn(\n",
      "C:\\Users\\jvrdo\\anaconda3\\lib\\site-packages\\optuna\\distributions.py:560: UserWarning: The distribution is specified by [2, 10] and step=15, but the range is not divisible by `step`. It will be replaced by [2, 2].\n",
      "  warnings.warn(\n"
     ]
    },
    {
     "name": "stdout",
     "output_type": "stream",
     "text": [
      "\n",
      "bestTest = 0.4248545455\n",
      "bestIteration = 282\n",
      "\n",
      "Training on fold [1/5]\n",
      "\n",
      "bestTest = 0.420748841\n",
      "bestIteration = 232\n",
      "\n",
      "Training on fold [2/5]\n",
      "\n",
      "bestTest = 0.425885876\n",
      "bestIteration = 402\n",
      "\n",
      "Training on fold [3/5]\n",
      "\n",
      "bestTest = 0.4256879815\n",
      "bestIteration = 248\n",
      "\n",
      "Training on fold [4/5]\n"
     ]
    },
    {
     "name": "stderr",
     "output_type": "stream",
     "text": [
      "\u001b[32m[I 2022-07-16 15:54:31,973]\u001b[0m Trial 71 finished with value: 0.8658925677860214 and parameters: {'iterations': 700, 'learning_rate': 0.08918697834789388, 'random_strength': 1, 'bagging_temperature': 10, 'max_bin': 20, 'grow_policy': 'Lossguide', 'min_data_in_leaf': 1, 'max_depth': 2, 'l2_leaf_reg': 0.0001594541665184366, 'one_hot_max_size': 12, 'auto_class_weights': 'SqrtBalanced'}. Best is trial 71 with value: 0.8658925677860214.\u001b[0m\n"
     ]
    },
    {
     "name": "stdout",
     "output_type": "stream",
     "text": [
      "\n",
      "bestTest = 0.427734573\n",
      "bestIteration = 258\n",
      "\n",
      "Training on fold [0/5]\n"
     ]
    },
    {
     "name": "stderr",
     "output_type": "stream",
     "text": [
      "C:\\Users\\jvrdo\\anaconda3\\lib\\site-packages\\optuna\\distributions.py:560: UserWarning: The distribution is specified by [1, 10] and step=20, but the range is not divisible by `step`. It will be replaced by [1, 1].\n",
      "  warnings.warn(\n",
      "C:\\Users\\jvrdo\\anaconda3\\lib\\site-packages\\optuna\\distributions.py:560: UserWarning: The distribution is specified by [2, 10] and step=15, but the range is not divisible by `step`. It will be replaced by [2, 2].\n",
      "  warnings.warn(\n"
     ]
    },
    {
     "name": "stdout",
     "output_type": "stream",
     "text": [
      "\n",
      "bestTest = 0.4368522948\n",
      "bestIteration = 99\n",
      "\n",
      "Training on fold [1/5]\n",
      "\n",
      "bestTest = 0.435256852\n",
      "bestIteration = 99\n",
      "\n",
      "Training on fold [2/5]\n",
      "\n",
      "bestTest = 0.4437094745\n",
      "bestIteration = 99\n",
      "\n",
      "Training on fold [3/5]\n",
      "\n",
      "bestTest = 0.4349567187\n",
      "bestIteration = 99\n",
      "\n",
      "Training on fold [4/5]\n"
     ]
    },
    {
     "name": "stderr",
     "output_type": "stream",
     "text": [
      "\u001b[32m[I 2022-07-16 15:54:43,420]\u001b[0m Trial 72 finished with value: 0.8584805116415504 and parameters: {'iterations': 100, 'learning_rate': 0.08437204407687855, 'random_strength': 1, 'bagging_temperature': 10, 'max_bin': 20, 'grow_policy': 'Lossguide', 'min_data_in_leaf': 1, 'max_depth': 2, 'l2_leaf_reg': 0.00011351279849359181, 'one_hot_max_size': 12, 'auto_class_weights': 'SqrtBalanced'}. Best is trial 71 with value: 0.8658925677860214.\u001b[0m\n"
     ]
    },
    {
     "name": "stdout",
     "output_type": "stream",
     "text": [
      "\n",
      "bestTest = 0.4422267885\n",
      "bestIteration = 99\n",
      "\n",
      "Training on fold [0/5]\n"
     ]
    },
    {
     "name": "stderr",
     "output_type": "stream",
     "text": [
      "C:\\Users\\jvrdo\\anaconda3\\lib\\site-packages\\optuna\\distributions.py:560: UserWarning: The distribution is specified by [1, 10] and step=20, but the range is not divisible by `step`. It will be replaced by [1, 1].\n",
      "  warnings.warn(\n",
      "C:\\Users\\jvrdo\\anaconda3\\lib\\site-packages\\optuna\\distributions.py:560: UserWarning: The distribution is specified by [2, 10] and step=15, but the range is not divisible by `step`. It will be replaced by [2, 2].\n",
      "  warnings.warn(\n"
     ]
    },
    {
     "name": "stdout",
     "output_type": "stream",
     "text": [
      "\n",
      "bestTest = 0.4254962466\n",
      "bestIteration = 269\n",
      "\n",
      "Training on fold [1/5]\n",
      "\n",
      "bestTest = 0.4197082766\n",
      "bestIteration = 228\n",
      "\n",
      "Training on fold [2/5]\n",
      "\n",
      "bestTest = 0.4296549004\n",
      "bestIteration = 217\n",
      "\n",
      "Training on fold [3/5]\n",
      "\n",
      "bestTest = 0.4251031765\n",
      "bestIteration = 191\n",
      "\n",
      "Training on fold [4/5]\n"
     ]
    },
    {
     "name": "stderr",
     "output_type": "stream",
     "text": [
      "\u001b[32m[I 2022-07-16 15:55:03,512]\u001b[0m Trial 73 finished with value: 0.8654716657109909 and parameters: {'iterations': 700, 'learning_rate': 0.11756078626387771, 'random_strength': 2, 'bagging_temperature': 10, 'max_bin': 20, 'grow_policy': 'Depthwise', 'min_data_in_leaf': 1, 'max_depth': 2, 'l2_leaf_reg': 0.00047946905963092737, 'one_hot_max_size': 12, 'auto_class_weights': 'SqrtBalanced'}. Best is trial 71 with value: 0.8658925677860214.\u001b[0m\n"
     ]
    },
    {
     "name": "stdout",
     "output_type": "stream",
     "text": [
      "\n",
      "bestTest = 0.4272071271\n",
      "bestIteration = 226\n",
      "\n",
      "Training on fold [0/5]\n"
     ]
    },
    {
     "name": "stderr",
     "output_type": "stream",
     "text": [
      "C:\\Users\\jvrdo\\anaconda3\\lib\\site-packages\\optuna\\distributions.py:560: UserWarning: The distribution is specified by [1, 10] and step=20, but the range is not divisible by `step`. It will be replaced by [1, 1].\n",
      "  warnings.warn(\n",
      "C:\\Users\\jvrdo\\anaconda3\\lib\\site-packages\\optuna\\distributions.py:560: UserWarning: The distribution is specified by [2, 10] and step=15, but the range is not divisible by `step`. It will be replaced by [2, 2].\n",
      "  warnings.warn(\n"
     ]
    },
    {
     "name": "stdout",
     "output_type": "stream",
     "text": [
      "\n",
      "bestTest = 0.4274244066\n",
      "bestIteration = 193\n",
      "\n",
      "Training on fold [1/5]\n",
      "\n",
      "bestTest = 0.4200781354\n",
      "bestIteration = 223\n",
      "\n",
      "Training on fold [2/5]\n",
      "\n",
      "bestTest = 0.4259967641\n",
      "bestIteration = 344\n",
      "\n",
      "Training on fold [3/5]\n",
      "\n",
      "bestTest = 0.4245963861\n",
      "bestIteration = 228\n",
      "\n",
      "Training on fold [4/5]\n"
     ]
    },
    {
     "name": "stderr",
     "output_type": "stream",
     "text": [
      "\u001b[32m[I 2022-07-16 15:55:23,284]\u001b[0m Trial 74 finished with value: 0.8653496374047135 and parameters: {'iterations': 700, 'learning_rate': 0.11387877336490301, 'random_strength': 2, 'bagging_temperature': 9, 'max_bin': 20, 'grow_policy': 'Depthwise', 'min_data_in_leaf': 1, 'max_depth': 2, 'l2_leaf_reg': 0.00022607333753976142, 'one_hot_max_size': 12, 'auto_class_weights': 'SqrtBalanced'}. Best is trial 71 with value: 0.8658925677860214.\u001b[0m\n"
     ]
    },
    {
     "name": "stdout",
     "output_type": "stream",
     "text": [
      "\n",
      "bestTest = 0.4277233969\n",
      "bestIteration = 233\n",
      "\n",
      "Training on fold [0/5]\n"
     ]
    },
    {
     "name": "stderr",
     "output_type": "stream",
     "text": [
      "C:\\Users\\jvrdo\\anaconda3\\lib\\site-packages\\optuna\\distributions.py:560: UserWarning: The distribution is specified by [1, 10] and step=20, but the range is not divisible by `step`. It will be replaced by [1, 1].\n",
      "  warnings.warn(\n",
      "C:\\Users\\jvrdo\\anaconda3\\lib\\site-packages\\optuna\\distributions.py:560: UserWarning: The distribution is specified by [2, 10] and step=15, but the range is not divisible by `step`. It will be replaced by [2, 2].\n",
      "  warnings.warn(\n"
     ]
    },
    {
     "name": "stdout",
     "output_type": "stream",
     "text": [
      "\n",
      "bestTest = 0.4246149346\n",
      "bestIteration = 588\n",
      "\n",
      "Training on fold [1/5]\n",
      "\n",
      "bestTest = 0.4214150125\n",
      "bestIteration = 587\n",
      "\n",
      "Training on fold [2/5]\n",
      "\n",
      "bestTest = 0.4307303711\n",
      "bestIteration = 502\n",
      "\n",
      "Training on fold [3/5]\n",
      "\n",
      "bestTest = 0.4260264288\n",
      "bestIteration = 448\n",
      "\n",
      "Training on fold [4/5]\n"
     ]
    },
    {
     "name": "stderr",
     "output_type": "stream",
     "text": [
      "\u001b[32m[I 2022-07-16 15:56:03,465]\u001b[0m Trial 75 finished with value: 0.8650026324906628 and parameters: {'iterations': 700, 'learning_rate': 0.0430785664815767, 'random_strength': 1, 'bagging_temperature': 10, 'max_bin': 10, 'grow_policy': 'Depthwise', 'min_data_in_leaf': 1, 'max_depth': 2, 'l2_leaf_reg': 4.9235438771818844e-06, 'one_hot_max_size': 5, 'auto_class_weights': 'SqrtBalanced'}. Best is trial 71 with value: 0.8658925677860214.\u001b[0m\n"
     ]
    },
    {
     "name": "stdout",
     "output_type": "stream",
     "text": [
      "\n",
      "bestTest = 0.4285136541\n",
      "bestIteration = 553\n",
      "\n",
      "Training on fold [0/5]\n"
     ]
    },
    {
     "name": "stderr",
     "output_type": "stream",
     "text": [
      "C:\\Users\\jvrdo\\anaconda3\\lib\\site-packages\\optuna\\distributions.py:560: UserWarning: The distribution is specified by [1, 10] and step=20, but the range is not divisible by `step`. It will be replaced by [1, 1].\n",
      "  warnings.warn(\n",
      "C:\\Users\\jvrdo\\anaconda3\\lib\\site-packages\\optuna\\distributions.py:560: UserWarning: The distribution is specified by [2, 10] and step=15, but the range is not divisible by `step`. It will be replaced by [2, 2].\n",
      "  warnings.warn(\n"
     ]
    },
    {
     "name": "stdout",
     "output_type": "stream",
     "text": [
      "\n",
      "bestTest = 0.4278785724\n",
      "bestIteration = 184\n",
      "\n",
      "Training on fold [1/5]\n",
      "\n",
      "bestTest = 0.4191570239\n",
      "bestIteration = 210\n",
      "\n",
      "Training on fold [2/5]\n",
      "\n",
      "bestTest = 0.4296332211\n",
      "bestIteration = 192\n",
      "\n",
      "Training on fold [3/5]\n",
      "\n",
      "bestTest = 0.4264990688\n",
      "bestIteration = 169\n",
      "\n",
      "Training on fold [4/5]\n"
     ]
    },
    {
     "name": "stderr",
     "output_type": "stream",
     "text": [
      "\u001b[32m[I 2022-07-16 15:56:18,887]\u001b[0m Trial 76 finished with value: 0.8649168158640823 and parameters: {'iterations': 700, 'learning_rate': 0.12210539723139524, 'random_strength': 2, 'bagging_temperature': 9, 'max_bin': 20, 'grow_policy': 'Depthwise', 'min_data_in_leaf': 1, 'max_depth': 2, 'l2_leaf_reg': 0.0008823507553502513, 'one_hot_max_size': 12, 'auto_class_weights': 'SqrtBalanced'}. Best is trial 71 with value: 0.8658925677860214.\u001b[0m\n"
     ]
    },
    {
     "name": "stdout",
     "output_type": "stream",
     "text": [
      "\n",
      "bestTest = 0.4269954376\n",
      "bestIteration = 242\n",
      "\n",
      "Training on fold [0/5]\n"
     ]
    },
    {
     "name": "stderr",
     "output_type": "stream",
     "text": [
      "C:\\Users\\jvrdo\\anaconda3\\lib\\site-packages\\optuna\\distributions.py:560: UserWarning: The distribution is specified by [1, 10] and step=20, but the range is not divisible by `step`. It will be replaced by [1, 1].\n",
      "  warnings.warn(\n",
      "C:\\Users\\jvrdo\\anaconda3\\lib\\site-packages\\optuna\\distributions.py:560: UserWarning: The distribution is specified by [2, 10] and step=15, but the range is not divisible by `step`. It will be replaced by [2, 2].\n",
      "  warnings.warn(\n"
     ]
    },
    {
     "name": "stdout",
     "output_type": "stream",
     "text": [
      "\n",
      "bestTest = 0.4257974647\n",
      "bestIteration = 342\n",
      "\n",
      "Training on fold [1/5]\n",
      "\n",
      "bestTest = 0.4221614762\n",
      "bestIteration = 278\n",
      "\n",
      "Training on fold [2/5]\n",
      "\n",
      "bestTest = 0.4284633868\n",
      "bestIteration = 363\n",
      "\n",
      "Training on fold [3/5]\n",
      "\n",
      "bestTest = 0.4253812446\n",
      "bestIteration = 238\n",
      "\n",
      "Training on fold [4/5]\n"
     ]
    },
    {
     "name": "stderr",
     "output_type": "stream",
     "text": [
      "\u001b[32m[I 2022-07-16 15:56:23,221]\u001b[0m Trial 77 finished with value: 0.8650586632988773 and parameters: {'iterations': 1000, 'learning_rate': 0.08046664288151101, 'random_strength': 1, 'bagging_temperature': 10, 'max_bin': 5, 'grow_policy': 'Depthwise', 'min_data_in_leaf': 1, 'max_depth': 2, 'l2_leaf_reg': 0.004305077561860689, 'one_hot_max_size': 500, 'auto_class_weights': 'SqrtBalanced'}. Best is trial 71 with value: 0.8658925677860214.\u001b[0m\n"
     ]
    },
    {
     "name": "stdout",
     "output_type": "stream",
     "text": [
      "\n",
      "bestTest = 0.4284877027\n",
      "bestIteration = 277\n",
      "\n",
      "Training on fold [0/5]\n"
     ]
    },
    {
     "name": "stderr",
     "output_type": "stream",
     "text": [
      "C:\\Users\\jvrdo\\anaconda3\\lib\\site-packages\\optuna\\distributions.py:560: UserWarning: The distribution is specified by [1, 10] and step=20, but the range is not divisible by `step`. It will be replaced by [1, 1].\n",
      "  warnings.warn(\n",
      "C:\\Users\\jvrdo\\anaconda3\\lib\\site-packages\\optuna\\distributions.py:560: UserWarning: The distribution is specified by [2, 10] and step=15, but the range is not divisible by `step`. It will be replaced by [2, 2].\n",
      "  warnings.warn(\n"
     ]
    },
    {
     "name": "stdout",
     "output_type": "stream",
     "text": [
      "\n",
      "bestTest = 0.4251566373\n",
      "bestIteration = 300\n",
      "\n",
      "Training on fold [1/5]\n",
      "\n",
      "bestTest = 0.4219275074\n",
      "bestIteration = 249\n",
      "\n",
      "Training on fold [2/5]\n",
      "\n",
      "bestTest = 0.4305249517\n",
      "bestIteration = 264\n",
      "\n",
      "Training on fold [3/5]\n",
      "\n",
      "bestTest = 0.4253374354\n",
      "bestIteration = 229\n",
      "\n",
      "Training on fold [4/5]\n"
     ]
    },
    {
     "name": "stderr",
     "output_type": "stream",
     "text": [
      "\u001b[32m[I 2022-07-16 15:56:42,990]\u001b[0m Trial 78 finished with value: 0.8650292744955616 and parameters: {'iterations': 1000, 'learning_rate': 0.09462759143210532, 'random_strength': 2, 'bagging_temperature': 9, 'max_bin': 20, 'grow_policy': 'Depthwise', 'min_data_in_leaf': 1, 'max_depth': 2, 'l2_leaf_reg': 5.451649226372916e-05, 'one_hot_max_size': 12, 'auto_class_weights': 'SqrtBalanced'}. Best is trial 71 with value: 0.8658925677860214.\u001b[0m\n"
     ]
    },
    {
     "name": "stdout",
     "output_type": "stream",
     "text": [
      "\n",
      "bestTest = 0.427918935\n",
      "bestIteration = 247\n",
      "\n",
      "Training on fold [0/5]\n"
     ]
    },
    {
     "name": "stderr",
     "output_type": "stream",
     "text": [
      "C:\\Users\\jvrdo\\anaconda3\\lib\\site-packages\\optuna\\distributions.py:560: UserWarning: The distribution is specified by [1, 10] and step=20, but the range is not divisible by `step`. It will be replaced by [1, 1].\n",
      "  warnings.warn(\n",
      "C:\\Users\\jvrdo\\anaconda3\\lib\\site-packages\\optuna\\distributions.py:560: UserWarning: The distribution is specified by [2, 10] and step=15, but the range is not divisible by `step`. It will be replaced by [2, 2].\n",
      "  warnings.warn(\n"
     ]
    },
    {
     "name": "stdout",
     "output_type": "stream",
     "text": [
      "\n",
      "bestTest = 0.4582122168\n",
      "bestIteration = 200\n",
      "\n",
      "Training on fold [1/5]\n",
      "\n",
      "bestTest = 0.4553245443\n",
      "bestIteration = 159\n",
      "\n",
      "Training on fold [2/5]\n",
      "\n",
      "bestTest = 0.4650122026\n",
      "bestIteration = 108\n",
      "\n",
      "Training on fold [3/5]\n",
      "\n",
      "bestTest = 0.4585075074\n",
      "bestIteration = 160\n",
      "\n",
      "Training on fold [4/5]\n"
     ]
    },
    {
     "name": "stderr",
     "output_type": "stream",
     "text": [
      "\u001b[32m[I 2022-07-16 15:57:02,965]\u001b[0m Trial 79 finished with value: 0.8636486759194172 and parameters: {'iterations': 1500, 'learning_rate': 0.14491073019472886, 'random_strength': 1, 'bagging_temperature': 8, 'max_bin': 4, 'grow_policy': 'Lossguide', 'min_data_in_leaf': 1, 'max_depth': 2, 'l2_leaf_reg': 3.2698765133309105e-05, 'one_hot_max_size': 12, 'auto_class_weights': 'Balanced'}. Best is trial 71 with value: 0.8658925677860214.\u001b[0m\n"
     ]
    },
    {
     "name": "stdout",
     "output_type": "stream",
     "text": [
      "\n",
      "bestTest = 0.4664230934\n",
      "bestIteration = 130\n",
      "\n",
      "Training on fold [0/5]\n"
     ]
    },
    {
     "name": "stderr",
     "output_type": "stream",
     "text": [
      "C:\\Users\\jvrdo\\anaconda3\\lib\\site-packages\\optuna\\distributions.py:560: UserWarning: The distribution is specified by [1, 10] and step=20, but the range is not divisible by `step`. It will be replaced by [1, 1].\n",
      "  warnings.warn(\n",
      "C:\\Users\\jvrdo\\anaconda3\\lib\\site-packages\\optuna\\distributions.py:560: UserWarning: The distribution is specified by [2, 10] and step=15, but the range is not divisible by `step`. It will be replaced by [2, 2].\n",
      "  warnings.warn(\n"
     ]
    },
    {
     "name": "stdout",
     "output_type": "stream",
     "text": [
      "\n",
      "bestTest = 0.4302460414\n",
      "bestIteration = 299\n",
      "\n",
      "Training on fold [1/5]\n",
      "\n",
      "bestTest = 0.4268571664\n",
      "bestIteration = 299\n",
      "\n",
      "Training on fold [2/5]\n",
      "\n",
      "bestTest = 0.4352160053\n",
      "bestIteration = 299\n",
      "\n",
      "Training on fold [3/5]\n",
      "\n",
      "bestTest = 0.42782233\n",
      "bestIteration = 298\n",
      "\n",
      "Training on fold [4/5]\n"
     ]
    },
    {
     "name": "stderr",
     "output_type": "stream",
     "text": [
      "\u001b[32m[I 2022-07-16 15:57:07,429]\u001b[0m Trial 80 finished with value: 0.8628518843420006 and parameters: {'iterations': 300, 'learning_rate': 0.055932417748811934, 'random_strength': 3, 'bagging_temperature': 6, 'max_bin': 20, 'grow_policy': 'Depthwise', 'min_data_in_leaf': 1, 'max_depth': 2, 'l2_leaf_reg': 0.00023629307464384918, 'one_hot_max_size': 1024, 'auto_class_weights': 'SqrtBalanced'}. Best is trial 71 with value: 0.8658925677860214.\u001b[0m\n"
     ]
    },
    {
     "name": "stdout",
     "output_type": "stream",
     "text": [
      "\n",
      "bestTest = 0.4322693232\n",
      "bestIteration = 299\n",
      "\n",
      "Training on fold [0/5]\n"
     ]
    },
    {
     "name": "stderr",
     "output_type": "stream",
     "text": [
      "C:\\Users\\jvrdo\\anaconda3\\lib\\site-packages\\optuna\\distributions.py:560: UserWarning: The distribution is specified by [1, 10] and step=20, but the range is not divisible by `step`. It will be replaced by [1, 1].\n",
      "  warnings.warn(\n",
      "C:\\Users\\jvrdo\\anaconda3\\lib\\site-packages\\optuna\\distributions.py:560: UserWarning: The distribution is specified by [2, 10] and step=15, but the range is not divisible by `step`. It will be replaced by [2, 2].\n",
      "  warnings.warn(\n"
     ]
    },
    {
     "name": "stdout",
     "output_type": "stream",
     "text": [
      "\n",
      "bestTest = 0.4252880253\n",
      "bestIteration = 247\n",
      "\n",
      "Training on fold [1/5]\n",
      "\n",
      "bestTest = 0.4200814845\n",
      "bestIteration = 211\n",
      "\n",
      "Training on fold [2/5]\n",
      "\n",
      "bestTest = 0.4282956508\n",
      "bestIteration = 281\n",
      "\n",
      "Training on fold [3/5]\n",
      "\n",
      "bestTest = 0.4250904417\n",
      "bestIteration = 205\n",
      "\n",
      "Training on fold [4/5]\n"
     ]
    },
    {
     "name": "stderr",
     "output_type": "stream",
     "text": [
      "\u001b[32m[I 2022-07-16 15:57:29,885]\u001b[0m Trial 81 finished with value: 0.8658698423096343 and parameters: {'iterations': 700, 'learning_rate': 0.10718240723918325, 'random_strength': 2, 'bagging_temperature': 9, 'max_bin': 20, 'grow_policy': 'Depthwise', 'min_data_in_leaf': 1, 'max_depth': 2, 'l2_leaf_reg': 0.00047494016377059423, 'one_hot_max_size': 12, 'auto_class_weights': 'SqrtBalanced'}. Best is trial 71 with value: 0.8658925677860214.\u001b[0m\n"
     ]
    },
    {
     "name": "stdout",
     "output_type": "stream",
     "text": [
      "\n",
      "bestTest = 0.4256337218\n",
      "bestIteration = 278\n",
      "\n",
      "Training on fold [0/5]\n"
     ]
    },
    {
     "name": "stderr",
     "output_type": "stream",
     "text": [
      "C:\\Users\\jvrdo\\anaconda3\\lib\\site-packages\\optuna\\distributions.py:560: UserWarning: The distribution is specified by [1, 10] and step=20, but the range is not divisible by `step`. It will be replaced by [1, 1].\n",
      "  warnings.warn(\n",
      "C:\\Users\\jvrdo\\anaconda3\\lib\\site-packages\\optuna\\distributions.py:560: UserWarning: The distribution is specified by [2, 10] and step=15, but the range is not divisible by `step`. It will be replaced by [2, 2].\n",
      "  warnings.warn(\n"
     ]
    },
    {
     "name": "stdout",
     "output_type": "stream",
     "text": [
      "\n",
      "bestTest = 0.4244250015\n",
      "bestIteration = 203\n",
      "\n",
      "Training on fold [1/5]\n",
      "\n",
      "bestTest = 0.4200294891\n",
      "bestIteration = 256\n",
      "\n",
      "Training on fold [2/5]\n",
      "\n",
      "bestTest = 0.4274096862\n",
      "bestIteration = 241\n",
      "\n",
      "Training on fold [3/5]\n",
      "\n",
      "bestTest = 0.4250559388\n",
      "bestIteration = 194\n",
      "\n",
      "Training on fold [4/5]\n"
     ]
    },
    {
     "name": "stderr",
     "output_type": "stream",
     "text": [
      "\u001b[32m[I 2022-07-16 15:57:49,578]\u001b[0m Trial 82 finished with value: 0.865538145602361 and parameters: {'iterations': 700, 'learning_rate': 0.12368040748577279, 'random_strength': 2, 'bagging_temperature': 9, 'max_bin': 20, 'grow_policy': 'Depthwise', 'min_data_in_leaf': 1, 'max_depth': 2, 'l2_leaf_reg': 0.0006136382762479269, 'one_hot_max_size': 12, 'auto_class_weights': 'SqrtBalanced'}. Best is trial 71 with value: 0.8658925677860214.\u001b[0m\n"
     ]
    },
    {
     "name": "stdout",
     "output_type": "stream",
     "text": [
      "\n",
      "bestTest = 0.4284999307\n",
      "bestIteration = 218\n",
      "\n",
      "Training on fold [0/5]\n"
     ]
    },
    {
     "name": "stderr",
     "output_type": "stream",
     "text": [
      "C:\\Users\\jvrdo\\anaconda3\\lib\\site-packages\\optuna\\distributions.py:560: UserWarning: The distribution is specified by [1, 10] and step=20, but the range is not divisible by `step`. It will be replaced by [1, 1].\n",
      "  warnings.warn(\n",
      "C:\\Users\\jvrdo\\anaconda3\\lib\\site-packages\\optuna\\distributions.py:560: UserWarning: The distribution is specified by [2, 10] and step=15, but the range is not divisible by `step`. It will be replaced by [2, 2].\n",
      "  warnings.warn(\n"
     ]
    },
    {
     "name": "stdout",
     "output_type": "stream",
     "text": [
      "\n",
      "bestTest = 0.4251482562\n",
      "bestIteration = 176\n",
      "\n",
      "Training on fold [1/5]\n",
      "\n",
      "bestTest = 0.4211651283\n",
      "bestIteration = 194\n",
      "\n",
      "Training on fold [2/5]\n",
      "\n",
      "bestTest = 0.433842046\n",
      "bestIteration = 145\n",
      "\n",
      "Training on fold [3/5]\n",
      "\n",
      "bestTest = 0.4268690859\n",
      "bestIteration = 189\n",
      "\n",
      "Training on fold [4/5]\n"
     ]
    },
    {
     "name": "stderr",
     "output_type": "stream",
     "text": [
      "\u001b[32m[I 2022-07-16 15:58:04,647]\u001b[0m Trial 83 finished with value: 0.8638399090161203 and parameters: {'iterations': 700, 'learning_rate': 0.1293886268056512, 'random_strength': 3, 'bagging_temperature': 10, 'max_bin': 20, 'grow_policy': 'Depthwise', 'min_data_in_leaf': 1, 'max_depth': 2, 'l2_leaf_reg': 0.0005311985207432011, 'one_hot_max_size': 12, 'auto_class_weights': 'SqrtBalanced'}. Best is trial 71 with value: 0.8658925677860214.\u001b[0m\n"
     ]
    },
    {
     "name": "stdout",
     "output_type": "stream",
     "text": [
      "\n",
      "bestTest = 0.4303365764\n",
      "bestIteration = 161\n",
      "\n",
      "Training on fold [0/5]\n"
     ]
    },
    {
     "name": "stderr",
     "output_type": "stream",
     "text": [
      "C:\\Users\\jvrdo\\anaconda3\\lib\\site-packages\\optuna\\distributions.py:560: UserWarning: The distribution is specified by [1, 10] and step=20, but the range is not divisible by `step`. It will be replaced by [1, 1].\n",
      "  warnings.warn(\n",
      "C:\\Users\\jvrdo\\anaconda3\\lib\\site-packages\\optuna\\distributions.py:560: UserWarning: The distribution is specified by [2, 10] and step=15, but the range is not divisible by `step`. It will be replaced by [2, 2].\n",
      "  warnings.warn(\n"
     ]
    },
    {
     "name": "stdout",
     "output_type": "stream",
     "text": [
      "\n",
      "bestTest = 0.4243351568\n",
      "bestIteration = 229\n",
      "\n",
      "Training on fold [1/5]\n",
      "\n",
      "bestTest = 0.4219458643\n",
      "bestIteration = 204\n",
      "\n",
      "Training on fold [2/5]\n",
      "\n",
      "bestTest = 0.4283427507\n",
      "bestIteration = 266\n",
      "\n",
      "Training on fold [3/5]\n",
      "\n",
      "bestTest = 0.4255413777\n",
      "bestIteration = 180\n",
      "\n",
      "Training on fold [4/5]\n"
     ]
    },
    {
     "name": "stderr",
     "output_type": "stream",
     "text": [
      "\u001b[32m[I 2022-07-16 15:58:24,812]\u001b[0m Trial 84 finished with value: 0.8655974877956775 and parameters: {'iterations': 700, 'learning_rate': 0.10645163542902276, 'random_strength': 2, 'bagging_temperature': 9, 'max_bin': 20, 'grow_policy': 'Depthwise', 'min_data_in_leaf': 1, 'max_depth': 2, 'l2_leaf_reg': 0.0021505039984166183, 'one_hot_max_size': 12, 'auto_class_weights': 'SqrtBalanced'}. Best is trial 71 with value: 0.8658925677860214.\u001b[0m\n"
     ]
    },
    {
     "name": "stdout",
     "output_type": "stream",
     "text": [
      "\n",
      "bestTest = 0.4282427133\n",
      "bestIteration = 184\n",
      "\n",
      "Training on fold [0/5]\n"
     ]
    },
    {
     "name": "stderr",
     "output_type": "stream",
     "text": [
      "C:\\Users\\jvrdo\\anaconda3\\lib\\site-packages\\optuna\\distributions.py:560: UserWarning: The distribution is specified by [1, 10] and step=20, but the range is not divisible by `step`. It will be replaced by [1, 1].\n",
      "  warnings.warn(\n",
      "C:\\Users\\jvrdo\\anaconda3\\lib\\site-packages\\optuna\\distributions.py:560: UserWarning: The distribution is specified by [2, 10] and step=15, but the range is not divisible by `step`. It will be replaced by [2, 2].\n",
      "  warnings.warn(\n"
     ]
    },
    {
     "name": "stdout",
     "output_type": "stream",
     "text": [
      "\n",
      "bestTest = 0.4268049773\n",
      "bestIteration = 199\n",
      "\n",
      "Training on fold [1/5]\n",
      "\n",
      "bestTest = 0.4206869969\n",
      "bestIteration = 231\n",
      "\n",
      "Training on fold [2/5]\n",
      "\n",
      "bestTest = 0.4262126962\n",
      "bestIteration = 355\n",
      "\n",
      "Training on fold [3/5]\n",
      "\n",
      "bestTest = 0.4257089507\n",
      "bestIteration = 196\n",
      "\n",
      "Training on fold [4/5]\n"
     ]
    },
    {
     "name": "stderr",
     "output_type": "stream",
     "text": [
      "\u001b[32m[I 2022-07-16 15:58:47,516]\u001b[0m Trial 85 finished with value: 0.8650553632934992 and parameters: {'iterations': 700, 'learning_rate': 0.1070427160895272, 'random_strength': 2, 'bagging_temperature': 9, 'max_bin': 20, 'grow_policy': 'Depthwise', 'min_data_in_leaf': 1, 'max_depth': 2, 'l2_leaf_reg': 0.0021196193532835115, 'one_hot_max_size': 12, 'auto_class_weights': 'SqrtBalanced'}. Best is trial 71 with value: 0.8658925677860214.\u001b[0m\n"
     ]
    },
    {
     "name": "stdout",
     "output_type": "stream",
     "text": [
      "\n",
      "bestTest = 0.4302321038\n",
      "bestIteration = 201\n",
      "\n",
      "Training on fold [0/5]\n"
     ]
    },
    {
     "name": "stderr",
     "output_type": "stream",
     "text": [
      "C:\\Users\\jvrdo\\anaconda3\\lib\\site-packages\\optuna\\distributions.py:560: UserWarning: The distribution is specified by [1, 10] and step=20, but the range is not divisible by `step`. It will be replaced by [1, 1].\n",
      "  warnings.warn(\n",
      "C:\\Users\\jvrdo\\anaconda3\\lib\\site-packages\\optuna\\distributions.py:560: UserWarning: The distribution is specified by [2, 10] and step=15, but the range is not divisible by `step`. It will be replaced by [2, 2].\n",
      "  warnings.warn(\n"
     ]
    },
    {
     "name": "stdout",
     "output_type": "stream",
     "text": [
      "\n",
      "bestTest = 0.4264831347\n",
      "bestIteration = 214\n",
      "\n",
      "Training on fold [1/5]\n",
      "\n",
      "bestTest = 0.4198298792\n",
      "bestIteration = 232\n",
      "\n",
      "Training on fold [2/5]\n",
      "\n",
      "bestTest = 0.4334023958\n",
      "bestIteration = 167\n",
      "\n",
      "Training on fold [3/5]\n",
      "\n",
      "bestTest = 0.4254291422\n",
      "bestIteration = 282\n",
      "\n",
      "Training on fold [4/5]\n"
     ]
    },
    {
     "name": "stderr",
     "output_type": "stream",
     "text": [
      "\u001b[32m[I 2022-07-16 15:59:06,729]\u001b[0m Trial 86 finished with value: 0.864385050995972 and parameters: {'iterations': 700, 'learning_rate': 0.11652205360446345, 'random_strength': 3, 'bagging_temperature': 10, 'max_bin': 20, 'grow_policy': 'Depthwise', 'min_data_in_leaf': 1, 'max_depth': 2, 'l2_leaf_reg': 0.0004341639068575414, 'one_hot_max_size': 10, 'auto_class_weights': 'SqrtBalanced'}. Best is trial 71 with value: 0.8658925677860214.\u001b[0m\n"
     ]
    },
    {
     "name": "stdout",
     "output_type": "stream",
     "text": [
      "\n",
      "bestTest = 0.4281820067\n",
      "bestIteration = 250\n",
      "\n",
      "Training on fold [0/5]\n"
     ]
    },
    {
     "name": "stderr",
     "output_type": "stream",
     "text": [
      "C:\\Users\\jvrdo\\anaconda3\\lib\\site-packages\\optuna\\distributions.py:560: UserWarning: The distribution is specified by [1, 10] and step=20, but the range is not divisible by `step`. It will be replaced by [1, 1].\n",
      "  warnings.warn(\n",
      "C:\\Users\\jvrdo\\anaconda3\\lib\\site-packages\\optuna\\distributions.py:560: UserWarning: The distribution is specified by [2, 10] and step=15, but the range is not divisible by `step`. It will be replaced by [2, 2].\n",
      "  warnings.warn(\n"
     ]
    },
    {
     "name": "stdout",
     "output_type": "stream",
     "text": [
      "\n",
      "bestTest = 0.4256729873\n",
      "bestIteration = 251\n",
      "\n",
      "Training on fold [1/5]\n",
      "\n",
      "bestTest = 0.4204196579\n",
      "bestIteration = 235\n",
      "\n",
      "Training on fold [2/5]\n",
      "\n",
      "bestTest = 0.4314815653\n",
      "bestIteration = 225\n",
      "\n",
      "Training on fold [3/5]\n",
      "\n",
      "bestTest = 0.4260190479\n",
      "bestIteration = 248\n",
      "\n",
      "Training on fold [4/5]\n"
     ]
    },
    {
     "name": "stderr",
     "output_type": "stream",
     "text": [
      "\u001b[32m[I 2022-07-16 15:59:33,731]\u001b[0m Trial 87 finished with value: 0.8648004262067106 and parameters: {'iterations': 700, 'learning_rate': 0.09500750765637545, 'random_strength': 2, 'bagging_temperature': 9, 'max_bin': 20, 'grow_policy': 'Lossguide', 'min_data_in_leaf': 1, 'max_depth': 2, 'l2_leaf_reg': 0.0112085725513465, 'one_hot_max_size': 12, 'auto_class_weights': 'SqrtBalanced'}. Best is trial 71 with value: 0.8658925677860214.\u001b[0m\n"
     ]
    },
    {
     "name": "stdout",
     "output_type": "stream",
     "text": [
      "\n",
      "bestTest = 0.4294372266\n",
      "bestIteration = 256\n",
      "\n",
      "Training on fold [0/5]\n"
     ]
    },
    {
     "name": "stderr",
     "output_type": "stream",
     "text": [
      "C:\\Users\\jvrdo\\anaconda3\\lib\\site-packages\\optuna\\distributions.py:560: UserWarning: The distribution is specified by [1, 10] and step=20, but the range is not divisible by `step`. It will be replaced by [1, 1].\n",
      "  warnings.warn(\n",
      "C:\\Users\\jvrdo\\anaconda3\\lib\\site-packages\\optuna\\distributions.py:560: UserWarning: The distribution is specified by [2, 10] and step=15, but the range is not divisible by `step`. It will be replaced by [2, 2].\n",
      "  warnings.warn(\n"
     ]
    },
    {
     "name": "stdout",
     "output_type": "stream",
     "text": [
      "\n",
      "bestTest = 0.4277130236\n",
      "bestIteration = 265\n",
      "\n",
      "Training on fold [1/5]\n",
      "\n",
      "bestTest = 0.4207544982\n",
      "bestIteration = 369\n",
      "\n",
      "Training on fold [2/5]\n",
      "\n",
      "bestTest = 0.4286046033\n",
      "bestIteration = 321\n",
      "\n",
      "Training on fold [3/5]\n",
      "\n",
      "bestTest = 0.4271925715\n",
      "bestIteration = 213\n",
      "\n",
      "Training on fold [4/5]\n"
     ]
    },
    {
     "name": "stderr",
     "output_type": "stream",
     "text": [
      "\u001b[32m[I 2022-07-16 15:59:37,851]\u001b[0m Trial 88 finished with value: 0.8647314028169403 and parameters: {'iterations': 700, 'learning_rate': 0.08694597552724896, 'random_strength': 2, 'bagging_temperature': 4, 'max_bin': 8, 'grow_policy': 'Depthwise', 'min_data_in_leaf': 1, 'max_depth': 2, 'l2_leaf_reg': 0.0001307592775334563, 'one_hot_max_size': 100, 'auto_class_weights': 'SqrtBalanced'}. Best is trial 71 with value: 0.8658925677860214.\u001b[0m\n"
     ]
    },
    {
     "name": "stdout",
     "output_type": "stream",
     "text": [
      "\n",
      "bestTest = 0.4267010301\n",
      "bestIteration = 350\n",
      "\n",
      "Training on fold [0/5]\n"
     ]
    },
    {
     "name": "stderr",
     "output_type": "stream",
     "text": [
      "C:\\Users\\jvrdo\\anaconda3\\lib\\site-packages\\optuna\\distributions.py:560: UserWarning: The distribution is specified by [1, 10] and step=20, but the range is not divisible by `step`. It will be replaced by [1, 1].\n",
      "  warnings.warn(\n",
      "C:\\Users\\jvrdo\\anaconda3\\lib\\site-packages\\optuna\\distributions.py:560: UserWarning: The distribution is specified by [2, 10] and step=15, but the range is not divisible by `step`. It will be replaced by [2, 2].\n",
      "  warnings.warn(\n"
     ]
    },
    {
     "name": "stdout",
     "output_type": "stream",
     "text": [
      "\n",
      "bestTest = 0.4276531893\n",
      "bestIteration = 150\n",
      "\n",
      "Training on fold [1/5]\n",
      "\n",
      "bestTest = 0.4220568502\n",
      "bestIteration = 199\n",
      "\n",
      "Training on fold [2/5]\n",
      "\n",
      "bestTest = 0.4282188234\n",
      "bestIteration = 282\n",
      "\n",
      "Training on fold [3/5]\n",
      "\n",
      "bestTest = 0.427830881\n",
      "bestIteration = 147\n",
      "\n",
      "Training on fold [4/5]\n"
     ]
    },
    {
     "name": "stderr",
     "output_type": "stream",
     "text": [
      "\u001b[32m[I 2022-07-16 15:59:53,324]\u001b[0m Trial 89 finished with value: 0.863777672175624 and parameters: {'iterations': 700, 'learning_rate': 0.1265892885425049, 'random_strength': 4, 'bagging_temperature': 9, 'max_bin': 20, 'grow_policy': 'Depthwise', 'min_data_in_leaf': 1, 'max_depth': 2, 'l2_leaf_reg': 2.995637343856495e-06, 'one_hot_max_size': 12, 'auto_class_weights': 'SqrtBalanced'}. Best is trial 71 with value: 0.8658925677860214.\u001b[0m\n"
     ]
    },
    {
     "name": "stdout",
     "output_type": "stream",
     "text": [
      "\n",
      "bestTest = 0.4322588547\n",
      "bestIteration = 166\n",
      "\n",
      "Training on fold [0/5]\n"
     ]
    },
    {
     "name": "stderr",
     "output_type": "stream",
     "text": [
      "C:\\Users\\jvrdo\\anaconda3\\lib\\site-packages\\optuna\\distributions.py:560: UserWarning: The distribution is specified by [1, 10] and step=20, but the range is not divisible by `step`. It will be replaced by [1, 1].\n",
      "  warnings.warn(\n",
      "C:\\Users\\jvrdo\\anaconda3\\lib\\site-packages\\optuna\\distributions.py:560: UserWarning: The distribution is specified by [2, 10] and step=15, but the range is not divisible by `step`. It will be replaced by [2, 2].\n",
      "  warnings.warn(\n"
     ]
    },
    {
     "name": "stdout",
     "output_type": "stream",
     "text": [
      "\n",
      "bestTest = 0.4268356143\n",
      "bestIteration = 370\n",
      "\n",
      "Training on fold [1/5]\n",
      "\n",
      "bestTest = 0.4204463049\n",
      "bestIteration = 442\n",
      "\n",
      "Training on fold [2/5]\n",
      "\n",
      "bestTest = 0.4301262532\n",
      "bestIteration = 415\n",
      "\n",
      "Training on fold [3/5]\n",
      "\n",
      "bestTest = 0.4268121736\n",
      "bestIteration = 324\n",
      "\n",
      "Training on fold [4/5]\n"
     ]
    },
    {
     "name": "stderr",
     "output_type": "stream",
     "text": [
      "\u001b[32m[I 2022-07-16 16:00:25,882]\u001b[0m Trial 90 finished with value: 0.8646746253837894 and parameters: {'iterations': 700, 'learning_rate': 0.07006978344568848, 'random_strength': 6, 'bagging_temperature': 10, 'max_bin': 30, 'grow_policy': 'Depthwise', 'min_data_in_leaf': 1, 'max_depth': 2, 'l2_leaf_reg': 0.0008891144543818147, 'one_hot_max_size': 5, 'auto_class_weights': 'SqrtBalanced'}. Best is trial 71 with value: 0.8658925677860214.\u001b[0m\n"
     ]
    },
    {
     "name": "stdout",
     "output_type": "stream",
     "text": [
      "\n",
      "bestTest = 0.4290129455\n",
      "bestIteration = 421\n",
      "\n",
      "Training on fold [0/5]\n"
     ]
    },
    {
     "name": "stderr",
     "output_type": "stream",
     "text": [
      "C:\\Users\\jvrdo\\anaconda3\\lib\\site-packages\\optuna\\distributions.py:560: UserWarning: The distribution is specified by [1, 10] and step=20, but the range is not divisible by `step`. It will be replaced by [1, 1].\n",
      "  warnings.warn(\n",
      "C:\\Users\\jvrdo\\anaconda3\\lib\\site-packages\\optuna\\distributions.py:560: UserWarning: The distribution is specified by [2, 10] and step=15, but the range is not divisible by `step`. It will be replaced by [2, 2].\n",
      "  warnings.warn(\n"
     ]
    },
    {
     "name": "stdout",
     "output_type": "stream",
     "text": [
      "\n",
      "bestTest = 0.4265781825\n",
      "bestIteration = 157\n",
      "\n",
      "Training on fold [1/5]\n",
      "\n",
      "bestTest = 0.4186310522\n",
      "bestIteration = 248\n",
      "\n",
      "Training on fold [2/5]\n",
      "\n",
      "bestTest = 0.4324964335\n",
      "bestIteration = 139\n",
      "\n",
      "Training on fold [3/5]\n",
      "\n",
      "bestTest = 0.4248358699\n",
      "bestIteration = 183\n",
      "\n",
      "Training on fold [4/5]\n"
     ]
    },
    {
     "name": "stderr",
     "output_type": "stream",
     "text": [
      "\u001b[32m[I 2022-07-16 16:00:41,508]\u001b[0m Trial 91 finished with value: 0.8647167560746529 and parameters: {'iterations': 700, 'learning_rate': 0.13467471659312025, 'random_strength': 2, 'bagging_temperature': 10, 'max_bin': 20, 'grow_policy': 'Depthwise', 'min_data_in_leaf': 1, 'max_depth': 2, 'l2_leaf_reg': 0.0020531639547435613, 'one_hot_max_size': 12, 'auto_class_weights': 'SqrtBalanced'}. Best is trial 71 with value: 0.8658925677860214.\u001b[0m\n"
     ]
    },
    {
     "name": "stdout",
     "output_type": "stream",
     "text": [
      "\n",
      "bestTest = 0.4282904581\n",
      "bestIteration = 203\n",
      "\n",
      "Training on fold [0/5]\n"
     ]
    },
    {
     "name": "stderr",
     "output_type": "stream",
     "text": [
      "C:\\Users\\jvrdo\\anaconda3\\lib\\site-packages\\optuna\\distributions.py:560: UserWarning: The distribution is specified by [1, 10] and step=20, but the range is not divisible by `step`. It will be replaced by [1, 1].\n",
      "  warnings.warn(\n",
      "C:\\Users\\jvrdo\\anaconda3\\lib\\site-packages\\optuna\\distributions.py:560: UserWarning: The distribution is specified by [2, 10] and step=15, but the range is not divisible by `step`. It will be replaced by [2, 2].\n",
      "  warnings.warn(\n"
     ]
    },
    {
     "name": "stdout",
     "output_type": "stream",
     "text": [
      "\n",
      "bestTest = 0.4256374712\n",
      "bestIteration = 202\n",
      "\n",
      "Training on fold [1/5]\n",
      "\n",
      "bestTest = 0.4208245628\n",
      "bestIteration = 276\n",
      "\n",
      "Training on fold [2/5]\n",
      "\n",
      "bestTest = 0.4257334284\n",
      "bestIteration = 399\n",
      "\n",
      "Training on fold [3/5]\n",
      "\n",
      "bestTest = 0.4258502974\n",
      "bestIteration = 198\n",
      "\n",
      "Training on fold [4/5]\n"
     ]
    },
    {
     "name": "stderr",
     "output_type": "stream",
     "text": [
      "\u001b[32m[I 2022-07-16 16:01:01,862]\u001b[0m Trial 92 finished with value: 0.865099780075413 and parameters: {'iterations': 1300, 'learning_rate': 0.09943381209543987, 'random_strength': 1, 'bagging_temperature': 9, 'max_bin': 20, 'grow_policy': 'Depthwise', 'min_data_in_leaf': 1, 'max_depth': 2, 'l2_leaf_reg': 5.40899999529406e-07, 'one_hot_max_size': 12, 'auto_class_weights': 'SqrtBalanced'}. Best is trial 71 with value: 0.8658925677860214.\u001b[0m\n"
     ]
    },
    {
     "name": "stdout",
     "output_type": "stream",
     "text": [
      "\n",
      "bestTest = 0.4304618005\n",
      "bestIteration = 195\n",
      "\n",
      "Training on fold [0/5]\n"
     ]
    },
    {
     "name": "stderr",
     "output_type": "stream",
     "text": [
      "C:\\Users\\jvrdo\\anaconda3\\lib\\site-packages\\optuna\\distributions.py:560: UserWarning: The distribution is specified by [1, 10] and step=20, but the range is not divisible by `step`. It will be replaced by [1, 1].\n",
      "  warnings.warn(\n",
      "C:\\Users\\jvrdo\\anaconda3\\lib\\site-packages\\optuna\\distributions.py:560: UserWarning: The distribution is specified by [2, 10] and step=15, but the range is not divisible by `step`. It will be replaced by [2, 2].\n",
      "  warnings.warn(\n"
     ]
    },
    {
     "name": "stdout",
     "output_type": "stream",
     "text": [
      "\n",
      "bestTest = 0.4253631509\n",
      "bestIteration = 185\n",
      "\n",
      "Training on fold [1/5]\n",
      "\n",
      "bestTest = 0.419913264\n",
      "bestIteration = 241\n",
      "\n",
      "Training on fold [2/5]\n",
      "\n",
      "bestTest = 0.4284646735\n",
      "bestIteration = 274\n",
      "\n",
      "Training on fold [3/5]\n",
      "\n",
      "bestTest = 0.4242304798\n",
      "bestIteration = 256\n",
      "\n",
      "Training on fold [4/5]\n"
     ]
    },
    {
     "name": "stderr",
     "output_type": "stream",
     "text": [
      "\u001b[32m[I 2022-07-16 16:01:22,171]\u001b[0m Trial 93 finished with value: 0.8656203288395383 and parameters: {'iterations': 700, 'learning_rate': 0.11293762724340976, 'random_strength': 1, 'bagging_temperature': 9, 'max_bin': 20, 'grow_policy': 'Depthwise', 'min_data_in_leaf': 1, 'max_depth': 2, 'l2_leaf_reg': 2.8331932253175447e-05, 'one_hot_max_size': 12, 'auto_class_weights': 'SqrtBalanced'}. Best is trial 71 with value: 0.8658925677860214.\u001b[0m\n"
     ]
    },
    {
     "name": "stdout",
     "output_type": "stream",
     "text": [
      "\n",
      "bestTest = 0.4266503033\n",
      "bestIteration = 261\n",
      "\n",
      "Training on fold [0/5]\n"
     ]
    },
    {
     "name": "stderr",
     "output_type": "stream",
     "text": [
      "C:\\Users\\jvrdo\\anaconda3\\lib\\site-packages\\optuna\\distributions.py:560: UserWarning: The distribution is specified by [1, 10] and step=20, but the range is not divisible by `step`. It will be replaced by [1, 1].\n",
      "  warnings.warn(\n",
      "C:\\Users\\jvrdo\\anaconda3\\lib\\site-packages\\optuna\\distributions.py:560: UserWarning: The distribution is specified by [2, 10] and step=15, but the range is not divisible by `step`. It will be replaced by [2, 2].\n",
      "  warnings.warn(\n"
     ]
    },
    {
     "name": "stdout",
     "output_type": "stream",
     "text": [
      "\n",
      "bestTest = 0.423833973\n",
      "bestIteration = 276\n",
      "\n",
      "Training on fold [1/5]\n",
      "\n",
      "bestTest = 0.420844279\n",
      "bestIteration = 215\n",
      "\n",
      "Training on fold [2/5]\n",
      "\n",
      "bestTest = 0.4269396773\n",
      "bestIteration = 324\n",
      "\n",
      "Training on fold [3/5]\n",
      "\n",
      "bestTest = 0.4236414486\n",
      "bestIteration = 259\n",
      "\n",
      "Training on fold [4/5]\n"
     ]
    },
    {
     "name": "stderr",
     "output_type": "stream",
     "text": [
      "\u001b[32m[I 2022-07-16 16:01:43,347]\u001b[0m Trial 94 finished with value: 0.8658936631712054 and parameters: {'iterations': 700, 'learning_rate': 0.11135705609401621, 'random_strength': 2, 'bagging_temperature': 10, 'max_bin': 20, 'grow_policy': 'Depthwise', 'min_data_in_leaf': 1, 'max_depth': 2, 'l2_leaf_reg': 5.062732683888309e-05, 'one_hot_max_size': 12, 'auto_class_weights': 'SqrtBalanced'}. Best is trial 94 with value: 0.8658936631712054.\u001b[0m\n"
     ]
    },
    {
     "name": "stdout",
     "output_type": "stream",
     "text": [
      "\n",
      "bestTest = 0.4276255887\n",
      "bestIteration = 233\n",
      "\n",
      "Training on fold [0/5]\n"
     ]
    },
    {
     "name": "stderr",
     "output_type": "stream",
     "text": [
      "C:\\Users\\jvrdo\\anaconda3\\lib\\site-packages\\optuna\\distributions.py:560: UserWarning: The distribution is specified by [1, 10] and step=20, but the range is not divisible by `step`. It will be replaced by [1, 1].\n",
      "  warnings.warn(\n",
      "C:\\Users\\jvrdo\\anaconda3\\lib\\site-packages\\optuna\\distributions.py:560: UserWarning: The distribution is specified by [2, 10] and step=15, but the range is not divisible by `step`. It will be replaced by [2, 2].\n",
      "  warnings.warn(\n"
     ]
    },
    {
     "name": "stdout",
     "output_type": "stream",
     "text": [
      "\n",
      "bestTest = 0.4269767204\n",
      "bestIteration = 200\n",
      "\n",
      "Training on fold [1/5]\n",
      "\n",
      "bestTest = 0.4209413608\n",
      "bestIteration = 274\n",
      "\n",
      "Training on fold [2/5]\n",
      "\n",
      "bestTest = 0.4311221219\n",
      "bestIteration = 217\n",
      "\n",
      "Training on fold [3/5]\n",
      "\n",
      "bestTest = 0.4264560708\n",
      "bestIteration = 233\n",
      "\n",
      "Training on fold [4/5]\n"
     ]
    },
    {
     "name": "stderr",
     "output_type": "stream",
     "text": [
      "\u001b[32m[I 2022-07-16 16:02:02,719]\u001b[0m Trial 95 finished with value: 0.8642564046658279 and parameters: {'iterations': 700, 'learning_rate': 0.11545466558116392, 'random_strength': 3, 'bagging_temperature': 10, 'max_bin': 20, 'grow_policy': 'Depthwise', 'min_data_in_leaf': 1, 'max_depth': 2, 'l2_leaf_reg': 4.4781787120694006e-05, 'one_hot_max_size': 12, 'auto_class_weights': 'SqrtBalanced'}. Best is trial 94 with value: 0.8658936631712054.\u001b[0m\n"
     ]
    },
    {
     "name": "stdout",
     "output_type": "stream",
     "text": [
      "\n",
      "bestTest = 0.4287094536\n",
      "bestIteration = 245\n",
      "\n",
      "Training on fold [0/5]\n"
     ]
    },
    {
     "name": "stderr",
     "output_type": "stream",
     "text": [
      "C:\\Users\\jvrdo\\anaconda3\\lib\\site-packages\\optuna\\distributions.py:560: UserWarning: The distribution is specified by [1, 10] and step=20, but the range is not divisible by `step`. It will be replaced by [1, 1].\n",
      "  warnings.warn(\n",
      "C:\\Users\\jvrdo\\anaconda3\\lib\\site-packages\\optuna\\distributions.py:560: UserWarning: The distribution is specified by [2, 10] and step=15, but the range is not divisible by `step`. It will be replaced by [2, 2].\n",
      "  warnings.warn(\n"
     ]
    },
    {
     "name": "stdout",
     "output_type": "stream",
     "text": [
      "\n",
      "bestTest = 0.42597334\n",
      "bestIteration = 157\n",
      "\n",
      "Training on fold [1/5]\n",
      "\n",
      "bestTest = 0.4202210303\n",
      "bestIteration = 171\n",
      "\n",
      "Training on fold [2/5]\n",
      "\n",
      "bestTest = 0.4272229935\n",
      "bestIteration = 256\n",
      "\n",
      "Training on fold [3/5]\n",
      "\n",
      "bestTest = 0.4271427694\n",
      "bestIteration = 185\n",
      "\n",
      "Training on fold [4/5]\n"
     ]
    },
    {
     "name": "stderr",
     "output_type": "stream",
     "text": [
      "\u001b[32m[I 2022-07-16 16:02:19,467]\u001b[0m Trial 96 finished with value: 0.8652011475275956 and parameters: {'iterations': 700, 'learning_rate': 0.14156602141595967, 'random_strength': 2, 'bagging_temperature': 9, 'max_bin': 20, 'grow_policy': 'Depthwise', 'min_data_in_leaf': 1, 'max_depth': 2, 'l2_leaf_reg': 1.4809173535962903e-05, 'one_hot_max_size': 12, 'auto_class_weights': 'SqrtBalanced'}. Best is trial 94 with value: 0.8658936631712054.\u001b[0m\n"
     ]
    },
    {
     "name": "stdout",
     "output_type": "stream",
     "text": [
      "\n",
      "bestTest = 0.4264044156\n",
      "bestIteration = 211\n",
      "\n",
      "Training on fold [0/5]\n"
     ]
    },
    {
     "name": "stderr",
     "output_type": "stream",
     "text": [
      "C:\\Users\\jvrdo\\anaconda3\\lib\\site-packages\\optuna\\distributions.py:560: UserWarning: The distribution is specified by [1, 10] and step=20, but the range is not divisible by `step`. It will be replaced by [1, 1].\n",
      "  warnings.warn(\n",
      "C:\\Users\\jvrdo\\anaconda3\\lib\\site-packages\\optuna\\distributions.py:560: UserWarning: The distribution is specified by [2, 10] and step=15, but the range is not divisible by `step`. It will be replaced by [2, 2].\n",
      "  warnings.warn(\n"
     ]
    },
    {
     "name": "stdout",
     "output_type": "stream",
     "text": [
      "\n",
      "bestTest = 0.4261265617\n",
      "bestIteration = 189\n",
      "\n",
      "Training on fold [1/5]\n",
      "\n",
      "bestTest = 0.420072586\n",
      "bestIteration = 205\n",
      "\n",
      "Training on fold [2/5]\n",
      "\n",
      "bestTest = 0.4307963881\n",
      "bestIteration = 203\n",
      "\n",
      "Training on fold [3/5]\n",
      "\n",
      "bestTest = 0.4257544032\n",
      "bestIteration = 183\n",
      "\n",
      "Training on fold [4/5]\n"
     ]
    },
    {
     "name": "stderr",
     "output_type": "stream",
     "text": [
      "\u001b[32m[I 2022-07-16 16:02:43,038]\u001b[0m Trial 97 finished with value: 0.8649290105182394 and parameters: {'iterations': 700, 'learning_rate': 0.12252376992052459, 'random_strength': 2, 'bagging_temperature': 9, 'max_bin': 10, 'grow_policy': 'Lossguide', 'min_data_in_leaf': 1, 'max_depth': 2, 'l2_leaf_reg': 9.878762254156283e-05, 'one_hot_max_size': 12, 'auto_class_weights': 'SqrtBalanced'}. Best is trial 94 with value: 0.8658936631712054.\u001b[0m\n"
     ]
    },
    {
     "name": "stdout",
     "output_type": "stream",
     "text": [
      "\n",
      "bestTest = 0.4277560348\n",
      "bestIteration = 211\n",
      "\n",
      "Training on fold [0/5]\n"
     ]
    },
    {
     "name": "stderr",
     "output_type": "stream",
     "text": [
      "C:\\Users\\jvrdo\\anaconda3\\lib\\site-packages\\optuna\\distributions.py:560: UserWarning: The distribution is specified by [1, 10] and step=20, but the range is not divisible by `step`. It will be replaced by [1, 1].\n",
      "  warnings.warn(\n",
      "C:\\Users\\jvrdo\\anaconda3\\lib\\site-packages\\optuna\\distributions.py:560: UserWarning: The distribution is specified by [2, 10] and step=15, but the range is not divisible by `step`. It will be replaced by [2, 2].\n",
      "  warnings.warn(\n"
     ]
    },
    {
     "name": "stdout",
     "output_type": "stream",
     "text": [
      "\n",
      "bestTest = 0.4589228612\n",
      "bestIteration = 152\n",
      "\n",
      "Training on fold [1/5]\n",
      "\n",
      "bestTest = 0.4530843296\n",
      "bestIteration = 149\n",
      "\n",
      "Training on fold [2/5]\n",
      "\n",
      "bestTest = 0.4605352801\n",
      "bestIteration = 182\n",
      "\n",
      "Training on fold [3/5]\n",
      "\n",
      "bestTest = 0.4588437414\n",
      "bestIteration = 155\n",
      "\n",
      "Training on fold [4/5]\n"
     ]
    },
    {
     "name": "stderr",
     "output_type": "stream",
     "text": [
      "\u001b[32m[I 2022-07-16 16:02:55,776]\u001b[0m Trial 98 finished with value: 0.8648469662211106 and parameters: {'iterations': 700, 'learning_rate': 0.15244708107220525, 'random_strength': 2, 'bagging_temperature': 10, 'max_bin': 5, 'grow_policy': 'Depthwise', 'min_data_in_leaf': 1, 'max_depth': 2, 'l2_leaf_reg': 2.2584912460577344e-05, 'one_hot_max_size': 12, 'auto_class_weights': 'Balanced'}. Best is trial 94 with value: 0.8658936631712054.\u001b[0m\n"
     ]
    },
    {
     "name": "stdout",
     "output_type": "stream",
     "text": [
      "\n",
      "bestTest = 0.4641804607\n",
      "bestIteration = 124\n",
      "\n",
      "Training on fold [0/5]\n"
     ]
    },
    {
     "name": "stderr",
     "output_type": "stream",
     "text": [
      "C:\\Users\\jvrdo\\anaconda3\\lib\\site-packages\\optuna\\distributions.py:560: UserWarning: The distribution is specified by [1, 10] and step=20, but the range is not divisible by `step`. It will be replaced by [1, 1].\n",
      "  warnings.warn(\n",
      "C:\\Users\\jvrdo\\anaconda3\\lib\\site-packages\\optuna\\distributions.py:560: UserWarning: The distribution is specified by [2, 10] and step=15, but the range is not divisible by `step`. It will be replaced by [2, 2].\n",
      "  warnings.warn(\n"
     ]
    },
    {
     "name": "stdout",
     "output_type": "stream",
     "text": [
      "\n",
      "bestTest = 0.4256753176\n",
      "bestIteration = 249\n",
      "\n",
      "Training on fold [1/5]\n",
      "\n",
      "bestTest = 0.4196310028\n",
      "bestIteration = 232\n",
      "\n",
      "Training on fold [2/5]\n",
      "\n",
      "bestTest = 0.4313441351\n",
      "bestIteration = 214\n",
      "\n",
      "Training on fold [3/5]\n",
      "\n",
      "bestTest = 0.4263876809\n",
      "bestIteration = 246\n",
      "\n",
      "Training on fold [4/5]\n"
     ]
    },
    {
     "name": "stderr",
     "output_type": "stream",
     "text": [
      "\u001b[32m[I 2022-07-16 16:03:15,466]\u001b[0m Trial 99 finished with value: 0.864814717437371 and parameters: {'iterations': 700, 'learning_rate': 0.1052903559132548, 'random_strength': 3, 'bagging_temperature': 10, 'max_bin': 20, 'grow_policy': 'Depthwise', 'min_data_in_leaf': 1, 'max_depth': 2, 'l2_leaf_reg': 7.436524847099147e-05, 'one_hot_max_size': 12, 'auto_class_weights': 'SqrtBalanced'}. Best is trial 94 with value: 0.8658936631712054.\u001b[0m\n"
     ]
    },
    {
     "name": "stdout",
     "output_type": "stream",
     "text": [
      "\n",
      "bestTest = 0.4281005766\n",
      "bestIteration = 302\n",
      "\n"
     ]
    }
   ],
   "source": [
    "sampler = optuna.samplers.TPESampler(seed=68)  # Make the sampler behave in a deterministic way.\n",
    "study = optuna.create_study(direction=\"maximize\", sampler=sampler)\n",
    "study.optimize(objective, n_trials=100)"
   ]
  },
  {
   "cell_type": "code",
   "execution_count": 146,
   "id": "5e4106ba",
   "metadata": {},
   "outputs": [],
   "source": [
    "final_model = CatBoostClassifier(verbose=False,  cat_features=categorical_features_indices, \n",
    "                          iterations=500,\n",
    "    learning_rate=0.05745075659543725,\n",
    "    random_strength=4,\n",
    "    bagging_temperature=8,\n",
    "    max_bin=5,\n",
    "    grow_policy=\"Lossguide\",\n",
    "    min_data_in_leaf=7,\n",
    "    max_depth=6,\n",
    "    l2_leaf_reg=11.323094517862078,\n",
    "    one_hot_max_size=10,\n",
    "    auto_class_weights=\"Balanced\")"
   ]
  },
  {
   "cell_type": "code",
   "execution_count": 147,
   "id": "82f93539",
   "metadata": {},
   "outputs": [
    {
     "data": {
      "text/plain": [
       "<catboost.core.CatBoostClassifier at 0x1c2be00a100>"
      ]
     },
     "execution_count": 147,
     "metadata": {},
     "output_type": "execute_result"
    }
   ],
   "source": [
    "final_model.fit(X_train, y_train.h1n1_vaccine)"
   ]
  },
  {
   "cell_type": "code",
   "execution_count": 148,
   "id": "dc663fd2",
   "metadata": {},
   "outputs": [],
   "source": [
    "predictions_h1 = final_model.predict_proba(X_test)"
   ]
  },
  {
   "cell_type": "code",
   "execution_count": 149,
   "id": "0263196f",
   "metadata": {},
   "outputs": [],
   "source": [
    "predictions_h1 = predictions_h1[:,1].reshape(-1,1)"
   ]
  },
  {
   "cell_type": "code",
   "execution_count": 150,
   "id": "8728a95a",
   "metadata": {},
   "outputs": [],
   "source": [
    "from sklearn.metrics import roc_curve, roc_auc_score\n",
    "\n",
    "def plot_roc(y_true, y_score, label_name, ax):\n",
    "    fpr, tpr, thresholds = roc_curve(y_true, y_score)\n",
    "    ax.plot(fpr, tpr)\n",
    "    ax.plot([0, 1], [0, 1], color='grey', linestyle='--')\n",
    "    ax.set_ylabel('TPR')\n",
    "    ax.set_xlabel('FPR')\n",
    "    ax.set_title(\n",
    "        f\"{label_name}: AUC = {roc_auc_score(y_true, y_score):.4f}\"\n",
    "    )"
   ]
  },
  {
   "cell_type": "code",
   "execution_count": 151,
   "id": "c0a60153",
   "metadata": {},
   "outputs": [
    {
     "data": {
      "image/png": "[encoded data removed]",
      "text/plain": [
       "<Figure size 720x576 with 1 Axes>"
      ]
     },
     "metadata": {},
     "output_type": "display_data"
    }
   ],
   "source": [
    "fig, ax = plt.subplots(1, 1, figsize=(10, 8))\n",
    "plot_roc(\n",
    "    y_test['h1n1_vaccine'], \n",
    "    predictions_h1, \n",
    "    'h1n1_vaccine',\n",
    "    ax=ax\n",
    ")"
   ]
  },
  {
   "cell_type": "code",
   "execution_count": 152,
   "id": "c43c5182",
   "metadata": {},
   "outputs": [
    {
     "data": {
      "text/plain": [
       "0.8709112999023308"
      ]
     },
     "execution_count": 152,
     "metadata": {},
     "output_type": "execute_result"
    }
   ],
   "source": [
    "roc_auc_score(y_test.h1n1_vaccine, predictions_h1)"
   ]
  },
  {
   "cell_type": "markdown",
   "id": "7e02e7a6",
   "metadata": {},
   "source": [
    "Seasonal vaccine"
   ]
  },
  {
   "cell_type": "code",
   "execution_count": 35,
   "id": "a6c72fce",
   "metadata": {},
   "outputs": [],
   "source": [
    "def objective(trial):\n",
    "    param = {\n",
    "        'iterations':trial.suggest_categorical('iterations', [100,200,300,500,700,1000,1200,1300,1500]),\n",
    "        'learning_rate':trial.suggest_float(\"learning_rate\", 0.001, 0.3),\n",
    "        'random_strength':trial.suggest_int(\"random_strength\", 1,10),\n",
    "        'bagging_temperature':trial.suggest_int(\"bagging_temperature\", 0,10),\n",
    "        'max_bin':trial.suggest_categorical('max_bin', [4,5,6,8,10,20,30]),\n",
    "        'grow_policy':trial.suggest_categorical('grow_policy', ['SymmetricTree', 'Depthwise', 'Lossguide']),\n",
    "        'min_data_in_leaf':trial.suggest_int(\"min_data_in_leaf\", 1,10,20),\n",
    "        'od_type' : \"Iter\",\n",
    "        'od_wait' : 100,\n",
    "        \"depth\": trial.suggest_int(\"max_depth\", 2,10,15),\n",
    "        \"l2_leaf_reg\": trial.suggest_loguniform(\"l2_leaf_reg\", 1e-8, 100),\n",
    "         'one_hot_max_size':trial.suggest_categorical('one_hot_max_size', [5,10,12,100,500,1024]),\n",
    "        'custom_metric' : ['AUC'],\n",
    "        \"loss_function\": \"Logloss\",\n",
    "        'auto_class_weights':trial.suggest_categorical('auto_class_weights', ['Balanced', 'SqrtBalanced']),\n",
    "        }\n",
    "\n",
    "    scores = cv(train_dataset_se,\n",
    "            param,\n",
    "            fold_count=5, \n",
    "            early_stopping_rounds=10,         \n",
    "            plot=False, verbose=False)\n",
    "\n",
    "    return scores['test-AUC-mean'].max()"
   ]
  },
  {
   "cell_type": "code",
   "execution_count": 36,
   "id": "787ad986",
   "metadata": {},
   "outputs": [
    {
     "name": "stderr",
     "output_type": "stream",
     "text": [
      "\u001b[32m[I 2022-07-18 14:00:10,722]\u001b[0m A new study created in memory with name: no-name-18ea3187-4d9e-48e7-8f28-09274f5238da\u001b[0m\n",
      "C:\\Users\\jvrdo\\anaconda3\\lib\\site-packages\\optuna\\distributions.py:560: UserWarning: The distribution is specified by [1, 10] and step=20, but the range is not divisible by `step`. It will be replaced by [1, 1].\n",
      "  warnings.warn(\n",
      "C:\\Users\\jvrdo\\anaconda3\\lib\\site-packages\\optuna\\distributions.py:560: UserWarning: The distribution is specified by [2, 10] and step=15, but the range is not divisible by `step`. It will be replaced by [2, 2].\n",
      "  warnings.warn(\n"
     ]
    },
    {
     "name": "stdout",
     "output_type": "stream",
     "text": [
      "Training on fold [0/5]\n",
      "\n",
      "bestTest = 0.4739367219\n",
      "bestIteration = 97\n",
      "\n",
      "Training on fold [1/5]\n",
      "\n",
      "bestTest = 0.4694872435\n",
      "bestIteration = 106\n",
      "\n",
      "Training on fold [2/5]\n",
      "\n",
      "bestTest = 0.4541477895\n",
      "bestIteration = 156\n",
      "\n",
      "Training on fold [3/5]\n",
      "\n",
      "bestTest = 0.4729716091\n",
      "bestIteration = 87\n",
      "\n",
      "Training on fold [4/5]\n"
     ]
    },
    {
     "name": "stderr",
     "output_type": "stream",
     "text": [
      "\u001b[32m[I 2022-07-18 14:00:12,772]\u001b[0m Trial 0 finished with value: 0.8596260041252229 and parameters: {'iterations': 1200, 'learning_rate': 0.27993591089710923, 'random_strength': 9, 'bagging_temperature': 8, 'max_bin': 4, 'grow_policy': 'Lossguide', 'min_data_in_leaf': 1, 'max_depth': 2, 'l2_leaf_reg': 0.001991194871120998, 'one_hot_max_size': 100, 'auto_class_weights': 'SqrtBalanced'}. Best is trial 0 with value: 0.8596260041252229.\u001b[0m\n"
     ]
    },
    {
     "name": "stdout",
     "output_type": "stream",
     "text": [
      "\n",
      "bestTest = 0.4701282291\n",
      "bestIteration = 148\n",
      "\n",
      "Training on fold [0/5]\n"
     ]
    },
    {
     "name": "stderr",
     "output_type": "stream",
     "text": [
      "C:\\Users\\jvrdo\\anaconda3\\lib\\site-packages\\optuna\\distributions.py:560: UserWarning: The distribution is specified by [1, 10] and step=20, but the range is not divisible by `step`. It will be replaced by [1, 1].\n",
      "  warnings.warn(\n",
      "C:\\Users\\jvrdo\\anaconda3\\lib\\site-packages\\optuna\\distributions.py:560: UserWarning: The distribution is specified by [2, 10] and step=15, but the range is not divisible by `step`. It will be replaced by [2, 2].\n",
      "  warnings.warn(\n"
     ]
    },
    {
     "name": "stdout",
     "output_type": "stream",
     "text": [
      "\n",
      "bestTest = 0.470860599\n",
      "bestIteration = 282\n",
      "\n",
      "Training on fold [1/5]\n",
      "\n",
      "bestTest = 0.4700003229\n",
      "bestIteration = 218\n",
      "\n",
      "Training on fold [2/5]\n",
      "\n",
      "bestTest = 0.4556673907\n",
      "bestIteration = 317\n",
      "\n",
      "Training on fold [3/5]\n",
      "\n",
      "bestTest = 0.4715416329\n",
      "bestIteration = 295\n",
      "\n",
      "Training on fold [4/5]\n"
     ]
    },
    {
     "name": "stderr",
     "output_type": "stream",
     "text": [
      "\u001b[32m[I 2022-07-18 14:00:16,569]\u001b[0m Trial 1 finished with value: 0.8601976788175684 and parameters: {'iterations': 1500, 'learning_rate': 0.10842629332974436, 'random_strength': 4, 'bagging_temperature': 1, 'max_bin': 30, 'grow_policy': 'SymmetricTree', 'min_data_in_leaf': 1, 'max_depth': 2, 'l2_leaf_reg': 0.028402775147703313, 'one_hot_max_size': 500, 'auto_class_weights': 'SqrtBalanced'}. Best is trial 1 with value: 0.8601976788175684.\u001b[0m\n"
     ]
    },
    {
     "name": "stdout",
     "output_type": "stream",
     "text": [
      "\n",
      "bestTest = 0.4724234938\n",
      "bestIteration = 173\n",
      "\n",
      "Training on fold [0/5]\n"
     ]
    },
    {
     "name": "stderr",
     "output_type": "stream",
     "text": [
      "C:\\Users\\jvrdo\\anaconda3\\lib\\site-packages\\optuna\\distributions.py:560: UserWarning: The distribution is specified by [1, 10] and step=20, but the range is not divisible by `step`. It will be replaced by [1, 1].\n",
      "  warnings.warn(\n",
      "C:\\Users\\jvrdo\\anaconda3\\lib\\site-packages\\optuna\\distributions.py:560: UserWarning: The distribution is specified by [2, 10] and step=15, but the range is not divisible by `step`. It will be replaced by [2, 2].\n",
      "  warnings.warn(\n"
     ]
    },
    {
     "name": "stdout",
     "output_type": "stream",
     "text": [
      "\n",
      "bestTest = 0.4715949868\n",
      "bestIteration = 86\n",
      "\n",
      "Training on fold [1/5]\n",
      "\n",
      "bestTest = 0.4678039715\n",
      "bestIteration = 136\n",
      "\n",
      "Training on fold [2/5]\n",
      "\n",
      "bestTest = 0.456334739\n",
      "bestIteration = 114\n",
      "\n",
      "Training on fold [3/5]\n",
      "\n",
      "bestTest = 0.469680137\n",
      "bestIteration = 129\n",
      "\n",
      "Training on fold [4/5]\n"
     ]
    },
    {
     "name": "stderr",
     "output_type": "stream",
     "text": [
      "\u001b[32m[I 2022-07-18 14:00:24,958]\u001b[0m Trial 2 finished with value: 0.8602693845781241 and parameters: {'iterations': 200, 'learning_rate': 0.23559884921762703, 'random_strength': 2, 'bagging_temperature': 9, 'max_bin': 6, 'grow_policy': 'SymmetricTree', 'min_data_in_leaf': 1, 'max_depth': 2, 'l2_leaf_reg': 0.027330135035255495, 'one_hot_max_size': 10, 'auto_class_weights': 'SqrtBalanced'}. Best is trial 2 with value: 0.8602693845781241.\u001b[0m\n"
     ]
    },
    {
     "name": "stdout",
     "output_type": "stream",
     "text": [
      "\n",
      "bestTest = 0.4719279036\n",
      "bestIteration = 86\n",
      "\n",
      "Training on fold [0/5]\n"
     ]
    },
    {
     "name": "stderr",
     "output_type": "stream",
     "text": [
      "C:\\Users\\jvrdo\\anaconda3\\lib\\site-packages\\optuna\\distributions.py:560: UserWarning: The distribution is specified by [1, 10] and step=20, but the range is not divisible by `step`. It will be replaced by [1, 1].\n",
      "  warnings.warn(\n",
      "C:\\Users\\jvrdo\\anaconda3\\lib\\site-packages\\optuna\\distributions.py:560: UserWarning: The distribution is specified by [2, 10] and step=15, but the range is not divisible by `step`. It will be replaced by [2, 2].\n",
      "  warnings.warn(\n"
     ]
    },
    {
     "name": "stdout",
     "output_type": "stream",
     "text": [
      "\n",
      "bestTest = 0.4689248552\n",
      "bestIteration = 199\n",
      "\n",
      "Training on fold [1/5]\n",
      "\n",
      "bestTest = 0.4697599548\n",
      "bestIteration = 134\n",
      "\n",
      "Training on fold [2/5]\n",
      "\n",
      "bestTest = 0.4590840023\n",
      "bestIteration = 136\n",
      "\n",
      "Training on fold [3/5]\n",
      "\n",
      "bestTest = 0.4747227595\n",
      "bestIteration = 110\n",
      "\n",
      "Training on fold [4/5]\n"
     ]
    },
    {
     "name": "stderr",
     "output_type": "stream",
     "text": [
      "\u001b[32m[I 2022-07-18 14:00:38,428]\u001b[0m Trial 3 finished with value: 0.8601435093247645 and parameters: {'iterations': 1000, 'learning_rate': 0.194974145539544, 'random_strength': 10, 'bagging_temperature': 7, 'max_bin': 20, 'grow_policy': 'SymmetricTree', 'min_data_in_leaf': 1, 'max_depth': 2, 'l2_leaf_reg': 1.300471404766049e-07, 'one_hot_max_size': 10, 'auto_class_weights': 'SqrtBalanced'}. Best is trial 2 with value: 0.8602693845781241.\u001b[0m\n"
     ]
    },
    {
     "name": "stdout",
     "output_type": "stream",
     "text": [
      "\n",
      "bestTest = 0.4667921991\n",
      "bestIteration = 208\n",
      "\n",
      "Training on fold [0/5]\n"
     ]
    },
    {
     "name": "stderr",
     "output_type": "stream",
     "text": [
      "C:\\Users\\jvrdo\\anaconda3\\lib\\site-packages\\optuna\\distributions.py:560: UserWarning: The distribution is specified by [1, 10] and step=20, but the range is not divisible by `step`. It will be replaced by [1, 1].\n",
      "  warnings.warn(\n",
      "C:\\Users\\jvrdo\\anaconda3\\lib\\site-packages\\optuna\\distributions.py:560: UserWarning: The distribution is specified by [2, 10] and step=15, but the range is not divisible by `step`. It will be replaced by [2, 2].\n",
      "  warnings.warn(\n"
     ]
    },
    {
     "name": "stdout",
     "output_type": "stream",
     "text": [
      "\n",
      "bestTest = 0.4728468225\n",
      "bestIteration = 299\n",
      "\n",
      "Training on fold [1/5]\n",
      "\n",
      "bestTest = 0.4702530228\n",
      "bestIteration = 298\n",
      "\n",
      "Training on fold [2/5]\n",
      "\n",
      "bestTest = 0.459259524\n",
      "bestIteration = 299\n",
      "\n",
      "Training on fold [3/5]\n",
      "\n",
      "bestTest = 0.4742725327\n",
      "bestIteration = 299\n",
      "\n",
      "Training on fold [4/5]\n"
     ]
    },
    {
     "name": "stderr",
     "output_type": "stream",
     "text": [
      "\u001b[32m[I 2022-07-18 14:00:42,469]\u001b[0m Trial 4 finished with value: 0.8594492011267933 and parameters: {'iterations': 300, 'learning_rate': 0.06928147101485782, 'random_strength': 6, 'bagging_temperature': 4, 'max_bin': 10, 'grow_policy': 'Depthwise', 'min_data_in_leaf': 1, 'max_depth': 2, 'l2_leaf_reg': 0.00010293033487726667, 'one_hot_max_size': 500, 'auto_class_weights': 'SqrtBalanced'}. Best is trial 2 with value: 0.8602693845781241.\u001b[0m\n"
     ]
    },
    {
     "name": "stdout",
     "output_type": "stream",
     "text": [
      "\n",
      "bestTest = 0.4695508439\n",
      "bestIteration = 299\n",
      "\n",
      "Training on fold [0/5]\n"
     ]
    },
    {
     "name": "stderr",
     "output_type": "stream",
     "text": [
      "C:\\Users\\jvrdo\\anaconda3\\lib\\site-packages\\optuna\\distributions.py:560: UserWarning: The distribution is specified by [1, 10] and step=20, but the range is not divisible by `step`. It will be replaced by [1, 1].\n",
      "  warnings.warn(\n",
      "C:\\Users\\jvrdo\\anaconda3\\lib\\site-packages\\optuna\\distributions.py:560: UserWarning: The distribution is specified by [2, 10] and step=15, but the range is not divisible by `step`. It will be replaced by [2, 2].\n",
      "  warnings.warn(\n"
     ]
    },
    {
     "name": "stdout",
     "output_type": "stream",
     "text": [
      "\n",
      "bestTest = 0.4775528121\n",
      "bestIteration = 99\n",
      "\n",
      "Training on fold [1/5]\n",
      "\n",
      "bestTest = 0.4745679724\n",
      "bestIteration = 99\n",
      "\n",
      "Training on fold [2/5]\n",
      "\n",
      "bestTest = 0.4634212722\n",
      "bestIteration = 99\n",
      "\n",
      "Training on fold [3/5]\n",
      "\n",
      "bestTest = 0.4775326683\n",
      "bestIteration = 99\n",
      "\n",
      "Training on fold [4/5]\n"
     ]
    },
    {
     "name": "stderr",
     "output_type": "stream",
     "text": [
      "\u001b[32m[I 2022-07-18 14:00:44,381]\u001b[0m Trial 5 finished with value: 0.8572768720002966 and parameters: {'iterations': 100, 'learning_rate': 0.1307813521062255, 'random_strength': 2, 'bagging_temperature': 3, 'max_bin': 8, 'grow_policy': 'Depthwise', 'min_data_in_leaf': 1, 'max_depth': 2, 'l2_leaf_reg': 13.751833235431702, 'one_hot_max_size': 100, 'auto_class_weights': 'Balanced'}. Best is trial 2 with value: 0.8602693845781241.\u001b[0m\n"
     ]
    },
    {
     "name": "stdout",
     "output_type": "stream",
     "text": [
      "\n",
      "bestTest = 0.4761438409\n",
      "bestIteration = 99\n",
      "\n",
      "Training on fold [0/5]\n"
     ]
    },
    {
     "name": "stderr",
     "output_type": "stream",
     "text": [
      "C:\\Users\\jvrdo\\anaconda3\\lib\\site-packages\\optuna\\distributions.py:560: UserWarning: The distribution is specified by [1, 10] and step=20, but the range is not divisible by `step`. It will be replaced by [1, 1].\n",
      "  warnings.warn(\n",
      "C:\\Users\\jvrdo\\anaconda3\\lib\\site-packages\\optuna\\distributions.py:560: UserWarning: The distribution is specified by [2, 10] and step=15, but the range is not divisible by `step`. It will be replaced by [2, 2].\n",
      "  warnings.warn(\n"
     ]
    },
    {
     "name": "stdout",
     "output_type": "stream",
     "text": [
      "\n",
      "bestTest = 0.4698358097\n",
      "bestIteration = 304\n",
      "\n",
      "Training on fold [1/5]\n",
      "\n",
      "bestTest = 0.4670777093\n",
      "bestIteration = 548\n",
      "\n",
      "Training on fold [2/5]\n",
      "\n",
      "bestTest = 0.4571227798\n",
      "bestIteration = 512\n",
      "\n",
      "Training on fold [3/5]\n",
      "\n",
      "bestTest = 0.4712030821\n",
      "bestIteration = 430\n",
      "\n",
      "Training on fold [4/5]\n"
     ]
    },
    {
     "name": "stderr",
     "output_type": "stream",
     "text": [
      "\u001b[32m[I 2022-07-18 14:01:34,529]\u001b[0m Trial 6 finished with value: 0.8607911761650249 and parameters: {'iterations': 1500, 'learning_rate': 0.05805171287971286, 'random_strength': 4, 'bagging_temperature': 8, 'max_bin': 10, 'grow_policy': 'Lossguide', 'min_data_in_leaf': 1, 'max_depth': 2, 'l2_leaf_reg': 2.6558249848041764, 'one_hot_max_size': 5, 'auto_class_weights': 'SqrtBalanced'}. Best is trial 6 with value: 0.8607911761650249.\u001b[0m\n"
     ]
    },
    {
     "name": "stdout",
     "output_type": "stream",
     "text": [
      "\n",
      "bestTest = 0.4675487535\n",
      "bestIteration = 504\n",
      "\n",
      "Training on fold [0/5]\n"
     ]
    },
    {
     "name": "stderr",
     "output_type": "stream",
     "text": [
      "C:\\Users\\jvrdo\\anaconda3\\lib\\site-packages\\optuna\\distributions.py:560: UserWarning: The distribution is specified by [1, 10] and step=20, but the range is not divisible by `step`. It will be replaced by [1, 1].\n",
      "  warnings.warn(\n",
      "C:\\Users\\jvrdo\\anaconda3\\lib\\site-packages\\optuna\\distributions.py:560: UserWarning: The distribution is specified by [2, 10] and step=15, but the range is not divisible by `step`. It will be replaced by [2, 2].\n",
      "  warnings.warn(\n"
     ]
    },
    {
     "name": "stdout",
     "output_type": "stream",
     "text": [
      "\n",
      "bestTest = 0.4712469457\n",
      "bestIteration = 207\n",
      "\n",
      "Training on fold [1/5]\n",
      "\n",
      "bestTest = 0.4683739162\n",
      "bestIteration = 159\n",
      "\n",
      "Training on fold [2/5]\n",
      "\n",
      "bestTest = 0.4562414514\n",
      "bestIteration = 218\n",
      "\n",
      "Training on fold [3/5]\n",
      "\n",
      "bestTest = 0.4713048568\n",
      "bestIteration = 172\n",
      "\n",
      "Training on fold [4/5]\n"
     ]
    },
    {
     "name": "stderr",
     "output_type": "stream",
     "text": [
      "\u001b[32m[I 2022-07-18 14:01:37,872]\u001b[0m Trial 7 finished with value: 0.8606107661440546 and parameters: {'iterations': 1300, 'learning_rate': 0.1807096213514747, 'random_strength': 4, 'bagging_temperature': 3, 'max_bin': 30, 'grow_policy': 'SymmetricTree', 'min_data_in_leaf': 1, 'max_depth': 2, 'l2_leaf_reg': 4.9369231964322795, 'one_hot_max_size': 1024, 'auto_class_weights': 'Balanced'}. Best is trial 6 with value: 0.8607911761650249.\u001b[0m\n"
     ]
    },
    {
     "name": "stdout",
     "output_type": "stream",
     "text": [
      "\n",
      "bestTest = 0.4700534149\n",
      "bestIteration = 150\n",
      "\n",
      "Training on fold [0/5]\n"
     ]
    },
    {
     "name": "stderr",
     "output_type": "stream",
     "text": [
      "C:\\Users\\jvrdo\\anaconda3\\lib\\site-packages\\optuna\\distributions.py:560: UserWarning: The distribution is specified by [1, 10] and step=20, but the range is not divisible by `step`. It will be replaced by [1, 1].\n",
      "  warnings.warn(\n",
      "C:\\Users\\jvrdo\\anaconda3\\lib\\site-packages\\optuna\\distributions.py:560: UserWarning: The distribution is specified by [2, 10] and step=15, but the range is not divisible by `step`. It will be replaced by [2, 2].\n",
      "  warnings.warn(\n"
     ]
    },
    {
     "name": "stdout",
     "output_type": "stream",
     "text": [
      "\n",
      "bestTest = 0.4758171375\n",
      "bestIteration = 1199\n",
      "\n",
      "Training on fold [1/5]\n",
      "\n",
      "bestTest = 0.4734553402\n",
      "bestIteration = 1199\n",
      "\n",
      "Training on fold [2/5]\n",
      "\n",
      "bestTest = 0.4639089946\n",
      "bestIteration = 1199\n",
      "\n",
      "Training on fold [3/5]\n",
      "\n",
      "bestTest = 0.4765356429\n",
      "bestIteration = 1199\n",
      "\n",
      "Training on fold [4/5]\n"
     ]
    },
    {
     "name": "stderr",
     "output_type": "stream",
     "text": [
      "\u001b[32m[I 2022-07-18 14:01:52,849]\u001b[0m Trial 8 finished with value: 0.8580958859270602 and parameters: {'iterations': 1200, 'learning_rate': 0.01226996693484591, 'random_strength': 5, 'bagging_temperature': 5, 'max_bin': 30, 'grow_policy': 'Depthwise', 'min_data_in_leaf': 1, 'max_depth': 2, 'l2_leaf_reg': 9.501510078266123e-06, 'one_hot_max_size': 500, 'auto_class_weights': 'SqrtBalanced'}. Best is trial 6 with value: 0.8607911761650249.\u001b[0m\n"
     ]
    },
    {
     "name": "stdout",
     "output_type": "stream",
     "text": [
      "\n",
      "bestTest = 0.4735660549\n",
      "bestIteration = 1198\n",
      "\n",
      "Training on fold [0/5]\n"
     ]
    },
    {
     "name": "stderr",
     "output_type": "stream",
     "text": [
      "C:\\Users\\jvrdo\\anaconda3\\lib\\site-packages\\optuna\\distributions.py:560: UserWarning: The distribution is specified by [1, 10] and step=20, but the range is not divisible by `step`. It will be replaced by [1, 1].\n",
      "  warnings.warn(\n",
      "C:\\Users\\jvrdo\\anaconda3\\lib\\site-packages\\optuna\\distributions.py:560: UserWarning: The distribution is specified by [2, 10] and step=15, but the range is not divisible by `step`. It will be replaced by [2, 2].\n",
      "  warnings.warn(\n"
     ]
    },
    {
     "name": "stdout",
     "output_type": "stream",
     "text": [
      "\n",
      "bestTest = 0.6041808639\n",
      "bestIteration = 99\n",
      "\n",
      "Training on fold [1/5]\n",
      "\n",
      "bestTest = 0.6025927147\n",
      "bestIteration = 99\n",
      "\n",
      "Training on fold [2/5]\n",
      "\n",
      "bestTest = 0.5995718715\n",
      "bestIteration = 99\n",
      "\n",
      "Training on fold [3/5]\n",
      "\n",
      "bestTest = 0.6029925511\n",
      "bestIteration = 99\n",
      "\n",
      "Training on fold [4/5]\n"
     ]
    },
    {
     "name": "stderr",
     "output_type": "stream",
     "text": [
      "\u001b[32m[I 2022-07-18 14:02:00,592]\u001b[0m Trial 9 finished with value: 0.8254342283172675 and parameters: {'iterations': 100, 'learning_rate': 0.007429919004710596, 'random_strength': 8, 'bagging_temperature': 2, 'max_bin': 4, 'grow_policy': 'SymmetricTree', 'min_data_in_leaf': 1, 'max_depth': 2, 'l2_leaf_reg': 1.1694576328936887e-07, 'one_hot_max_size': 12, 'auto_class_weights': 'SqrtBalanced'}. Best is trial 6 with value: 0.8607911761650249.\u001b[0m\n"
     ]
    },
    {
     "name": "stdout",
     "output_type": "stream",
     "text": [
      "\n",
      "bestTest = 0.6031677942\n",
      "bestIteration = 99\n",
      "\n",
      "Training on fold [0/5]\n"
     ]
    },
    {
     "name": "stderr",
     "output_type": "stream",
     "text": [
      "C:\\Users\\jvrdo\\anaconda3\\lib\\site-packages\\optuna\\distributions.py:560: UserWarning: The distribution is specified by [1, 10] and step=20, but the range is not divisible by `step`. It will be replaced by [1, 1].\n",
      "  warnings.warn(\n",
      "C:\\Users\\jvrdo\\anaconda3\\lib\\site-packages\\optuna\\distributions.py:560: UserWarning: The distribution is specified by [2, 10] and step=15, but the range is not divisible by `step`. It will be replaced by [2, 2].\n",
      "  warnings.warn(\n"
     ]
    },
    {
     "name": "stdout",
     "output_type": "stream",
     "text": [
      "\n",
      "bestTest = 0.4701433296\n",
      "bestIteration = 357\n",
      "\n",
      "Training on fold [1/5]\n",
      "\n",
      "bestTest = 0.4717803254\n",
      "bestIteration = 334\n",
      "\n",
      "Training on fold [2/5]\n",
      "\n",
      "bestTest = 0.4567437268\n",
      "bestIteration = 408\n",
      "\n",
      "Training on fold [3/5]\n",
      "\n",
      "bestTest = 0.4733717228\n",
      "bestIteration = 424\n",
      "\n",
      "Training on fold [4/5]\n"
     ]
    },
    {
     "name": "stderr",
     "output_type": "stream",
     "text": [
      "\u001b[32m[I 2022-07-18 14:02:37,969]\u001b[0m Trial 10 finished with value: 0.8601804720581316 and parameters: {'iterations': 500, 'learning_rate': 0.07030691356337633, 'random_strength': 7, 'bagging_temperature': 10, 'max_bin': 10, 'grow_policy': 'Lossguide', 'min_data_in_leaf': 1, 'max_depth': 2, 'l2_leaf_reg': 67.55513953843523, 'one_hot_max_size': 5, 'auto_class_weights': 'Balanced'}. Best is trial 6 with value: 0.8607911761650249.\u001b[0m\n"
     ]
    },
    {
     "name": "stdout",
     "output_type": "stream",
     "text": [
      "\n",
      "bestTest = 0.4691982773\n",
      "bestIteration = 363\n",
      "\n",
      "Training on fold [0/5]\n"
     ]
    },
    {
     "name": "stderr",
     "output_type": "stream",
     "text": [
      "C:\\Users\\jvrdo\\anaconda3\\lib\\site-packages\\optuna\\distributions.py:560: UserWarning: The distribution is specified by [1, 10] and step=20, but the range is not divisible by `step`. It will be replaced by [1, 1].\n",
      "  warnings.warn(\n",
      "C:\\Users\\jvrdo\\anaconda3\\lib\\site-packages\\optuna\\distributions.py:560: UserWarning: The distribution is specified by [2, 10] and step=15, but the range is not divisible by `step`. It will be replaced by [2, 2].\n",
      "  warnings.warn(\n"
     ]
    },
    {
     "name": "stdout",
     "output_type": "stream",
     "text": [
      "\n",
      "bestTest = 0.471233444\n",
      "bestIteration = 168\n",
      "\n",
      "Training on fold [1/5]\n",
      "\n",
      "bestTest = 0.4665202622\n",
      "bestIteration = 199\n",
      "\n",
      "Training on fold [2/5]\n",
      "\n",
      "bestTest = 0.4567816516\n",
      "bestIteration = 128\n",
      "\n",
      "Training on fold [3/5]\n",
      "\n",
      "bestTest = 0.472732434\n",
      "bestIteration = 145\n",
      "\n",
      "Training on fold [4/5]\n"
     ]
    },
    {
     "name": "stderr",
     "output_type": "stream",
     "text": [
      "\u001b[32m[I 2022-07-18 14:02:40,904]\u001b[0m Trial 11 finished with value: 0.8601296553678524 and parameters: {'iterations': 1300, 'learning_rate': 0.19712053324255274, 'random_strength': 4, 'bagging_temperature': 6, 'max_bin': 5, 'grow_policy': 'Lossguide', 'min_data_in_leaf': 1, 'max_depth': 2, 'l2_leaf_reg': 1.132726121845205, 'one_hot_max_size': 1024, 'auto_class_weights': 'Balanced'}. Best is trial 6 with value: 0.8607911761650249.\u001b[0m\n"
     ]
    },
    {
     "name": "stdout",
     "output_type": "stream",
     "text": [
      "\n",
      "bestTest = 0.4710743368\n",
      "bestIteration = 110\n",
      "\n",
      "Training on fold [0/5]\n"
     ]
    },
    {
     "name": "stderr",
     "output_type": "stream",
     "text": [
      "C:\\Users\\jvrdo\\anaconda3\\lib\\site-packages\\optuna\\distributions.py:560: UserWarning: The distribution is specified by [1, 10] and step=20, but the range is not divisible by `step`. It will be replaced by [1, 1].\n",
      "  warnings.warn(\n",
      "C:\\Users\\jvrdo\\anaconda3\\lib\\site-packages\\optuna\\distributions.py:560: UserWarning: The distribution is specified by [2, 10] and step=15, but the range is not divisible by `step`. It will be replaced by [2, 2].\n",
      "  warnings.warn(\n"
     ]
    },
    {
     "name": "stdout",
     "output_type": "stream",
     "text": [
      "\n",
      "bestTest = 0.4698299451\n",
      "bestIteration = 134\n",
      "\n",
      "Training on fold [1/5]\n",
      "\n",
      "bestTest = 0.4681959356\n",
      "bestIteration = 167\n",
      "\n",
      "Training on fold [2/5]\n",
      "\n",
      "bestTest = 0.4562953746\n",
      "bestIteration = 155\n",
      "\n",
      "Training on fold [3/5]\n",
      "\n",
      "bestTest = 0.4678185411\n",
      "bestIteration = 193\n",
      "\n",
      "Training on fold [4/5]\n"
     ]
    },
    {
     "name": "stderr",
     "output_type": "stream",
     "text": [
      "\u001b[32m[I 2022-07-18 14:02:44,069]\u001b[0m Trial 12 finished with value: 0.8610482464824102 and parameters: {'iterations': 1500, 'learning_rate': 0.17249264359119662, 'random_strength': 1, 'bagging_temperature': 5, 'max_bin': 10, 'grow_policy': 'Lossguide', 'min_data_in_leaf': 1, 'max_depth': 2, 'l2_leaf_reg': 0.6475340333678979, 'one_hot_max_size': 1024, 'auto_class_weights': 'Balanced'}. Best is trial 12 with value: 0.8610482464824102.\u001b[0m\n"
     ]
    },
    {
     "name": "stdout",
     "output_type": "stream",
     "text": [
      "\n",
      "bestTest = 0.4686871391\n",
      "bestIteration = 175\n",
      "\n",
      "Training on fold [0/5]\n"
     ]
    },
    {
     "name": "stderr",
     "output_type": "stream",
     "text": [
      "C:\\Users\\jvrdo\\anaconda3\\lib\\site-packages\\optuna\\distributions.py:560: UserWarning: The distribution is specified by [1, 10] and step=20, but the range is not divisible by `step`. It will be replaced by [1, 1].\n",
      "  warnings.warn(\n",
      "C:\\Users\\jvrdo\\anaconda3\\lib\\site-packages\\optuna\\distributions.py:560: UserWarning: The distribution is specified by [2, 10] and step=15, but the range is not divisible by `step`. It will be replaced by [2, 2].\n",
      "  warnings.warn(\n"
     ]
    },
    {
     "name": "stdout",
     "output_type": "stream",
     "text": [
      "\n",
      "bestTest = 0.4683323786\n",
      "bestIteration = 360\n",
      "\n",
      "Training on fold [1/5]\n",
      "\n",
      "bestTest = 0.4662114997\n",
      "bestIteration = 470\n",
      "\n",
      "Training on fold [2/5]\n",
      "\n",
      "bestTest = 0.4568594309\n",
      "bestIteration = 316\n",
      "\n",
      "Training on fold [3/5]\n",
      "\n",
      "bestTest = 0.4718751285\n",
      "bestIteration = 227\n",
      "\n",
      "Training on fold [4/5]\n"
     ]
    },
    {
     "name": "stderr",
     "output_type": "stream",
     "text": [
      "\u001b[32m[I 2022-07-18 14:03:21,319]\u001b[0m Trial 13 finished with value: 0.8613903118136623 and parameters: {'iterations': 1500, 'learning_rate': 0.08079637756527824, 'random_strength': 1, 'bagging_temperature': 6, 'max_bin': 10, 'grow_policy': 'Lossguide', 'min_data_in_leaf': 1, 'max_depth': 2, 'l2_leaf_reg': 0.22569618537476618, 'one_hot_max_size': 5, 'auto_class_weights': 'Balanced'}. Best is trial 13 with value: 0.8613903118136623.\u001b[0m\n"
     ]
    },
    {
     "name": "stdout",
     "output_type": "stream",
     "text": [
      "\n",
      "bestTest = 0.4666646147\n",
      "bestIteration = 455\n",
      "\n",
      "Training on fold [0/5]\n"
     ]
    },
    {
     "name": "stderr",
     "output_type": "stream",
     "text": [
      "C:\\Users\\jvrdo\\anaconda3\\lib\\site-packages\\optuna\\distributions.py:560: UserWarning: The distribution is specified by [1, 10] and step=20, but the range is not divisible by `step`. It will be replaced by [1, 1].\n",
      "  warnings.warn(\n",
      "C:\\Users\\jvrdo\\anaconda3\\lib\\site-packages\\optuna\\distributions.py:560: UserWarning: The distribution is specified by [2, 10] and step=15, but the range is not divisible by `step`. It will be replaced by [2, 2].\n",
      "  warnings.warn(\n"
     ]
    },
    {
     "name": "stdout",
     "output_type": "stream",
     "text": [
      "\n",
      "bestTest = 0.4685025964\n",
      "bestIteration = 196\n",
      "\n",
      "Training on fold [1/5]\n",
      "\n",
      "bestTest = 0.4686674126\n",
      "bestIteration = 170\n",
      "\n",
      "Training on fold [2/5]\n",
      "\n",
      "bestTest = 0.4564828388\n",
      "bestIteration = 197\n",
      "\n",
      "Training on fold [3/5]\n",
      "\n",
      "bestTest = 0.4705319122\n",
      "bestIteration = 150\n",
      "\n",
      "Training on fold [4/5]\n"
     ]
    },
    {
     "name": "stderr",
     "output_type": "stream",
     "text": [
      "\u001b[32m[I 2022-07-18 14:03:24,303]\u001b[0m Trial 14 finished with value: 0.8609574366178728 and parameters: {'iterations': 1500, 'learning_rate': 0.15343565009634413, 'random_strength': 1, 'bagging_temperature': 5, 'max_bin': 10, 'grow_policy': 'Lossguide', 'min_data_in_leaf': 1, 'max_depth': 2, 'l2_leaf_reg': 0.15626248462692469, 'one_hot_max_size': 1024, 'auto_class_weights': 'Balanced'}. Best is trial 13 with value: 0.8613903118136623.\u001b[0m\n"
     ]
    },
    {
     "name": "stdout",
     "output_type": "stream",
     "text": [
      "\n",
      "bestTest = 0.4669291647\n",
      "bestIteration = 265\n",
      "\n",
      "Training on fold [0/5]\n"
     ]
    },
    {
     "name": "stderr",
     "output_type": "stream",
     "text": [
      "C:\\Users\\jvrdo\\anaconda3\\lib\\site-packages\\optuna\\distributions.py:560: UserWarning: The distribution is specified by [1, 10] and step=20, but the range is not divisible by `step`. It will be replaced by [1, 1].\n",
      "  warnings.warn(\n",
      "C:\\Users\\jvrdo\\anaconda3\\lib\\site-packages\\optuna\\distributions.py:560: UserWarning: The distribution is specified by [2, 10] and step=15, but the range is not divisible by `step`. It will be replaced by [2, 2].\n",
      "  warnings.warn(\n"
     ]
    },
    {
     "name": "stdout",
     "output_type": "stream",
     "text": [
      "\n",
      "bestTest = 0.469506481\n",
      "bestIteration = 197\n",
      "\n",
      "Training on fold [1/5]\n",
      "\n",
      "bestTest = 0.4695810171\n",
      "bestIteration = 173\n",
      "\n",
      "Training on fold [2/5]\n",
      "\n",
      "bestTest = 0.4582894306\n",
      "bestIteration = 193\n",
      "\n",
      "Training on fold [3/5]\n",
      "\n",
      "bestTest = 0.4700186619\n",
      "bestIteration = 257\n",
      "\n",
      "Training on fold [4/5]\n"
     ]
    },
    {
     "name": "stderr",
     "output_type": "stream",
     "text": [
      "\u001b[32m[I 2022-07-18 14:03:47,175]\u001b[0m Trial 15 finished with value: 0.8606145869383817 and parameters: {'iterations': 700, 'learning_rate': 0.11471686732785508, 'random_strength': 1, 'bagging_temperature': 0, 'max_bin': 10, 'grow_policy': 'Lossguide', 'min_data_in_leaf': 1, 'max_depth': 2, 'l2_leaf_reg': 0.0025351879530061488, 'one_hot_max_size': 5, 'auto_class_weights': 'Balanced'}. Best is trial 13 with value: 0.8613903118136623.\u001b[0m\n"
     ]
    },
    {
     "name": "stdout",
     "output_type": "stream",
     "text": [
      "\n",
      "bestTest = 0.468509598\n",
      "bestIteration = 235\n",
      "\n",
      "Training on fold [0/5]\n"
     ]
    },
    {
     "name": "stderr",
     "output_type": "stream",
     "text": [
      "C:\\Users\\jvrdo\\anaconda3\\lib\\site-packages\\optuna\\distributions.py:560: UserWarning: The distribution is specified by [1, 10] and step=20, but the range is not divisible by `step`. It will be replaced by [1, 1].\n",
      "  warnings.warn(\n",
      "C:\\Users\\jvrdo\\anaconda3\\lib\\site-packages\\optuna\\distributions.py:560: UserWarning: The distribution is specified by [2, 10] and step=15, but the range is not divisible by `step`. It will be replaced by [2, 2].\n",
      "  warnings.warn(\n"
     ]
    },
    {
     "name": "stdout",
     "output_type": "stream",
     "text": [
      "\n",
      "bestTest = 0.4692752153\n",
      "bestIteration = 107\n",
      "\n",
      "Training on fold [1/5]\n",
      "\n",
      "bestTest = 0.4696829236\n",
      "bestIteration = 78\n",
      "\n",
      "Training on fold [2/5]\n",
      "\n",
      "bestTest = 0.4557528201\n",
      "bestIteration = 147\n",
      "\n",
      "Training on fold [3/5]\n",
      "\n",
      "bestTest = 0.4705935591\n",
      "bestIteration = 134\n",
      "\n",
      "Training on fold [4/5]\n"
     ]
    },
    {
     "name": "stderr",
     "output_type": "stream",
     "text": [
      "\u001b[32m[I 2022-07-18 14:04:00,963]\u001b[0m Trial 16 finished with value: 0.860910718532601 and parameters: {'iterations': 1500, 'learning_rate': 0.249179437332349, 'random_strength': 2, 'bagging_temperature': 6, 'max_bin': 5, 'grow_policy': 'Lossguide', 'min_data_in_leaf': 1, 'max_depth': 2, 'l2_leaf_reg': 0.14255935614818757, 'one_hot_max_size': 12, 'auto_class_weights': 'Balanced'}. Best is trial 13 with value: 0.8613903118136623.\u001b[0m\n"
     ]
    },
    {
     "name": "stdout",
     "output_type": "stream",
     "text": [
      "\n",
      "bestTest = 0.4660091393\n",
      "bestIteration = 149\n",
      "\n",
      "Training on fold [0/5]\n"
     ]
    },
    {
     "name": "stderr",
     "output_type": "stream",
     "text": [
      "C:\\Users\\jvrdo\\anaconda3\\lib\\site-packages\\optuna\\distributions.py:560: UserWarning: The distribution is specified by [1, 10] and step=20, but the range is not divisible by `step`. It will be replaced by [1, 1].\n",
      "  warnings.warn(\n",
      "C:\\Users\\jvrdo\\anaconda3\\lib\\site-packages\\optuna\\distributions.py:560: UserWarning: The distribution is specified by [2, 10] and step=15, but the range is not divisible by `step`. It will be replaced by [2, 2].\n",
      "  warnings.warn(\n"
     ]
    },
    {
     "name": "stdout",
     "output_type": "stream",
     "text": [
      "\n",
      "bestTest = 0.4714963338\n",
      "bestIteration = 142\n",
      "\n",
      "Training on fold [1/5]\n",
      "\n",
      "bestTest = 0.4710627696\n",
      "bestIteration = 119\n",
      "\n",
      "Training on fold [2/5]\n",
      "\n",
      "bestTest = 0.457444523\n",
      "bestIteration = 149\n",
      "\n",
      "Training on fold [3/5]\n",
      "\n",
      "bestTest = 0.4724484777\n",
      "bestIteration = 129\n",
      "\n",
      "Training on fold [4/5]\n"
     ]
    },
    {
     "name": "stderr",
     "output_type": "stream",
     "text": [
      "\u001b[32m[I 2022-07-18 14:04:03,325]\u001b[0m Trial 17 finished with value: 0.8601097389410075 and parameters: {'iterations': 1500, 'learning_rate': 0.16148765759383024, 'random_strength': 3, 'bagging_temperature': 6, 'max_bin': 20, 'grow_policy': 'Lossguide', 'min_data_in_leaf': 1, 'max_depth': 2, 'l2_leaf_reg': 3.851796313982801e-05, 'one_hot_max_size': 1024, 'auto_class_weights': 'Balanced'}. Best is trial 13 with value: 0.8613903118136623.\u001b[0m\n"
     ]
    },
    {
     "name": "stdout",
     "output_type": "stream",
     "text": [
      "\n",
      "bestTest = 0.4675522121\n",
      "bestIteration = 176\n",
      "\n",
      "Training on fold [0/5]\n"
     ]
    },
    {
     "name": "stderr",
     "output_type": "stream",
     "text": [
      "C:\\Users\\jvrdo\\anaconda3\\lib\\site-packages\\optuna\\distributions.py:560: UserWarning: The distribution is specified by [1, 10] and step=20, but the range is not divisible by `step`. It will be replaced by [1, 1].\n",
      "  warnings.warn(\n",
      "C:\\Users\\jvrdo\\anaconda3\\lib\\site-packages\\optuna\\distributions.py:560: UserWarning: The distribution is specified by [2, 10] and step=15, but the range is not divisible by `step`. It will be replaced by [2, 2].\n",
      "  warnings.warn(\n"
     ]
    },
    {
     "name": "stdout",
     "output_type": "stream",
     "text": [
      "\n",
      "bestTest = 0.4671414906\n",
      "bestIteration = 336\n",
      "\n",
      "Training on fold [1/5]\n",
      "\n",
      "bestTest = 0.4691596003\n",
      "bestIteration = 287\n",
      "\n",
      "Training on fold [2/5]\n",
      "\n",
      "bestTest = 0.4574831669\n",
      "bestIteration = 339\n",
      "\n",
      "Training on fold [3/5]\n",
      "\n",
      "bestTest = 0.4710702729\n",
      "bestIteration = 280\n",
      "\n",
      "Training on fold [4/5]\n"
     ]
    },
    {
     "name": "stderr",
     "output_type": "stream",
     "text": [
      "\u001b[32m[I 2022-07-18 14:04:35,167]\u001b[0m Trial 18 finished with value: 0.8610195124573929 and parameters: {'iterations': 700, 'learning_rate': 0.08240949939823293, 'random_strength': 1, 'bagging_temperature': 4, 'max_bin': 8, 'grow_policy': 'Lossguide', 'min_data_in_leaf': 1, 'max_depth': 2, 'l2_leaf_reg': 0.30933125562324615, 'one_hot_max_size': 5, 'auto_class_weights': 'Balanced'}. Best is trial 13 with value: 0.8613903118136623.\u001b[0m\n"
     ]
    },
    {
     "name": "stdout",
     "output_type": "stream",
     "text": [
      "\n",
      "bestTest = 0.4672401799\n",
      "bestIteration = 352\n",
      "\n",
      "Training on fold [0/5]\n"
     ]
    },
    {
     "name": "stderr",
     "output_type": "stream",
     "text": [
      "C:\\Users\\jvrdo\\anaconda3\\lib\\site-packages\\optuna\\distributions.py:560: UserWarning: The distribution is specified by [1, 10] and step=20, but the range is not divisible by `step`. It will be replaced by [1, 1].\n",
      "  warnings.warn(\n",
      "C:\\Users\\jvrdo\\anaconda3\\lib\\site-packages\\optuna\\distributions.py:560: UserWarning: The distribution is specified by [2, 10] and step=15, but the range is not divisible by `step`. It will be replaced by [2, 2].\n",
      "  warnings.warn(\n"
     ]
    },
    {
     "name": "stdout",
     "output_type": "stream",
     "text": [
      "\n",
      "bestTest = 0.4713844996\n",
      "bestIteration = 499\n",
      "\n",
      "Training on fold [1/5]\n",
      "\n",
      "bestTest = 0.4707455727\n",
      "bestIteration = 499\n",
      "\n",
      "Training on fold [2/5]\n",
      "\n",
      "bestTest = 0.459437632\n",
      "bestIteration = 498\n",
      "\n",
      "Training on fold [3/5]\n",
      "\n",
      "bestTest = 0.4734529013\n",
      "bestIteration = 499\n",
      "\n",
      "Training on fold [4/5]\n"
     ]
    },
    {
     "name": "stderr",
     "output_type": "stream",
     "text": [
      "\u001b[32m[I 2022-07-18 14:05:31,648]\u001b[0m Trial 19 finished with value: 0.8598399444213207 and parameters: {'iterations': 500, 'learning_rate': 0.039709031242663353, 'random_strength': 3, 'bagging_temperature': 7, 'max_bin': 6, 'grow_policy': 'Lossguide', 'min_data_in_leaf': 1, 'max_depth': 2, 'l2_leaf_reg': 56.09939037666618, 'one_hot_max_size': 5, 'auto_class_weights': 'Balanced'}. Best is trial 13 with value: 0.8613903118136623.\u001b[0m\n"
     ]
    },
    {
     "name": "stdout",
     "output_type": "stream",
     "text": [
      "\n",
      "bestTest = 0.4696568134\n",
      "bestIteration = 499\n",
      "\n",
      "Training on fold [0/5]\n"
     ]
    },
    {
     "name": "stderr",
     "output_type": "stream",
     "text": [
      "C:\\Users\\jvrdo\\anaconda3\\lib\\site-packages\\optuna\\distributions.py:560: UserWarning: The distribution is specified by [1, 10] and step=20, but the range is not divisible by `step`. It will be replaced by [1, 1].\n",
      "  warnings.warn(\n",
      "C:\\Users\\jvrdo\\anaconda3\\lib\\site-packages\\optuna\\distributions.py:560: UserWarning: The distribution is specified by [2, 10] and step=15, but the range is not divisible by `step`. It will be replaced by [2, 2].\n",
      "  warnings.warn(\n"
     ]
    },
    {
     "name": "stdout",
     "output_type": "stream",
     "text": [
      "\n",
      "bestTest = 0.4691153898\n",
      "bestIteration = 287\n",
      "\n",
      "Training on fold [1/5]\n",
      "\n",
      "bestTest = 0.4676459164\n",
      "bestIteration = 279\n",
      "\n",
      "Training on fold [2/5]\n",
      "\n",
      "bestTest = 0.4568888771\n",
      "bestIteration = 298\n",
      "\n",
      "Training on fold [3/5]\n",
      "\n",
      "bestTest = 0.471906831\n",
      "bestIteration = 265\n",
      "\n",
      "Training on fold [4/5]\n"
     ]
    },
    {
     "name": "stderr",
     "output_type": "stream",
     "text": [
      "\u001b[32m[I 2022-07-18 14:05:35,902]\u001b[0m Trial 20 finished with value: 0.8606739705305284 and parameters: {'iterations': 300, 'learning_rate': 0.10318197926662598, 'random_strength': 3, 'bagging_temperature': 4, 'max_bin': 10, 'grow_policy': 'Depthwise', 'min_data_in_leaf': 1, 'max_depth': 2, 'l2_leaf_reg': 0.005810919787260997, 'one_hot_max_size': 1024, 'auto_class_weights': 'Balanced'}. Best is trial 13 with value: 0.8613903118136623.\u001b[0m\n"
     ]
    },
    {
     "name": "stdout",
     "output_type": "stream",
     "text": [
      "\n",
      "bestTest = 0.4698750173\n",
      "bestIteration = 223\n",
      "\n",
      "Training on fold [0/5]\n"
     ]
    },
    {
     "name": "stderr",
     "output_type": "stream",
     "text": [
      "C:\\Users\\jvrdo\\anaconda3\\lib\\site-packages\\optuna\\distributions.py:560: UserWarning: The distribution is specified by [1, 10] and step=20, but the range is not divisible by `step`. It will be replaced by [1, 1].\n",
      "  warnings.warn(\n",
      "C:\\Users\\jvrdo\\anaconda3\\lib\\site-packages\\optuna\\distributions.py:560: UserWarning: The distribution is specified by [2, 10] and step=15, but the range is not divisible by `step`. It will be replaced by [2, 2].\n",
      "  warnings.warn(\n"
     ]
    },
    {
     "name": "stdout",
     "output_type": "stream",
     "text": [
      "\n",
      "bestTest = 0.4674744581\n",
      "bestIteration = 378\n",
      "\n",
      "Training on fold [1/5]\n",
      "\n",
      "bestTest = 0.4690560668\n",
      "bestIteration = 271\n",
      "\n",
      "Training on fold [2/5]\n",
      "\n",
      "bestTest = 0.4583472892\n",
      "bestIteration = 265\n",
      "\n",
      "Training on fold [3/5]\n",
      "\n",
      "bestTest = 0.4701896884\n",
      "bestIteration = 300\n",
      "\n",
      "Training on fold [4/5]\n"
     ]
    },
    {
     "name": "stderr",
     "output_type": "stream",
     "text": [
      "\u001b[32m[I 2022-07-18 14:06:07,047]\u001b[0m Trial 21 finished with value: 0.8610643959300974 and parameters: {'iterations': 700, 'learning_rate': 0.0877160229902641, 'random_strength': 1, 'bagging_temperature': 4, 'max_bin': 8, 'grow_policy': 'Lossguide', 'min_data_in_leaf': 1, 'max_depth': 2, 'l2_leaf_reg': 0.4195020653794389, 'one_hot_max_size': 5, 'auto_class_weights': 'Balanced'}. Best is trial 13 with value: 0.8613903118136623.\u001b[0m\n"
     ]
    },
    {
     "name": "stdout",
     "output_type": "stream",
     "text": [
      "\n",
      "bestTest = 0.4670243647\n",
      "bestIteration = 304\n",
      "\n",
      "Training on fold [0/5]\n"
     ]
    },
    {
     "name": "stderr",
     "output_type": "stream",
     "text": [
      "C:\\Users\\jvrdo\\anaconda3\\lib\\site-packages\\optuna\\distributions.py:560: UserWarning: The distribution is specified by [1, 10] and step=20, but the range is not divisible by `step`. It will be replaced by [1, 1].\n",
      "  warnings.warn(\n",
      "C:\\Users\\jvrdo\\anaconda3\\lib\\site-packages\\optuna\\distributions.py:560: UserWarning: The distribution is specified by [2, 10] and step=15, but the range is not divisible by `step`. It will be replaced by [2, 2].\n",
      "  warnings.warn(\n"
     ]
    },
    {
     "name": "stdout",
     "output_type": "stream",
     "text": [
      "\n",
      "bestTest = 0.469734513\n",
      "bestIteration = 142\n",
      "\n",
      "Training on fold [1/5]\n",
      "\n",
      "bestTest = 0.4674243448\n",
      "bestIteration = 261\n",
      "\n",
      "Training on fold [2/5]\n",
      "\n",
      "bestTest = 0.4565749471\n",
      "bestIteration = 174\n",
      "\n",
      "Training on fold [3/5]\n",
      "\n",
      "bestTest = 0.4719205571\n",
      "bestIteration = 164\n",
      "\n",
      "Training on fold [4/5]\n"
     ]
    },
    {
     "name": "stderr",
     "output_type": "stream",
     "text": [
      "\u001b[32m[I 2022-07-18 14:06:27,207]\u001b[0m Trial 22 finished with value: 0.8609563184600756 and parameters: {'iterations': 700, 'learning_rate': 0.13398386652174976, 'random_strength': 1, 'bagging_temperature': 5, 'max_bin': 8, 'grow_policy': 'Lossguide', 'min_data_in_leaf': 1, 'max_depth': 2, 'l2_leaf_reg': 0.6893108847622827, 'one_hot_max_size': 5, 'auto_class_weights': 'Balanced'}. Best is trial 13 with value: 0.8613903118136623.\u001b[0m\n"
     ]
    },
    {
     "name": "stdout",
     "output_type": "stream",
     "text": [
      "\n",
      "bestTest = 0.4673776838\n",
      "bestIteration = 214\n",
      "\n",
      "Training on fold [0/5]\n"
     ]
    },
    {
     "name": "stderr",
     "output_type": "stream",
     "text": [
      "C:\\Users\\jvrdo\\anaconda3\\lib\\site-packages\\optuna\\distributions.py:560: UserWarning: The distribution is specified by [1, 10] and step=20, but the range is not divisible by `step`. It will be replaced by [1, 1].\n",
      "  warnings.warn(\n",
      "C:\\Users\\jvrdo\\anaconda3\\lib\\site-packages\\optuna\\distributions.py:560: UserWarning: The distribution is specified by [2, 10] and step=15, but the range is not divisible by `step`. It will be replaced by [2, 2].\n",
      "  warnings.warn(\n"
     ]
    },
    {
     "name": "stdout",
     "output_type": "stream",
     "text": [
      "\n",
      "bestTest = 0.4684267454\n",
      "bestIteration = 341\n",
      "\n",
      "Training on fold [1/5]\n",
      "\n",
      "bestTest = 0.4689192328\n",
      "bestIteration = 268\n",
      "\n",
      "Training on fold [2/5]\n",
      "\n",
      "bestTest = 0.45865713\n",
      "bestIteration = 271\n",
      "\n",
      "Training on fold [3/5]\n",
      "\n",
      "bestTest = 0.4702388726\n",
      "bestIteration = 364\n",
      "\n",
      "Training on fold [4/5]\n"
     ]
    },
    {
     "name": "stderr",
     "output_type": "stream",
     "text": [
      "\u001b[32m[I 2022-07-18 14:07:00,051]\u001b[0m Trial 23 finished with value: 0.860917868588418 and parameters: {'iterations': 1000, 'learning_rate': 0.09249931467876643, 'random_strength': 2, 'bagging_temperature': 3, 'max_bin': 8, 'grow_policy': 'Lossguide', 'min_data_in_leaf': 1, 'max_depth': 2, 'l2_leaf_reg': 0.027640923568100863, 'one_hot_max_size': 5, 'auto_class_weights': 'Balanced'}. Best is trial 13 with value: 0.8613903118136623.\u001b[0m\n"
     ]
    },
    {
     "name": "stdout",
     "output_type": "stream",
     "text": [
      "\n",
      "bestTest = 0.4665842722\n",
      "bestIteration = 352\n",
      "\n",
      "Training on fold [0/5]\n"
     ]
    },
    {
     "name": "stderr",
     "output_type": "stream",
     "text": [
      "C:\\Users\\jvrdo\\anaconda3\\lib\\site-packages\\optuna\\distributions.py:560: UserWarning: The distribution is specified by [1, 10] and step=20, but the range is not divisible by `step`. It will be replaced by [1, 1].\n",
      "  warnings.warn(\n",
      "C:\\Users\\jvrdo\\anaconda3\\lib\\site-packages\\optuna\\distributions.py:560: UserWarning: The distribution is specified by [2, 10] and step=15, but the range is not divisible by `step`. It will be replaced by [2, 2].\n",
      "  warnings.warn(\n"
     ]
    },
    {
     "name": "stdout",
     "output_type": "stream",
     "text": [
      "\n",
      "bestTest = 0.4834119894\n",
      "bestIteration = 199\n",
      "\n",
      "Training on fold [1/5]\n",
      "\n",
      "bestTest = 0.4823540413\n",
      "bestIteration = 199\n",
      "\n",
      "Training on fold [2/5]\n",
      "\n",
      "bestTest = 0.4727869754\n",
      "bestIteration = 199\n",
      "\n",
      "Training on fold [3/5]\n",
      "\n",
      "bestTest = 0.4834590935\n",
      "bestIteration = 199\n",
      "\n",
      "Training on fold [4/5]\n"
     ]
    },
    {
     "name": "stderr",
     "output_type": "stream",
     "text": [
      "\u001b[32m[I 2022-07-18 14:07:19,694]\u001b[0m Trial 24 finished with value: 0.8548113208389939 and parameters: {'iterations': 200, 'learning_rate': 0.03750663188236397, 'random_strength': 1, 'bagging_temperature': 7, 'max_bin': 10, 'grow_policy': 'Lossguide', 'min_data_in_leaf': 1, 'max_depth': 2, 'l2_leaf_reg': 0.00022289973001291444, 'one_hot_max_size': 5, 'auto_class_weights': 'Balanced'}. Best is trial 13 with value: 0.8613903118136623.\u001b[0m\n"
     ]
    },
    {
     "name": "stdout",
     "output_type": "stream",
     "text": [
      "\n",
      "bestTest = 0.4819298462\n",
      "bestIteration = 199\n",
      "\n",
      "Training on fold [0/5]\n"
     ]
    },
    {
     "name": "stderr",
     "output_type": "stream",
     "text": [
      "C:\\Users\\jvrdo\\anaconda3\\lib\\site-packages\\optuna\\distributions.py:560: UserWarning: The distribution is specified by [1, 10] and step=20, but the range is not divisible by `step`. It will be replaced by [1, 1].\n",
      "  warnings.warn(\n",
      "C:\\Users\\jvrdo\\anaconda3\\lib\\site-packages\\optuna\\distributions.py:560: UserWarning: The distribution is specified by [2, 10] and step=15, but the range is not divisible by `step`. It will be replaced by [2, 2].\n",
      "  warnings.warn(\n"
     ]
    },
    {
     "name": "stdout",
     "output_type": "stream",
     "text": [
      "\n",
      "bestTest = 0.4691623195\n",
      "bestIteration = 205\n",
      "\n",
      "Training on fold [1/5]\n",
      "\n",
      "bestTest = 0.4707520446\n",
      "bestIteration = 143\n",
      "\n",
      "Training on fold [2/5]\n",
      "\n",
      "bestTest = 0.4570159637\n",
      "bestIteration = 169\n",
      "\n",
      "Training on fold [3/5]\n",
      "\n",
      "bestTest = 0.4714187856\n",
      "bestIteration = 215\n",
      "\n",
      "Training on fold [4/5]\n"
     ]
    },
    {
     "name": "stderr",
     "output_type": "stream",
     "text": [
      "\u001b[32m[I 2022-07-18 14:07:39,449]\u001b[0m Trial 25 finished with value: 0.8604587045912794 and parameters: {'iterations': 700, 'learning_rate': 0.13646097396846005, 'random_strength': 2, 'bagging_temperature': 2, 'max_bin': 8, 'grow_policy': 'Lossguide', 'min_data_in_leaf': 1, 'max_depth': 2, 'l2_leaf_reg': 9.322868427147666, 'one_hot_max_size': 12, 'auto_class_weights': 'Balanced'}. Best is trial 13 with value: 0.8613903118136623.\u001b[0m\n"
     ]
    },
    {
     "name": "stdout",
     "output_type": "stream",
     "text": [
      "\n",
      "bestTest = 0.46831175\n",
      "bestIteration = 182\n",
      "\n",
      "Training on fold [0/5]\n"
     ]
    },
    {
     "name": "stderr",
     "output_type": "stream",
     "text": [
      "C:\\Users\\jvrdo\\anaconda3\\lib\\site-packages\\optuna\\distributions.py:560: UserWarning: The distribution is specified by [1, 10] and step=20, but the range is not divisible by `step`. It will be replaced by [1, 1].\n",
      "  warnings.warn(\n",
      "C:\\Users\\jvrdo\\anaconda3\\lib\\site-packages\\optuna\\distributions.py:560: UserWarning: The distribution is specified by [2, 10] and step=15, but the range is not divisible by `step`. It will be replaced by [2, 2].\n",
      "  warnings.warn(\n"
     ]
    },
    {
     "name": "stdout",
     "output_type": "stream",
     "text": [
      "\n",
      "bestTest = 0.4706540249\n",
      "bestIteration = 94\n",
      "\n",
      "Training on fold [1/5]\n",
      "\n",
      "bestTest = 0.4672496233\n",
      "bestIteration = 164\n",
      "\n",
      "Training on fold [2/5]\n",
      "\n",
      "bestTest = 0.4598539589\n",
      "bestIteration = 120\n",
      "\n",
      "Training on fold [3/5]\n",
      "\n",
      "bestTest = 0.4723255293\n",
      "bestIteration = 144\n",
      "\n",
      "Training on fold [4/5]\n"
     ]
    },
    {
     "name": "stderr",
     "output_type": "stream",
     "text": [
      "\u001b[32m[I 2022-07-18 14:07:54,035]\u001b[0m Trial 26 finished with value: 0.8604033971549592 and parameters: {'iterations': 1500, 'learning_rate': 0.21366180952271552, 'random_strength': 3, 'bagging_temperature': 4, 'max_bin': 10, 'grow_policy': 'Lossguide', 'min_data_in_leaf': 1, 'max_depth': 2, 'l2_leaf_reg': 1.0595003544247859e-08, 'one_hot_max_size': 10, 'auto_class_weights': 'Balanced'}. Best is trial 13 with value: 0.8613903118136623.\u001b[0m\n"
     ]
    },
    {
     "name": "stdout",
     "output_type": "stream",
     "text": [
      "\n",
      "bestTest = 0.4645030248\n",
      "bestIteration = 159\n",
      "\n",
      "Training on fold [0/5]\n"
     ]
    },
    {
     "name": "stderr",
     "output_type": "stream",
     "text": [
      "C:\\Users\\jvrdo\\anaconda3\\lib\\site-packages\\optuna\\distributions.py:560: UserWarning: The distribution is specified by [1, 10] and step=20, but the range is not divisible by `step`. It will be replaced by [1, 1].\n",
      "  warnings.warn(\n",
      "C:\\Users\\jvrdo\\anaconda3\\lib\\site-packages\\optuna\\distributions.py:560: UserWarning: The distribution is specified by [2, 10] and step=15, but the range is not divisible by `step`. It will be replaced by [2, 2].\n",
      "  warnings.warn(\n"
     ]
    },
    {
     "name": "stdout",
     "output_type": "stream",
     "text": [
      "\n",
      "bestTest = 0.4714487309\n",
      "bestIteration = 147\n",
      "\n",
      "Training on fold [1/5]\n",
      "\n",
      "bestTest = 0.4675412902\n",
      "bestIteration = 162\n",
      "\n",
      "Training on fold [2/5]\n",
      "\n",
      "bestTest = 0.4561783277\n",
      "bestIteration = 177\n",
      "\n",
      "Training on fold [3/5]\n",
      "\n",
      "bestTest = 0.4738136646\n",
      "bestIteration = 197\n",
      "\n",
      "Training on fold [4/5]\n"
     ]
    },
    {
     "name": "stderr",
     "output_type": "stream",
     "text": [
      "\u001b[32m[I 2022-07-18 14:07:57,164]\u001b[0m Trial 27 finished with value: 0.8603646559898783 and parameters: {'iterations': 1500, 'learning_rate': 0.17002865016407984, 'random_strength': 5, 'bagging_temperature': 5, 'max_bin': 4, 'grow_policy': 'Lossguide', 'min_data_in_leaf': 1, 'max_depth': 2, 'l2_leaf_reg': 0.05683854155475645, 'one_hot_max_size': 100, 'auto_class_weights': 'Balanced'}. Best is trial 13 with value: 0.8613903118136623.\u001b[0m\n"
     ]
    },
    {
     "name": "stdout",
     "output_type": "stream",
     "text": [
      "\n",
      "bestTest = 0.4681336524\n",
      "bestIteration = 163\n",
      "\n",
      "Training on fold [0/5]\n"
     ]
    },
    {
     "name": "stderr",
     "output_type": "stream",
     "text": [
      "C:\\Users\\jvrdo\\anaconda3\\lib\\site-packages\\optuna\\distributions.py:560: UserWarning: The distribution is specified by [1, 10] and step=20, but the range is not divisible by `step`. It will be replaced by [1, 1].\n",
      "  warnings.warn(\n",
      "C:\\Users\\jvrdo\\anaconda3\\lib\\site-packages\\optuna\\distributions.py:560: UserWarning: The distribution is specified by [2, 10] and step=15, but the range is not divisible by `step`. It will be replaced by [2, 2].\n",
      "  warnings.warn(\n"
     ]
    },
    {
     "name": "stdout",
     "output_type": "stream",
     "text": [
      "\n",
      "bestTest = 0.4698711295\n",
      "bestIteration = 545\n",
      "\n",
      "Training on fold [1/5]\n",
      "\n",
      "bestTest = 0.4690353845\n",
      "bestIteration = 484\n",
      "\n",
      "Training on fold [2/5]\n",
      "\n",
      "bestTest = 0.4564758044\n",
      "bestIteration = 603\n",
      "\n",
      "Training on fold [3/5]\n",
      "\n",
      "bestTest = 0.470740498\n",
      "bestIteration = 564\n",
      "\n",
      "Training on fold [4/5]\n"
     ]
    },
    {
     "name": "stderr",
     "output_type": "stream",
     "text": [
      "\u001b[32m[I 2022-07-18 14:08:05,494]\u001b[0m Trial 28 finished with value: 0.8610237520935474 and parameters: {'iterations': 700, 'learning_rate': 0.041805281975713066, 'random_strength': 1, 'bagging_temperature': 6, 'max_bin': 20, 'grow_policy': 'Depthwise', 'min_data_in_leaf': 1, 'max_depth': 2, 'l2_leaf_reg': 0.00945203087407442, 'one_hot_max_size': 1024, 'auto_class_weights': 'Balanced'}. Best is trial 13 with value: 0.8613903118136623.\u001b[0m\n"
     ]
    },
    {
     "name": "stdout",
     "output_type": "stream",
     "text": [
      "\n",
      "bestTest = 0.4678540273\n",
      "bestIteration = 551\n",
      "\n",
      "Training on fold [0/5]\n"
     ]
    },
    {
     "name": "stderr",
     "output_type": "stream",
     "text": [
      "C:\\Users\\jvrdo\\anaconda3\\lib\\site-packages\\optuna\\distributions.py:560: UserWarning: The distribution is specified by [1, 10] and step=20, but the range is not divisible by `step`. It will be replaced by [1, 1].\n",
      "  warnings.warn(\n",
      "C:\\Users\\jvrdo\\anaconda3\\lib\\site-packages\\optuna\\distributions.py:560: UserWarning: The distribution is specified by [2, 10] and step=15, but the range is not divisible by `step`. It will be replaced by [2, 2].\n",
      "  warnings.warn(\n"
     ]
    },
    {
     "name": "stdout",
     "output_type": "stream",
     "text": [
      "\n",
      "bestTest = 0.4723514262\n",
      "bestIteration = 100\n",
      "\n",
      "Training on fold [1/5]\n",
      "\n",
      "bestTest = 0.4702224936\n",
      "bestIteration = 99\n",
      "\n",
      "Training on fold [2/5]\n",
      "\n",
      "bestTest = 0.456808306\n",
      "bestIteration = 117\n",
      "\n",
      "Training on fold [3/5]\n",
      "\n",
      "bestTest = 0.4732086451\n",
      "bestIteration = 85\n",
      "\n",
      "Training on fold [4/5]\n"
     ]
    },
    {
     "name": "stderr",
     "output_type": "stream",
     "text": [
      "\u001b[32m[I 2022-07-18 14:08:07,323]\u001b[0m Trial 29 finished with value: 0.8594969122367722 and parameters: {'iterations': 1200, 'learning_rate': 0.2835047190717169, 'random_strength': 9, 'bagging_temperature': 2, 'max_bin': 5, 'grow_policy': 'Lossguide', 'min_data_in_leaf': 1, 'max_depth': 2, 'l2_leaf_reg': 0.0005950206532270878, 'one_hot_max_size': 100, 'auto_class_weights': 'Balanced'}. Best is trial 13 with value: 0.8613903118136623.\u001b[0m\n"
     ]
    },
    {
     "name": "stdout",
     "output_type": "stream",
     "text": [
      "\n",
      "bestTest = 0.4718804244\n",
      "bestIteration = 106\n",
      "\n",
      "Training on fold [0/5]\n"
     ]
    },
    {
     "name": "stderr",
     "output_type": "stream",
     "text": [
      "C:\\Users\\jvrdo\\anaconda3\\lib\\site-packages\\optuna\\distributions.py:560: UserWarning: The distribution is specified by [1, 10] and step=20, but the range is not divisible by `step`. It will be replaced by [1, 1].\n",
      "  warnings.warn(\n",
      "C:\\Users\\jvrdo\\anaconda3\\lib\\site-packages\\optuna\\distributions.py:560: UserWarning: The distribution is specified by [2, 10] and step=15, but the range is not divisible by `step`. It will be replaced by [2, 2].\n",
      "  warnings.warn(\n"
     ]
    },
    {
     "name": "stdout",
     "output_type": "stream",
     "text": [
      "\n",
      "bestTest = 0.4702376608\n",
      "bestIteration = 282\n",
      "\n",
      "Training on fold [1/5]\n",
      "\n",
      "bestTest = 0.4708548016\n",
      "bestIteration = 236\n",
      "\n",
      "Training on fold [2/5]\n",
      "\n",
      "bestTest = 0.4569584743\n",
      "bestIteration = 242\n",
      "\n",
      "Training on fold [3/5]\n",
      "\n",
      "bestTest = 0.4719169196\n",
      "bestIteration = 236\n",
      "\n",
      "Training on fold [4/5]\n"
     ]
    },
    {
     "name": "stderr",
     "output_type": "stream",
     "text": [
      "\u001b[32m[I 2022-07-18 14:08:31,899]\u001b[0m Trial 30 finished with value: 0.8605129088579802 and parameters: {'iterations': 1500, 'learning_rate': 0.11816987809671578, 'random_strength': 6, 'bagging_temperature': 8, 'max_bin': 6, 'grow_policy': 'Lossguide', 'min_data_in_leaf': 1, 'max_depth': 2, 'l2_leaf_reg': 1.192289660084317, 'one_hot_max_size': 5, 'auto_class_weights': 'Balanced'}. Best is trial 13 with value: 0.8613903118136623.\u001b[0m\n"
     ]
    },
    {
     "name": "stdout",
     "output_type": "stream",
     "text": [
      "\n",
      "bestTest = 0.4666702529\n",
      "bestIteration = 274\n",
      "\n",
      "Training on fold [0/5]\n"
     ]
    },
    {
     "name": "stderr",
     "output_type": "stream",
     "text": [
      "C:\\Users\\jvrdo\\anaconda3\\lib\\site-packages\\optuna\\distributions.py:560: UserWarning: The distribution is specified by [1, 10] and step=20, but the range is not divisible by `step`. It will be replaced by [1, 1].\n",
      "  warnings.warn(\n",
      "C:\\Users\\jvrdo\\anaconda3\\lib\\site-packages\\optuna\\distributions.py:560: UserWarning: The distribution is specified by [2, 10] and step=15, but the range is not divisible by `step`. It will be replaced by [2, 2].\n",
      "  warnings.warn(\n"
     ]
    },
    {
     "name": "stdout",
     "output_type": "stream",
     "text": [
      "\n",
      "bestTest = 0.4716292383\n",
      "bestIteration = 387\n",
      "\n",
      "Training on fold [1/5]\n",
      "\n",
      "bestTest = 0.4657808122\n",
      "bestIteration = 672\n",
      "\n",
      "Training on fold [2/5]\n",
      "\n",
      "bestTest = 0.4555818231\n",
      "bestIteration = 551\n",
      "\n",
      "Training on fold [3/5]\n",
      "\n",
      "bestTest = 0.4702907992\n",
      "bestIteration = 578\n",
      "\n",
      "Training on fold [4/5]\n"
     ]
    },
    {
     "name": "stderr",
     "output_type": "stream",
     "text": [
      "\u001b[32m[I 2022-07-18 14:08:39,012]\u001b[0m Trial 31 finished with value: 0.8613658860130851 and parameters: {'iterations': 700, 'learning_rate': 0.0452053119133547, 'random_strength': 1, 'bagging_temperature': 6, 'max_bin': 20, 'grow_policy': 'Depthwise', 'min_data_in_leaf': 1, 'max_depth': 2, 'l2_leaf_reg': 0.009499505638257045, 'one_hot_max_size': 1024, 'auto_class_weights': 'Balanced'}. Best is trial 13 with value: 0.8613903118136623.\u001b[0m\n"
     ]
    },
    {
     "name": "stdout",
     "output_type": "stream",
     "text": [
      "\n",
      "bestTest = 0.4682254708\n",
      "bestIteration = 505\n",
      "\n",
      "Training on fold [0/5]\n"
     ]
    },
    {
     "name": "stderr",
     "output_type": "stream",
     "text": [
      "C:\\Users\\jvrdo\\anaconda3\\lib\\site-packages\\optuna\\distributions.py:560: UserWarning: The distribution is specified by [1, 10] and step=20, but the range is not divisible by `step`. It will be replaced by [1, 1].\n",
      "  warnings.warn(\n",
      "C:\\Users\\jvrdo\\anaconda3\\lib\\site-packages\\optuna\\distributions.py:560: UserWarning: The distribution is specified by [2, 10] and step=15, but the range is not divisible by `step`. It will be replaced by [2, 2].\n",
      "  warnings.warn(\n"
     ]
    },
    {
     "name": "stdout",
     "output_type": "stream",
     "text": [
      "\n",
      "bestTest = 0.4711914076\n",
      "bestIteration = 699\n",
      "\n",
      "Training on fold [1/5]\n",
      "\n",
      "bestTest = 0.4707600995\n",
      "bestIteration = 696\n",
      "\n",
      "Training on fold [2/5]\n",
      "\n",
      "bestTest = 0.459333276\n",
      "bestIteration = 699\n",
      "\n",
      "Training on fold [3/5]\n",
      "\n",
      "bestTest = 0.4727384336\n",
      "bestIteration = 699\n",
      "\n",
      "Training on fold [4/5]\n"
     ]
    },
    {
     "name": "stderr",
     "output_type": "stream",
     "text": [
      "\u001b[32m[I 2022-07-18 14:08:47,630]\u001b[0m Trial 32 finished with value: 0.8600466442362349 and parameters: {'iterations': 700, 'learning_rate': 0.026879985732241023, 'random_strength': 2, 'bagging_temperature': 7, 'max_bin': 20, 'grow_policy': 'Depthwise', 'min_data_in_leaf': 1, 'max_depth': 2, 'l2_leaf_reg': 0.24050890077225745, 'one_hot_max_size': 1024, 'auto_class_weights': 'Balanced'}. Best is trial 13 with value: 0.8613903118136623.\u001b[0m\n"
     ]
    },
    {
     "name": "stdout",
     "output_type": "stream",
     "text": [
      "\n",
      "bestTest = 0.4705425409\n",
      "bestIteration = 653\n",
      "\n",
      "Training on fold [0/5]\n"
     ]
    },
    {
     "name": "stderr",
     "output_type": "stream",
     "text": [
      "C:\\Users\\jvrdo\\anaconda3\\lib\\site-packages\\optuna\\distributions.py:560: UserWarning: The distribution is specified by [1, 10] and step=20, but the range is not divisible by `step`. It will be replaced by [1, 1].\n",
      "  warnings.warn(\n",
      "C:\\Users\\jvrdo\\anaconda3\\lib\\site-packages\\optuna\\distributions.py:560: UserWarning: The distribution is specified by [2, 10] and step=15, but the range is not divisible by `step`. It will be replaced by [2, 2].\n",
      "  warnings.warn(\n"
     ]
    },
    {
     "name": "stdout",
     "output_type": "stream",
     "text": [
      "\n",
      "bestTest = 0.4700544838\n",
      "bestIteration = 403\n",
      "\n",
      "Training on fold [1/5]\n",
      "\n",
      "bestTest = 0.4691002949\n",
      "bestIteration = 353\n",
      "\n",
      "Training on fold [2/5]\n",
      "\n",
      "bestTest = 0.4563045702\n",
      "bestIteration = 442\n",
      "\n",
      "Training on fold [3/5]\n",
      "\n",
      "bestTest = 0.4708497598\n",
      "bestIteration = 428\n",
      "\n",
      "Training on fold [4/5]\n"
     ]
    },
    {
     "name": "stderr",
     "output_type": "stream",
     "text": [
      "\u001b[32m[I 2022-07-18 14:08:52,924]\u001b[0m Trial 33 finished with value: 0.8608498506476018 and parameters: {'iterations': 700, 'learning_rate': 0.057473100017839604, 'random_strength': 1, 'bagging_temperature': 5, 'max_bin': 20, 'grow_policy': 'Depthwise', 'min_data_in_leaf': 1, 'max_depth': 2, 'l2_leaf_reg': 0.0013661941468324015, 'one_hot_max_size': 1024, 'auto_class_weights': 'Balanced'}. Best is trial 13 with value: 0.8613903118136623.\u001b[0m\n"
     ]
    },
    {
     "name": "stdout",
     "output_type": "stream",
     "text": [
      "\n",
      "bestTest = 0.4690985666\n",
      "bestIteration = 363\n",
      "\n",
      "Training on fold [0/5]\n"
     ]
    },
    {
     "name": "stderr",
     "output_type": "stream",
     "text": [
      "C:\\Users\\jvrdo\\anaconda3\\lib\\site-packages\\optuna\\distributions.py:560: UserWarning: The distribution is specified by [1, 10] and step=20, but the range is not divisible by `step`. It will be replaced by [1, 1].\n",
      "  warnings.warn(\n",
      "C:\\Users\\jvrdo\\anaconda3\\lib\\site-packages\\optuna\\distributions.py:560: UserWarning: The distribution is specified by [2, 10] and step=15, but the range is not divisible by `step`. It will be replaced by [2, 2].\n",
      "  warnings.warn(\n"
     ]
    },
    {
     "name": "stdout",
     "output_type": "stream",
     "text": [
      "\n",
      "bestTest = 0.4707628282\n",
      "bestIteration = 234\n",
      "\n",
      "Training on fold [1/5]\n",
      "\n",
      "bestTest = 0.4675619171\n",
      "bestIteration = 364\n",
      "\n",
      "Training on fold [2/5]\n",
      "\n",
      "bestTest = 0.457938919\n",
      "bestIteration = 282\n",
      "\n",
      "Training on fold [3/5]\n",
      "\n",
      "bestTest = 0.4704679734\n",
      "bestIteration = 323\n",
      "\n",
      "Training on fold [4/5]\n"
     ]
    },
    {
     "name": "stderr",
     "output_type": "stream",
     "text": [
      "\u001b[32m[I 2022-07-18 14:08:56,740]\u001b[0m Trial 34 finished with value: 0.8603791380110126 and parameters: {'iterations': 1000, 'learning_rate': 0.08724194509231108, 'random_strength': 2, 'bagging_temperature': 6, 'max_bin': 4, 'grow_policy': 'Depthwise', 'min_data_in_leaf': 1, 'max_depth': 2, 'l2_leaf_reg': 0.01128376843401292, 'one_hot_max_size': 1024, 'auto_class_weights': 'Balanced'}. Best is trial 13 with value: 0.8613903118136623.\u001b[0m\n"
     ]
    },
    {
     "name": "stdout",
     "output_type": "stream",
     "text": [
      "\n",
      "bestTest = 0.4702091313\n",
      "bestIteration = 291\n",
      "\n",
      "Training on fold [0/5]\n"
     ]
    },
    {
     "name": "stderr",
     "output_type": "stream",
     "text": [
      "C:\\Users\\jvrdo\\anaconda3\\lib\\site-packages\\optuna\\distributions.py:560: UserWarning: The distribution is specified by [1, 10] and step=20, but the range is not divisible by `step`. It will be replaced by [1, 1].\n",
      "  warnings.warn(\n",
      "C:\\Users\\jvrdo\\anaconda3\\lib\\site-packages\\optuna\\distributions.py:560: UserWarning: The distribution is specified by [2, 10] and step=15, but the range is not divisible by `step`. It will be replaced by [2, 2].\n",
      "  warnings.warn(\n"
     ]
    },
    {
     "name": "stdout",
     "output_type": "stream",
     "text": [
      "\n",
      "bestTest = 0.4709382577\n",
      "bestIteration = 129\n",
      "\n",
      "Training on fold [1/5]\n",
      "\n",
      "bestTest = 0.4700729996\n",
      "bestIteration = 109\n",
      "\n",
      "Training on fold [2/5]\n",
      "\n",
      "bestTest = 0.4574187293\n",
      "bestIteration = 109\n",
      "\n",
      "Training on fold [3/5]\n",
      "\n",
      "bestTest = 0.4719818468\n",
      "bestIteration = 137\n",
      "\n",
      "Training on fold [4/5]\n"
     ]
    },
    {
     "name": "stderr",
     "output_type": "stream",
     "text": [
      "\u001b[32m[I 2022-07-18 14:08:58,465]\u001b[0m Trial 35 finished with value: 0.8599763744291755 and parameters: {'iterations': 200, 'learning_rate': 0.2283575300177211, 'random_strength': 3, 'bagging_temperature': 9, 'max_bin': 20, 'grow_policy': 'SymmetricTree', 'min_data_in_leaf': 1, 'max_depth': 2, 'l2_leaf_reg': 0.05857631444435135, 'one_hot_max_size': 500, 'auto_class_weights': 'SqrtBalanced'}. Best is trial 13 with value: 0.8613903118136623.\u001b[0m\n"
     ]
    },
    {
     "name": "stdout",
     "output_type": "stream",
     "text": [
      "\n",
      "bestTest = 0.4690672088\n",
      "bestIteration = 148\n",
      "\n",
      "Training on fold [0/5]\n"
     ]
    },
    {
     "name": "stderr",
     "output_type": "stream",
     "text": [
      "C:\\Users\\jvrdo\\anaconda3\\lib\\site-packages\\optuna\\distributions.py:560: UserWarning: The distribution is specified by [1, 10] and step=20, but the range is not divisible by `step`. It will be replaced by [1, 1].\n",
      "  warnings.warn(\n",
      "C:\\Users\\jvrdo\\anaconda3\\lib\\site-packages\\optuna\\distributions.py:560: UserWarning: The distribution is specified by [2, 10] and step=15, but the range is not divisible by `step`. It will be replaced by [2, 2].\n",
      "  warnings.warn(\n"
     ]
    },
    {
     "name": "stdout",
     "output_type": "stream",
     "text": [
      "\n",
      "bestTest = 0.4731600873\n",
      "bestIteration = 70\n",
      "\n",
      "Training on fold [1/5]\n",
      "\n",
      "bestTest = 0.4707327392\n",
      "bestIteration = 76\n",
      "\n",
      "Training on fold [2/5]\n",
      "\n",
      "bestTest = 0.4565998869\n",
      "bestIteration = 82\n",
      "\n",
      "Training on fold [3/5]\n",
      "\n",
      "bestTest = 0.4694138396\n",
      "bestIteration = 143\n",
      "\n",
      "Training on fold [4/5]\n"
     ]
    },
    {
     "name": "stderr",
     "output_type": "stream",
     "text": [
      "\u001b[32m[I 2022-07-18 14:09:06,436]\u001b[0m Trial 36 finished with value: 0.8603014566656366 and parameters: {'iterations': 300, 'learning_rate': 0.26062568346210263, 'random_strength': 1, 'bagging_temperature': 4, 'max_bin': 8, 'grow_policy': 'Depthwise', 'min_data_in_leaf': 1, 'max_depth': 2, 'l2_leaf_reg': 20.915002072424137, 'one_hot_max_size': 10, 'auto_class_weights': 'Balanced'}. Best is trial 13 with value: 0.8613903118136623.\u001b[0m\n"
     ]
    },
    {
     "name": "stdout",
     "output_type": "stream",
     "text": [
      "\n",
      "bestTest = 0.4677588723\n",
      "bestIteration = 103\n",
      "\n",
      "Training on fold [0/5]\n"
     ]
    },
    {
     "name": "stderr",
     "output_type": "stream",
     "text": [
      "C:\\Users\\jvrdo\\anaconda3\\lib\\site-packages\\optuna\\distributions.py:560: UserWarning: The distribution is specified by [1, 10] and step=20, but the range is not divisible by `step`. It will be replaced by [1, 1].\n",
      "  warnings.warn(\n",
      "C:\\Users\\jvrdo\\anaconda3\\lib\\site-packages\\optuna\\distributions.py:560: UserWarning: The distribution is specified by [2, 10] and step=15, but the range is not divisible by `step`. It will be replaced by [2, 2].\n",
      "  warnings.warn(\n"
     ]
    },
    {
     "name": "stdout",
     "output_type": "stream",
     "text": [
      "\n",
      "bestTest = 0.4942271845\n",
      "bestIteration = 99\n",
      "\n",
      "Training on fold [1/5]\n",
      "\n",
      "bestTest = 0.4904147299\n",
      "bestIteration = 99\n",
      "\n",
      "Training on fold [2/5]\n",
      "\n",
      "bestTest = 0.4813622307\n",
      "bestIteration = 99\n",
      "\n",
      "Training on fold [3/5]\n",
      "\n",
      "bestTest = 0.4913985019\n",
      "bestIteration = 99\n",
      "\n",
      "Training on fold [4/5]\n"
     ]
    },
    {
     "name": "stderr",
     "output_type": "stream",
     "text": [
      "\u001b[32m[I 2022-07-18 14:09:13,582]\u001b[0m Trial 37 finished with value: 0.8504921170288865 and parameters: {'iterations': 100, 'learning_rate': 0.06730405543312588, 'random_strength': 2, 'bagging_temperature': 7, 'max_bin': 10, 'grow_policy': 'SymmetricTree', 'min_data_in_leaf': 1, 'max_depth': 2, 'l2_leaf_reg': 2.236651740548096, 'one_hot_max_size': 5, 'auto_class_weights': 'SqrtBalanced'}. Best is trial 13 with value: 0.8613903118136623.\u001b[0m\n"
     ]
    },
    {
     "name": "stdout",
     "output_type": "stream",
     "text": [
      "\n",
      "bestTest = 0.4897422201\n",
      "bestIteration = 99\n",
      "\n",
      "Training on fold [0/5]\n"
     ]
    },
    {
     "name": "stderr",
     "output_type": "stream",
     "text": [
      "C:\\Users\\jvrdo\\anaconda3\\lib\\site-packages\\optuna\\distributions.py:560: UserWarning: The distribution is specified by [1, 10] and step=20, but the range is not divisible by `step`. It will be replaced by [1, 1].\n",
      "  warnings.warn(\n",
      "C:\\Users\\jvrdo\\anaconda3\\lib\\site-packages\\optuna\\distributions.py:560: UserWarning: The distribution is specified by [2, 10] and step=15, but the range is not divisible by `step`. It will be replaced by [2, 2].\n",
      "  warnings.warn(\n"
     ]
    },
    {
     "name": "stdout",
     "output_type": "stream",
     "text": [
      "\n",
      "bestTest = 0.4686259182\n",
      "bestIteration = 306\n",
      "\n",
      "Training on fold [1/5]\n",
      "\n",
      "bestTest = 0.4688563015\n",
      "bestIteration = 303\n",
      "\n",
      "Training on fold [2/5]\n",
      "\n",
      "bestTest = 0.4568192061\n",
      "bestIteration = 323\n",
      "\n",
      "Training on fold [3/5]\n",
      "\n",
      "bestTest = 0.4738023173\n",
      "bestIteration = 255\n",
      "\n",
      "Training on fold [4/5]\n"
     ]
    },
    {
     "name": "stderr",
     "output_type": "stream",
     "text": [
      "\u001b[32m[I 2022-07-18 14:09:17,515]\u001b[0m Trial 38 finished with value: 0.8607219041471262 and parameters: {'iterations': 1500, 'learning_rate': 0.10257075422861325, 'random_strength': 10, 'bagging_temperature': 3, 'max_bin': 30, 'grow_policy': 'Depthwise', 'min_data_in_leaf': 1, 'max_depth': 2, 'l2_leaf_reg': 0.053880027741329176, 'one_hot_max_size': 1024, 'auto_class_weights': 'Balanced'}. Best is trial 13 with value: 0.8613903118136623.\u001b[0m\n"
     ]
    },
    {
     "name": "stdout",
     "output_type": "stream",
     "text": [
      "\n",
      "bestTest = 0.4665462976\n",
      "bestIteration = 343\n",
      "\n",
      "Training on fold [0/5]\n"
     ]
    },
    {
     "name": "stderr",
     "output_type": "stream",
     "text": [
      "C:\\Users\\jvrdo\\anaconda3\\lib\\site-packages\\optuna\\distributions.py:560: UserWarning: The distribution is specified by [1, 10] and step=20, but the range is not divisible by `step`. It will be replaced by [1, 1].\n",
      "  warnings.warn(\n",
      "C:\\Users\\jvrdo\\anaconda3\\lib\\site-packages\\optuna\\distributions.py:560: UserWarning: The distribution is specified by [2, 10] and step=15, but the range is not divisible by `step`. It will be replaced by [2, 2].\n",
      "  warnings.warn(\n"
     ]
    },
    {
     "name": "stdout",
     "output_type": "stream",
     "text": [
      "\n",
      "bestTest = 0.4703860194\n",
      "bestIteration = 915\n",
      "\n",
      "Training on fold [1/5]\n",
      "\n",
      "bestTest = 0.4694244144\n",
      "bestIteration = 918\n",
      "\n",
      "Training on fold [2/5]\n",
      "\n",
      "bestTest = 0.4574273371\n",
      "bestIteration = 920\n",
      "\n",
      "Training on fold [3/5]\n",
      "\n",
      "bestTest = 0.4702445267\n",
      "bestIteration = 1027\n",
      "\n",
      "Training on fold [4/5]\n"
     ]
    },
    {
     "name": "stderr",
     "output_type": "stream",
     "text": [
      "\u001b[32m[I 2022-07-18 14:09:29,969]\u001b[0m Trial 39 finished with value: 0.8605498539397072 and parameters: {'iterations': 1300, 'learning_rate': 0.022505578944538793, 'random_strength': 1, 'bagging_temperature': 8, 'max_bin': 6, 'grow_policy': 'Lossguide', 'min_data_in_leaf': 1, 'max_depth': 2, 'l2_leaf_reg': 0.3272521186360546, 'one_hot_max_size': 500, 'auto_class_weights': 'Balanced'}. Best is trial 13 with value: 0.8613903118136623.\u001b[0m\n"
     ]
    },
    {
     "name": "stdout",
     "output_type": "stream",
     "text": [
      "\n",
      "bestTest = 0.4724316894\n",
      "bestIteration = 638\n",
      "\n",
      "Training on fold [0/5]\n"
     ]
    },
    {
     "name": "stderr",
     "output_type": "stream",
     "text": [
      "C:\\Users\\jvrdo\\anaconda3\\lib\\site-packages\\optuna\\distributions.py:560: UserWarning: The distribution is specified by [1, 10] and step=20, but the range is not divisible by `step`. It will be replaced by [1, 1].\n",
      "  warnings.warn(\n",
      "C:\\Users\\jvrdo\\anaconda3\\lib\\site-packages\\optuna\\distributions.py:560: UserWarning: The distribution is specified by [2, 10] and step=15, but the range is not divisible by `step`. It will be replaced by [2, 2].\n",
      "  warnings.warn(\n"
     ]
    },
    {
     "name": "stdout",
     "output_type": "stream",
     "text": [
      "\n",
      "bestTest = 0.4703395261\n",
      "bestIteration = 520\n",
      "\n",
      "Training on fold [1/5]\n",
      "\n",
      "bestTest = 0.4679712902\n",
      "bestIteration = 586\n",
      "\n",
      "Training on fold [2/5]\n",
      "\n",
      "bestTest = 0.4570744207\n",
      "bestIteration = 562\n",
      "\n",
      "Training on fold [3/5]\n",
      "\n",
      "bestTest = 0.4715844473\n",
      "bestIteration = 553\n",
      "\n",
      "Training on fold [4/5]\n"
     ]
    },
    {
     "name": "stderr",
     "output_type": "stream",
     "text": [
      "\u001b[32m[I 2022-07-18 14:09:37,290]\u001b[0m Trial 40 finished with value: 0.8604125536083791 and parameters: {'iterations': 1200, 'learning_rate': 0.054390371402494454, 'random_strength': 4, 'bagging_temperature': 5, 'max_bin': 10, 'grow_policy': 'SymmetricTree', 'min_data_in_leaf': 1, 'max_depth': 2, 'l2_leaf_reg': 3.690816159194805e-06, 'one_hot_max_size': 100, 'auto_class_weights': 'SqrtBalanced'}. Best is trial 13 with value: 0.8613903118136623.\u001b[0m\n"
     ]
    },
    {
     "name": "stdout",
     "output_type": "stream",
     "text": [
      "\n",
      "bestTest = 0.4721135179\n",
      "bestIteration = 386\n",
      "\n",
      "Training on fold [0/5]\n"
     ]
    },
    {
     "name": "stderr",
     "output_type": "stream",
     "text": [
      "C:\\Users\\jvrdo\\anaconda3\\lib\\site-packages\\optuna\\distributions.py:560: UserWarning: The distribution is specified by [1, 10] and step=20, but the range is not divisible by `step`. It will be replaced by [1, 1].\n",
      "  warnings.warn(\n",
      "C:\\Users\\jvrdo\\anaconda3\\lib\\site-packages\\optuna\\distributions.py:560: UserWarning: The distribution is specified by [2, 10] and step=15, but the range is not divisible by `step`. It will be replaced by [2, 2].\n",
      "  warnings.warn(\n"
     ]
    },
    {
     "name": "stdout",
     "output_type": "stream",
     "text": [
      "\n",
      "bestTest = 0.4686731744\n",
      "bestIteration = 667\n",
      "\n",
      "Training on fold [1/5]\n",
      "\n",
      "bestTest = 0.4678082387\n",
      "bestIteration = 569\n",
      "\n",
      "Training on fold [2/5]\n",
      "\n",
      "bestTest = 0.4571772406\n",
      "bestIteration = 511\n",
      "\n",
      "Training on fold [3/5]\n",
      "\n",
      "bestTest = 0.470580305\n",
      "bestIteration = 525\n",
      "\n",
      "Training on fold [4/5]\n"
     ]
    },
    {
     "name": "stderr",
     "output_type": "stream",
     "text": [
      "\u001b[32m[I 2022-07-18 14:09:44,865]\u001b[0m Trial 41 finished with value: 0.861298386140468 and parameters: {'iterations': 700, 'learning_rate': 0.0444556852594834, 'random_strength': 1, 'bagging_temperature': 6, 'max_bin': 20, 'grow_policy': 'Depthwise', 'min_data_in_leaf': 1, 'max_depth': 2, 'l2_leaf_reg': 0.0076749389153512974, 'one_hot_max_size': 1024, 'auto_class_weights': 'Balanced'}. Best is trial 13 with value: 0.8613903118136623.\u001b[0m\n"
     ]
    },
    {
     "name": "stdout",
     "output_type": "stream",
     "text": [
      "\n",
      "bestTest = 0.4670589825\n",
      "bestIteration = 603\n",
      "\n",
      "Training on fold [0/5]\n"
     ]
    },
    {
     "name": "stderr",
     "output_type": "stream",
     "text": [
      "C:\\Users\\jvrdo\\anaconda3\\lib\\site-packages\\optuna\\distributions.py:560: UserWarning: The distribution is specified by [1, 10] and step=20, but the range is not divisible by `step`. It will be replaced by [1, 1].\n",
      "  warnings.warn(\n",
      "C:\\Users\\jvrdo\\anaconda3\\lib\\site-packages\\optuna\\distributions.py:560: UserWarning: The distribution is specified by [2, 10] and step=15, but the range is not divisible by `step`. It will be replaced by [2, 2].\n",
      "  warnings.warn(\n"
     ]
    },
    {
     "name": "stdout",
     "output_type": "stream",
     "text": [
      "\n",
      "bestTest = 0.4693419168\n",
      "bestIteration = 331\n",
      "\n",
      "Training on fold [1/5]\n",
      "\n",
      "bestTest = 0.4672095254\n",
      "bestIteration = 362\n",
      "\n",
      "Training on fold [2/5]\n",
      "\n",
      "bestTest = 0.4566732797\n",
      "bestIteration = 333\n",
      "\n",
      "Training on fold [3/5]\n",
      "\n",
      "bestTest = 0.469673143\n",
      "bestIteration = 364\n",
      "\n",
      "Training on fold [4/5]\n"
     ]
    },
    {
     "name": "stderr",
     "output_type": "stream",
     "text": [
      "\u001b[32m[I 2022-07-18 14:09:49,744]\u001b[0m Trial 42 finished with value: 0.8615391449194707 and parameters: {'iterations': 700, 'learning_rate': 0.0824778149250548, 'random_strength': 2, 'bagging_temperature': 6, 'max_bin': 20, 'grow_policy': 'Depthwise', 'min_data_in_leaf': 1, 'max_depth': 2, 'l2_leaf_reg': 0.004374663631521421, 'one_hot_max_size': 1024, 'auto_class_weights': 'Balanced'}. Best is trial 42 with value: 0.8615391449194707.\u001b[0m\n"
     ]
    },
    {
     "name": "stdout",
     "output_type": "stream",
     "text": [
      "\n",
      "bestTest = 0.4654938129\n",
      "bestIteration = 410\n",
      "\n",
      "Training on fold [0/5]\n"
     ]
    },
    {
     "name": "stderr",
     "output_type": "stream",
     "text": [
      "C:\\Users\\jvrdo\\anaconda3\\lib\\site-packages\\optuna\\distributions.py:560: UserWarning: The distribution is specified by [1, 10] and step=20, but the range is not divisible by `step`. It will be replaced by [1, 1].\n",
      "  warnings.warn(\n",
      "C:\\Users\\jvrdo\\anaconda3\\lib\\site-packages\\optuna\\distributions.py:560: UserWarning: The distribution is specified by [2, 10] and step=15, but the range is not divisible by `step`. It will be replaced by [2, 2].\n",
      "  warnings.warn(\n"
     ]
    },
    {
     "name": "stdout",
     "output_type": "stream",
     "text": [
      "\n",
      "bestTest = 0.470674082\n",
      "bestIteration = 293\n",
      "\n",
      "Training on fold [1/5]\n",
      "\n",
      "bestTest = 0.4669297287\n",
      "bestIteration = 365\n",
      "\n",
      "Training on fold [2/5]\n",
      "\n",
      "bestTest = 0.4580942656\n",
      "bestIteration = 287\n",
      "\n",
      "Training on fold [3/5]\n",
      "\n",
      "bestTest = 0.4725775378\n",
      "bestIteration = 251\n",
      "\n",
      "Training on fold [4/5]\n"
     ]
    },
    {
     "name": "stderr",
     "output_type": "stream",
     "text": [
      "\u001b[32m[I 2022-07-18 14:09:54,582]\u001b[0m Trial 43 finished with value: 0.8606576500587947 and parameters: {'iterations': 700, 'learning_rate': 0.07679922284115177, 'random_strength': 2, 'bagging_temperature': 6, 'max_bin': 20, 'grow_policy': 'Depthwise', 'min_data_in_leaf': 1, 'max_depth': 2, 'l2_leaf_reg': 0.005035564188511646, 'one_hot_max_size': 1024, 'auto_class_weights': 'Balanced'}. Best is trial 42 with value: 0.8615391449194707.\u001b[0m\n"
     ]
    },
    {
     "name": "stdout",
     "output_type": "stream",
     "text": [
      "\n",
      "bestTest = 0.4679230477\n",
      "bestIteration = 309\n",
      "\n",
      "Training on fold [0/5]\n"
     ]
    },
    {
     "name": "stderr",
     "output_type": "stream",
     "text": [
      "C:\\Users\\jvrdo\\anaconda3\\lib\\site-packages\\optuna\\distributions.py:560: UserWarning: The distribution is specified by [1, 10] and step=20, but the range is not divisible by `step`. It will be replaced by [1, 1].\n",
      "  warnings.warn(\n",
      "C:\\Users\\jvrdo\\anaconda3\\lib\\site-packages\\optuna\\distributions.py:560: UserWarning: The distribution is specified by [2, 10] and step=15, but the range is not divisible by `step`. It will be replaced by [2, 2].\n",
      "  warnings.warn(\n"
     ]
    },
    {
     "name": "stdout",
     "output_type": "stream",
     "text": [
      "\n",
      "bestTest = 0.523679464\n",
      "bestIteration = 699\n",
      "\n",
      "Training on fold [1/5]\n",
      "\n",
      "bestTest = 0.5224657631\n",
      "bestIteration = 699\n",
      "\n",
      "Training on fold [2/5]\n",
      "\n",
      "bestTest = 0.5180183783\n",
      "bestIteration = 699\n",
      "\n",
      "Training on fold [3/5]\n",
      "\n",
      "bestTest = 0.522760257\n",
      "bestIteration = 699\n",
      "\n",
      "Training on fold [4/5]\n"
     ]
    },
    {
     "name": "stderr",
     "output_type": "stream",
     "text": [
      "\u001b[32m[I 2022-07-18 14:10:46,430]\u001b[0m Trial 44 finished with value: 0.838076170748767 and parameters: {'iterations': 700, 'learning_rate': 0.003499200283026374, 'random_strength': 2, 'bagging_temperature': 6, 'max_bin': 20, 'grow_policy': 'Depthwise', 'min_data_in_leaf': 1, 'max_depth': 2, 'l2_leaf_reg': 0.01745378690043205, 'one_hot_max_size': 10, 'auto_class_weights': 'Balanced'}. Best is trial 42 with value: 0.8615391449194707.\u001b[0m\n"
     ]
    },
    {
     "name": "stdout",
     "output_type": "stream",
     "text": [
      "\n",
      "bestTest = 0.521278891\n",
      "bestIteration = 699\n",
      "\n",
      "Training on fold [0/5]\n"
     ]
    },
    {
     "name": "stderr",
     "output_type": "stream",
     "text": [
      "C:\\Users\\jvrdo\\anaconda3\\lib\\site-packages\\optuna\\distributions.py:560: UserWarning: The distribution is specified by [1, 10] and step=20, but the range is not divisible by `step`. It will be replaced by [1, 1].\n",
      "  warnings.warn(\n",
      "C:\\Users\\jvrdo\\anaconda3\\lib\\site-packages\\optuna\\distributions.py:560: UserWarning: The distribution is specified by [2, 10] and step=15, but the range is not divisible by `step`. It will be replaced by [2, 2].\n",
      "  warnings.warn(\n"
     ]
    },
    {
     "name": "stdout",
     "output_type": "stream",
     "text": [
      "\n",
      "bestTest = 0.4699177122\n",
      "bestIteration = 468\n",
      "\n",
      "Training on fold [1/5]\n",
      "\n",
      "bestTest = 0.4675532784\n",
      "bestIteration = 582\n",
      "\n",
      "Training on fold [2/5]\n",
      "\n",
      "bestTest = 0.4560625116\n",
      "bestIteration = 503\n",
      "\n",
      "Training on fold [3/5]\n",
      "\n",
      "bestTest = 0.4727275983\n",
      "bestIteration = 384\n",
      "\n",
      "Training on fold [4/5]\n"
     ]
    },
    {
     "name": "stderr",
     "output_type": "stream",
     "text": [
      "\u001b[32m[I 2022-07-18 14:10:52,502]\u001b[0m Trial 45 finished with value: 0.8608868525222821 and parameters: {'iterations': 700, 'learning_rate': 0.04775518900946249, 'random_strength': 1, 'bagging_temperature': 7, 'max_bin': 20, 'grow_policy': 'Depthwise', 'min_data_in_leaf': 1, 'max_depth': 2, 'l2_leaf_reg': 0.00038567933084196785, 'one_hot_max_size': 1024, 'auto_class_weights': 'Balanced'}. Best is trial 42 with value: 0.8615391449194707.\u001b[0m\n"
     ]
    },
    {
     "name": "stdout",
     "output_type": "stream",
     "text": [
      "\n",
      "bestTest = 0.4686023494\n",
      "bestIteration = 489\n",
      "\n",
      "Training on fold [0/5]\n"
     ]
    },
    {
     "name": "stderr",
     "output_type": "stream",
     "text": [
      "C:\\Users\\jvrdo\\anaconda3\\lib\\site-packages\\optuna\\distributions.py:560: UserWarning: The distribution is specified by [1, 10] and step=20, but the range is not divisible by `step`. It will be replaced by [1, 1].\n",
      "  warnings.warn(\n",
      "C:\\Users\\jvrdo\\anaconda3\\lib\\site-packages\\optuna\\distributions.py:560: UserWarning: The distribution is specified by [2, 10] and step=15, but the range is not divisible by `step`. It will be replaced by [2, 2].\n",
      "  warnings.warn(\n"
     ]
    },
    {
     "name": "stdout",
     "output_type": "stream",
     "text": [
      "\n",
      "bestTest = 0.4700822836\n",
      "bestIteration = 699\n",
      "\n",
      "Training on fold [1/5]\n",
      "\n",
      "bestTest = 0.4703854545\n",
      "bestIteration = 699\n",
      "\n",
      "Training on fold [2/5]\n",
      "\n",
      "bestTest = 0.4582542564\n",
      "bestIteration = 699\n",
      "\n",
      "Training on fold [3/5]\n",
      "\n",
      "bestTest = 0.4722595818\n",
      "bestIteration = 695\n",
      "\n",
      "Training on fold [4/5]\n"
     ]
    },
    {
     "name": "stderr",
     "output_type": "stream",
     "text": [
      "\u001b[32m[I 2022-07-18 14:11:41,715]\u001b[0m Trial 46 finished with value: 0.8599647320226232 and parameters: {'iterations': 700, 'learning_rate': 0.025866840573709124, 'random_strength': 2, 'bagging_temperature': 9, 'max_bin': 20, 'grow_policy': 'Depthwise', 'min_data_in_leaf': 1, 'max_depth': 2, 'l2_leaf_reg': 0.0022771237219367385, 'one_hot_max_size': 12, 'auto_class_weights': 'SqrtBalanced'}. Best is trial 42 with value: 0.8615391449194707.\u001b[0m\n"
     ]
    },
    {
     "name": "stdout",
     "output_type": "stream",
     "text": [
      "\n",
      "bestTest = 0.470752658\n",
      "bestIteration = 624\n",
      "\n",
      "Training on fold [0/5]\n"
     ]
    },
    {
     "name": "stderr",
     "output_type": "stream",
     "text": [
      "C:\\Users\\jvrdo\\anaconda3\\lib\\site-packages\\optuna\\distributions.py:560: UserWarning: The distribution is specified by [1, 10] and step=20, but the range is not divisible by `step`. It will be replaced by [1, 1].\n",
      "  warnings.warn(\n",
      "C:\\Users\\jvrdo\\anaconda3\\lib\\site-packages\\optuna\\distributions.py:560: UserWarning: The distribution is specified by [2, 10] and step=15, but the range is not divisible by `step`. It will be replaced by [2, 2].\n",
      "  warnings.warn(\n"
     ]
    },
    {
     "name": "stdout",
     "output_type": "stream",
     "text": [
      "\n",
      "bestTest = 0.4702912434\n",
      "bestIteration = 357\n",
      "\n",
      "Training on fold [1/5]\n",
      "\n",
      "bestTest = 0.4684167379\n",
      "bestIteration = 436\n",
      "\n",
      "Training on fold [2/5]\n",
      "\n",
      "bestTest = 0.4554321365\n",
      "bestIteration = 451\n",
      "\n",
      "Training on fold [3/5]\n",
      "\n",
      "bestTest = 0.4724209242\n",
      "bestIteration = 355\n",
      "\n",
      "Training on fold [4/5]\n"
     ]
    },
    {
     "name": "stderr",
     "output_type": "stream",
     "text": [
      "\u001b[32m[I 2022-07-18 14:11:47,543]\u001b[0m Trial 47 finished with value: 0.8605577975252633 and parameters: {'iterations': 500, 'learning_rate': 0.06219590316181042, 'random_strength': 3, 'bagging_temperature': 4, 'max_bin': 20, 'grow_policy': 'Depthwise', 'min_data_in_leaf': 1, 'max_depth': 2, 'l2_leaf_reg': 4.6791208152656054e-05, 'one_hot_max_size': 1024, 'auto_class_weights': 'Balanced'}. Best is trial 42 with value: 0.8615391449194707.\u001b[0m\n"
     ]
    },
    {
     "name": "stdout",
     "output_type": "stream",
     "text": [
      "\n",
      "bestTest = 0.4709076807\n",
      "bestIteration = 326\n",
      "\n",
      "Training on fold [0/5]\n"
     ]
    },
    {
     "name": "stderr",
     "output_type": "stream",
     "text": [
      "C:\\Users\\jvrdo\\anaconda3\\lib\\site-packages\\optuna\\distributions.py:560: UserWarning: The distribution is specified by [1, 10] and step=20, but the range is not divisible by `step`. It will be replaced by [1, 1].\n",
      "  warnings.warn(\n",
      "C:\\Users\\jvrdo\\anaconda3\\lib\\site-packages\\optuna\\distributions.py:560: UserWarning: The distribution is specified by [2, 10] and step=15, but the range is not divisible by `step`. It will be replaced by [2, 2].\n",
      "  warnings.warn(\n"
     ]
    },
    {
     "name": "stdout",
     "output_type": "stream",
     "text": [
      "\n",
      "bestTest = 0.4678516522\n",
      "bestIteration = 260\n",
      "\n",
      "Training on fold [1/5]\n",
      "\n",
      "bestTest = 0.4657909781\n",
      "bestIteration = 350\n",
      "\n",
      "Training on fold [2/5]\n",
      "\n",
      "bestTest = 0.4576009183\n",
      "bestIteration = 181\n",
      "\n",
      "Training on fold [3/5]\n",
      "\n",
      "bestTest = 0.4712526615\n",
      "bestIteration = 172\n",
      "\n",
      "Training on fold [4/5]\n"
     ]
    },
    {
     "name": "stderr",
     "output_type": "stream",
     "text": [
      "\u001b[32m[I 2022-07-18 14:12:06,260]\u001b[0m Trial 48 finished with value: 0.8613239586855664 and parameters: {'iterations': 700, 'learning_rate': 0.12129813899778985, 'random_strength': 1, 'bagging_temperature': 8, 'max_bin': 30, 'grow_policy': 'Depthwise', 'min_data_in_leaf': 1, 'max_depth': 2, 'l2_leaf_reg': 0.10746151657274071, 'one_hot_max_size': 5, 'auto_class_weights': 'Balanced'}. Best is trial 42 with value: 0.8615391449194707.\u001b[0m\n"
     ]
    },
    {
     "name": "stdout",
     "output_type": "stream",
     "text": [
      "\n",
      "bestTest = 0.4669860857\n",
      "bestIteration = 222\n",
      "\n",
      "Training on fold [0/5]\n"
     ]
    },
    {
     "name": "stderr",
     "output_type": "stream",
     "text": [
      "C:\\Users\\jvrdo\\anaconda3\\lib\\site-packages\\optuna\\distributions.py:560: UserWarning: The distribution is specified by [1, 10] and step=20, but the range is not divisible by `step`. It will be replaced by [1, 1].\n",
      "  warnings.warn(\n",
      "C:\\Users\\jvrdo\\anaconda3\\lib\\site-packages\\optuna\\distributions.py:560: UserWarning: The distribution is specified by [2, 10] and step=15, but the range is not divisible by `step`. It will be replaced by [2, 2].\n",
      "  warnings.warn(\n"
     ]
    },
    {
     "name": "stdout",
     "output_type": "stream",
     "text": [
      "\n",
      "bestTest = 0.4834106553\n",
      "bestIteration = 99\n",
      "\n",
      "Training on fold [1/5]\n",
      "\n",
      "bestTest = 0.4826060071\n",
      "bestIteration = 99\n",
      "\n",
      "Training on fold [2/5]\n",
      "\n",
      "bestTest = 0.4744323508\n",
      "bestIteration = 99\n",
      "\n",
      "Training on fold [3/5]\n",
      "\n",
      "bestTest = 0.4846624086\n",
      "bestIteration = 99\n",
      "\n",
      "Training on fold [4/5]\n"
     ]
    },
    {
     "name": "stderr",
     "output_type": "stream",
     "text": [
      "\u001b[32m[I 2022-07-18 14:12:07,719]\u001b[0m Trial 49 finished with value: 0.8540672188029177 and parameters: {'iterations': 100, 'learning_rate': 0.1158405412761714, 'random_strength': 8, 'bagging_temperature': 10, 'max_bin': 30, 'grow_policy': 'Depthwise', 'min_data_in_leaf': 1, 'max_depth': 2, 'l2_leaf_reg': 0.07697897170526383, 'one_hot_max_size': 1024, 'auto_class_weights': 'Balanced'}. Best is trial 42 with value: 0.8615391449194707.\u001b[0m\n"
     ]
    },
    {
     "name": "stdout",
     "output_type": "stream",
     "text": [
      "\n",
      "bestTest = 0.4818211839\n",
      "bestIteration = 99\n",
      "\n",
      "Training on fold [0/5]\n"
     ]
    },
    {
     "name": "stderr",
     "output_type": "stream",
     "text": [
      "C:\\Users\\jvrdo\\anaconda3\\lib\\site-packages\\optuna\\distributions.py:560: UserWarning: The distribution is specified by [1, 10] and step=20, but the range is not divisible by `step`. It will be replaced by [1, 1].\n",
      "  warnings.warn(\n",
      "C:\\Users\\jvrdo\\anaconda3\\lib\\site-packages\\optuna\\distributions.py:560: UserWarning: The distribution is specified by [2, 10] and step=15, but the range is not divisible by `step`. It will be replaced by [2, 2].\n",
      "  warnings.warn(\n"
     ]
    },
    {
     "name": "stdout",
     "output_type": "stream",
     "text": [
      "\n",
      "bestTest = 0.4714348041\n",
      "bestIteration = 148\n",
      "\n",
      "Training on fold [1/5]\n",
      "\n",
      "bestTest = 0.4691045892\n",
      "bestIteration = 161\n",
      "\n",
      "Training on fold [2/5]\n",
      "\n",
      "bestTest = 0.4568000009\n",
      "bestIteration = 199\n",
      "\n",
      "Training on fold [3/5]\n",
      "\n",
      "bestTest = 0.4718526803\n",
      "bestIteration = 165\n",
      "\n",
      "Training on fold [4/5]\n"
     ]
    },
    {
     "name": "stderr",
     "output_type": "stream",
     "text": [
      "\u001b[32m[I 2022-07-18 14:12:10,275]\u001b[0m Trial 50 finished with value: 0.8601107901979299 and parameters: {'iterations': 700, 'learning_rate': 0.14724177748733366, 'random_strength': 2, 'bagging_temperature': 9, 'max_bin': 30, 'grow_policy': 'Depthwise', 'min_data_in_leaf': 1, 'max_depth': 2, 'l2_leaf_reg': 0.0032864120382745205, 'one_hot_max_size': 500, 'auto_class_weights': 'Balanced'}. Best is trial 42 with value: 0.8615391449194707.\u001b[0m\n"
     ]
    },
    {
     "name": "stdout",
     "output_type": "stream",
     "text": [
      "\n",
      "bestTest = 0.4685196391\n",
      "bestIteration = 136\n",
      "\n",
      "Training on fold [0/5]\n"
     ]
    },
    {
     "name": "stderr",
     "output_type": "stream",
     "text": [
      "C:\\Users\\jvrdo\\anaconda3\\lib\\site-packages\\optuna\\distributions.py:560: UserWarning: The distribution is specified by [1, 10] and step=20, but the range is not divisible by `step`. It will be replaced by [1, 1].\n",
      "  warnings.warn(\n",
      "C:\\Users\\jvrdo\\anaconda3\\lib\\site-packages\\optuna\\distributions.py:560: UserWarning: The distribution is specified by [2, 10] and step=15, but the range is not divisible by `step`. It will be replaced by [2, 2].\n",
      "  warnings.warn(\n"
     ]
    },
    {
     "name": "stdout",
     "output_type": "stream",
     "text": [
      "\n",
      "bestTest = 0.4681766361\n",
      "bestIteration = 248\n",
      "\n",
      "Training on fold [1/5]\n",
      "\n",
      "bestTest = 0.4690325063\n",
      "bestIteration = 207\n",
      "\n",
      "Training on fold [2/5]\n",
      "\n",
      "bestTest = 0.4568403868\n",
      "bestIteration = 270\n",
      "\n",
      "Training on fold [3/5]\n",
      "\n",
      "bestTest = 0.4718437898\n",
      "bestIteration = 218\n",
      "\n",
      "Training on fold [4/5]\n"
     ]
    },
    {
     "name": "stderr",
     "output_type": "stream",
     "text": [
      "\u001b[32m[I 2022-07-18 14:12:30,682]\u001b[0m Trial 51 finished with value: 0.8609914809577347 and parameters: {'iterations': 700, 'learning_rate': 0.09516349720974585, 'random_strength': 1, 'bagging_temperature': 8, 'max_bin': 30, 'grow_policy': 'Depthwise', 'min_data_in_leaf': 1, 'max_depth': 2, 'l2_leaf_reg': 0.0247796794608712, 'one_hot_max_size': 5, 'auto_class_weights': 'Balanced'}. Best is trial 42 with value: 0.8615391449194707.\u001b[0m\n"
     ]
    },
    {
     "name": "stdout",
     "output_type": "stream",
     "text": [
      "\n",
      "bestTest = 0.4672219478\n",
      "bestIteration = 283\n",
      "\n",
      "Training on fold [0/5]\n"
     ]
    },
    {
     "name": "stderr",
     "output_type": "stream",
     "text": [
      "C:\\Users\\jvrdo\\anaconda3\\lib\\site-packages\\optuna\\distributions.py:560: UserWarning: The distribution is specified by [1, 10] and step=20, but the range is not divisible by `step`. It will be replaced by [1, 1].\n",
      "  warnings.warn(\n",
      "C:\\Users\\jvrdo\\anaconda3\\lib\\site-packages\\optuna\\distributions.py:560: UserWarning: The distribution is specified by [2, 10] and step=15, but the range is not divisible by `step`. It will be replaced by [2, 2].\n",
      "  warnings.warn(\n"
     ]
    },
    {
     "name": "stdout",
     "output_type": "stream",
     "text": [
      "\n",
      "bestTest = 0.4688531724\n",
      "bestIteration = 318\n",
      "\n",
      "Training on fold [1/5]\n",
      "\n",
      "bestTest = 0.4702663409\n",
      "bestIteration = 266\n",
      "\n",
      "Training on fold [2/5]\n",
      "\n",
      "bestTest = 0.4588231314\n",
      "bestIteration = 253\n",
      "\n",
      "Training on fold [3/5]\n",
      "\n",
      "bestTest = 0.4698769466\n",
      "bestIteration = 342\n",
      "\n",
      "Training on fold [4/5]\n"
     ]
    },
    {
     "name": "stderr",
     "output_type": "stream",
     "text": [
      "\u001b[32m[I 2022-07-18 14:12:55,158]\u001b[0m Trial 52 finished with value: 0.8608822299431376 and parameters: {'iterations': 700, 'learning_rate': 0.07641578414119313, 'random_strength': 1, 'bagging_temperature': 6, 'max_bin': 20, 'grow_policy': 'Depthwise', 'min_data_in_leaf': 1, 'max_depth': 2, 'l2_leaf_reg': 0.15346871352277563, 'one_hot_max_size': 5, 'auto_class_weights': 'Balanced'}. Best is trial 42 with value: 0.8615391449194707.\u001b[0m\n"
     ]
    },
    {
     "name": "stdout",
     "output_type": "stream",
     "text": [
      "\n",
      "bestTest = 0.466811708\n",
      "bestIteration = 441\n",
      "\n",
      "Training on fold [0/5]\n"
     ]
    },
    {
     "name": "stderr",
     "output_type": "stream",
     "text": [
      "C:\\Users\\jvrdo\\anaconda3\\lib\\site-packages\\optuna\\distributions.py:560: UserWarning: The distribution is specified by [1, 10] and step=20, but the range is not divisible by `step`. It will be replaced by [1, 1].\n",
      "  warnings.warn(\n",
      "C:\\Users\\jvrdo\\anaconda3\\lib\\site-packages\\optuna\\distributions.py:560: UserWarning: The distribution is specified by [2, 10] and step=15, but the range is not divisible by `step`. It will be replaced by [2, 2].\n",
      "  warnings.warn(\n"
     ]
    },
    {
     "name": "stdout",
     "output_type": "stream",
     "text": [
      "\n",
      "bestTest = 0.4696156955\n",
      "bestIteration = 201\n",
      "\n",
      "Training on fold [1/5]\n",
      "\n",
      "bestTest = 0.4690929652\n",
      "bestIteration = 152\n",
      "\n",
      "Training on fold [2/5]\n",
      "\n",
      "bestTest = 0.4584591145\n",
      "bestIteration = 178\n",
      "\n",
      "Training on fold [3/5]\n",
      "\n",
      "bestTest = 0.4684279581\n",
      "bestIteration = 248\n",
      "\n",
      "Training on fold [4/5]\n"
     ]
    },
    {
     "name": "stderr",
     "output_type": "stream",
     "text": [
      "\u001b[32m[I 2022-07-18 14:13:10,894]\u001b[0m Trial 53 finished with value: 0.8609461806945647 and parameters: {'iterations': 700, 'learning_rate': 0.12749209485271532, 'random_strength': 1, 'bagging_temperature': 7, 'max_bin': 30, 'grow_policy': 'Depthwise', 'min_data_in_leaf': 1, 'max_depth': 2, 'l2_leaf_reg': 0.011356268499991225, 'one_hot_max_size': 5, 'auto_class_weights': 'Balanced'}. Best is trial 42 with value: 0.8615391449194707.\u001b[0m\n"
     ]
    },
    {
     "name": "stdout",
     "output_type": "stream",
     "text": [
      "\n",
      "bestTest = 0.4672683266\n",
      "bestIteration = 245\n",
      "\n",
      "Training on fold [0/5]\n"
     ]
    },
    {
     "name": "stderr",
     "output_type": "stream",
     "text": [
      "C:\\Users\\jvrdo\\anaconda3\\lib\\site-packages\\optuna\\distributions.py:560: UserWarning: The distribution is specified by [1, 10] and step=20, but the range is not divisible by `step`. It will be replaced by [1, 1].\n",
      "  warnings.warn(\n",
      "C:\\Users\\jvrdo\\anaconda3\\lib\\site-packages\\optuna\\distributions.py:560: UserWarning: The distribution is specified by [2, 10] and step=15, but the range is not divisible by `step`. It will be replaced by [2, 2].\n",
      "  warnings.warn(\n"
     ]
    },
    {
     "name": "stdout",
     "output_type": "stream",
     "text": [
      "\n",
      "bestTest = 0.4699939548\n",
      "bestIteration = 246\n",
      "\n",
      "Training on fold [1/5]\n",
      "\n",
      "bestTest = 0.4689282439\n",
      "bestIteration = 276\n",
      "\n",
      "Training on fold [2/5]\n",
      "\n",
      "bestTest = 0.4581115751\n",
      "bestIteration = 267\n",
      "\n",
      "Training on fold [3/5]\n",
      "\n",
      "bestTest = 0.4716076222\n",
      "bestIteration = 253\n",
      "\n",
      "Training on fold [4/5]\n"
     ]
    },
    {
     "name": "stderr",
     "output_type": "stream",
     "text": [
      "\u001b[32m[I 2022-07-18 14:13:31,685]\u001b[0m Trial 54 finished with value: 0.8605367895586991 and parameters: {'iterations': 1300, 'learning_rate': 0.08622759453431686, 'random_strength': 2, 'bagging_temperature': 5, 'max_bin': 8, 'grow_policy': 'Depthwise', 'min_data_in_leaf': 1, 'max_depth': 2, 'l2_leaf_reg': 0.001040951136774639, 'one_hot_max_size': 5, 'auto_class_weights': 'Balanced'}. Best is trial 42 with value: 0.8615391449194707.\u001b[0m\n"
     ]
    },
    {
     "name": "stdout",
     "output_type": "stream",
     "text": [
      "\n",
      "bestTest = 0.4680239661\n",
      "bestIteration = 356\n",
      "\n",
      "Training on fold [0/5]\n"
     ]
    },
    {
     "name": "stderr",
     "output_type": "stream",
     "text": [
      "C:\\Users\\jvrdo\\anaconda3\\lib\\site-packages\\optuna\\distributions.py:560: UserWarning: The distribution is specified by [1, 10] and step=20, but the range is not divisible by `step`. It will be replaced by [1, 1].\n",
      "  warnings.warn(\n",
      "C:\\Users\\jvrdo\\anaconda3\\lib\\site-packages\\optuna\\distributions.py:560: UserWarning: The distribution is specified by [2, 10] and step=15, but the range is not divisible by `step`. It will be replaced by [2, 2].\n",
      "  warnings.warn(\n"
     ]
    },
    {
     "name": "stdout",
     "output_type": "stream",
     "text": [
      "\n",
      "bestTest = 0.467690322\n",
      "bestIteration = 279\n",
      "\n",
      "Training on fold [1/5]\n",
      "\n",
      "bestTest = 0.4676625317\n",
      "bestIteration = 261\n",
      "\n",
      "Training on fold [2/5]\n",
      "\n",
      "bestTest = 0.4584354311\n",
      "bestIteration = 199\n",
      "\n",
      "Training on fold [3/5]\n",
      "\n",
      "bestTest = 0.4700913834\n",
      "bestIteration = 225\n",
      "\n",
      "Training on fold [4/5]\n"
     ]
    },
    {
     "name": "stderr",
     "output_type": "stream",
     "text": [
      "\u001b[32m[I 2022-07-18 14:13:49,268]\u001b[0m Trial 55 finished with value: 0.8610705430352616 and parameters: {'iterations': 700, 'learning_rate': 0.09763980666066914, 'random_strength': 1, 'bagging_temperature': 6, 'max_bin': 5, 'grow_policy': 'Depthwise', 'min_data_in_leaf': 1, 'max_depth': 2, 'l2_leaf_reg': 0.44831769238043284, 'one_hot_max_size': 5, 'auto_class_weights': 'Balanced'}. Best is trial 42 with value: 0.8615391449194707.\u001b[0m\n"
     ]
    },
    {
     "name": "stdout",
     "output_type": "stream",
     "text": [
      "\n",
      "bestTest = 0.4690793362\n",
      "bestIteration = 192\n",
      "\n",
      "Training on fold [0/5]\n"
     ]
    },
    {
     "name": "stderr",
     "output_type": "stream",
     "text": [
      "C:\\Users\\jvrdo\\anaconda3\\lib\\site-packages\\optuna\\distributions.py:560: UserWarning: The distribution is specified by [1, 10] and step=20, but the range is not divisible by `step`. It will be replaced by [1, 1].\n",
      "  warnings.warn(\n",
      "C:\\Users\\jvrdo\\anaconda3\\lib\\site-packages\\optuna\\distributions.py:560: UserWarning: The distribution is specified by [2, 10] and step=15, but the range is not divisible by `step`. It will be replaced by [2, 2].\n",
      "  warnings.warn(\n"
     ]
    },
    {
     "name": "stdout",
     "output_type": "stream",
     "text": [
      "\n",
      "bestTest = 0.469359784\n",
      "bestIteration = 226\n",
      "\n",
      "Training on fold [1/5]\n",
      "\n",
      "bestTest = 0.4689137317\n",
      "bestIteration = 189\n",
      "\n",
      "Training on fold [2/5]\n",
      "\n",
      "bestTest = 0.4577935698\n",
      "bestIteration = 241\n",
      "\n",
      "Training on fold [3/5]\n",
      "\n",
      "bestTest = 0.4696408288\n",
      "bestIteration = 303\n",
      "\n",
      "Training on fold [4/5]\n"
     ]
    },
    {
     "name": "stderr",
     "output_type": "stream",
     "text": [
      "\u001b[32m[I 2022-07-18 14:13:53,240]\u001b[0m Trial 56 finished with value: 0.8610346414185898 and parameters: {'iterations': 700, 'learning_rate': 0.10695495109005941, 'random_strength': 1, 'bagging_temperature': 6, 'max_bin': 5, 'grow_policy': 'Depthwise', 'min_data_in_leaf': 1, 'max_depth': 2, 'l2_leaf_reg': 0.0001413183529048402, 'one_hot_max_size': 1024, 'auto_class_weights': 'Balanced'}. Best is trial 42 with value: 0.8615391449194707.\u001b[0m\n"
     ]
    },
    {
     "name": "stdout",
     "output_type": "stream",
     "text": [
      "\n",
      "bestTest = 0.4662716884\n",
      "bestIteration = 291\n",
      "\n",
      "Training on fold [0/5]\n"
     ]
    },
    {
     "name": "stderr",
     "output_type": "stream",
     "text": [
      "C:\\Users\\jvrdo\\anaconda3\\lib\\site-packages\\optuna\\distributions.py:560: UserWarning: The distribution is specified by [1, 10] and step=20, but the range is not divisible by `step`. It will be replaced by [1, 1].\n",
      "  warnings.warn(\n",
      "C:\\Users\\jvrdo\\anaconda3\\lib\\site-packages\\optuna\\distributions.py:560: UserWarning: The distribution is specified by [2, 10] and step=15, but the range is not divisible by `step`. It will be replaced by [2, 2].\n",
      "  warnings.warn(\n"
     ]
    },
    {
     "name": "stdout",
     "output_type": "stream",
     "text": [
      "\n",
      "bestTest = 0.470713631\n",
      "bestIteration = 299\n",
      "\n",
      "Training on fold [1/5]\n",
      "\n",
      "bestTest = 0.4697149755\n",
      "bestIteration = 299\n",
      "\n",
      "Training on fold [2/5]\n",
      "\n",
      "bestTest = 0.4583554275\n",
      "bestIteration = 299\n",
      "\n",
      "Training on fold [3/5]\n",
      "\n",
      "bestTest = 0.4725713064\n",
      "bestIteration = 297\n",
      "\n",
      "Training on fold [4/5]\n"
     ]
    },
    {
     "name": "stderr",
     "output_type": "stream",
     "text": [
      "\u001b[32m[I 2022-07-18 14:14:15,787]\u001b[0m Trial 57 finished with value: 0.859982328739385 and parameters: {'iterations': 300, 'learning_rate': 0.07291105171137455, 'random_strength': 3, 'bagging_temperature': 7, 'max_bin': 5, 'grow_policy': 'Depthwise', 'min_data_in_leaf': 1, 'max_depth': 2, 'l2_leaf_reg': 2.7471823475991064, 'one_hot_max_size': 5, 'auto_class_weights': 'SqrtBalanced'}. Best is trial 42 with value: 0.8615391449194707.\u001b[0m\n"
     ]
    },
    {
     "name": "stdout",
     "output_type": "stream",
     "text": [
      "\n",
      "bestTest = 0.4688222996\n",
      "bestIteration = 295\n",
      "\n",
      "Training on fold [0/5]\n"
     ]
    },
    {
     "name": "stderr",
     "output_type": "stream",
     "text": [
      "C:\\Users\\jvrdo\\anaconda3\\lib\\site-packages\\optuna\\distributions.py:560: UserWarning: The distribution is specified by [1, 10] and step=20, but the range is not divisible by `step`. It will be replaced by [1, 1].\n",
      "  warnings.warn(\n",
      "C:\\Users\\jvrdo\\anaconda3\\lib\\site-packages\\optuna\\distributions.py:560: UserWarning: The distribution is specified by [2, 10] and step=15, but the range is not divisible by `step`. It will be replaced by [2, 2].\n",
      "  warnings.warn(\n"
     ]
    },
    {
     "name": "stdout",
     "output_type": "stream",
     "text": [
      "\n",
      "bestTest = 0.5180850359\n",
      "bestIteration = 199\n",
      "\n",
      "Training on fold [1/5]\n",
      "\n",
      "bestTest = 0.5164590969\n",
      "bestIteration = 199\n",
      "\n",
      "Training on fold [2/5]\n",
      "\n",
      "bestTest = 0.5116506659\n",
      "bestIteration = 199\n",
      "\n",
      "Training on fold [3/5]\n",
      "\n",
      "bestTest = 0.5171794103\n",
      "bestIteration = 199\n",
      "\n",
      "Training on fold [4/5]\n"
     ]
    },
    {
     "name": "stderr",
     "output_type": "stream",
     "text": [
      "\u001b[32m[I 2022-07-18 14:14:31,920]\u001b[0m Trial 58 finished with value: 0.8399838391871046 and parameters: {'iterations': 200, 'learning_rate': 0.013851803019486658, 'random_strength': 2, 'bagging_temperature': 8, 'max_bin': 5, 'grow_policy': 'Depthwise', 'min_data_in_leaf': 1, 'max_depth': 2, 'l2_leaf_reg': 0.09528763220504603, 'one_hot_max_size': 12, 'auto_class_weights': 'Balanced'}. Best is trial 42 with value: 0.8615391449194707.\u001b[0m\n"
     ]
    },
    {
     "name": "stdout",
     "output_type": "stream",
     "text": [
      "\n",
      "bestTest = 0.5164105371\n",
      "bestIteration = 199\n",
      "\n",
      "Training on fold [0/5]\n"
     ]
    },
    {
     "name": "stderr",
     "output_type": "stream",
     "text": [
      "C:\\Users\\jvrdo\\anaconda3\\lib\\site-packages\\optuna\\distributions.py:560: UserWarning: The distribution is specified by [1, 10] and step=20, but the range is not divisible by `step`. It will be replaced by [1, 1].\n",
      "  warnings.warn(\n",
      "C:\\Users\\jvrdo\\anaconda3\\lib\\site-packages\\optuna\\distributions.py:560: UserWarning: The distribution is specified by [2, 10] and step=15, but the range is not divisible by `step`. It will be replaced by [2, 2].\n",
      "  warnings.warn(\n"
     ]
    },
    {
     "name": "stdout",
     "output_type": "stream",
     "text": [
      "\n",
      "bestTest = 0.4702003455\n",
      "bestIteration = 277\n",
      "\n",
      "Training on fold [1/5]\n",
      "\n",
      "bestTest = 0.4699962392\n",
      "bestIteration = 229\n",
      "\n",
      "Training on fold [2/5]\n",
      "\n",
      "bestTest = 0.4574363394\n",
      "bestIteration = 207\n",
      "\n",
      "Training on fold [3/5]\n",
      "\n",
      "bestTest = 0.4711568376\n",
      "bestIteration = 277\n",
      "\n",
      "Training on fold [4/5]\n"
     ]
    },
    {
     "name": "stderr",
     "output_type": "stream",
     "text": [
      "\u001b[32m[I 2022-07-18 14:14:53,303]\u001b[0m Trial 59 finished with value: 0.8608031262428112 and parameters: {'iterations': 1000, 'learning_rate': 0.12435107594551764, 'random_strength': 7, 'bagging_temperature': 6, 'max_bin': 5, 'grow_policy': 'Depthwise', 'min_data_in_leaf': 1, 'max_depth': 2, 'l2_leaf_reg': 0.9266060494607489, 'one_hot_max_size': 5, 'auto_class_weights': 'Balanced'}. Best is trial 42 with value: 0.8615391449194707.\u001b[0m\n"
     ]
    },
    {
     "name": "stdout",
     "output_type": "stream",
     "text": [
      "\n",
      "bestTest = 0.4652933845\n",
      "bestIteration = 348\n",
      "\n",
      "Training on fold [0/5]\n"
     ]
    },
    {
     "name": "stderr",
     "output_type": "stream",
     "text": [
      "C:\\Users\\jvrdo\\anaconda3\\lib\\site-packages\\optuna\\distributions.py:560: UserWarning: The distribution is specified by [1, 10] and step=20, but the range is not divisible by `step`. It will be replaced by [1, 1].\n",
      "  warnings.warn(\n",
      "C:\\Users\\jvrdo\\anaconda3\\lib\\site-packages\\optuna\\distributions.py:560: UserWarning: The distribution is specified by [2, 10] and step=15, but the range is not divisible by `step`. It will be replaced by [2, 2].\n",
      "  warnings.warn(\n"
     ]
    },
    {
     "name": "stdout",
     "output_type": "stream",
     "text": [
      "\n",
      "bestTest = 0.468954917\n",
      "bestIteration = 525\n",
      "\n",
      "Training on fold [1/5]\n",
      "\n",
      "bestTest = 0.4675761858\n",
      "bestIteration = 504\n",
      "\n",
      "Training on fold [2/5]\n",
      "\n",
      "bestTest = 0.4569168884\n",
      "bestIteration = 514\n",
      "\n",
      "Training on fold [3/5]\n",
      "\n",
      "bestTest = 0.4706560086\n",
      "bestIteration = 542\n",
      "\n",
      "Training on fold [4/5]\n"
     ]
    },
    {
     "name": "stderr",
     "output_type": "stream",
     "text": [
      "\u001b[32m[I 2022-07-18 14:15:00,525]\u001b[0m Trial 60 finished with value: 0.8609176850576796 and parameters: {'iterations': 700, 'learning_rate': 0.05038383890228263, 'random_strength': 1, 'bagging_temperature': 5, 'max_bin': 4, 'grow_policy': 'Depthwise', 'min_data_in_leaf': 1, 'max_depth': 2, 'l2_leaf_reg': 0.029532049620247046, 'one_hot_max_size': 1024, 'auto_class_weights': 'Balanced'}. Best is trial 42 with value: 0.8615391449194707.\u001b[0m\n"
     ]
    },
    {
     "name": "stdout",
     "output_type": "stream",
     "text": [
      "\n",
      "bestTest = 0.4700726233\n",
      "bestIteration = 395\n",
      "\n",
      "Training on fold [0/5]\n"
     ]
    },
    {
     "name": "stderr",
     "output_type": "stream",
     "text": [
      "C:\\Users\\jvrdo\\anaconda3\\lib\\site-packages\\optuna\\distributions.py:560: UserWarning: The distribution is specified by [1, 10] and step=20, but the range is not divisible by `step`. It will be replaced by [1, 1].\n",
      "  warnings.warn(\n",
      "C:\\Users\\jvrdo\\anaconda3\\lib\\site-packages\\optuna\\distributions.py:560: UserWarning: The distribution is specified by [2, 10] and step=15, but the range is not divisible by `step`. It will be replaced by [2, 2].\n",
      "  warnings.warn(\n"
     ]
    },
    {
     "name": "stdout",
     "output_type": "stream",
     "text": [
      "\n",
      "bestTest = 0.4689041289\n",
      "bestIteration = 372\n",
      "\n",
      "Training on fold [1/5]\n",
      "\n",
      "bestTest = 0.4692995875\n",
      "bestIteration = 375\n",
      "\n",
      "Training on fold [2/5]\n",
      "\n",
      "bestTest = 0.458156018\n",
      "bestIteration = 315\n",
      "\n",
      "Training on fold [3/5]\n",
      "\n",
      "bestTest = 0.4714000094\n",
      "bestIteration = 373\n",
      "\n",
      "Training on fold [4/5]\n"
     ]
    },
    {
     "name": "stderr",
     "output_type": "stream",
     "text": [
      "\u001b[32m[I 2022-07-18 14:15:28,331]\u001b[0m Trial 61 finished with value: 0.8606518809336476 and parameters: {'iterations': 700, 'learning_rate': 0.09398784228893296, 'random_strength': 1, 'bagging_temperature': 4, 'max_bin': 20, 'grow_policy': 'SymmetricTree', 'min_data_in_leaf': 1, 'max_depth': 2, 'l2_leaf_reg': 0.5318502630607093, 'one_hot_max_size': 5, 'auto_class_weights': 'Balanced'}. Best is trial 42 with value: 0.8615391449194707.\u001b[0m\n"
     ]
    },
    {
     "name": "stdout",
     "output_type": "stream",
     "text": [
      "\n",
      "bestTest = 0.4689104013\n",
      "bestIteration = 319\n",
      "\n",
      "Training on fold [0/5]\n"
     ]
    },
    {
     "name": "stderr",
     "output_type": "stream",
     "text": [
      "C:\\Users\\jvrdo\\anaconda3\\lib\\site-packages\\optuna\\distributions.py:560: UserWarning: The distribution is specified by [1, 10] and step=20, but the range is not divisible by `step`. It will be replaced by [1, 1].\n",
      "  warnings.warn(\n",
      "C:\\Users\\jvrdo\\anaconda3\\lib\\site-packages\\optuna\\distributions.py:560: UserWarning: The distribution is specified by [2, 10] and step=15, but the range is not divisible by `step`. It will be replaced by [2, 2].\n",
      "  warnings.warn(\n"
     ]
    },
    {
     "name": "stdout",
     "output_type": "stream",
     "text": [
      "\n",
      "bestTest = 0.4691336497\n",
      "bestIteration = 315\n",
      "\n",
      "Training on fold [1/5]\n",
      "\n",
      "bestTest = 0.468367624\n",
      "bestIteration = 410\n",
      "\n",
      "Training on fold [2/5]\n",
      "\n",
      "bestTest = 0.4574947411\n",
      "bestIteration = 349\n",
      "\n",
      "Training on fold [3/5]\n",
      "\n",
      "bestTest = 0.4713053045\n",
      "bestIteration = 381\n",
      "\n",
      "Training on fold [4/5]\n"
     ]
    },
    {
     "name": "stderr",
     "output_type": "stream",
     "text": [
      "\u001b[32m[I 2022-07-18 14:15:57,063]\u001b[0m Trial 62 finished with value: 0.8608101893473427 and parameters: {'iterations': 700, 'learning_rate': 0.06700888717844071, 'random_strength': 1, 'bagging_temperature': 5, 'max_bin': 8, 'grow_policy': 'Depthwise', 'min_data_in_leaf': 1, 'max_depth': 2, 'l2_leaf_reg': 4.423343891612788, 'one_hot_max_size': 5, 'auto_class_weights': 'Balanced'}. Best is trial 42 with value: 0.8615391449194707.\u001b[0m\n"
     ]
    },
    {
     "name": "stdout",
     "output_type": "stream",
     "text": [
      "\n",
      "bestTest = 0.4685139938\n",
      "bestIteration = 344\n",
      "\n",
      "Training on fold [0/5]\n"
     ]
    },
    {
     "name": "stderr",
     "output_type": "stream",
     "text": [
      "C:\\Users\\jvrdo\\anaconda3\\lib\\site-packages\\optuna\\distributions.py:560: UserWarning: The distribution is specified by [1, 10] and step=20, but the range is not divisible by `step`. It will be replaced by [1, 1].\n",
      "  warnings.warn(\n",
      "C:\\Users\\jvrdo\\anaconda3\\lib\\site-packages\\optuna\\distributions.py:560: UserWarning: The distribution is specified by [2, 10] and step=15, but the range is not divisible by `step`. It will be replaced by [2, 2].\n",
      "  warnings.warn(\n"
     ]
    },
    {
     "name": "stdout",
     "output_type": "stream",
     "text": [
      "\n",
      "bestTest = 0.4677035209\n",
      "bestIteration = 177\n",
      "\n",
      "Training on fold [1/5]\n",
      "\n",
      "bestTest = 0.4674306462\n",
      "bestIteration = 221\n",
      "\n",
      "Training on fold [2/5]\n",
      "\n",
      "bestTest = 0.4580548351\n",
      "bestIteration = 159\n",
      "\n",
      "Training on fold [3/5]\n",
      "\n",
      "bestTest = 0.4707021434\n",
      "bestIteration = 192\n",
      "\n",
      "Training on fold [4/5]\n"
     ]
    },
    {
     "name": "stderr",
     "output_type": "stream",
     "text": [
      "\u001b[32m[I 2022-07-18 14:16:18,350]\u001b[0m Trial 63 finished with value: 0.8610035629844276 and parameters: {'iterations': 700, 'learning_rate': 0.13906971218506758, 'random_strength': 1, 'bagging_temperature': 6, 'max_bin': 20, 'grow_policy': 'Lossguide', 'min_data_in_leaf': 1, 'max_depth': 2, 'l2_leaf_reg': 0.3403896394568254, 'one_hot_max_size': 5, 'auto_class_weights': 'Balanced'}. Best is trial 42 with value: 0.8615391449194707.\u001b[0m\n"
     ]
    },
    {
     "name": "stdout",
     "output_type": "stream",
     "text": [
      "\n",
      "bestTest = 0.4682184806\n",
      "bestIteration = 211\n",
      "\n",
      "Training on fold [0/5]\n"
     ]
    },
    {
     "name": "stderr",
     "output_type": "stream",
     "text": [
      "C:\\Users\\jvrdo\\anaconda3\\lib\\site-packages\\optuna\\distributions.py:560: UserWarning: The distribution is specified by [1, 10] and step=20, but the range is not divisible by `step`. It will be replaced by [1, 1].\n",
      "  warnings.warn(\n",
      "C:\\Users\\jvrdo\\anaconda3\\lib\\site-packages\\optuna\\distributions.py:560: UserWarning: The distribution is specified by [2, 10] and step=15, but the range is not divisible by `step`. It will be replaced by [2, 2].\n",
      "  warnings.warn(\n"
     ]
    },
    {
     "name": "stdout",
     "output_type": "stream",
     "text": [
      "\n",
      "bestTest = 0.4708185525\n",
      "bestIteration = 495\n",
      "\n",
      "Training on fold [1/5]\n",
      "\n",
      "bestTest = 0.4704590395\n",
      "bestIteration = 499\n",
      "\n",
      "Training on fold [2/5]\n",
      "\n",
      "bestTest = 0.4591324851\n",
      "bestIteration = 499\n",
      "\n",
      "Training on fold [3/5]\n",
      "\n",
      "bestTest = 0.4730034291\n",
      "bestIteration = 498\n",
      "\n",
      "Training on fold [4/5]\n"
     ]
    },
    {
     "name": "stderr",
     "output_type": "stream",
     "text": [
      "\u001b[32m[I 2022-07-18 14:16:57,730]\u001b[0m Trial 64 finished with value: 0.8602196392778941 and parameters: {'iterations': 500, 'learning_rate': 0.036247279010395074, 'random_strength': 2, 'bagging_temperature': 7, 'max_bin': 30, 'grow_policy': 'Depthwise', 'min_data_in_leaf': 1, 'max_depth': 2, 'l2_leaf_reg': 0.0065302649093433186, 'one_hot_max_size': 5, 'auto_class_weights': 'Balanced'}. Best is trial 42 with value: 0.8615391449194707.\u001b[0m\n"
     ]
    },
    {
     "name": "stdout",
     "output_type": "stream",
     "text": [
      "\n",
      "bestTest = 0.4695170484\n",
      "bestIteration = 499\n",
      "\n",
      "Training on fold [0/5]\n"
     ]
    },
    {
     "name": "stderr",
     "output_type": "stream",
     "text": [
      "C:\\Users\\jvrdo\\anaconda3\\lib\\site-packages\\optuna\\distributions.py:560: UserWarning: The distribution is specified by [1, 10] and step=20, but the range is not divisible by `step`. It will be replaced by [1, 1].\n",
      "  warnings.warn(\n",
      "C:\\Users\\jvrdo\\anaconda3\\lib\\site-packages\\optuna\\distributions.py:560: UserWarning: The distribution is specified by [2, 10] and step=15, but the range is not divisible by `step`. It will be replaced by [2, 2].\n",
      "  warnings.warn(\n"
     ]
    },
    {
     "name": "stdout",
     "output_type": "stream",
     "text": [
      "\n",
      "bestTest = 0.466864729\n",
      "bestIteration = 359\n",
      "\n",
      "Training on fold [1/5]\n",
      "\n",
      "bestTest = 0.4678829977\n",
      "bestIteration = 236\n",
      "\n",
      "Training on fold [2/5]\n",
      "\n",
      "bestTest = 0.4561466075\n",
      "bestIteration = 269\n",
      "\n",
      "Training on fold [3/5]\n",
      "\n",
      "bestTest = 0.4721426511\n",
      "bestIteration = 176\n",
      "\n",
      "Training on fold [4/5]\n"
     ]
    },
    {
     "name": "stderr",
     "output_type": "stream",
     "text": [
      "\u001b[32m[I 2022-07-18 14:17:01,950]\u001b[0m Trial 65 finished with value: 0.8611471344290695 and parameters: {'iterations': 700, 'learning_rate': 0.10041617446733511, 'random_strength': 1, 'bagging_temperature': 3, 'max_bin': 5, 'grow_policy': 'Lossguide', 'min_data_in_leaf': 1, 'max_depth': 2, 'l2_leaf_reg': 0.024117681854798026, 'one_hot_max_size': 100, 'auto_class_weights': 'Balanced'}. Best is trial 42 with value: 0.8615391449194707.\u001b[0m\n"
     ]
    },
    {
     "name": "stdout",
     "output_type": "stream",
     "text": [
      "\n",
      "bestTest = 0.4696184546\n",
      "bestIteration = 180\n",
      "\n",
      "Training on fold [0/5]\n"
     ]
    },
    {
     "name": "stderr",
     "output_type": "stream",
     "text": [
      "C:\\Users\\jvrdo\\anaconda3\\lib\\site-packages\\optuna\\distributions.py:560: UserWarning: The distribution is specified by [1, 10] and step=20, but the range is not divisible by `step`. It will be replaced by [1, 1].\n",
      "  warnings.warn(\n",
      "C:\\Users\\jvrdo\\anaconda3\\lib\\site-packages\\optuna\\distributions.py:560: UserWarning: The distribution is specified by [2, 10] and step=15, but the range is not divisible by `step`. It will be replaced by [2, 2].\n",
      "  warnings.warn(\n"
     ]
    },
    {
     "name": "stdout",
     "output_type": "stream",
     "text": [
      "\n",
      "bestTest = 0.4700203086\n",
      "bestIteration = 223\n",
      "\n",
      "Training on fold [1/5]\n",
      "\n",
      "bestTest = 0.4672760213\n",
      "bestIteration = 225\n",
      "\n",
      "Training on fold [2/5]\n",
      "\n",
      "bestTest = 0.4545183847\n",
      "bestIteration = 279\n",
      "\n",
      "Training on fold [3/5]\n",
      "\n",
      "bestTest = 0.4704162111\n",
      "bestIteration = 259\n",
      "\n",
      "Training on fold [4/5]\n"
     ]
    },
    {
     "name": "stderr",
     "output_type": "stream",
     "text": [
      "\u001b[32m[I 2022-07-18 14:17:06,573]\u001b[0m Trial 66 finished with value: 0.8613201783890985 and parameters: {'iterations': 1200, 'learning_rate': 0.11045396792488635, 'random_strength': 2, 'bagging_temperature': 0, 'max_bin': 5, 'grow_policy': 'Depthwise', 'min_data_in_leaf': 1, 'max_depth': 2, 'l2_leaf_reg': 0.034394211946049656, 'one_hot_max_size': 100, 'auto_class_weights': 'Balanced'}. Best is trial 42 with value: 0.8615391449194707.\u001b[0m\n"
     ]
    },
    {
     "name": "stdout",
     "output_type": "stream",
     "text": [
      "\n",
      "bestTest = 0.4687471317\n",
      "bestIteration = 184\n",
      "\n",
      "Training on fold [0/5]\n"
     ]
    },
    {
     "name": "stderr",
     "output_type": "stream",
     "text": [
      "C:\\Users\\jvrdo\\anaconda3\\lib\\site-packages\\optuna\\distributions.py:560: UserWarning: The distribution is specified by [1, 10] and step=20, but the range is not divisible by `step`. It will be replaced by [1, 1].\n",
      "  warnings.warn(\n",
      "C:\\Users\\jvrdo\\anaconda3\\lib\\site-packages\\optuna\\distributions.py:560: UserWarning: The distribution is specified by [2, 10] and step=15, but the range is not divisible by `step`. It will be replaced by [2, 2].\n",
      "  warnings.warn(\n"
     ]
    },
    {
     "name": "stdout",
     "output_type": "stream",
     "text": [
      "\n",
      "bestTest = 0.4848566727\n",
      "bestIteration = 99\n",
      "\n",
      "Training on fold [1/5]\n",
      "\n",
      "bestTest = 0.4827318408\n",
      "bestIteration = 99\n",
      "\n",
      "Training on fold [2/5]\n",
      "\n",
      "bestTest = 0.473226871\n",
      "bestIteration = 99\n",
      "\n",
      "Training on fold [3/5]\n",
      "\n",
      "bestTest = 0.4838782335\n",
      "bestIteration = 99\n",
      "\n",
      "Training on fold [4/5]\n"
     ]
    },
    {
     "name": "stderr",
     "output_type": "stream",
     "text": [
      "\u001b[32m[I 2022-07-18 14:17:08,512]\u001b[0m Trial 67 finished with value: 0.8540609336940201 and parameters: {'iterations': 100, 'learning_rate': 0.10683330694308216, 'random_strength': 4, 'bagging_temperature': 1, 'max_bin': 5, 'grow_policy': 'Lossguide', 'min_data_in_leaf': 1, 'max_depth': 2, 'l2_leaf_reg': 0.0035765369505756568, 'one_hot_max_size': 100, 'auto_class_weights': 'Balanced'}. Best is trial 42 with value: 0.8615391449194707.\u001b[0m\n"
     ]
    },
    {
     "name": "stdout",
     "output_type": "stream",
     "text": [
      "\n",
      "bestTest = 0.4804491363\n",
      "bestIteration = 99\n",
      "\n",
      "Training on fold [0/5]\n"
     ]
    },
    {
     "name": "stderr",
     "output_type": "stream",
     "text": [
      "C:\\Users\\jvrdo\\anaconda3\\lib\\site-packages\\optuna\\distributions.py:560: UserWarning: The distribution is specified by [1, 10] and step=20, but the range is not divisible by `step`. It will be replaced by [1, 1].\n",
      "  warnings.warn(\n",
      "C:\\Users\\jvrdo\\anaconda3\\lib\\site-packages\\optuna\\distributions.py:560: UserWarning: The distribution is specified by [2, 10] and step=15, but the range is not divisible by `step`. It will be replaced by [2, 2].\n",
      "  warnings.warn(\n"
     ]
    },
    {
     "name": "stdout",
     "output_type": "stream",
     "text": [
      "\n",
      "bestTest = 0.4689167036\n",
      "bestIteration = 214\n",
      "\n",
      "Training on fold [1/5]\n",
      "\n",
      "bestTest = 0.467844442\n",
      "bestIteration = 178\n",
      "\n",
      "Training on fold [2/5]\n",
      "\n",
      "bestTest = 0.4565401443\n",
      "bestIteration = 232\n",
      "\n",
      "Training on fold [3/5]\n",
      "\n",
      "bestTest = 0.4719480292\n",
      "bestIteration = 172\n",
      "\n",
      "Training on fold [4/5]\n"
     ]
    },
    {
     "name": "stderr",
     "output_type": "stream",
     "text": [
      "\u001b[32m[I 2022-07-18 14:17:11,832]\u001b[0m Trial 68 finished with value: 0.8609448821161587 and parameters: {'iterations': 1200, 'learning_rate': 0.1466202956984506, 'random_strength': 2, 'bagging_temperature': 0, 'max_bin': 5, 'grow_policy': 'Depthwise', 'min_data_in_leaf': 1, 'max_depth': 2, 'l2_leaf_reg': 0.0005225756263223102, 'one_hot_max_size': 100, 'auto_class_weights': 'Balanced'}. Best is trial 42 with value: 0.8615391449194707.\u001b[0m\n"
     ]
    },
    {
     "name": "stdout",
     "output_type": "stream",
     "text": [
      "\n",
      "bestTest = 0.4662256886\n",
      "bestIteration = 271\n",
      "\n",
      "Training on fold [0/5]\n"
     ]
    },
    {
     "name": "stderr",
     "output_type": "stream",
     "text": [
      "C:\\Users\\jvrdo\\anaconda3\\lib\\site-packages\\optuna\\distributions.py:560: UserWarning: The distribution is specified by [1, 10] and step=20, but the range is not divisible by `step`. It will be replaced by [1, 1].\n",
      "  warnings.warn(\n",
      "C:\\Users\\jvrdo\\anaconda3\\lib\\site-packages\\optuna\\distributions.py:560: UserWarning: The distribution is specified by [2, 10] and step=15, but the range is not divisible by `step`. It will be replaced by [2, 2].\n",
      "  warnings.warn(\n"
     ]
    },
    {
     "name": "stdout",
     "output_type": "stream",
     "text": [
      "\n",
      "bestTest = 0.4697621306\n",
      "bestIteration = 234\n",
      "\n",
      "Training on fold [1/5]\n",
      "\n",
      "bestTest = 0.4679270624\n",
      "bestIteration = 215\n",
      "\n",
      "Training on fold [2/5]\n",
      "\n",
      "bestTest = 0.4567931383\n",
      "bestIteration = 226\n",
      "\n",
      "Training on fold [3/5]\n",
      "\n",
      "bestTest = 0.4718431097\n",
      "bestIteration = 209\n",
      "\n",
      "Training on fold [4/5]\n"
     ]
    },
    {
     "name": "stderr",
     "output_type": "stream",
     "text": [
      "\u001b[32m[I 2022-07-18 14:17:15,708]\u001b[0m Trial 69 finished with value: 0.8610164231060138 and parameters: {'iterations': 1200, 'learning_rate': 0.11938055491224417, 'random_strength': 3, 'bagging_temperature': 1, 'max_bin': 5, 'grow_policy': 'Lossguide', 'min_data_in_leaf': 1, 'max_depth': 2, 'l2_leaf_reg': 0.04033524440094276, 'one_hot_max_size': 100, 'auto_class_weights': 'Balanced'}. Best is trial 42 with value: 0.8615391449194707.\u001b[0m\n"
     ]
    },
    {
     "name": "stdout",
     "output_type": "stream",
     "text": [
      "\n",
      "bestTest = 0.4658173506\n",
      "bestIteration = 338\n",
      "\n",
      "Training on fold [0/5]\n"
     ]
    },
    {
     "name": "stderr",
     "output_type": "stream",
     "text": [
      "C:\\Users\\jvrdo\\anaconda3\\lib\\site-packages\\optuna\\distributions.py:560: UserWarning: The distribution is specified by [1, 10] and step=20, but the range is not divisible by `step`. It will be replaced by [1, 1].\n",
      "  warnings.warn(\n",
      "C:\\Users\\jvrdo\\anaconda3\\lib\\site-packages\\optuna\\distributions.py:560: UserWarning: The distribution is specified by [2, 10] and step=15, but the range is not divisible by `step`. It will be replaced by [2, 2].\n",
      "  warnings.warn(\n"
     ]
    },
    {
     "name": "stdout",
     "output_type": "stream",
     "text": [
      "\n",
      "bestTest = 0.4695204006\n",
      "bestIteration = 468\n",
      "\n",
      "Training on fold [1/5]\n",
      "\n",
      "bestTest = 0.468578503\n",
      "bestIteration = 370\n",
      "\n",
      "Training on fold [2/5]\n",
      "\n",
      "bestTest = 0.4565795885\n",
      "bestIteration = 370\n",
      "\n",
      "Training on fold [3/5]\n",
      "\n",
      "bestTest = 0.471628716\n",
      "bestIteration = 381\n",
      "\n",
      "Training on fold [4/5]\n"
     ]
    },
    {
     "name": "stderr",
     "output_type": "stream",
     "text": [
      "\u001b[32m[I 2022-07-18 14:17:21,813]\u001b[0m Trial 70 finished with value: 0.8608280602518146 and parameters: {'iterations': 1200, 'learning_rate': 0.07883775444921162, 'random_strength': 2, 'bagging_temperature': 2, 'max_bin': 6, 'grow_policy': 'SymmetricTree', 'min_data_in_leaf': 1, 'max_depth': 2, 'l2_leaf_reg': 0.01688429889615413, 'one_hot_max_size': 100, 'auto_class_weights': 'Balanced'}. Best is trial 42 with value: 0.8615391449194707.\u001b[0m\n"
     ]
    },
    {
     "name": "stdout",
     "output_type": "stream",
     "text": [
      "\n",
      "bestTest = 0.4702892471\n",
      "bestIteration = 348\n",
      "\n",
      "Training on fold [0/5]\n"
     ]
    },
    {
     "name": "stderr",
     "output_type": "stream",
     "text": [
      "C:\\Users\\jvrdo\\anaconda3\\lib\\site-packages\\optuna\\distributions.py:560: UserWarning: The distribution is specified by [1, 10] and step=20, but the range is not divisible by `step`. It will be replaced by [1, 1].\n",
      "  warnings.warn(\n",
      "C:\\Users\\jvrdo\\anaconda3\\lib\\site-packages\\optuna\\distributions.py:560: UserWarning: The distribution is specified by [2, 10] and step=15, but the range is not divisible by `step`. It will be replaced by [2, 2].\n",
      "  warnings.warn(\n"
     ]
    },
    {
     "name": "stdout",
     "output_type": "stream",
     "text": [
      "\n",
      "bestTest = 0.4697673217\n",
      "bestIteration = 259\n",
      "\n",
      "Training on fold [1/5]\n",
      "\n",
      "bestTest = 0.4673743535\n",
      "bestIteration = 239\n",
      "\n",
      "Training on fold [2/5]\n",
      "\n",
      "bestTest = 0.4571246634\n",
      "bestIteration = 219\n",
      "\n",
      "Training on fold [3/5]\n",
      "\n",
      "bestTest = 0.4714435747\n",
      "bestIteration = 214\n",
      "\n",
      "Training on fold [4/5]\n"
     ]
    },
    {
     "name": "stderr",
     "output_type": "stream",
     "text": [
      "\u001b[32m[I 2022-07-18 14:17:25,107]\u001b[0m Trial 71 finished with value: 0.8609659683984354 and parameters: {'iterations': 700, 'learning_rate': 0.11142884338131119, 'random_strength': 1, 'bagging_temperature': 6, 'max_bin': 5, 'grow_policy': 'Depthwise', 'min_data_in_leaf': 1, 'max_depth': 2, 'l2_leaf_reg': 0.11261234491592013, 'one_hot_max_size': 100, 'auto_class_weights': 'Balanced'}. Best is trial 42 with value: 0.8615391449194707.\u001b[0m\n"
     ]
    },
    {
     "name": "stdout",
     "output_type": "stream",
     "text": [
      "\n",
      "bestTest = 0.4677418639\n",
      "bestIteration = 231\n",
      "\n",
      "Training on fold [0/5]\n"
     ]
    },
    {
     "name": "stderr",
     "output_type": "stream",
     "text": [
      "C:\\Users\\jvrdo\\anaconda3\\lib\\site-packages\\optuna\\distributions.py:560: UserWarning: The distribution is specified by [1, 10] and step=20, but the range is not divisible by `step`. It will be replaced by [1, 1].\n",
      "  warnings.warn(\n",
      "C:\\Users\\jvrdo\\anaconda3\\lib\\site-packages\\optuna\\distributions.py:560: UserWarning: The distribution is specified by [2, 10] and step=15, but the range is not divisible by `step`. It will be replaced by [2, 2].\n",
      "  warnings.warn(\n"
     ]
    },
    {
     "name": "stdout",
     "output_type": "stream",
     "text": [
      "\n",
      "bestTest = 0.469113187\n",
      "bestIteration = 246\n",
      "\n",
      "Training on fold [1/5]\n",
      "\n",
      "bestTest = 0.4692000588\n",
      "bestIteration = 235\n",
      "\n",
      "Training on fold [2/5]\n",
      "\n",
      "bestTest = 0.4562114029\n",
      "bestIteration = 298\n",
      "\n",
      "Training on fold [3/5]\n",
      "\n",
      "bestTest = 0.4702725455\n",
      "bestIteration = 242\n",
      "\n",
      "Training on fold [4/5]\n"
     ]
    },
    {
     "name": "stderr",
     "output_type": "stream",
     "text": [
      "\u001b[32m[I 2022-07-18 14:17:28,484]\u001b[0m Trial 72 finished with value: 0.8609811938398257 and parameters: {'iterations': 1500, 'learning_rate': 0.09750651593383658, 'random_strength': 1, 'bagging_temperature': 0, 'max_bin': 5, 'grow_policy': 'Depthwise', 'min_data_in_leaf': 1, 'max_depth': 2, 'l2_leaf_reg': 0.19279970606648517, 'one_hot_max_size': 100, 'auto_class_weights': 'Balanced'}. Best is trial 42 with value: 0.8615391449194707.\u001b[0m\n"
     ]
    },
    {
     "name": "stdout",
     "output_type": "stream",
     "text": [
      "\n",
      "bestTest = 0.4677275833\n",
      "bestIteration = 281\n",
      "\n",
      "Training on fold [0/5]\n"
     ]
    },
    {
     "name": "stderr",
     "output_type": "stream",
     "text": [
      "C:\\Users\\jvrdo\\anaconda3\\lib\\site-packages\\optuna\\distributions.py:560: UserWarning: The distribution is specified by [1, 10] and step=20, but the range is not divisible by `step`. It will be replaced by [1, 1].\n",
      "  warnings.warn(\n",
      "C:\\Users\\jvrdo\\anaconda3\\lib\\site-packages\\optuna\\distributions.py:560: UserWarning: The distribution is specified by [2, 10] and step=15, but the range is not divisible by `step`. It will be replaced by [2, 2].\n",
      "  warnings.warn(\n"
     ]
    },
    {
     "name": "stdout",
     "output_type": "stream",
     "text": [
      "\n",
      "bestTest = 0.4727378116\n",
      "bestIteration = 187\n",
      "\n",
      "Training on fold [1/5]\n",
      "\n",
      "bestTest = 0.4710045758\n",
      "bestIteration = 204\n",
      "\n",
      "Training on fold [2/5]\n",
      "\n",
      "bestTest = 0.4561780257\n",
      "bestIteration = 295\n",
      "\n",
      "Training on fold [3/5]\n",
      "\n",
      "bestTest = 0.4718115459\n",
      "bestIteration = 236\n",
      "\n",
      "Training on fold [4/5]\n"
     ]
    },
    {
     "name": "stderr",
     "output_type": "stream",
     "text": [
      "\u001b[32m[I 2022-07-18 14:17:31,465]\u001b[0m Trial 73 finished with value: 0.8601752162036433 and parameters: {'iterations': 1200, 'learning_rate': 0.08298132701778843, 'random_strength': 1, 'bagging_temperature': 3, 'max_bin': 5, 'grow_policy': 'Depthwise', 'min_data_in_leaf': 1, 'max_depth': 2, 'l2_leaf_reg': 0.0015157795104195778, 'one_hot_max_size': 100, 'auto_class_weights': 'Balanced'}. Best is trial 42 with value: 0.8615391449194707.\u001b[0m\n"
     ]
    },
    {
     "name": "stdout",
     "output_type": "stream",
     "text": [
      "\n",
      "bestTest = 0.4699186896\n",
      "bestIteration = 221\n",
      "\n",
      "Training on fold [0/5]\n"
     ]
    },
    {
     "name": "stderr",
     "output_type": "stream",
     "text": [
      "C:\\Users\\jvrdo\\anaconda3\\lib\\site-packages\\optuna\\distributions.py:560: UserWarning: The distribution is specified by [1, 10] and step=20, but the range is not divisible by `step`. It will be replaced by [1, 1].\n",
      "  warnings.warn(\n",
      "C:\\Users\\jvrdo\\anaconda3\\lib\\site-packages\\optuna\\distributions.py:560: UserWarning: The distribution is specified by [2, 10] and step=15, but the range is not divisible by `step`. It will be replaced by [2, 2].\n",
      "  warnings.warn(\n"
     ]
    },
    {
     "name": "stdout",
     "output_type": "stream",
     "text": [
      "\n",
      "bestTest = 0.4686092868\n",
      "bestIteration = 398\n",
      "\n",
      "Training on fold [1/5]\n",
      "\n",
      "bestTest = 0.4692407821\n",
      "bestIteration = 376\n",
      "\n",
      "Training on fold [2/5]\n",
      "\n",
      "bestTest = 0.4557351093\n",
      "bestIteration = 427\n",
      "\n",
      "Training on fold [3/5]\n",
      "\n",
      "bestTest = 0.4710070202\n",
      "bestIteration = 361\n",
      "\n",
      "Training on fold [4/5]\n"
     ]
    },
    {
     "name": "stderr",
     "output_type": "stream",
     "text": [
      "\u001b[32m[I 2022-07-18 14:18:00,764]\u001b[0m Trial 74 finished with value: 0.860982721277456 and parameters: {'iterations': 700, 'learning_rate': 0.062195459100164135, 'random_strength': 2, 'bagging_temperature': 7, 'max_bin': 10, 'grow_policy': 'Depthwise', 'min_data_in_leaf': 1, 'max_depth': 2, 'l2_leaf_reg': 0.007911578468604694, 'one_hot_max_size': 10, 'auto_class_weights': 'Balanced'}. Best is trial 42 with value: 0.8615391449194707.\u001b[0m\n"
     ]
    },
    {
     "name": "stdout",
     "output_type": "stream",
     "text": [
      "\n",
      "bestTest = 0.4691614096\n",
      "bestIteration = 317\n",
      "\n",
      "Training on fold [0/5]\n"
     ]
    },
    {
     "name": "stderr",
     "output_type": "stream",
     "text": [
      "C:\\Users\\jvrdo\\anaconda3\\lib\\site-packages\\optuna\\distributions.py:560: UserWarning: The distribution is specified by [1, 10] and step=20, but the range is not divisible by `step`. It will be replaced by [1, 1].\n",
      "  warnings.warn(\n",
      "C:\\Users\\jvrdo\\anaconda3\\lib\\site-packages\\optuna\\distributions.py:560: UserWarning: The distribution is specified by [2, 10] and step=15, but the range is not divisible by `step`. It will be replaced by [2, 2].\n",
      "  warnings.warn(\n"
     ]
    },
    {
     "name": "stdout",
     "output_type": "stream",
     "text": [
      "\n",
      "bestTest = 0.4698002261\n",
      "bestIteration = 259\n",
      "\n",
      "Training on fold [1/5]\n",
      "\n",
      "bestTest = 0.4672462371\n",
      "bestIteration = 294\n",
      "\n",
      "Training on fold [2/5]\n",
      "\n",
      "bestTest = 0.4575161896\n",
      "bestIteration = 224\n",
      "\n",
      "Training on fold [3/5]\n",
      "\n",
      "bestTest = 0.4710127347\n",
      "bestIteration = 195\n",
      "\n",
      "Training on fold [4/5]\n"
     ]
    },
    {
     "name": "stderr",
     "output_type": "stream",
     "text": [
      "\u001b[32m[I 2022-07-18 14:18:04,255]\u001b[0m Trial 75 finished with value: 0.8610438199076093 and parameters: {'iterations': 700, 'learning_rate': 0.09892792298208544, 'random_strength': 1, 'bagging_temperature': 5, 'max_bin': 5, 'grow_policy': 'Depthwise', 'min_data_in_leaf': 1, 'max_depth': 2, 'l2_leaf_reg': 0.018630599564210502, 'one_hot_max_size': 1024, 'auto_class_weights': 'Balanced'}. Best is trial 42 with value: 0.8615391449194707.\u001b[0m\n"
     ]
    },
    {
     "name": "stdout",
     "output_type": "stream",
     "text": [
      "\n",
      "bestTest = 0.4678448478\n",
      "bestIteration = 241\n",
      "\n",
      "Training on fold [0/5]\n"
     ]
    },
    {
     "name": "stderr",
     "output_type": "stream",
     "text": [
      "C:\\Users\\jvrdo\\anaconda3\\lib\\site-packages\\optuna\\distributions.py:560: UserWarning: The distribution is specified by [1, 10] and step=20, but the range is not divisible by `step`. It will be replaced by [1, 1].\n",
      "  warnings.warn(\n",
      "C:\\Users\\jvrdo\\anaconda3\\lib\\site-packages\\optuna\\distributions.py:560: UserWarning: The distribution is specified by [2, 10] and step=15, but the range is not divisible by `step`. It will be replaced by [2, 2].\n",
      "  warnings.warn(\n"
     ]
    },
    {
     "name": "stdout",
     "output_type": "stream",
     "text": [
      "\n",
      "bestTest = 0.4712052329\n",
      "bestIteration = 129\n",
      "\n",
      "Training on fold [1/5]\n",
      "\n",
      "bestTest = 0.4675793947\n",
      "bestIteration = 179\n",
      "\n",
      "Training on fold [2/5]\n",
      "\n",
      "bestTest = 0.4585927628\n",
      "bestIteration = 132\n",
      "\n",
      "Training on fold [3/5]\n",
      "\n",
      "bestTest = 0.4697239819\n",
      "bestIteration = 241\n",
      "\n",
      "Training on fold [4/5]\n"
     ]
    },
    {
     "name": "stderr",
     "output_type": "stream",
     "text": [
      "\u001b[32m[I 2022-07-18 14:18:07,003]\u001b[0m Trial 76 finished with value: 0.8605551660246785 and parameters: {'iterations': 300, 'learning_rate': 0.159560622586292, 'random_strength': 2, 'bagging_temperature': 2, 'max_bin': 20, 'grow_policy': 'Lossguide', 'min_data_in_leaf': 1, 'max_depth': 2, 'l2_leaf_reg': 0.04800224224578195, 'one_hot_max_size': 1024, 'auto_class_weights': 'SqrtBalanced'}. Best is trial 42 with value: 0.8615391449194707.\u001b[0m\n"
     ]
    },
    {
     "name": "stdout",
     "output_type": "stream",
     "text": [
      "\n",
      "bestTest = 0.4672521484\n",
      "bestIteration = 185\n",
      "\n",
      "Training on fold [0/5]\n"
     ]
    },
    {
     "name": "stderr",
     "output_type": "stream",
     "text": [
      "C:\\Users\\jvrdo\\anaconda3\\lib\\site-packages\\optuna\\distributions.py:560: UserWarning: The distribution is specified by [1, 10] and step=20, but the range is not divisible by `step`. It will be replaced by [1, 1].\n",
      "  warnings.warn(\n",
      "C:\\Users\\jvrdo\\anaconda3\\lib\\site-packages\\optuna\\distributions.py:560: UserWarning: The distribution is specified by [2, 10] and step=15, but the range is not divisible by `step`. It will be replaced by [2, 2].\n",
      "  warnings.warn(\n"
     ]
    },
    {
     "name": "stdout",
     "output_type": "stream",
     "text": [
      "\n",
      "bestTest = 0.4709121519\n",
      "bestIteration = 89\n",
      "\n",
      "Training on fold [1/5]\n",
      "\n",
      "bestTest = 0.470736682\n",
      "bestIteration = 62\n",
      "\n",
      "Training on fold [2/5]\n",
      "\n",
      "bestTest = 0.4573887704\n",
      "bestIteration = 105\n",
      "\n",
      "Training on fold [3/5]\n",
      "\n",
      "bestTest = 0.4717384227\n",
      "bestIteration = 100\n",
      "\n",
      "Training on fold [4/5]\n"
     ]
    },
    {
     "name": "stderr",
     "output_type": "stream",
     "text": [
      "\u001b[32m[I 2022-07-18 14:18:08,764]\u001b[0m Trial 77 finished with value: 0.8595939778294074 and parameters: {'iterations': 1300, 'learning_rate': 0.2949875854155578, 'random_strength': 1, 'bagging_temperature': 6, 'max_bin': 4, 'grow_policy': 'Depthwise', 'min_data_in_leaf': 1, 'max_depth': 2, 'l2_leaf_reg': 1.1241059582068307, 'one_hot_max_size': 100, 'auto_class_weights': 'Balanced'}. Best is trial 42 with value: 0.8615391449194707.\u001b[0m\n"
     ]
    },
    {
     "name": "stdout",
     "output_type": "stream",
     "text": [
      "\n",
      "bestTest = 0.4706138811\n",
      "bestIteration = 71\n",
      "\n",
      "Training on fold [0/5]\n"
     ]
    },
    {
     "name": "stderr",
     "output_type": "stream",
     "text": [
      "C:\\Users\\jvrdo\\anaconda3\\lib\\site-packages\\optuna\\distributions.py:560: UserWarning: The distribution is specified by [1, 10] and step=20, but the range is not divisible by `step`. It will be replaced by [1, 1].\n",
      "  warnings.warn(\n",
      "C:\\Users\\jvrdo\\anaconda3\\lib\\site-packages\\optuna\\distributions.py:560: UserWarning: The distribution is specified by [2, 10] and step=15, but the range is not divisible by `step`. It will be replaced by [2, 2].\n",
      "  warnings.warn(\n"
     ]
    },
    {
     "name": "stdout",
     "output_type": "stream",
     "text": [
      "\n",
      "bestTest = 0.469051635\n",
      "bestIteration = 580\n",
      "\n",
      "Training on fold [1/5]\n",
      "\n",
      "bestTest = 0.4677770322\n",
      "bestIteration = 587\n",
      "\n",
      "Training on fold [2/5]\n",
      "\n",
      "bestTest = 0.455611409\n",
      "bestIteration = 643\n",
      "\n",
      "Training on fold [3/5]\n",
      "\n",
      "bestTest = 0.470688203\n",
      "bestIteration = 505\n",
      "\n",
      "Training on fold [4/5]\n"
     ]
    },
    {
     "name": "stderr",
     "output_type": "stream",
     "text": [
      "\u001b[32m[I 2022-07-18 14:18:16,630]\u001b[0m Trial 78 finished with value: 0.8612632649016569 and parameters: {'iterations': 1000, 'learning_rate': 0.04503020489629817, 'random_strength': 1, 'bagging_temperature': 1, 'max_bin': 10, 'grow_policy': 'Lossguide', 'min_data_in_leaf': 1, 'max_depth': 2, 'l2_leaf_reg': 0.11749549523759856, 'one_hot_max_size': 1024, 'auto_class_weights': 'Balanced'}. Best is trial 42 with value: 0.8615391449194707.\u001b[0m\n"
     ]
    },
    {
     "name": "stdout",
     "output_type": "stream",
     "text": [
      "\n",
      "bestTest = 0.4690030257\n",
      "bestIteration = 455\n",
      "\n",
      "Training on fold [0/5]\n"
     ]
    },
    {
     "name": "stderr",
     "output_type": "stream",
     "text": [
      "C:\\Users\\jvrdo\\anaconda3\\lib\\site-packages\\optuna\\distributions.py:560: UserWarning: The distribution is specified by [1, 10] and step=20, but the range is not divisible by `step`. It will be replaced by [1, 1].\n",
      "  warnings.warn(\n",
      "C:\\Users\\jvrdo\\anaconda3\\lib\\site-packages\\optuna\\distributions.py:560: UserWarning: The distribution is specified by [2, 10] and step=15, but the range is not divisible by `step`. It will be replaced by [2, 2].\n",
      "  warnings.warn(\n"
     ]
    },
    {
     "name": "stdout",
     "output_type": "stream",
     "text": [
      "\n",
      "bestTest = 0.4698643637\n",
      "bestIteration = 534\n",
      "\n",
      "Training on fold [1/5]\n",
      "\n",
      "bestTest = 0.4684671328\n",
      "bestIteration = 603\n",
      "\n",
      "Training on fold [2/5]\n",
      "\n",
      "bestTest = 0.4575792022\n",
      "bestIteration = 523\n",
      "\n",
      "Training on fold [3/5]\n",
      "\n",
      "bestTest = 0.4712908979\n",
      "bestIteration = 550\n",
      "\n",
      "Training on fold [4/5]\n"
     ]
    },
    {
     "name": "stderr",
     "output_type": "stream",
     "text": [
      "\u001b[32m[I 2022-07-18 14:18:24,123]\u001b[0m Trial 79 finished with value: 0.8606988369438409 and parameters: {'iterations': 1000, 'learning_rate': 0.045833056968558765, 'random_strength': 5, 'bagging_temperature': 0, 'max_bin': 10, 'grow_policy': 'Lossguide', 'min_data_in_leaf': 1, 'max_depth': 2, 'l2_leaf_reg': 0.004696517808665219, 'one_hot_max_size': 1024, 'auto_class_weights': 'Balanced'}. Best is trial 42 with value: 0.8615391449194707.\u001b[0m\n"
     ]
    },
    {
     "name": "stdout",
     "output_type": "stream",
     "text": [
      "\n",
      "bestTest = 0.4700264933\n",
      "bestIteration = 462\n",
      "\n",
      "Training on fold [0/5]\n"
     ]
    },
    {
     "name": "stderr",
     "output_type": "stream",
     "text": [
      "C:\\Users\\jvrdo\\anaconda3\\lib\\site-packages\\optuna\\distributions.py:560: UserWarning: The distribution is specified by [1, 10] and step=20, but the range is not divisible by `step`. It will be replaced by [1, 1].\n",
      "  warnings.warn(\n",
      "C:\\Users\\jvrdo\\anaconda3\\lib\\site-packages\\optuna\\distributions.py:560: UserWarning: The distribution is specified by [2, 10] and step=15, but the range is not divisible by `step`. It will be replaced by [2, 2].\n",
      "  warnings.warn(\n"
     ]
    },
    {
     "name": "stdout",
     "output_type": "stream",
     "text": [
      "\n",
      "bestTest = 0.4707763782\n",
      "bestIteration = 649\n",
      "\n",
      "Training on fold [1/5]\n",
      "\n",
      "bestTest = 0.4675899554\n",
      "bestIteration = 810\n",
      "\n",
      "Training on fold [2/5]\n",
      "\n",
      "bestTest = 0.4578940163\n",
      "bestIteration = 639\n",
      "\n",
      "Training on fold [3/5]\n",
      "\n",
      "bestTest = 0.4705307766\n",
      "bestIteration = 792\n",
      "\n",
      "Training on fold [4/5]\n"
     ]
    },
    {
     "name": "stderr",
     "output_type": "stream",
     "text": [
      "\u001b[32m[I 2022-07-18 14:18:33,644]\u001b[0m Trial 80 finished with value: 0.860898381376014 and parameters: {'iterations': 1000, 'learning_rate': 0.033219388266173065, 'random_strength': 2, 'bagging_temperature': 1, 'max_bin': 10, 'grow_policy': 'Lossguide', 'min_data_in_leaf': 1, 'max_depth': 2, 'l2_leaf_reg': 0.08716635004167382, 'one_hot_max_size': 1024, 'auto_class_weights': 'Balanced'}. Best is trial 42 with value: 0.8615391449194707.\u001b[0m\n"
     ]
    },
    {
     "name": "stdout",
     "output_type": "stream",
     "text": [
      "\n",
      "bestTest = 0.469131978\n",
      "bestIteration = 622\n",
      "\n",
      "Training on fold [0/5]\n"
     ]
    },
    {
     "name": "stderr",
     "output_type": "stream",
     "text": [
      "C:\\Users\\jvrdo\\anaconda3\\lib\\site-packages\\optuna\\distributions.py:560: UserWarning: The distribution is specified by [1, 10] and step=20, but the range is not divisible by `step`. It will be replaced by [1, 1].\n",
      "  warnings.warn(\n",
      "C:\\Users\\jvrdo\\anaconda3\\lib\\site-packages\\optuna\\distributions.py:560: UserWarning: The distribution is specified by [2, 10] and step=15, but the range is not divisible by `step`. It will be replaced by [2, 2].\n",
      "  warnings.warn(\n"
     ]
    },
    {
     "name": "stdout",
     "output_type": "stream",
     "text": [
      "\n",
      "bestTest = 0.4715396276\n",
      "bestIteration = 999\n",
      "\n",
      "Training on fold [1/5]\n",
      "\n",
      "bestTest = 0.4707461569\n",
      "bestIteration = 999\n",
      "\n",
      "Training on fold [2/5]\n",
      "\n",
      "bestTest = 0.4596479045\n",
      "bestIteration = 999\n",
      "\n",
      "Training on fold [3/5]\n",
      "\n",
      "bestTest = 0.4734437531\n",
      "bestIteration = 997\n",
      "\n",
      "Training on fold [4/5]\n"
     ]
    },
    {
     "name": "stderr",
     "output_type": "stream",
     "text": [
      "\u001b[32m[I 2022-07-18 14:18:47,905]\u001b[0m Trial 81 finished with value: 0.8599999838537947 and parameters: {'iterations': 1000, 'learning_rate': 0.016654115976124345, 'random_strength': 1, 'bagging_temperature': 0, 'max_bin': 10, 'grow_policy': 'Lossguide', 'min_data_in_leaf': 1, 'max_depth': 2, 'l2_leaf_reg': 0.21449408170770728, 'one_hot_max_size': 1024, 'auto_class_weights': 'Balanced'}. Best is trial 42 with value: 0.8615391449194707.\u001b[0m\n"
     ]
    },
    {
     "name": "stdout",
     "output_type": "stream",
     "text": [
      "\n",
      "bestTest = 0.470788857\n",
      "bestIteration = 999\n",
      "\n",
      "Training on fold [0/5]\n"
     ]
    },
    {
     "name": "stderr",
     "output_type": "stream",
     "text": [
      "C:\\Users\\jvrdo\\anaconda3\\lib\\site-packages\\optuna\\distributions.py:560: UserWarning: The distribution is specified by [1, 10] and step=20, but the range is not divisible by `step`. It will be replaced by [1, 1].\n",
      "  warnings.warn(\n",
      "C:\\Users\\jvrdo\\anaconda3\\lib\\site-packages\\optuna\\distributions.py:560: UserWarning: The distribution is specified by [2, 10] and step=15, but the range is not divisible by `step`. It will be replaced by [2, 2].\n",
      "  warnings.warn(\n"
     ]
    },
    {
     "name": "stdout",
     "output_type": "stream",
     "text": [
      "\n",
      "bestTest = 0.4688308957\n",
      "bestIteration = 231\n",
      "\n",
      "Training on fold [1/5]\n",
      "\n",
      "bestTest = 0.4684822553\n",
      "bestIteration = 255\n",
      "\n",
      "Training on fold [2/5]\n",
      "\n",
      "bestTest = 0.4569657289\n",
      "bestIteration = 291\n",
      "\n",
      "Training on fold [3/5]\n",
      "\n",
      "bestTest = 0.4715336766\n",
      "bestIteration = 215\n",
      "\n",
      "Training on fold [4/5]\n"
     ]
    },
    {
     "name": "stderr",
     "output_type": "stream",
     "text": [
      "\u001b[32m[I 2022-07-18 14:18:51,284]\u001b[0m Trial 82 finished with value: 0.8607381017356509 and parameters: {'iterations': 1500, 'learning_rate': 0.09158049552722283, 'random_strength': 1, 'bagging_temperature': 3, 'max_bin': 10, 'grow_policy': 'Lossguide', 'min_data_in_leaf': 1, 'max_depth': 2, 'l2_leaf_reg': 0.011877655920000264, 'one_hot_max_size': 1024, 'auto_class_weights': 'Balanced'}. Best is trial 42 with value: 0.8615391449194707.\u001b[0m\n"
     ]
    },
    {
     "name": "stdout",
     "output_type": "stream",
     "text": [
      "\n",
      "bestTest = 0.4701252058\n",
      "bestIteration = 196\n",
      "\n",
      "Training on fold [0/5]\n"
     ]
    },
    {
     "name": "stderr",
     "output_type": "stream",
     "text": [
      "C:\\Users\\jvrdo\\anaconda3\\lib\\site-packages\\optuna\\distributions.py:560: UserWarning: The distribution is specified by [1, 10] and step=20, but the range is not divisible by `step`. It will be replaced by [1, 1].\n",
      "  warnings.warn(\n",
      "C:\\Users\\jvrdo\\anaconda3\\lib\\site-packages\\optuna\\distributions.py:560: UserWarning: The distribution is specified by [2, 10] and step=15, but the range is not divisible by `step`. It will be replaced by [2, 2].\n",
      "  warnings.warn(\n"
     ]
    },
    {
     "name": "stdout",
     "output_type": "stream",
     "text": [
      "\n",
      "bestTest = 0.4790966352\n",
      "bestIteration = 199\n",
      "\n",
      "Training on fold [1/5]\n",
      "\n",
      "bestTest = 0.4769265908\n",
      "bestIteration = 199\n",
      "\n",
      "Training on fold [2/5]\n",
      "\n",
      "bestTest = 0.4667706801\n",
      "bestIteration = 199\n",
      "\n",
      "Training on fold [3/5]\n",
      "\n",
      "bestTest = 0.4782136568\n",
      "bestIteration = 199\n",
      "\n",
      "Training on fold [4/5]\n"
     ]
    },
    {
     "name": "stderr",
     "output_type": "stream",
     "text": [
      "\u001b[32m[I 2022-07-18 14:18:54,425]\u001b[0m Trial 83 finished with value: 0.8568525961973039 and parameters: {'iterations': 200, 'learning_rate': 0.05840286137173833, 'random_strength': 2, 'bagging_temperature': 1, 'max_bin': 20, 'grow_policy': 'Lossguide', 'min_data_in_leaf': 1, 'max_depth': 2, 'l2_leaf_reg': 0.031486950105968685, 'one_hot_max_size': 500, 'auto_class_weights': 'Balanced'}. Best is trial 42 with value: 0.8615391449194707.\u001b[0m\n"
     ]
    },
    {
     "name": "stdout",
     "output_type": "stream",
     "text": [
      "\n",
      "bestTest = 0.4750469058\n",
      "bestIteration = 199\n",
      "\n",
      "Training on fold [0/5]\n"
     ]
    },
    {
     "name": "stderr",
     "output_type": "stream",
     "text": [
      "C:\\Users\\jvrdo\\anaconda3\\lib\\site-packages\\optuna\\distributions.py:560: UserWarning: The distribution is specified by [1, 10] and step=20, but the range is not divisible by `step`. It will be replaced by [1, 1].\n",
      "  warnings.warn(\n",
      "C:\\Users\\jvrdo\\anaconda3\\lib\\site-packages\\optuna\\distributions.py:560: UserWarning: The distribution is specified by [2, 10] and step=15, but the range is not divisible by `step`. It will be replaced by [2, 2].\n",
      "  warnings.warn(\n"
     ]
    },
    {
     "name": "stdout",
     "output_type": "stream",
     "text": [
      "\n",
      "bestTest = 0.4707179415\n",
      "bestIteration = 160\n",
      "\n",
      "Training on fold [1/5]\n",
      "\n",
      "bestTest = 0.4678695986\n",
      "bestIteration = 231\n",
      "\n",
      "Training on fold [2/5]\n",
      "\n",
      "bestTest = 0.456881011\n",
      "bestIteration = 209\n",
      "\n",
      "Training on fold [3/5]\n",
      "\n",
      "bestTest = 0.4721799028\n",
      "bestIteration = 187\n",
      "\n",
      "Training on fold [4/5]\n"
     ]
    },
    {
     "name": "stderr",
     "output_type": "stream",
     "text": [
      "\u001b[32m[I 2022-07-18 14:19:10,425]\u001b[0m Trial 84 finished with value: 0.8608245261518894 and parameters: {'iterations': 700, 'learning_rate': 0.12995256581003028, 'random_strength': 1, 'bagging_temperature': 6, 'max_bin': 30, 'grow_policy': 'Depthwise', 'min_data_in_leaf': 1, 'max_depth': 2, 'l2_leaf_reg': 0.5281312556923614, 'one_hot_max_size': 12, 'auto_class_weights': 'Balanced'}. Best is trial 42 with value: 0.8615391449194707.\u001b[0m\n"
     ]
    },
    {
     "name": "stdout",
     "output_type": "stream",
     "text": [
      "\n",
      "bestTest = 0.4657117643\n",
      "bestIteration = 216\n",
      "\n",
      "Training on fold [0/5]\n"
     ]
    },
    {
     "name": "stderr",
     "output_type": "stream",
     "text": [
      "C:\\Users\\jvrdo\\anaconda3\\lib\\site-packages\\optuna\\distributions.py:560: UserWarning: The distribution is specified by [1, 10] and step=20, but the range is not divisible by `step`. It will be replaced by [1, 1].\n",
      "  warnings.warn(\n",
      "C:\\Users\\jvrdo\\anaconda3\\lib\\site-packages\\optuna\\distributions.py:560: UserWarning: The distribution is specified by [2, 10] and step=15, but the range is not divisible by `step`. It will be replaced by [2, 2].\n",
      "  warnings.warn(\n"
     ]
    },
    {
     "name": "stdout",
     "output_type": "stream",
     "text": [
      "\n",
      "bestTest = 0.4702999518\n",
      "bestIteration = 293\n",
      "\n",
      "Training on fold [1/5]\n",
      "\n",
      "bestTest = 0.4667111189\n",
      "bestIteration = 459\n",
      "\n",
      "Training on fold [2/5]\n",
      "\n",
      "bestTest = 0.4569038711\n",
      "bestIteration = 294\n",
      "\n",
      "Training on fold [3/5]\n",
      "\n",
      "bestTest = 0.4693664341\n",
      "bestIteration = 365\n",
      "\n",
      "Training on fold [4/5]\n"
     ]
    },
    {
     "name": "stderr",
     "output_type": "stream",
     "text": [
      "\u001b[32m[I 2022-07-18 14:19:15,785]\u001b[0m Trial 85 finished with value: 0.8609843015542046 and parameters: {'iterations': 1000, 'learning_rate': 0.07234923504399964, 'random_strength': 1, 'bagging_temperature': 7, 'max_bin': 20, 'grow_policy': 'Depthwise', 'min_data_in_leaf': 1, 'max_depth': 2, 'l2_leaf_reg': 2.162879798518231, 'one_hot_max_size': 1024, 'auto_class_weights': 'Balanced'}. Best is trial 42 with value: 0.8615391449194707.\u001b[0m\n"
     ]
    },
    {
     "name": "stdout",
     "output_type": "stream",
     "text": [
      "\n",
      "bestTest = 0.4714652626\n",
      "bestIteration = 225\n",
      "\n",
      "Training on fold [0/5]\n"
     ]
    },
    {
     "name": "stderr",
     "output_type": "stream",
     "text": [
      "C:\\Users\\jvrdo\\anaconda3\\lib\\site-packages\\optuna\\distributions.py:560: UserWarning: The distribution is specified by [1, 10] and step=20, but the range is not divisible by `step`. It will be replaced by [1, 1].\n",
      "  warnings.warn(\n",
      "C:\\Users\\jvrdo\\anaconda3\\lib\\site-packages\\optuna\\distributions.py:560: UserWarning: The distribution is specified by [2, 10] and step=15, but the range is not divisible by `step`. It will be replaced by [2, 2].\n",
      "  warnings.warn(\n"
     ]
    },
    {
     "name": "stdout",
     "output_type": "stream",
     "text": [
      "\n",
      "bestTest = 0.4690218467\n",
      "bestIteration = 251\n",
      "\n",
      "Training on fold [1/5]\n",
      "\n",
      "bestTest = 0.4675328089\n",
      "bestIteration = 302\n",
      "\n",
      "Training on fold [2/5]\n",
      "\n",
      "bestTest = 0.456391496\n",
      "bestIteration = 259\n",
      "\n",
      "Training on fold [3/5]\n",
      "\n",
      "bestTest = 0.4712165605\n",
      "bestIteration = 170\n",
      "\n",
      "Training on fold [4/5]\n"
     ]
    },
    {
     "name": "stderr",
     "output_type": "stream",
     "text": [
      "\u001b[32m[I 2022-07-18 14:19:40,943]\u001b[0m Trial 86 finished with value: 0.8609749138593334 and parameters: {'iterations': 700, 'learning_rate': 0.12274210704381361, 'random_strength': 1, 'bagging_temperature': 1, 'max_bin': 6, 'grow_policy': 'Lossguide', 'min_data_in_leaf': 1, 'max_depth': 2, 'l2_leaf_reg': 0.1268454815064228, 'one_hot_max_size': 10, 'auto_class_weights': 'Balanced'}. Best is trial 42 with value: 0.8615391449194707.\u001b[0m\n"
     ]
    },
    {
     "name": "stdout",
     "output_type": "stream",
     "text": [
      "\n",
      "bestTest = 0.4681644159\n",
      "bestIteration = 228\n",
      "\n",
      "Training on fold [0/5]\n"
     ]
    },
    {
     "name": "stderr",
     "output_type": "stream",
     "text": [
      "C:\\Users\\jvrdo\\anaconda3\\lib\\site-packages\\optuna\\distributions.py:560: UserWarning: The distribution is specified by [1, 10] and step=20, but the range is not divisible by `step`. It will be replaced by [1, 1].\n",
      "  warnings.warn(\n",
      "C:\\Users\\jvrdo\\anaconda3\\lib\\site-packages\\optuna\\distributions.py:560: UserWarning: The distribution is specified by [2, 10] and step=15, but the range is not divisible by `step`. It will be replaced by [2, 2].\n",
      "  warnings.warn(\n"
     ]
    },
    {
     "name": "stdout",
     "output_type": "stream",
     "text": [
      "\n",
      "bestTest = 0.4715864966\n",
      "bestIteration = 234\n",
      "\n",
      "Training on fold [1/5]\n",
      "\n",
      "bestTest = 0.4680162356\n",
      "bestIteration = 269\n",
      "\n",
      "Training on fold [2/5]\n",
      "\n",
      "bestTest = 0.4560512241\n",
      "bestIteration = 330\n",
      "\n",
      "Training on fold [3/5]\n",
      "\n",
      "bestTest = 0.4719133103\n",
      "bestIteration = 276\n",
      "\n",
      "Training on fold [4/5]\n"
     ]
    },
    {
     "name": "stderr",
     "output_type": "stream",
     "text": [
      "\u001b[32m[I 2022-07-18 14:19:45,064]\u001b[0m Trial 87 finished with value: 0.8603363026910562 and parameters: {'iterations': 500, 'learning_rate': 0.11183440073815383, 'random_strength': 3, 'bagging_temperature': 5, 'max_bin': 5, 'grow_policy': 'SymmetricTree', 'min_data_in_leaf': 1, 'max_depth': 2, 'l2_leaf_reg': 0.05343616556162632, 'one_hot_max_size': 100, 'auto_class_weights': 'SqrtBalanced'}. Best is trial 42 with value: 0.8615391449194707.\u001b[0m\n"
     ]
    },
    {
     "name": "stdout",
     "output_type": "stream",
     "text": [
      "\n",
      "bestTest = 0.4705199769\n",
      "bestIteration = 231\n",
      "\n",
      "Training on fold [0/5]\n"
     ]
    },
    {
     "name": "stderr",
     "output_type": "stream",
     "text": [
      "C:\\Users\\jvrdo\\anaconda3\\lib\\site-packages\\optuna\\distributions.py:560: UserWarning: The distribution is specified by [1, 10] and step=20, but the range is not divisible by `step`. It will be replaced by [1, 1].\n",
      "  warnings.warn(\n",
      "C:\\Users\\jvrdo\\anaconda3\\lib\\site-packages\\optuna\\distributions.py:560: UserWarning: The distribution is specified by [2, 10] and step=15, but the range is not divisible by `step`. It will be replaced by [2, 2].\n",
      "  warnings.warn(\n"
     ]
    },
    {
     "name": "stdout",
     "output_type": "stream",
     "text": [
      "\n",
      "bestTest = 0.4702349879\n",
      "bestIteration = 699\n",
      "\n",
      "Training on fold [1/5]\n",
      "\n",
      "bestTest = 0.4697996477\n",
      "bestIteration = 699\n",
      "\n",
      "Training on fold [2/5]\n",
      "\n",
      "bestTest = 0.4582415174\n",
      "bestIteration = 695\n",
      "\n",
      "Training on fold [3/5]\n",
      "\n",
      "bestTest = 0.4717382374\n",
      "bestIteration = 699\n",
      "\n",
      "Training on fold [4/5]\n"
     ]
    },
    {
     "name": "stderr",
     "output_type": "stream",
     "text": [
      "\u001b[32m[I 2022-07-18 14:19:54,214]\u001b[0m Trial 88 finished with value: 0.8604922127315475 and parameters: {'iterations': 700, 'learning_rate': 0.029363518233586183, 'random_strength': 2, 'bagging_temperature': 7, 'max_bin': 10, 'grow_policy': 'Depthwise', 'min_data_in_leaf': 1, 'max_depth': 2, 'l2_leaf_reg': 0.002456105077930567, 'one_hot_max_size': 1024, 'auto_class_weights': 'Balanced'}. Best is trial 42 with value: 0.8615391449194707.\u001b[0m\n"
     ]
    },
    {
     "name": "stdout",
     "output_type": "stream",
     "text": [
      "\n",
      "bestTest = 0.4697843092\n",
      "bestIteration = 699\n",
      "\n",
      "Training on fold [0/5]\n"
     ]
    },
    {
     "name": "stderr",
     "output_type": "stream",
     "text": [
      "C:\\Users\\jvrdo\\anaconda3\\lib\\site-packages\\optuna\\distributions.py:560: UserWarning: The distribution is specified by [1, 10] and step=20, but the range is not divisible by `step`. It will be replaced by [1, 1].\n",
      "  warnings.warn(\n",
      "C:\\Users\\jvrdo\\anaconda3\\lib\\site-packages\\optuna\\distributions.py:560: UserWarning: The distribution is specified by [2, 10] and step=15, but the range is not divisible by `step`. It will be replaced by [2, 2].\n",
      "  warnings.warn(\n"
     ]
    },
    {
     "name": "stdout",
     "output_type": "stream",
     "text": [
      "\n",
      "bestTest = 0.4683907061\n",
      "bestIteration = 535\n",
      "\n",
      "Training on fold [1/5]\n",
      "\n",
      "bestTest = 0.4679689135\n",
      "bestIteration = 596\n",
      "\n",
      "Training on fold [2/5]\n",
      "\n",
      "bestTest = 0.457234897\n",
      "bestIteration = 518\n",
      "\n",
      "Training on fold [3/5]\n",
      "\n",
      "bestTest = 0.4709200472\n",
      "bestIteration = 506\n",
      "\n",
      "Training on fold [4/5]\n"
     ]
    },
    {
     "name": "stderr",
     "output_type": "stream",
     "text": [
      "\u001b[32m[I 2022-07-18 14:20:46,859]\u001b[0m Trial 89 finished with value: 0.8610885679573264 and parameters: {'iterations': 1500, 'learning_rate': 0.043283137985659165, 'random_strength': 1, 'bagging_temperature': 8, 'max_bin': 20, 'grow_policy': 'Lossguide', 'min_data_in_leaf': 1, 'max_depth': 2, 'l2_leaf_reg': 0.01713621345716815, 'one_hot_max_size': 5, 'auto_class_weights': 'Balanced'}. Best is trial 42 with value: 0.8615391449194707.\u001b[0m\n"
     ]
    },
    {
     "name": "stdout",
     "output_type": "stream",
     "text": [
      "\n",
      "bestTest = 0.4681632351\n",
      "bestIteration = 518\n",
      "\n",
      "Training on fold [0/5]\n"
     ]
    },
    {
     "name": "stderr",
     "output_type": "stream",
     "text": [
      "C:\\Users\\jvrdo\\anaconda3\\lib\\site-packages\\optuna\\distributions.py:560: UserWarning: The distribution is specified by [1, 10] and step=20, but the range is not divisible by `step`. It will be replaced by [1, 1].\n",
      "  warnings.warn(\n",
      "C:\\Users\\jvrdo\\anaconda3\\lib\\site-packages\\optuna\\distributions.py:560: UserWarning: The distribution is specified by [2, 10] and step=15, but the range is not divisible by `step`. It will be replaced by [2, 2].\n",
      "  warnings.warn(\n"
     ]
    },
    {
     "name": "stdout",
     "output_type": "stream",
     "text": [
      "\n",
      "bestTest = 0.4708039463\n",
      "bestIteration = 524\n",
      "\n",
      "Training on fold [1/5]\n",
      "\n",
      "bestTest = 0.4684376089\n",
      "bestIteration = 590\n",
      "\n",
      "Training on fold [2/5]\n",
      "\n",
      "bestTest = 0.4570996794\n",
      "bestIteration = 578\n",
      "\n",
      "Training on fold [3/5]\n",
      "\n",
      "bestTest = 0.4718003002\n",
      "bestIteration = 520\n",
      "\n",
      "Training on fold [4/5]\n"
     ]
    },
    {
     "name": "stderr",
     "output_type": "stream",
     "text": [
      "\u001b[32m[I 2022-07-18 14:20:54,569]\u001b[0m Trial 90 finished with value: 0.8604811016608755 and parameters: {'iterations': 1500, 'learning_rate': 0.040094578620748236, 'random_strength': 2, 'bagging_temperature': 8, 'max_bin': 20, 'grow_policy': 'Lossguide', 'min_data_in_leaf': 1, 'max_depth': 2, 'l2_leaf_reg': 0.0007608042470326545, 'one_hot_max_size': 1024, 'auto_class_weights': 'Balanced'}. Best is trial 42 with value: 0.8615391449194707.\u001b[0m\n"
     ]
    },
    {
     "name": "stdout",
     "output_type": "stream",
     "text": [
      "\n",
      "bestTest = 0.4716824003\n",
      "bestIteration = 397\n",
      "\n",
      "Training on fold [0/5]\n"
     ]
    },
    {
     "name": "stderr",
     "output_type": "stream",
     "text": [
      "C:\\Users\\jvrdo\\anaconda3\\lib\\site-packages\\optuna\\distributions.py:560: UserWarning: The distribution is specified by [1, 10] and step=20, but the range is not divisible by `step`. It will be replaced by [1, 1].\n",
      "  warnings.warn(\n",
      "C:\\Users\\jvrdo\\anaconda3\\lib\\site-packages\\optuna\\distributions.py:560: UserWarning: The distribution is specified by [2, 10] and step=15, but the range is not divisible by `step`. It will be replaced by [2, 2].\n",
      "  warnings.warn(\n"
     ]
    },
    {
     "name": "stdout",
     "output_type": "stream",
     "text": [
      "\n",
      "bestTest = 0.468276914\n",
      "bestIteration = 478\n",
      "\n",
      "Training on fold [1/5]\n",
      "\n",
      "bestTest = 0.4672802662\n",
      "bestIteration = 716\n",
      "\n",
      "Training on fold [2/5]\n",
      "\n",
      "bestTest = 0.4580355679\n",
      "bestIteration = 457\n",
      "\n",
      "Training on fold [3/5]\n",
      "\n",
      "bestTest = 0.4711477952\n",
      "bestIteration = 483\n",
      "\n",
      "Training on fold [4/5]\n"
     ]
    },
    {
     "name": "stderr",
     "output_type": "stream",
     "text": [
      "\u001b[32m[I 2022-07-18 14:21:45,242]\u001b[0m Trial 91 finished with value: 0.8609721548765179 and parameters: {'iterations': 1500, 'learning_rate': 0.052419479503369275, 'random_strength': 1, 'bagging_temperature': 9, 'max_bin': 20, 'grow_policy': 'Lossguide', 'min_data_in_leaf': 1, 'max_depth': 2, 'l2_leaf_reg': 0.015884319203631987, 'one_hot_max_size': 5, 'auto_class_weights': 'Balanced'}. Best is trial 42 with value: 0.8615391449194707.\u001b[0m\n"
     ]
    },
    {
     "name": "stdout",
     "output_type": "stream",
     "text": [
      "\n",
      "bestTest = 0.4676636839\n",
      "bestIteration = 478\n",
      "\n",
      "Training on fold [0/5]\n"
     ]
    },
    {
     "name": "stderr",
     "output_type": "stream",
     "text": [
      "C:\\Users\\jvrdo\\anaconda3\\lib\\site-packages\\optuna\\distributions.py:560: UserWarning: The distribution is specified by [1, 10] and step=20, but the range is not divisible by `step`. It will be replaced by [1, 1].\n",
      "  warnings.warn(\n",
      "C:\\Users\\jvrdo\\anaconda3\\lib\\site-packages\\optuna\\distributions.py:560: UserWarning: The distribution is specified by [2, 10] and step=15, but the range is not divisible by `step`. It will be replaced by [2, 2].\n",
      "  warnings.warn(\n"
     ]
    },
    {
     "name": "stdout",
     "output_type": "stream",
     "text": [
      "\n",
      "bestTest = 0.4700644762\n",
      "bestIteration = 900\n",
      "\n",
      "Training on fold [1/5]\n",
      "\n",
      "bestTest = 0.4679882483\n",
      "bestIteration = 1279\n",
      "\n",
      "Training on fold [2/5]\n",
      "\n",
      "bestTest = 0.457959206\n",
      "bestIteration = 1009\n",
      "\n",
      "Training on fold [3/5]\n",
      "\n",
      "bestTest = 0.4720123717\n",
      "bestIteration = 843\n",
      "\n",
      "Training on fold [4/5]\n"
     ]
    },
    {
     "name": "stderr",
     "output_type": "stream",
     "text": [
      "\u001b[32m[I 2022-07-18 14:23:20,328]\u001b[0m Trial 92 finished with value: 0.8606272141641924 and parameters: {'iterations': 1500, 'learning_rate': 0.020393154423435422, 'random_strength': 1, 'bagging_temperature': 8, 'max_bin': 20, 'grow_policy': 'Lossguide', 'min_data_in_leaf': 1, 'max_depth': 2, 'l2_leaf_reg': 0.008039733675390114, 'one_hot_max_size': 5, 'auto_class_weights': 'Balanced'}. Best is trial 42 with value: 0.8615391449194707.\u001b[0m\n"
     ]
    },
    {
     "name": "stdout",
     "output_type": "stream",
     "text": [
      "\n",
      "bestTest = 0.4691955241\n",
      "bestIteration = 955\n",
      "\n",
      "Training on fold [0/5]\n"
     ]
    },
    {
     "name": "stderr",
     "output_type": "stream",
     "text": [
      "C:\\Users\\jvrdo\\anaconda3\\lib\\site-packages\\optuna\\distributions.py:560: UserWarning: The distribution is specified by [1, 10] and step=20, but the range is not divisible by `step`. It will be replaced by [1, 1].\n",
      "  warnings.warn(\n",
      "C:\\Users\\jvrdo\\anaconda3\\lib\\site-packages\\optuna\\distributions.py:560: UserWarning: The distribution is specified by [2, 10] and step=15, but the range is not divisible by `step`. It will be replaced by [2, 2].\n",
      "  warnings.warn(\n"
     ]
    },
    {
     "name": "stdout",
     "output_type": "stream",
     "text": [
      "\n",
      "bestTest = 0.4691159165\n",
      "bestIteration = 394\n",
      "\n",
      "Training on fold [1/5]\n",
      "\n",
      "bestTest = 0.4710931903\n",
      "bestIteration = 277\n",
      "\n",
      "Training on fold [2/5]\n",
      "\n",
      "bestTest = 0.4571471694\n",
      "bestIteration = 372\n",
      "\n",
      "Training on fold [3/5]\n",
      "\n",
      "bestTest = 0.4697318585\n",
      "bestIteration = 488\n",
      "\n",
      "Training on fold [4/5]\n"
     ]
    },
    {
     "name": "stderr",
     "output_type": "stream",
     "text": [
      "\u001b[32m[I 2022-07-18 14:23:57,604]\u001b[0m Trial 93 finished with value: 0.8607280112176422 and parameters: {'iterations': 1200, 'learning_rate': 0.06407886127553918, 'random_strength': 1, 'bagging_temperature': 6, 'max_bin': 20, 'grow_policy': 'Lossguide', 'min_data_in_leaf': 1, 'max_depth': 2, 'l2_leaf_reg': 0.03776649449475669, 'one_hot_max_size': 5, 'auto_class_weights': 'Balanced'}. Best is trial 42 with value: 0.8615391449194707.\u001b[0m\n"
     ]
    },
    {
     "name": "stdout",
     "output_type": "stream",
     "text": [
      "\n",
      "bestTest = 0.4687427503\n",
      "bestIteration = 348\n",
      "\n",
      "Training on fold [0/5]\n"
     ]
    },
    {
     "name": "stderr",
     "output_type": "stream",
     "text": [
      "C:\\Users\\jvrdo\\anaconda3\\lib\\site-packages\\optuna\\distributions.py:560: UserWarning: The distribution is specified by [1, 10] and step=20, but the range is not divisible by `step`. It will be replaced by [1, 1].\n",
      "  warnings.warn(\n",
      "C:\\Users\\jvrdo\\anaconda3\\lib\\site-packages\\optuna\\distributions.py:560: UserWarning: The distribution is specified by [2, 10] and step=15, but the range is not divisible by `step`. It will be replaced by [2, 2].\n",
      "  warnings.warn(\n"
     ]
    },
    {
     "name": "stdout",
     "output_type": "stream",
     "text": [
      "\n",
      "bestTest = 0.4762099793\n",
      "bestIteration = 1499\n",
      "\n",
      "Training on fold [1/5]\n",
      "\n",
      "bestTest = 0.4755292477\n",
      "bestIteration = 1499\n",
      "\n",
      "Training on fold [2/5]\n",
      "\n",
      "bestTest = 0.4647357202\n",
      "bestIteration = 1499\n",
      "\n",
      "Training on fold [3/5]\n",
      "\n",
      "bestTest = 0.4761150901\n",
      "bestIteration = 1499\n",
      "\n",
      "Training on fold [4/5]\n"
     ]
    },
    {
     "name": "stderr",
     "output_type": "stream",
     "text": [
      "\u001b[32m[I 2022-07-18 14:25:48,144]\u001b[0m Trial 94 finished with value: 0.8580869332202216 and parameters: {'iterations': 1500, 'learning_rate': 0.007334774384001999, 'random_strength': 1, 'bagging_temperature': 0, 'max_bin': 5, 'grow_policy': 'Depthwise', 'min_data_in_leaf': 1, 'max_depth': 2, 'l2_leaf_reg': 0.0766094858723122, 'one_hot_max_size': 5, 'auto_class_weights': 'Balanced'}. Best is trial 42 with value: 0.8615391449194707.\u001b[0m\n"
     ]
    },
    {
     "name": "stdout",
     "output_type": "stream",
     "text": [
      "\n",
      "bestTest = 0.4747116819\n",
      "bestIteration = 1499\n",
      "\n",
      "Training on fold [0/5]\n"
     ]
    },
    {
     "name": "stderr",
     "output_type": "stream",
     "text": [
      "C:\\Users\\jvrdo\\anaconda3\\lib\\site-packages\\optuna\\distributions.py:560: UserWarning: The distribution is specified by [1, 10] and step=20, but the range is not divisible by `step`. It will be replaced by [1, 1].\n",
      "  warnings.warn(\n",
      "C:\\Users\\jvrdo\\anaconda3\\lib\\site-packages\\optuna\\distributions.py:560: UserWarning: The distribution is specified by [2, 10] and step=15, but the range is not divisible by `step`. It will be replaced by [2, 2].\n",
      "  warnings.warn(\n"
     ]
    },
    {
     "name": "stdout",
     "output_type": "stream",
     "text": [
      "\n",
      "bestTest = 0.4693255944\n",
      "bestIteration = 235\n",
      "\n",
      "Training on fold [1/5]\n",
      "\n",
      "bestTest = 0.4694365018\n",
      "bestIteration = 300\n",
      "\n",
      "Training on fold [2/5]\n",
      "\n",
      "bestTest = 0.456973906\n",
      "bestIteration = 334\n",
      "\n",
      "Training on fold [3/5]\n",
      "\n",
      "bestTest = 0.4720477989\n",
      "bestIteration = 232\n",
      "\n",
      "Training on fold [4/5]\n"
     ]
    },
    {
     "name": "stderr",
     "output_type": "stream",
     "text": [
      "\u001b[32m[I 2022-07-18 14:26:17,845]\u001b[0m Trial 95 finished with value: 0.8606376873604991 and parameters: {'iterations': 700, 'learning_rate': 0.08215138006295589, 'random_strength': 1, 'bagging_temperature': 8, 'max_bin': 30, 'grow_policy': 'Lossguide', 'min_data_in_leaf': 1, 'max_depth': 2, 'l2_leaf_reg': 0.2346908040704172, 'one_hot_max_size': 5, 'auto_class_weights': 'Balanced'}. Best is trial 42 with value: 0.8615391449194707.\u001b[0m\n"
     ]
    },
    {
     "name": "stdout",
     "output_type": "stream",
     "text": [
      "\n",
      "bestTest = 0.467388124\n",
      "bestIteration = 429\n",
      "\n",
      "Training on fold [0/5]\n"
     ]
    },
    {
     "name": "stderr",
     "output_type": "stream",
     "text": [
      "C:\\Users\\jvrdo\\anaconda3\\lib\\site-packages\\optuna\\distributions.py:560: UserWarning: The distribution is specified by [1, 10] and step=20, but the range is not divisible by `step`. It will be replaced by [1, 1].\n",
      "  warnings.warn(\n",
      "C:\\Users\\jvrdo\\anaconda3\\lib\\site-packages\\optuna\\distributions.py:560: UserWarning: The distribution is specified by [2, 10] and step=15, but the range is not divisible by `step`. It will be replaced by [2, 2].\n",
      "  warnings.warn(\n"
     ]
    },
    {
     "name": "stdout",
     "output_type": "stream",
     "text": [
      "\n",
      "bestTest = 0.4697154098\n",
      "bestIteration = 518\n",
      "\n",
      "Training on fold [1/5]\n",
      "\n",
      "bestTest = 0.4681938286\n",
      "bestIteration = 554\n",
      "\n",
      "Training on fold [2/5]\n",
      "\n",
      "bestTest = 0.4560112218\n",
      "bestIteration = 638\n",
      "\n",
      "Training on fold [3/5]\n",
      "\n",
      "bestTest = 0.472323473\n",
      "bestIteration = 494\n",
      "\n",
      "Training on fold [4/5]\n"
     ]
    },
    {
     "name": "stderr",
     "output_type": "stream",
     "text": [
      "\u001b[32m[I 2022-07-18 14:26:25,902]\u001b[0m Trial 96 finished with value: 0.8610263699294132 and parameters: {'iterations': 700, 'learning_rate': 0.04415079722940169, 'random_strength': 2, 'bagging_temperature': 10, 'max_bin': 20, 'grow_policy': 'Depthwise', 'min_data_in_leaf': 1, 'max_depth': 2, 'l2_leaf_reg': 0.025435030198432528, 'one_hot_max_size': 500, 'auto_class_weights': 'Balanced'}. Best is trial 42 with value: 0.8615391449194707.\u001b[0m\n"
     ]
    },
    {
     "name": "stdout",
     "output_type": "stream",
     "text": [
      "\n",
      "bestTest = 0.4669191201\n",
      "bestIteration = 631\n",
      "\n",
      "Training on fold [0/5]\n"
     ]
    },
    {
     "name": "stderr",
     "output_type": "stream",
     "text": [
      "C:\\Users\\jvrdo\\anaconda3\\lib\\site-packages\\optuna\\distributions.py:560: UserWarning: The distribution is specified by [1, 10] and step=20, but the range is not divisible by `step`. It will be replaced by [1, 1].\n",
      "  warnings.warn(\n",
      "C:\\Users\\jvrdo\\anaconda3\\lib\\site-packages\\optuna\\distributions.py:560: UserWarning: The distribution is specified by [2, 10] and step=15, but the range is not divisible by `step`. It will be replaced by [2, 2].\n",
      "  warnings.warn(\n"
     ]
    },
    {
     "name": "stdout",
     "output_type": "stream",
     "text": [
      "\n",
      "bestTest = 0.4782448011\n",
      "bestIteration = 99\n",
      "\n",
      "Training on fold [1/5]\n",
      "\n",
      "bestTest = 0.4771314297\n",
      "bestIteration = 99\n",
      "\n",
      "Training on fold [2/5]\n",
      "\n",
      "bestTest = 0.465414009\n",
      "bestIteration = 99\n",
      "\n",
      "Training on fold [3/5]\n",
      "\n",
      "bestTest = 0.4773657581\n",
      "bestIteration = 99\n",
      "\n",
      "Training on fold [4/5]\n"
     ]
    },
    {
     "name": "stderr",
     "output_type": "stream",
     "text": [
      "\u001b[32m[I 2022-07-18 14:26:35,030]\u001b[0m Trial 97 finished with value: 0.8572926550978665 and parameters: {'iterations': 100, 'learning_rate': 0.10168666651737265, 'random_strength': 1, 'bagging_temperature': 2, 'max_bin': 10, 'grow_policy': 'Lossguide', 'min_data_in_leaf': 1, 'max_depth': 2, 'l2_leaf_reg': 0.0038825912403131157, 'one_hot_max_size': 5, 'auto_class_weights': 'Balanced'}. Best is trial 42 with value: 0.8615391449194707.\u001b[0m\n"
     ]
    },
    {
     "name": "stdout",
     "output_type": "stream",
     "text": [
      "\n",
      "bestTest = 0.4753296508\n",
      "bestIteration = 99\n",
      "\n",
      "Training on fold [0/5]\n"
     ]
    },
    {
     "name": "stderr",
     "output_type": "stream",
     "text": [
      "C:\\Users\\jvrdo\\anaconda3\\lib\\site-packages\\optuna\\distributions.py:560: UserWarning: The distribution is specified by [1, 10] and step=20, but the range is not divisible by `step`. It will be replaced by [1, 1].\n",
      "  warnings.warn(\n",
      "C:\\Users\\jvrdo\\anaconda3\\lib\\site-packages\\optuna\\distributions.py:560: UserWarning: The distribution is specified by [2, 10] and step=15, but the range is not divisible by `step`. It will be replaced by [2, 2].\n",
      "  warnings.warn(\n"
     ]
    },
    {
     "name": "stdout",
     "output_type": "stream",
     "text": [
      "\n",
      "bestTest = 0.4676054009\n",
      "bestIteration = 335\n",
      "\n",
      "Training on fold [1/5]\n",
      "\n",
      "bestTest = 0.4686870269\n",
      "bestIteration = 277\n",
      "\n",
      "Training on fold [2/5]\n",
      "\n",
      "bestTest = 0.4560860054\n",
      "bestIteration = 273\n",
      "\n",
      "Training on fold [3/5]\n",
      "\n",
      "bestTest = 0.4704544684\n",
      "bestIteration = 304\n",
      "\n",
      "Training on fold [4/5]\n"
     ]
    },
    {
     "name": "stderr",
     "output_type": "stream",
     "text": [
      "\u001b[32m[I 2022-07-18 14:26:39,329]\u001b[0m Trial 98 finished with value: 0.861295408422893 and parameters: {'iterations': 700, 'learning_rate': 0.09048840051398882, 'random_strength': 1, 'bagging_temperature': 7, 'max_bin': 20, 'grow_policy': 'Depthwise', 'min_data_in_leaf': 1, 'max_depth': 2, 'l2_leaf_reg': 0.001489054122990101, 'one_hot_max_size': 1024, 'auto_class_weights': 'Balanced'}. Best is trial 42 with value: 0.8615391449194707.\u001b[0m\n"
     ]
    },
    {
     "name": "stdout",
     "output_type": "stream",
     "text": [
      "\n",
      "bestTest = 0.4678011601\n",
      "bestIteration = 299\n",
      "\n",
      "Training on fold [0/5]\n"
     ]
    },
    {
     "name": "stderr",
     "output_type": "stream",
     "text": [
      "C:\\Users\\jvrdo\\anaconda3\\lib\\site-packages\\optuna\\distributions.py:560: UserWarning: The distribution is specified by [1, 10] and step=20, but the range is not divisible by `step`. It will be replaced by [1, 1].\n",
      "  warnings.warn(\n",
      "C:\\Users\\jvrdo\\anaconda3\\lib\\site-packages\\optuna\\distributions.py:560: UserWarning: The distribution is specified by [2, 10] and step=15, but the range is not divisible by `step`. It will be replaced by [2, 2].\n",
      "  warnings.warn(\n"
     ]
    },
    {
     "name": "stdout",
     "output_type": "stream",
     "text": [
      "\n",
      "bestTest = 0.4713439872\n",
      "bestIteration = 319\n",
      "\n",
      "Training on fold [1/5]\n",
      "\n",
      "bestTest = 0.4697282172\n",
      "bestIteration = 278\n",
      "\n",
      "Training on fold [2/5]\n",
      "\n",
      "bestTest = 0.4576771321\n",
      "bestIteration = 307\n",
      "\n",
      "Training on fold [3/5]\n",
      "\n",
      "bestTest = 0.4718992661\n",
      "bestIteration = 293\n",
      "\n",
      "Training on fold [4/5]\n"
     ]
    },
    {
     "name": "stderr",
     "output_type": "stream",
     "text": [
      "\u001b[32m[I 2022-07-18 14:26:43,909]\u001b[0m Trial 99 finished with value: 0.8601423401806919 and parameters: {'iterations': 1300, 'learning_rate': 0.0903647729528487, 'random_strength': 6, 'bagging_temperature': 7, 'max_bin': 20, 'grow_policy': 'Depthwise', 'min_data_in_leaf': 1, 'max_depth': 2, 'l2_leaf_reg': 0.0003521725210638833, 'one_hot_max_size': 1024, 'auto_class_weights': 'Balanced'}. Best is trial 42 with value: 0.8615391449194707.\u001b[0m\n"
     ]
    },
    {
     "name": "stdout",
     "output_type": "stream",
     "text": [
      "\n",
      "bestTest = 0.4689107974\n",
      "bestIteration = 303\n",
      "\n"
     ]
    }
   ],
   "source": [
    "sampler = optuna.samplers.TPESampler(seed=68)  # Make the sampler behave in a deterministic way.\n",
    "study = optuna.create_study(direction=\"maximize\", sampler=sampler)\n",
    "study.optimize(objective, n_trials=100)"
   ]
  },
  {
   "cell_type": "code",
   "execution_count": 182,
   "id": "fcb9ee15",
   "metadata": {},
   "outputs": [],
   "source": [
    "train_dataset_se = Pool(data=X_train,\n",
    "                     label=y_train.seasonal_vaccine,\n",
    "                     cat_features = categorical_features_indices)"
   ]
  },
  {
   "cell_type": "code",
   "execution_count": 183,
   "id": "af05e6ff",
   "metadata": {},
   "outputs": [
    {
     "data": {
      "text/html": [
       "<div>\n",
       "<style scoped>\n",
       "    .dataframe tbody tr th:only-of-type {\n",
       "        vertical-align: middle;\n",
       "    }\n",
       "\n",
       "    .dataframe tbody tr th {\n",
       "        vertical-align: top;\n",
       "    }\n",
       "\n",
       "    .dataframe thead th {\n",
       "        text-align: right;\n",
       "    }\n",
       "</style>\n",
       "<table border=\"1\" class=\"dataframe\">\n",
       "  <thead>\n",
       "    <tr style=\"text-align: right;\">\n",
       "      <th></th>\n",
       "      <th>h1n1_concern</th>\n",
       "      <th>h1n1_knowledge</th>\n",
       "      <th>behavioral_antiviral_meds</th>\n",
       "      <th>behavioral_avoidance</th>\n",
       "      <th>behavioral_face_mask</th>\n",
       "      <th>behavioral_wash_hands</th>\n",
       "      <th>behavioral_large_gatherings</th>\n",
       "      <th>behavioral_outside_home</th>\n",
       "      <th>behavioral_touch_face</th>\n",
       "      <th>doctor_recc_h1n1</th>\n",
       "      <th>...</th>\n",
       "      <th>rent_or_own</th>\n",
       "      <th>employment_status</th>\n",
       "      <th>hhs_geo_region</th>\n",
       "      <th>census_msa</th>\n",
       "      <th>household_adults</th>\n",
       "      <th>household_children</th>\n",
       "      <th>employment_industry</th>\n",
       "      <th>employment_occupation</th>\n",
       "      <th>opinion_seas_vacc_effective_r</th>\n",
       "      <th>opinion_seas_risk_r</th>\n",
       "    </tr>\n",
       "    <tr>\n",
       "      <th>respondent_id</th>\n",
       "      <th></th>\n",
       "      <th></th>\n",
       "      <th></th>\n",
       "      <th></th>\n",
       "      <th></th>\n",
       "      <th></th>\n",
       "      <th></th>\n",
       "      <th></th>\n",
       "      <th></th>\n",
       "      <th></th>\n",
       "      <th></th>\n",
       "      <th></th>\n",
       "      <th></th>\n",
       "      <th></th>\n",
       "      <th></th>\n",
       "      <th></th>\n",
       "      <th></th>\n",
       "      <th></th>\n",
       "      <th></th>\n",
       "      <th></th>\n",
       "      <th></th>\n",
       "    </tr>\n",
       "  </thead>\n",
       "  <tbody>\n",
       "    <tr>\n",
       "      <th>19722</th>\n",
       "      <td>2.0</td>\n",
       "      <td>1.0</td>\n",
       "      <td>0.0</td>\n",
       "      <td>0.0</td>\n",
       "      <td>0.0</td>\n",
       "      <td>0.0</td>\n",
       "      <td>0.0</td>\n",
       "      <td>0.0</td>\n",
       "      <td>0.0</td>\n",
       "      <td>0.0</td>\n",
       "      <td>...</td>\n",
       "      <td>Own</td>\n",
       "      <td>0.0</td>\n",
       "      <td>qufhixun</td>\n",
       "      <td>Non-MSA</td>\n",
       "      <td>0.0</td>\n",
       "      <td>0.0</td>\n",
       "      <td>xicduogh</td>\n",
       "      <td>qxajmpny</td>\n",
       "      <td>3.978607</td>\n",
       "      <td>2.339600</td>\n",
       "    </tr>\n",
       "    <tr>\n",
       "      <th>15631</th>\n",
       "      <td>1.0</td>\n",
       "      <td>2.0</td>\n",
       "      <td>0.0</td>\n",
       "      <td>0.0</td>\n",
       "      <td>0.0</td>\n",
       "      <td>1.0</td>\n",
       "      <td>0.0</td>\n",
       "      <td>0.0</td>\n",
       "      <td>1.0</td>\n",
       "      <td>0.0</td>\n",
       "      <td>...</td>\n",
       "      <td>Own</td>\n",
       "      <td>0.0</td>\n",
       "      <td>lzgpxyit</td>\n",
       "      <td>MSA, Principle City</td>\n",
       "      <td>1.0</td>\n",
       "      <td>2.0</td>\n",
       "      <td>wxleyezf</td>\n",
       "      <td>emcorrxb</td>\n",
       "      <td>3.887749</td>\n",
       "      <td>2.904102</td>\n",
       "    </tr>\n",
       "    <tr>\n",
       "      <th>6559</th>\n",
       "      <td>1.0</td>\n",
       "      <td>1.0</td>\n",
       "      <td>0.0</td>\n",
       "      <td>1.0</td>\n",
       "      <td>0.0</td>\n",
       "      <td>1.0</td>\n",
       "      <td>1.0</td>\n",
       "      <td>1.0</td>\n",
       "      <td>1.0</td>\n",
       "      <td>0.0</td>\n",
       "      <td>...</td>\n",
       "      <td>Own</td>\n",
       "      <td>0.0</td>\n",
       "      <td>kbazzjca</td>\n",
       "      <td>Non-MSA</td>\n",
       "      <td>2.0</td>\n",
       "      <td>1.0</td>\n",
       "      <td>xqicxuve</td>\n",
       "      <td>mxkfnird</td>\n",
       "      <td>3.978607</td>\n",
       "      <td>2.508806</td>\n",
       "    </tr>\n",
       "    <tr>\n",
       "      <th>23487</th>\n",
       "      <td>3.0</td>\n",
       "      <td>1.0</td>\n",
       "      <td>0.0</td>\n",
       "      <td>1.0</td>\n",
       "      <td>0.0</td>\n",
       "      <td>1.0</td>\n",
       "      <td>1.0</td>\n",
       "      <td>1.0</td>\n",
       "      <td>-1.0</td>\n",
       "      <td>0.0</td>\n",
       "      <td>...</td>\n",
       "      <td>Rent</td>\n",
       "      <td>2.0</td>\n",
       "      <td>atmpeygn</td>\n",
       "      <td>MSA, Principle City</td>\n",
       "      <td>0.0</td>\n",
       "      <td>0.0</td>\n",
       "      <td>None</td>\n",
       "      <td>None</td>\n",
       "      <td>3.745042</td>\n",
       "      <td>2.602551</td>\n",
       "    </tr>\n",
       "    <tr>\n",
       "      <th>14310</th>\n",
       "      <td>2.0</td>\n",
       "      <td>1.0</td>\n",
       "      <td>0.0</td>\n",
       "      <td>1.0</td>\n",
       "      <td>0.0</td>\n",
       "      <td>1.0</td>\n",
       "      <td>1.0</td>\n",
       "      <td>1.0</td>\n",
       "      <td>1.0</td>\n",
       "      <td>0.0</td>\n",
       "      <td>...</td>\n",
       "      <td>Own</td>\n",
       "      <td>0.0</td>\n",
       "      <td>fpwskwrf</td>\n",
       "      <td>MSA, Not Principle  City</td>\n",
       "      <td>3.0</td>\n",
       "      <td>0.0</td>\n",
       "      <td>fcxhlnwr</td>\n",
       "      <td>hfxkjkmi</td>\n",
       "      <td>3.978607</td>\n",
       "      <td>3.107780</td>\n",
       "    </tr>\n",
       "    <tr>\n",
       "      <th>...</th>\n",
       "      <td>...</td>\n",
       "      <td>...</td>\n",
       "      <td>...</td>\n",
       "      <td>...</td>\n",
       "      <td>...</td>\n",
       "      <td>...</td>\n",
       "      <td>...</td>\n",
       "      <td>...</td>\n",
       "      <td>...</td>\n",
       "      <td>...</td>\n",
       "      <td>...</td>\n",
       "      <td>...</td>\n",
       "      <td>...</td>\n",
       "      <td>...</td>\n",
       "      <td>...</td>\n",
       "      <td>...</td>\n",
       "      <td>...</td>\n",
       "      <td>...</td>\n",
       "      <td>...</td>\n",
       "      <td>...</td>\n",
       "      <td>...</td>\n",
       "    </tr>\n",
       "    <tr>\n",
       "      <th>10476</th>\n",
       "      <td>0.0</td>\n",
       "      <td>0.0</td>\n",
       "      <td>1.0</td>\n",
       "      <td>1.0</td>\n",
       "      <td>1.0</td>\n",
       "      <td>1.0</td>\n",
       "      <td>1.0</td>\n",
       "      <td>1.0</td>\n",
       "      <td>1.0</td>\n",
       "      <td>0.0</td>\n",
       "      <td>...</td>\n",
       "      <td>None</td>\n",
       "      <td>1.0</td>\n",
       "      <td>oxchjgsf</td>\n",
       "      <td>MSA, Principle City</td>\n",
       "      <td>1.0</td>\n",
       "      <td>0.0</td>\n",
       "      <td>None</td>\n",
       "      <td>None</td>\n",
       "      <td>3.978607</td>\n",
       "      <td>2.602551</td>\n",
       "    </tr>\n",
       "    <tr>\n",
       "      <th>19364</th>\n",
       "      <td>2.0</td>\n",
       "      <td>1.0</td>\n",
       "      <td>0.0</td>\n",
       "      <td>0.0</td>\n",
       "      <td>0.0</td>\n",
       "      <td>1.0</td>\n",
       "      <td>0.0</td>\n",
       "      <td>0.0</td>\n",
       "      <td>0.0</td>\n",
       "      <td>0.0</td>\n",
       "      <td>...</td>\n",
       "      <td>Own</td>\n",
       "      <td>2.0</td>\n",
       "      <td>bhuqouqj</td>\n",
       "      <td>MSA, Not Principle  City</td>\n",
       "      <td>0.0</td>\n",
       "      <td>2.0</td>\n",
       "      <td>None</td>\n",
       "      <td>None</td>\n",
       "      <td>3.978607</td>\n",
       "      <td>2.602551</td>\n",
       "    </tr>\n",
       "    <tr>\n",
       "      <th>13735</th>\n",
       "      <td>2.0</td>\n",
       "      <td>1.0</td>\n",
       "      <td>0.0</td>\n",
       "      <td>1.0</td>\n",
       "      <td>0.0</td>\n",
       "      <td>1.0</td>\n",
       "      <td>1.0</td>\n",
       "      <td>1.0</td>\n",
       "      <td>0.0</td>\n",
       "      <td>-1.0</td>\n",
       "      <td>...</td>\n",
       "      <td>Own</td>\n",
       "      <td>0.0</td>\n",
       "      <td>lrircsnp</td>\n",
       "      <td>MSA, Not Principle  City</td>\n",
       "      <td>1.0</td>\n",
       "      <td>3.0</td>\n",
       "      <td>arjwrbjb</td>\n",
       "      <td>dlvbwzss</td>\n",
       "      <td>3.728908</td>\n",
       "      <td>2.638347</td>\n",
       "    </tr>\n",
       "    <tr>\n",
       "      <th>22002</th>\n",
       "      <td>2.0</td>\n",
       "      <td>2.0</td>\n",
       "      <td>0.0</td>\n",
       "      <td>1.0</td>\n",
       "      <td>0.0</td>\n",
       "      <td>1.0</td>\n",
       "      <td>0.0</td>\n",
       "      <td>0.0</td>\n",
       "      <td>1.0</td>\n",
       "      <td>0.0</td>\n",
       "      <td>...</td>\n",
       "      <td>Own</td>\n",
       "      <td>0.0</td>\n",
       "      <td>lzgpxyit</td>\n",
       "      <td>MSA, Not Principle  City</td>\n",
       "      <td>1.0</td>\n",
       "      <td>0.0</td>\n",
       "      <td>fcxhlnwr</td>\n",
       "      <td>cmhcxjea</td>\n",
       "      <td>3.745042</td>\n",
       "      <td>3.107780</td>\n",
       "    </tr>\n",
       "    <tr>\n",
       "      <th>11071</th>\n",
       "      <td>1.0</td>\n",
       "      <td>1.0</td>\n",
       "      <td>0.0</td>\n",
       "      <td>1.0</td>\n",
       "      <td>0.0</td>\n",
       "      <td>1.0</td>\n",
       "      <td>0.0</td>\n",
       "      <td>0.0</td>\n",
       "      <td>1.0</td>\n",
       "      <td>0.0</td>\n",
       "      <td>...</td>\n",
       "      <td>Own</td>\n",
       "      <td>0.0</td>\n",
       "      <td>dqpwygqj</td>\n",
       "      <td>MSA, Not Principle  City</td>\n",
       "      <td>1.0</td>\n",
       "      <td>0.0</td>\n",
       "      <td>fcxhlnwr</td>\n",
       "      <td>haliazsg</td>\n",
       "      <td>3.978607</td>\n",
       "      <td>3.107780</td>\n",
       "    </tr>\n",
       "  </tbody>\n",
       "</table>\n",
       "<p>18694 rows × 37 columns</p>\n",
       "</div>"
      ],
      "text/plain": [
       "               h1n1_concern  h1n1_knowledge  behavioral_antiviral_meds  \\\n",
       "respondent_id                                                            \n",
       "19722                   2.0             1.0                        0.0   \n",
       "15631                   1.0             2.0                        0.0   \n",
       "6559                    1.0             1.0                        0.0   \n",
       "23487                   3.0             1.0                        0.0   \n",
       "14310                   2.0             1.0                        0.0   \n",
       "...                     ...             ...                        ...   \n",
       "10476                   0.0             0.0                        1.0   \n",
       "19364                   2.0             1.0                        0.0   \n",
       "13735                   2.0             1.0                        0.0   \n",
       "22002                   2.0             2.0                        0.0   \n",
       "11071                   1.0             1.0                        0.0   \n",
       "\n",
       "               behavioral_avoidance  behavioral_face_mask  \\\n",
       "respondent_id                                               \n",
       "19722                           0.0                   0.0   \n",
       "15631                           0.0                   0.0   \n",
       "6559                            1.0                   0.0   \n",
       "23487                           1.0                   0.0   \n",
       "14310                           1.0                   0.0   \n",
       "...                             ...                   ...   \n",
       "10476                           1.0                   1.0   \n",
       "19364                           0.0                   0.0   \n",
       "13735                           1.0                   0.0   \n",
       "22002                           1.0                   0.0   \n",
       "11071                           1.0                   0.0   \n",
       "\n",
       "               behavioral_wash_hands  behavioral_large_gatherings  \\\n",
       "respondent_id                                                       \n",
       "19722                            0.0                          0.0   \n",
       "15631                            1.0                          0.0   \n",
       "6559                             1.0                          1.0   \n",
       "23487                            1.0                          1.0   \n",
       "14310                            1.0                          1.0   \n",
       "...                              ...                          ...   \n",
       "10476                            1.0                          1.0   \n",
       "19364                            1.0                          0.0   \n",
       "13735                            1.0                          1.0   \n",
       "22002                            1.0                          0.0   \n",
       "11071                            1.0                          0.0   \n",
       "\n",
       "               behavioral_outside_home  behavioral_touch_face  \\\n",
       "respondent_id                                                   \n",
       "19722                              0.0                    0.0   \n",
       "15631                              0.0                    1.0   \n",
       "6559                               1.0                    1.0   \n",
       "23487                              1.0                   -1.0   \n",
       "14310                              1.0                    1.0   \n",
       "...                                ...                    ...   \n",
       "10476                              1.0                    1.0   \n",
       "19364                              0.0                    0.0   \n",
       "13735                              1.0                    0.0   \n",
       "22002                              0.0                    1.0   \n",
       "11071                              0.0                    1.0   \n",
       "\n",
       "               doctor_recc_h1n1  ...  rent_or_own  employment_status  \\\n",
       "respondent_id                    ...                                   \n",
       "19722                       0.0  ...          Own                0.0   \n",
       "15631                       0.0  ...          Own                0.0   \n",
       "6559                        0.0  ...          Own                0.0   \n",
       "23487                       0.0  ...         Rent                2.0   \n",
       "14310                       0.0  ...          Own                0.0   \n",
       "...                         ...  ...          ...                ...   \n",
       "10476                       0.0  ...         None                1.0   \n",
       "19364                       0.0  ...          Own                2.0   \n",
       "13735                      -1.0  ...          Own                0.0   \n",
       "22002                       0.0  ...          Own                0.0   \n",
       "11071                       0.0  ...          Own                0.0   \n",
       "\n",
       "               hhs_geo_region                census_msa  household_adults  \\\n",
       "respondent_id                                                               \n",
       "19722                qufhixun                   Non-MSA               0.0   \n",
       "15631                lzgpxyit       MSA, Principle City               1.0   \n",
       "6559                 kbazzjca                   Non-MSA               2.0   \n",
       "23487                atmpeygn       MSA, Principle City               0.0   \n",
       "14310                fpwskwrf  MSA, Not Principle  City               3.0   \n",
       "...                       ...                       ...               ...   \n",
       "10476                oxchjgsf       MSA, Principle City               1.0   \n",
       "19364                bhuqouqj  MSA, Not Principle  City               0.0   \n",
       "13735                lrircsnp  MSA, Not Principle  City               1.0   \n",
       "22002                lzgpxyit  MSA, Not Principle  City               1.0   \n",
       "11071                dqpwygqj  MSA, Not Principle  City               1.0   \n",
       "\n",
       "               household_children  employment_industry  employment_occupation  \\\n",
       "respondent_id                                                                   \n",
       "19722                         0.0             xicduogh               qxajmpny   \n",
       "15631                         2.0             wxleyezf               emcorrxb   \n",
       "6559                          1.0             xqicxuve               mxkfnird   \n",
       "23487                         0.0                 None                   None   \n",
       "14310                         0.0             fcxhlnwr               hfxkjkmi   \n",
       "...                           ...                  ...                    ...   \n",
       "10476                         0.0                 None                   None   \n",
       "19364                         2.0                 None                   None   \n",
       "13735                         3.0             arjwrbjb               dlvbwzss   \n",
       "22002                         0.0             fcxhlnwr               cmhcxjea   \n",
       "11071                         0.0             fcxhlnwr               haliazsg   \n",
       "\n",
       "               opinion_seas_vacc_effective_r  opinion_seas_risk_r  \n",
       "respondent_id                                                      \n",
       "19722                               3.978607             2.339600  \n",
       "15631                               3.887749             2.904102  \n",
       "6559                                3.978607             2.508806  \n",
       "23487                               3.745042             2.602551  \n",
       "14310                               3.978607             3.107780  \n",
       "...                                      ...                  ...  \n",
       "10476                               3.978607             2.602551  \n",
       "19364                               3.978607             2.602551  \n",
       "13735                               3.728908             2.638347  \n",
       "22002                               3.745042             3.107780  \n",
       "11071                               3.978607             3.107780  \n",
       "\n",
       "[18694 rows x 37 columns]"
      ]
     },
     "execution_count": 183,
     "metadata": {},
     "output_type": "execute_result"
    }
   ],
   "source": [
    "X_train"
   ]
  },
  {
   "cell_type": "code",
   "execution_count": 184,
   "id": "ca230325",
   "metadata": {},
   "outputs": [],
   "source": [
    "final_model_se = CatBoostClassifier(verbose=False,  cat_features=categorical_features_indices, \n",
    "                                     iterations=1500,\n",
    "    learning_rate=0.015393853845985255,\n",
    "    random_strength=3,\n",
    "    bagging_temperature=7,\n",
    "    max_bin=8,\n",
    "    grow_policy=\"Lossguide\",\n",
    "    min_data_in_leaf=1,\n",
    "    max_depth=5,\n",
    "    l2_leaf_reg=0.03977425239611938,\n",
    "    one_hot_max_size=500,\n",
    "    auto_class_weights=\"Balanced\")"
   ]
  },
  {
   "cell_type": "code",
   "execution_count": 202,
   "id": "8dab6e07",
   "metadata": {},
   "outputs": [
    {
     "data": {
      "text/plain": [
       "<catboost.core.CatBoostClassifier at 0x1c2c36e4fd0>"
      ]
     },
     "execution_count": 202,
     "metadata": {},
     "output_type": "execute_result"
    }
   ],
   "source": [
    "final_model_se.fit(X_train, y_train.seasonal_vaccine)"
   ]
  },
  {
   "cell_type": "code",
   "execution_count": 203,
   "id": "f8e82d9d",
   "metadata": {},
   "outputs": [],
   "source": [
    "predictions_se = final_model_se.predict_proba(X_test)"
   ]
  },
  {
   "cell_type": "code",
   "execution_count": 204,
   "id": "86e89a6f",
   "metadata": {},
   "outputs": [
    {
     "ename": "CatBoostError",
     "evalue": "Invalid type for cat_feature[non-default value idx=0,feature_idx=23]=1.0 : cat_features must be integer or string, real number values and NaN values should be converted to string.",
     "output_type": "error",
     "traceback": [
      "\u001b[1;31m---------------------------------------------------------------------------\u001b[0m",
      "\u001b[1;31mCatBoostError\u001b[0m                             Traceback (most recent call last)",
      "\u001b[1;32m_catboost.pyx\u001b[0m in \u001b[0;36m_catboost.get_cat_factor_bytes_representation\u001b[1;34m()\u001b[0m\n",
      "\u001b[1;32m_catboost.pyx\u001b[0m in \u001b[0;36m_catboost.get_id_object_bytes_string_representation\u001b[1;34m()\u001b[0m\n",
      "\u001b[1;31mCatBoostError\u001b[0m: bad object for id: 1.0",
      "\nDuring handling of the above exception, another exception occurred:\n",
      "\u001b[1;31mCatBoostError\u001b[0m                             Traceback (most recent call last)",
      "\u001b[1;32m<ipython-input-204-1803a7c9c188>\u001b[0m in \u001b[0;36m<module>\u001b[1;34m\u001b[0m\n\u001b[1;32m----> 1\u001b[1;33m \u001b[0mpredictions_se_fin\u001b[0m \u001b[1;33m=\u001b[0m \u001b[0mfinal_model_se\u001b[0m\u001b[1;33m.\u001b[0m\u001b[0mpredict_proba\u001b[0m\u001b[1;33m(\u001b[0m\u001b[0mtest\u001b[0m\u001b[1;33m)\u001b[0m\u001b[1;33m\u001b[0m\u001b[1;33m\u001b[0m\u001b[0m\n\u001b[0m",
      "\u001b[1;32m~\\anaconda3\\lib\\site-packages\\catboost\\core.py\u001b[0m in \u001b[0;36mpredict_proba\u001b[1;34m(self, X, ntree_start, ntree_end, thread_count, verbose, task_type)\u001b[0m\n\u001b[0;32m   5099\u001b[0m                 \u001b[1;32mwith\u001b[0m \u001b[0mprobability\u001b[0m \u001b[1;32mfor\u001b[0m \u001b[0mevery\u001b[0m \u001b[1;32mclass\u001b[0m \u001b[1;32mfor\u001b[0m \u001b[0meach\u001b[0m \u001b[0mobject\u001b[0m\u001b[1;33m.\u001b[0m\u001b[1;33m\u001b[0m\u001b[1;33m\u001b[0m\u001b[0m\n\u001b[0;32m   5100\u001b[0m         \"\"\"\n\u001b[1;32m-> 5101\u001b[1;33m         \u001b[1;32mreturn\u001b[0m \u001b[0mself\u001b[0m\u001b[1;33m.\u001b[0m\u001b[0m_predict\u001b[0m\u001b[1;33m(\u001b[0m\u001b[0mX\u001b[0m\u001b[1;33m,\u001b[0m \u001b[1;34m'Probability'\u001b[0m\u001b[1;33m,\u001b[0m \u001b[0mntree_start\u001b[0m\u001b[1;33m,\u001b[0m \u001b[0mntree_end\u001b[0m\u001b[1;33m,\u001b[0m \u001b[0mthread_count\u001b[0m\u001b[1;33m,\u001b[0m \u001b[0mverbose\u001b[0m\u001b[1;33m,\u001b[0m \u001b[1;34m'predict_proba'\u001b[0m\u001b[1;33m,\u001b[0m \u001b[0mtask_type\u001b[0m\u001b[1;33m)\u001b[0m\u001b[1;33m\u001b[0m\u001b[1;33m\u001b[0m\u001b[0m\n\u001b[0m\u001b[0;32m   5102\u001b[0m \u001b[1;33m\u001b[0m\u001b[0m\n\u001b[0;32m   5103\u001b[0m \u001b[1;33m\u001b[0m\u001b[0m\n",
      "\u001b[1;32m~\\anaconda3\\lib\\site-packages\\catboost\\core.py\u001b[0m in \u001b[0;36m_predict\u001b[1;34m(self, data, prediction_type, ntree_start, ntree_end, thread_count, verbose, parent_method_name, task_type)\u001b[0m\n\u001b[0;32m   2456\u001b[0m         \u001b[1;32mif\u001b[0m \u001b[0mverbose\u001b[0m \u001b[1;32mis\u001b[0m \u001b[1;32mNone\u001b[0m\u001b[1;33m:\u001b[0m\u001b[1;33m\u001b[0m\u001b[1;33m\u001b[0m\u001b[0m\n\u001b[0;32m   2457\u001b[0m             \u001b[0mverbose\u001b[0m \u001b[1;33m=\u001b[0m \u001b[1;32mFalse\u001b[0m\u001b[1;33m\u001b[0m\u001b[1;33m\u001b[0m\u001b[0m\n\u001b[1;32m-> 2458\u001b[1;33m         \u001b[0mdata\u001b[0m\u001b[1;33m,\u001b[0m \u001b[0mdata_is_single_object\u001b[0m \u001b[1;33m=\u001b[0m \u001b[0mself\u001b[0m\u001b[1;33m.\u001b[0m\u001b[0m_process_predict_input_data\u001b[0m\u001b[1;33m(\u001b[0m\u001b[0mdata\u001b[0m\u001b[1;33m,\u001b[0m \u001b[0mparent_method_name\u001b[0m\u001b[1;33m,\u001b[0m \u001b[0mthread_count\u001b[0m\u001b[1;33m)\u001b[0m\u001b[1;33m\u001b[0m\u001b[1;33m\u001b[0m\u001b[0m\n\u001b[0m\u001b[0;32m   2459\u001b[0m         \u001b[0mself\u001b[0m\u001b[1;33m.\u001b[0m\u001b[0m_validate_prediction_type\u001b[0m\u001b[1;33m(\u001b[0m\u001b[0mprediction_type\u001b[0m\u001b[1;33m)\u001b[0m\u001b[1;33m\u001b[0m\u001b[1;33m\u001b[0m\u001b[0m\n\u001b[0;32m   2460\u001b[0m \u001b[1;33m\u001b[0m\u001b[0m\n",
      "\u001b[1;32m~\\anaconda3\\lib\\site-packages\\catboost\\core.py\u001b[0m in \u001b[0;36m_process_predict_input_data\u001b[1;34m(self, data, parent_method_name, thread_count, label)\u001b[0m\n\u001b[0;32m   2436\u001b[0m         \u001b[0mis_single_object\u001b[0m \u001b[1;33m=\u001b[0m \u001b[0m_is_data_single_object\u001b[0m\u001b[1;33m(\u001b[0m\u001b[0mdata\u001b[0m\u001b[1;33m)\u001b[0m\u001b[1;33m\u001b[0m\u001b[1;33m\u001b[0m\u001b[0m\n\u001b[0;32m   2437\u001b[0m         \u001b[1;32mif\u001b[0m \u001b[1;32mnot\u001b[0m \u001b[0misinstance\u001b[0m\u001b[1;33m(\u001b[0m\u001b[0mdata\u001b[0m\u001b[1;33m,\u001b[0m \u001b[0mPool\u001b[0m\u001b[1;33m)\u001b[0m\u001b[1;33m:\u001b[0m\u001b[1;33m\u001b[0m\u001b[1;33m\u001b[0m\u001b[0m\n\u001b[1;32m-> 2438\u001b[1;33m             data = Pool(\n\u001b[0m\u001b[0;32m   2439\u001b[0m                 \u001b[0mdata\u001b[0m\u001b[1;33m=\u001b[0m\u001b[1;33m[\u001b[0m\u001b[0mdata\u001b[0m\u001b[1;33m]\u001b[0m \u001b[1;32mif\u001b[0m \u001b[0mis_single_object\u001b[0m \u001b[1;32melse\u001b[0m \u001b[0mdata\u001b[0m\u001b[1;33m,\u001b[0m\u001b[1;33m\u001b[0m\u001b[1;33m\u001b[0m\u001b[0m\n\u001b[0;32m   2440\u001b[0m                 \u001b[0mlabel\u001b[0m\u001b[1;33m=\u001b[0m\u001b[0mlabel\u001b[0m\u001b[1;33m,\u001b[0m\u001b[1;33m\u001b[0m\u001b[1;33m\u001b[0m\u001b[0m\n",
      "\u001b[1;32m~\\anaconda3\\lib\\site-packages\\catboost\\core.py\u001b[0m in \u001b[0;36m__init__\u001b[1;34m(self, data, label, cat_features, text_features, embedding_features, embedding_features_data, column_description, pairs, delimiter, has_header, ignore_csv_quoting, weight, group_id, group_weight, subgroup_id, pairs_weight, baseline, timestamp, feature_names, feature_tags, thread_count, log_cout, log_cerr)\u001b[0m\n\u001b[0;32m    788\u001b[0m                     )\n\u001b[0;32m    789\u001b[0m \u001b[1;33m\u001b[0m\u001b[0m\n\u001b[1;32m--> 790\u001b[1;33m                 self._init(data, label, cat_features, text_features, embedding_features, embedding_features_data, pairs, weight,\n\u001b[0m\u001b[0;32m    791\u001b[0m                            group_id, group_weight, subgroup_id, pairs_weight, baseline, timestamp, feature_names, feature_tags, thread_count)\n\u001b[0;32m    792\u001b[0m         \u001b[0msuper\u001b[0m\u001b[1;33m(\u001b[0m\u001b[0mPool\u001b[0m\u001b[1;33m,\u001b[0m \u001b[0mself\u001b[0m\u001b[1;33m)\u001b[0m\u001b[1;33m.\u001b[0m\u001b[0m__init__\u001b[0m\u001b[1;33m(\u001b[0m\u001b[1;33m)\u001b[0m\u001b[1;33m\u001b[0m\u001b[1;33m\u001b[0m\u001b[0m\n",
      "\u001b[1;32m~\\anaconda3\\lib\\site-packages\\catboost\\core.py\u001b[0m in \u001b[0;36m_init\u001b[1;34m(self, data, label, cat_features, text_features, embedding_features, embedding_features_data, pairs, weight, group_id, group_weight, subgroup_id, pairs_weight, baseline, timestamp, feature_names, feature_tags, thread_count)\u001b[0m\n\u001b[0;32m   1409\u001b[0m         \u001b[1;32mif\u001b[0m \u001b[0mfeature_tags\u001b[0m \u001b[1;32mis\u001b[0m \u001b[1;32mnot\u001b[0m \u001b[1;32mNone\u001b[0m\u001b[1;33m:\u001b[0m\u001b[1;33m\u001b[0m\u001b[1;33m\u001b[0m\u001b[0m\n\u001b[0;32m   1410\u001b[0m             \u001b[0mfeature_tags\u001b[0m \u001b[1;33m=\u001b[0m \u001b[0mself\u001b[0m\u001b[1;33m.\u001b[0m\u001b[0m_check_transform_tags\u001b[0m\u001b[1;33m(\u001b[0m\u001b[0mfeature_tags\u001b[0m\u001b[1;33m,\u001b[0m \u001b[0mfeature_names\u001b[0m\u001b[1;33m)\u001b[0m\u001b[1;33m\u001b[0m\u001b[1;33m\u001b[0m\u001b[0m\n\u001b[1;32m-> 1411\u001b[1;33m         self._init_pool(data, label, cat_features, text_features, embedding_features, embedding_features_data, pairs, weight,\n\u001b[0m\u001b[0;32m   1412\u001b[0m                         group_id, group_weight, subgroup_id, pairs_weight, baseline, timestamp, feature_names, feature_tags, thread_count)\n\u001b[0;32m   1413\u001b[0m \u001b[1;33m\u001b[0m\u001b[0m\n",
      "\u001b[1;32m_catboost.pyx\u001b[0m in \u001b[0;36m_catboost._PoolBase._init_pool\u001b[1;34m()\u001b[0m\n",
      "\u001b[1;32m_catboost.pyx\u001b[0m in \u001b[0;36m_catboost._PoolBase._init_pool\u001b[1;34m()\u001b[0m\n",
      "\u001b[1;32m_catboost.pyx\u001b[0m in \u001b[0;36m_catboost._PoolBase._init_features_order_layout_pool\u001b[1;34m()\u001b[0m\n",
      "\u001b[1;32m_catboost.pyx\u001b[0m in \u001b[0;36m_catboost._set_features_order_data_pd_data_frame\u001b[1;34m()\u001b[0m\n",
      "\u001b[1;32m_catboost.pyx\u001b[0m in \u001b[0;36m_catboost.get_cat_factor_bytes_representation\u001b[1;34m()\u001b[0m\n",
      "\u001b[1;31mCatBoostError\u001b[0m: Invalid type for cat_feature[non-default value idx=0,feature_idx=23]=1.0 : cat_features must be integer or string, real number values and NaN values should be converted to string."
     ]
    }
   ],
   "source": [
    "predictions_se_fin = final_model_se.predict_proba(test)"
   ]
  },
  {
   "cell_type": "code",
   "execution_count": 205,
   "id": "0cd8f64f",
   "metadata": {},
   "outputs": [],
   "source": [
    "predictions_se = predictions_se[:,1].reshape(-1,1)"
   ]
  },
  {
   "cell_type": "code",
   "execution_count": 206,
   "id": "1d5dba13",
   "metadata": {},
   "outputs": [
    {
     "data": {
      "image/png": "[encoded data removed]",
      "text/plain": [
       "<Figure size 720x576 with 1 Axes>"
      ]
     },
     "metadata": {},
     "output_type": "display_data"
    }
   ],
   "source": [
    "fig, ax = plt.subplots(1, 1, figsize=(10, 8))\n",
    "plot_roc(\n",
    "    y_test['seasonal_vaccine'], \n",
    "    predictions_se, \n",
    "    'seasonal_vaccine',\n",
    "    ax=ax\n",
    ")"
   ]
  },
  {
   "cell_type": "code",
   "execution_count": 207,
   "id": "b3b428d3",
   "metadata": {},
   "outputs": [
    {
     "data": {
      "text/plain": [
       "0.8616885268714828"
      ]
     },
     "execution_count": 207,
     "metadata": {},
     "output_type": "execute_result"
    }
   ],
   "source": [
    "roc_auc_score(y_test.seasonal_vaccine, predictions_se)"
   ]
  },
  {
   "cell_type": "markdown",
   "id": "5b860634",
   "metadata": {},
   "source": [
    "Combined score"
   ]
  },
  {
   "cell_type": "code",
   "execution_count": 90,
   "id": "de22d60b",
   "metadata": {},
   "outputs": [
    {
     "data": {
      "text/plain": [
       "0.8655987194090375"
      ]
     },
     "execution_count": 90,
     "metadata": {},
     "output_type": "execute_result"
    }
   ],
   "source": [
    "# Let's see the score combined of the two best predictions\n",
    "roc_auc_score(y_test, np.hstack((predictions_h1, predictions_se)))"
   ]
  },
  {
   "cell_type": "markdown",
   "id": "59737ac1",
   "metadata": {},
   "source": [
    "Retraining on the full dataset"
   ]
  },
  {
   "cell_type": "markdown",
   "id": "0ef85cc2",
   "metadata": {},
   "source": [
    "Seasonal flu"
   ]
  },
  {
   "cell_type": "code",
   "execution_count": 33,
   "id": "c43b1313",
   "metadata": {},
   "outputs": [
    {
     "data": {
      "text/plain": [
       "<catboost.core.CatBoostClassifier at 0x272b6131b20>"
      ]
     },
     "execution_count": 33,
     "metadata": {},
     "output_type": "execute_result"
    }
   ],
   "source": [
    "final_model_se.fit(train, labels.seasonal_vaccine)"
   ]
  },
  {
   "cell_type": "code",
   "execution_count": 34,
   "id": "f5d66b57",
   "metadata": {},
   "outputs": [],
   "source": [
    "# Engineering test features\n",
    "def good_opinion_h1n1(test):  \n",
    "    if test['opinion_h1n1_vacc_effective'] > 3:\n",
    "        return 1\n",
    "    else:\n",
    "        return 0\n",
    "    \n",
    "    \n",
    "def good_opinion_season(test):  \n",
    "    if test['opinion_seas_vacc_effective'] > 3:\n",
    "        return 1\n",
    "    else:\n",
    "        return 0\n",
    "\n",
    "test['good_opinion_h1n1'] = test.apply(lambda test: good_opinion_h1n1(test), axis=1)\n",
    "\n",
    "test['good_opinion_season'] = test.apply(lambda test: good_opinion_season(test), axis=1)"
   ]
  },
  {
   "cell_type": "code",
   "execution_count": 35,
   "id": "07821631",
   "metadata": {},
   "outputs": [
    {
     "ename": "CatBoostError",
     "evalue": "Invalid cat_features[14] = 37 value: index must be < 37.",
     "output_type": "error",
     "traceback": [
      "\u001b[1;31m---------------------------------------------------------------------------\u001b[0m",
      "\u001b[1;31mCatBoostError\u001b[0m                             Traceback (most recent call last)",
      "\u001b[1;32m<ipython-input-35-9de215ce6aa9>\u001b[0m in \u001b[0;36m<module>\u001b[1;34m\u001b[0m\n\u001b[1;32m----> 1\u001b[1;33m \u001b[0mfinal_se\u001b[0m \u001b[1;33m=\u001b[0m \u001b[0mfinal_model_se\u001b[0m\u001b[1;33m.\u001b[0m\u001b[0mpredict_proba\u001b[0m\u001b[1;33m(\u001b[0m\u001b[0mtest\u001b[0m\u001b[1;33m)\u001b[0m\u001b[1;33m\u001b[0m\u001b[1;33m\u001b[0m\u001b[0m\n\u001b[0m",
      "\u001b[1;32m~\\anaconda3\\lib\\site-packages\\catboost\\core.py\u001b[0m in \u001b[0;36mpredict_proba\u001b[1;34m(self, X, ntree_start, ntree_end, thread_count, verbose, task_type)\u001b[0m\n\u001b[0;32m   5099\u001b[0m                 \u001b[1;32mwith\u001b[0m \u001b[0mprobability\u001b[0m \u001b[1;32mfor\u001b[0m \u001b[0mevery\u001b[0m \u001b[1;32mclass\u001b[0m \u001b[1;32mfor\u001b[0m \u001b[0meach\u001b[0m \u001b[0mobject\u001b[0m\u001b[1;33m.\u001b[0m\u001b[1;33m\u001b[0m\u001b[1;33m\u001b[0m\u001b[0m\n\u001b[0;32m   5100\u001b[0m         \"\"\"\n\u001b[1;32m-> 5101\u001b[1;33m         \u001b[1;32mreturn\u001b[0m \u001b[0mself\u001b[0m\u001b[1;33m.\u001b[0m\u001b[0m_predict\u001b[0m\u001b[1;33m(\u001b[0m\u001b[0mX\u001b[0m\u001b[1;33m,\u001b[0m \u001b[1;34m'Probability'\u001b[0m\u001b[1;33m,\u001b[0m \u001b[0mntree_start\u001b[0m\u001b[1;33m,\u001b[0m \u001b[0mntree_end\u001b[0m\u001b[1;33m,\u001b[0m \u001b[0mthread_count\u001b[0m\u001b[1;33m,\u001b[0m \u001b[0mverbose\u001b[0m\u001b[1;33m,\u001b[0m \u001b[1;34m'predict_proba'\u001b[0m\u001b[1;33m,\u001b[0m \u001b[0mtask_type\u001b[0m\u001b[1;33m)\u001b[0m\u001b[1;33m\u001b[0m\u001b[1;33m\u001b[0m\u001b[0m\n\u001b[0m\u001b[0;32m   5102\u001b[0m \u001b[1;33m\u001b[0m\u001b[0m\n\u001b[0;32m   5103\u001b[0m \u001b[1;33m\u001b[0m\u001b[0m\n",
      "\u001b[1;32m~\\anaconda3\\lib\\site-packages\\catboost\\core.py\u001b[0m in \u001b[0;36m_predict\u001b[1;34m(self, data, prediction_type, ntree_start, ntree_end, thread_count, verbose, parent_method_name, task_type)\u001b[0m\n\u001b[0;32m   2456\u001b[0m         \u001b[1;32mif\u001b[0m \u001b[0mverbose\u001b[0m \u001b[1;32mis\u001b[0m \u001b[1;32mNone\u001b[0m\u001b[1;33m:\u001b[0m\u001b[1;33m\u001b[0m\u001b[1;33m\u001b[0m\u001b[0m\n\u001b[0;32m   2457\u001b[0m             \u001b[0mverbose\u001b[0m \u001b[1;33m=\u001b[0m \u001b[1;32mFalse\u001b[0m\u001b[1;33m\u001b[0m\u001b[1;33m\u001b[0m\u001b[0m\n\u001b[1;32m-> 2458\u001b[1;33m         \u001b[0mdata\u001b[0m\u001b[1;33m,\u001b[0m \u001b[0mdata_is_single_object\u001b[0m \u001b[1;33m=\u001b[0m \u001b[0mself\u001b[0m\u001b[1;33m.\u001b[0m\u001b[0m_process_predict_input_data\u001b[0m\u001b[1;33m(\u001b[0m\u001b[0mdata\u001b[0m\u001b[1;33m,\u001b[0m \u001b[0mparent_method_name\u001b[0m\u001b[1;33m,\u001b[0m \u001b[0mthread_count\u001b[0m\u001b[1;33m)\u001b[0m\u001b[1;33m\u001b[0m\u001b[1;33m\u001b[0m\u001b[0m\n\u001b[0m\u001b[0;32m   2459\u001b[0m         \u001b[0mself\u001b[0m\u001b[1;33m.\u001b[0m\u001b[0m_validate_prediction_type\u001b[0m\u001b[1;33m(\u001b[0m\u001b[0mprediction_type\u001b[0m\u001b[1;33m)\u001b[0m\u001b[1;33m\u001b[0m\u001b[1;33m\u001b[0m\u001b[0m\n\u001b[0;32m   2460\u001b[0m \u001b[1;33m\u001b[0m\u001b[0m\n",
      "\u001b[1;32m~\\anaconda3\\lib\\site-packages\\catboost\\core.py\u001b[0m in \u001b[0;36m_process_predict_input_data\u001b[1;34m(self, data, parent_method_name, thread_count, label)\u001b[0m\n\u001b[0;32m   2436\u001b[0m         \u001b[0mis_single_object\u001b[0m \u001b[1;33m=\u001b[0m \u001b[0m_is_data_single_object\u001b[0m\u001b[1;33m(\u001b[0m\u001b[0mdata\u001b[0m\u001b[1;33m)\u001b[0m\u001b[1;33m\u001b[0m\u001b[1;33m\u001b[0m\u001b[0m\n\u001b[0;32m   2437\u001b[0m         \u001b[1;32mif\u001b[0m \u001b[1;32mnot\u001b[0m \u001b[0misinstance\u001b[0m\u001b[1;33m(\u001b[0m\u001b[0mdata\u001b[0m\u001b[1;33m,\u001b[0m \u001b[0mPool\u001b[0m\u001b[1;33m)\u001b[0m\u001b[1;33m:\u001b[0m\u001b[1;33m\u001b[0m\u001b[1;33m\u001b[0m\u001b[0m\n\u001b[1;32m-> 2438\u001b[1;33m             data = Pool(\n\u001b[0m\u001b[0;32m   2439\u001b[0m                 \u001b[0mdata\u001b[0m\u001b[1;33m=\u001b[0m\u001b[1;33m[\u001b[0m\u001b[0mdata\u001b[0m\u001b[1;33m]\u001b[0m \u001b[1;32mif\u001b[0m \u001b[0mis_single_object\u001b[0m \u001b[1;32melse\u001b[0m \u001b[0mdata\u001b[0m\u001b[1;33m,\u001b[0m\u001b[1;33m\u001b[0m\u001b[1;33m\u001b[0m\u001b[0m\n\u001b[0;32m   2440\u001b[0m                 \u001b[0mlabel\u001b[0m\u001b[1;33m=\u001b[0m\u001b[0mlabel\u001b[0m\u001b[1;33m,\u001b[0m\u001b[1;33m\u001b[0m\u001b[1;33m\u001b[0m\u001b[0m\n",
      "\u001b[1;32m~\\anaconda3\\lib\\site-packages\\catboost\\core.py\u001b[0m in \u001b[0;36m__init__\u001b[1;34m(self, data, label, cat_features, text_features, embedding_features, embedding_features_data, column_description, pairs, delimiter, has_header, ignore_csv_quoting, weight, group_id, group_weight, subgroup_id, pairs_weight, baseline, timestamp, feature_names, feature_tags, thread_count, log_cout, log_cerr)\u001b[0m\n\u001b[0;32m    788\u001b[0m                     )\n\u001b[0;32m    789\u001b[0m \u001b[1;33m\u001b[0m\u001b[0m\n\u001b[1;32m--> 790\u001b[1;33m                 self._init(data, label, cat_features, text_features, embedding_features, embedding_features_data, pairs, weight,\n\u001b[0m\u001b[0;32m    791\u001b[0m                            group_id, group_weight, subgroup_id, pairs_weight, baseline, timestamp, feature_names, feature_tags, thread_count)\n\u001b[0;32m    792\u001b[0m         \u001b[0msuper\u001b[0m\u001b[1;33m(\u001b[0m\u001b[0mPool\u001b[0m\u001b[1;33m,\u001b[0m \u001b[0mself\u001b[0m\u001b[1;33m)\u001b[0m\u001b[1;33m.\u001b[0m\u001b[0m__init__\u001b[0m\u001b[1;33m(\u001b[0m\u001b[1;33m)\u001b[0m\u001b[1;33m\u001b[0m\u001b[1;33m\u001b[0m\u001b[0m\n",
      "\u001b[1;32m~\\anaconda3\\lib\\site-packages\\catboost\\core.py\u001b[0m in \u001b[0;36m_init\u001b[1;34m(self, data, label, cat_features, text_features, embedding_features, embedding_features_data, pairs, weight, group_id, group_weight, subgroup_id, pairs_weight, baseline, timestamp, feature_names, feature_tags, thread_count)\u001b[0m\n\u001b[0;32m   1363\u001b[0m             \u001b[0mcat_features\u001b[0m \u001b[1;33m=\u001b[0m \u001b[0m_get_features_indices\u001b[0m\u001b[1;33m(\u001b[0m\u001b[0mcat_features\u001b[0m\u001b[1;33m,\u001b[0m \u001b[0mfeature_names\u001b[0m\u001b[1;33m)\u001b[0m\u001b[1;33m\u001b[0m\u001b[1;33m\u001b[0m\u001b[0m\n\u001b[0;32m   1364\u001b[0m             \u001b[0mself\u001b[0m\u001b[1;33m.\u001b[0m\u001b[0m_check_string_feature_type\u001b[0m\u001b[1;33m(\u001b[0m\u001b[0mcat_features\u001b[0m\u001b[1;33m,\u001b[0m \u001b[1;34m'cat_features'\u001b[0m\u001b[1;33m)\u001b[0m\u001b[1;33m\u001b[0m\u001b[1;33m\u001b[0m\u001b[0m\n\u001b[1;32m-> 1365\u001b[1;33m             \u001b[0mself\u001b[0m\u001b[1;33m.\u001b[0m\u001b[0m_check_string_feature_value\u001b[0m\u001b[1;33m(\u001b[0m\u001b[0mcat_features\u001b[0m\u001b[1;33m,\u001b[0m \u001b[0mfeatures_count\u001b[0m\u001b[1;33m,\u001b[0m \u001b[1;34m'cat_features'\u001b[0m\u001b[1;33m)\u001b[0m\u001b[1;33m\u001b[0m\u001b[1;33m\u001b[0m\u001b[0m\n\u001b[0m\u001b[0;32m   1366\u001b[0m         \u001b[1;32mif\u001b[0m \u001b[0mtext_features\u001b[0m \u001b[1;32mis\u001b[0m \u001b[1;32mnot\u001b[0m \u001b[1;32mNone\u001b[0m\u001b[1;33m:\u001b[0m\u001b[1;33m\u001b[0m\u001b[1;33m\u001b[0m\u001b[0m\n\u001b[0;32m   1367\u001b[0m             \u001b[0mtext_features\u001b[0m \u001b[1;33m=\u001b[0m \u001b[0m_get_features_indices\u001b[0m\u001b[1;33m(\u001b[0m\u001b[0mtext_features\u001b[0m\u001b[1;33m,\u001b[0m \u001b[0mfeature_names\u001b[0m\u001b[1;33m)\u001b[0m\u001b[1;33m\u001b[0m\u001b[1;33m\u001b[0m\u001b[0m\n",
      "\u001b[1;32m~\\anaconda3\\lib\\site-packages\\catboost\\core.py\u001b[0m in \u001b[0;36m_check_string_feature_value\u001b[1;34m(self, features, features_count, features_name)\u001b[0m\n\u001b[0;32m    834\u001b[0m                 \u001b[1;32mraise\u001b[0m \u001b[0mCatBoostError\u001b[0m\u001b[1;33m(\u001b[0m\u001b[1;34m\"Invalid {}[{}] = {} value type={}: must be int().\"\u001b[0m\u001b[1;33m.\u001b[0m\u001b[0mformat\u001b[0m\u001b[1;33m(\u001b[0m\u001b[0mfeatures_name\u001b[0m\u001b[1;33m,\u001b[0m \u001b[0mindx\u001b[0m\u001b[1;33m,\u001b[0m \u001b[0mfeature\u001b[0m\u001b[1;33m,\u001b[0m \u001b[0mtype\u001b[0m\u001b[1;33m(\u001b[0m\u001b[0mfeature\u001b[0m\u001b[1;33m)\u001b[0m\u001b[1;33m)\u001b[0m\u001b[1;33m)\u001b[0m\u001b[1;33m\u001b[0m\u001b[1;33m\u001b[0m\u001b[0m\n\u001b[0;32m    835\u001b[0m             \u001b[1;32mif\u001b[0m \u001b[0mfeature\u001b[0m \u001b[1;33m>=\u001b[0m \u001b[0mfeatures_count\u001b[0m\u001b[1;33m:\u001b[0m\u001b[1;33m\u001b[0m\u001b[1;33m\u001b[0m\u001b[0m\n\u001b[1;32m--> 836\u001b[1;33m                 \u001b[1;32mraise\u001b[0m \u001b[0mCatBoostError\u001b[0m\u001b[1;33m(\u001b[0m\u001b[1;34m\"Invalid {}[{}] = {} value: index must be < {}.\"\u001b[0m\u001b[1;33m.\u001b[0m\u001b[0mformat\u001b[0m\u001b[1;33m(\u001b[0m\u001b[0mfeatures_name\u001b[0m\u001b[1;33m,\u001b[0m \u001b[0mindx\u001b[0m\u001b[1;33m,\u001b[0m \u001b[0mfeature\u001b[0m\u001b[1;33m,\u001b[0m \u001b[0mfeatures_count\u001b[0m\u001b[1;33m)\u001b[0m\u001b[1;33m)\u001b[0m\u001b[1;33m\u001b[0m\u001b[1;33m\u001b[0m\u001b[0m\n\u001b[0m\u001b[0;32m    837\u001b[0m \u001b[1;33m\u001b[0m\u001b[0m\n\u001b[0;32m    838\u001b[0m     \u001b[1;32mdef\u001b[0m \u001b[0m_check_pairs_type\u001b[0m\u001b[1;33m(\u001b[0m\u001b[0mself\u001b[0m\u001b[1;33m,\u001b[0m \u001b[0mpairs\u001b[0m\u001b[1;33m)\u001b[0m\u001b[1;33m:\u001b[0m\u001b[1;33m\u001b[0m\u001b[1;33m\u001b[0m\u001b[0m\n",
      "\u001b[1;31mCatBoostError\u001b[0m: Invalid cat_features[14] = 37 value: index must be < 37."
     ]
    }
   ],
   "source": [
    "final_se = final_model_se.predict_proba(test)"
   ]
  },
  {
   "cell_type": "code",
   "execution_count": null,
   "id": "566c5904",
   "metadata": {},
   "outputs": [],
   "source": [
    "final_se = final_se[:,1].reshape(-1,1)"
   ]
  },
  {
   "cell_type": "markdown",
   "id": "c1684268",
   "metadata": {},
   "source": [
    "h1n1"
   ]
  },
  {
   "cell_type": "code",
   "execution_count": null,
   "id": "560471c0",
   "metadata": {},
   "outputs": [],
   "source": [
    "final_model.fit(train, labels.h1n1_vaccine)"
   ]
  },
  {
   "cell_type": "code",
   "execution_count": null,
   "id": "b339caf3",
   "metadata": {},
   "outputs": [],
   "source": [
    "final_h1 = final_model.predict_proba(test)"
   ]
  },
  {
   "cell_type": "code",
   "execution_count": null,
   "id": "a1c43201",
   "metadata": {},
   "outputs": [],
   "source": [
    "final_h1 = final_h1[:,1].reshape(-1,1)"
   ]
  },
  {
   "cell_type": "code",
   "execution_count": 96,
   "id": "07022546",
   "metadata": {},
   "outputs": [],
   "source": [
    "submission_df = pd.read_csv(r\"C:\\Users\\jvrdo\\Downloads\\submission_format.csv\", \n",
    "                            index_col=\"respondent_id\")"
   ]
  },
  {
   "cell_type": "code",
   "execution_count": null,
   "id": "9b49b313",
   "metadata": {},
   "outputs": [],
   "source": [
    "# Make sure we have the rows in the same order\n",
    "np.testing.assert_array_equal(test.index.values, \n",
    "                              submission_df.index.values)\n",
    "\n",
    "# Save predictions to submission data frame\n",
    "submission_df[\"h1n1_vaccine\"] = final_h1\n",
    "submission_df[\"seasonal_vaccine\"] = final_se\n",
    "\n",
    "submission_df.head()"
   ]
  },
  {
   "cell_type": "code",
   "execution_count": null,
   "id": "8fa65a83",
   "metadata": {},
   "outputs": [],
   "source": [
    "# Saving my submission as a csv file\n",
    "submission_df.to_csv('my_submission_optuna2.csv')"
   ]
  },
  {
   "cell_type": "code",
   "execution_count": 37,
   "id": "9fbb2697",
   "metadata": {},
   "outputs": [],
   "source": [
    "# Loading data containing features\n",
    "df_features = pd.read_csv(r\"C:\\Users\\jvrdo\\Downloads\\training_set_features.csv\")\n",
    "\n",
    "# Loading data containing target variables\n",
    "df_target = pd.read_csv(r\"C:\\Users\\jvrdo\\Downloads\\training_set_labels.csv\")"
   ]
  },
  {
   "cell_type": "code",
   "execution_count": 38,
   "id": "e92b0c70",
   "metadata": {},
   "outputs": [],
   "source": [
    "# Joining feature and target dataframe\n",
    "df = pd.merge(df_features, df_target, how=\"inner\")"
   ]
  },
  {
   "cell_type": "code",
   "execution_count": 47,
   "id": "393c28e7",
   "metadata": {},
   "outputs": [],
   "source": [
    "# Dropping respondent_id from the original dataframe (df)\n",
    "df.drop(\"respondent_id\", axis =1, inplace=True)"
   ]
  },
  {
   "cell_type": "code",
   "execution_count": 60,
   "id": "40d1f727",
   "metadata": {},
   "outputs": [],
   "source": [
    "from sklearn.ensemble import StackingClassifier"
   ]
  },
  {
   "cell_type": "markdown",
   "id": "f804fea4",
   "metadata": {},
   "source": [
    "Ensamble>"
   ]
  },
  {
   "cell_type": "code",
   "execution_count": 130,
   "id": "e7b1c816",
   "metadata": {},
   "outputs": [
    {
     "data": {
      "text/html": [
       "<div>\n",
       "<style scoped>\n",
       "    .dataframe tbody tr th:only-of-type {\n",
       "        vertical-align: middle;\n",
       "    }\n",
       "\n",
       "    .dataframe tbody tr th {\n",
       "        vertical-align: top;\n",
       "    }\n",
       "\n",
       "    .dataframe thead th {\n",
       "        text-align: right;\n",
       "    }\n",
       "</style>\n",
       "<table border=\"1\" class=\"dataframe\">\n",
       "  <thead>\n",
       "    <tr style=\"text-align: right;\">\n",
       "      <th></th>\n",
       "      <th>h1n1_concern</th>\n",
       "      <th>h1n1_knowledge</th>\n",
       "      <th>behavioral_antiviral_meds</th>\n",
       "      <th>behavioral_avoidance</th>\n",
       "      <th>behavioral_face_mask</th>\n",
       "      <th>behavioral_wash_hands</th>\n",
       "      <th>behavioral_large_gatherings</th>\n",
       "      <th>behavioral_outside_home</th>\n",
       "      <th>behavioral_touch_face</th>\n",
       "      <th>doctor_recc_h1n1</th>\n",
       "      <th>...</th>\n",
       "      <th>employment_occupation_qxajmpny</th>\n",
       "      <th>employment_occupation_rcertsgn</th>\n",
       "      <th>employment_occupation_tfqavkke</th>\n",
       "      <th>employment_occupation_ukymxvdu</th>\n",
       "      <th>employment_occupation_uqqtjvyb</th>\n",
       "      <th>employment_occupation_vlluhbov</th>\n",
       "      <th>employment_occupation_xgwztkwe</th>\n",
       "      <th>employment_occupation_xqwwgdyp</th>\n",
       "      <th>employment_occupation_xtkaffoo</th>\n",
       "      <th>employment_occupation_xzmlyyjv</th>\n",
       "    </tr>\n",
       "    <tr>\n",
       "      <th>respondent_id</th>\n",
       "      <th></th>\n",
       "      <th></th>\n",
       "      <th></th>\n",
       "      <th></th>\n",
       "      <th></th>\n",
       "      <th></th>\n",
       "      <th></th>\n",
       "      <th></th>\n",
       "      <th></th>\n",
       "      <th></th>\n",
       "      <th></th>\n",
       "      <th></th>\n",
       "      <th></th>\n",
       "      <th></th>\n",
       "      <th></th>\n",
       "      <th></th>\n",
       "      <th></th>\n",
       "      <th></th>\n",
       "      <th></th>\n",
       "      <th></th>\n",
       "      <th></th>\n",
       "    </tr>\n",
       "  </thead>\n",
       "  <tbody>\n",
       "    <tr>\n",
       "      <th>0</th>\n",
       "      <td>-0.661324</td>\n",
       "      <td>-1.974363</td>\n",
       "      <td>-0.207526</td>\n",
       "      <td>-1.516432</td>\n",
       "      <td>-0.267608</td>\n",
       "      <td>-2.131558</td>\n",
       "      <td>-0.730282</td>\n",
       "      <td>1.395458</td>\n",
       "      <td>0.688295</td>\n",
       "      <td>-0.234668</td>\n",
       "      <td>...</td>\n",
       "      <td>0</td>\n",
       "      <td>0</td>\n",
       "      <td>0</td>\n",
       "      <td>0</td>\n",
       "      <td>0</td>\n",
       "      <td>0</td>\n",
       "      <td>0</td>\n",
       "      <td>0</td>\n",
       "      <td>0</td>\n",
       "      <td>0</td>\n",
       "    </tr>\n",
       "    <tr>\n",
       "      <th>1</th>\n",
       "      <td>1.508852</td>\n",
       "      <td>1.177796</td>\n",
       "      <td>-0.207526</td>\n",
       "      <td>0.612871</td>\n",
       "      <td>-0.267608</td>\n",
       "      <td>0.459236</td>\n",
       "      <td>-0.730282</td>\n",
       "      <td>1.395458</td>\n",
       "      <td>0.688295</td>\n",
       "      <td>-0.234668</td>\n",
       "      <td>...</td>\n",
       "      <td>0</td>\n",
       "      <td>0</td>\n",
       "      <td>0</td>\n",
       "      <td>0</td>\n",
       "      <td>0</td>\n",
       "      <td>0</td>\n",
       "      <td>1</td>\n",
       "      <td>0</td>\n",
       "      <td>0</td>\n",
       "      <td>0</td>\n",
       "    </tr>\n",
       "    <tr>\n",
       "      <th>2</th>\n",
       "      <td>-0.661324</td>\n",
       "      <td>-0.398284</td>\n",
       "      <td>-0.207526</td>\n",
       "      <td>0.612871</td>\n",
       "      <td>-0.267608</td>\n",
       "      <td>-2.131558</td>\n",
       "      <td>-0.730282</td>\n",
       "      <td>-0.697337</td>\n",
       "      <td>-1.392563</td>\n",
       "      <td>-2.164246</td>\n",
       "      <td>...</td>\n",
       "      <td>0</td>\n",
       "      <td>0</td>\n",
       "      <td>0</td>\n",
       "      <td>0</td>\n",
       "      <td>0</td>\n",
       "      <td>0</td>\n",
       "      <td>0</td>\n",
       "      <td>0</td>\n",
       "      <td>1</td>\n",
       "      <td>0</td>\n",
       "    </tr>\n",
       "    <tr>\n",
       "      <th>3</th>\n",
       "      <td>-0.661324</td>\n",
       "      <td>-0.398284</td>\n",
       "      <td>-0.207526</td>\n",
       "      <td>0.612871</td>\n",
       "      <td>-0.267608</td>\n",
       "      <td>0.459236</td>\n",
       "      <td>1.331413</td>\n",
       "      <td>-0.697337</td>\n",
       "      <td>-1.392563</td>\n",
       "      <td>-0.234668</td>\n",
       "      <td>...</td>\n",
       "      <td>0</td>\n",
       "      <td>0</td>\n",
       "      <td>0</td>\n",
       "      <td>0</td>\n",
       "      <td>0</td>\n",
       "      <td>0</td>\n",
       "      <td>0</td>\n",
       "      <td>0</td>\n",
       "      <td>0</td>\n",
       "      <td>0</td>\n",
       "    </tr>\n",
       "    <tr>\n",
       "      <th>4</th>\n",
       "      <td>0.423764</td>\n",
       "      <td>-0.398284</td>\n",
       "      <td>-0.207526</td>\n",
       "      <td>0.612871</td>\n",
       "      <td>-0.267608</td>\n",
       "      <td>0.459236</td>\n",
       "      <td>1.331413</td>\n",
       "      <td>-0.697337</td>\n",
       "      <td>0.688295</td>\n",
       "      <td>-0.234668</td>\n",
       "      <td>...</td>\n",
       "      <td>0</td>\n",
       "      <td>0</td>\n",
       "      <td>0</td>\n",
       "      <td>0</td>\n",
       "      <td>0</td>\n",
       "      <td>0</td>\n",
       "      <td>0</td>\n",
       "      <td>0</td>\n",
       "      <td>0</td>\n",
       "      <td>0</td>\n",
       "    </tr>\n",
       "    <tr>\n",
       "      <th>...</th>\n",
       "      <td>...</td>\n",
       "      <td>...</td>\n",
       "      <td>...</td>\n",
       "      <td>...</td>\n",
       "      <td>...</td>\n",
       "      <td>...</td>\n",
       "      <td>...</td>\n",
       "      <td>...</td>\n",
       "      <td>...</td>\n",
       "      <td>...</td>\n",
       "      <td>...</td>\n",
       "      <td>...</td>\n",
       "      <td>...</td>\n",
       "      <td>...</td>\n",
       "      <td>...</td>\n",
       "      <td>...</td>\n",
       "      <td>...</td>\n",
       "      <td>...</td>\n",
       "      <td>...</td>\n",
       "      <td>...</td>\n",
       "      <td>...</td>\n",
       "    </tr>\n",
       "    <tr>\n",
       "      <th>26702</th>\n",
       "      <td>0.423764</td>\n",
       "      <td>-1.974363</td>\n",
       "      <td>-0.207526</td>\n",
       "      <td>0.612871</td>\n",
       "      <td>-0.267608</td>\n",
       "      <td>-2.131558</td>\n",
       "      <td>-0.730282</td>\n",
       "      <td>1.395458</td>\n",
       "      <td>-1.392563</td>\n",
       "      <td>-0.234668</td>\n",
       "      <td>...</td>\n",
       "      <td>0</td>\n",
       "      <td>0</td>\n",
       "      <td>0</td>\n",
       "      <td>0</td>\n",
       "      <td>0</td>\n",
       "      <td>0</td>\n",
       "      <td>0</td>\n",
       "      <td>0</td>\n",
       "      <td>0</td>\n",
       "      <td>0</td>\n",
       "    </tr>\n",
       "    <tr>\n",
       "      <th>26703</th>\n",
       "      <td>-0.661324</td>\n",
       "      <td>1.177796</td>\n",
       "      <td>-0.207526</td>\n",
       "      <td>0.612871</td>\n",
       "      <td>-0.267608</td>\n",
       "      <td>0.459236</td>\n",
       "      <td>-0.730282</td>\n",
       "      <td>-0.697337</td>\n",
       "      <td>-1.392563</td>\n",
       "      <td>1.694911</td>\n",
       "      <td>...</td>\n",
       "      <td>0</td>\n",
       "      <td>0</td>\n",
       "      <td>0</td>\n",
       "      <td>0</td>\n",
       "      <td>0</td>\n",
       "      <td>0</td>\n",
       "      <td>0</td>\n",
       "      <td>0</td>\n",
       "      <td>0</td>\n",
       "      <td>0</td>\n",
       "    </tr>\n",
       "    <tr>\n",
       "      <th>26704</th>\n",
       "      <td>0.423764</td>\n",
       "      <td>1.177796</td>\n",
       "      <td>-0.207526</td>\n",
       "      <td>0.612871</td>\n",
       "      <td>3.655003</td>\n",
       "      <td>0.459236</td>\n",
       "      <td>1.331413</td>\n",
       "      <td>-0.697337</td>\n",
       "      <td>0.688295</td>\n",
       "      <td>-0.234668</td>\n",
       "      <td>...</td>\n",
       "      <td>0</td>\n",
       "      <td>0</td>\n",
       "      <td>0</td>\n",
       "      <td>0</td>\n",
       "      <td>0</td>\n",
       "      <td>0</td>\n",
       "      <td>0</td>\n",
       "      <td>0</td>\n",
       "      <td>0</td>\n",
       "      <td>0</td>\n",
       "    </tr>\n",
       "    <tr>\n",
       "      <th>26705</th>\n",
       "      <td>-0.661324</td>\n",
       "      <td>-0.398284</td>\n",
       "      <td>-0.207526</td>\n",
       "      <td>-1.516432</td>\n",
       "      <td>-0.267608</td>\n",
       "      <td>-2.131558</td>\n",
       "      <td>-0.730282</td>\n",
       "      <td>-0.697337</td>\n",
       "      <td>-3.473422</td>\n",
       "      <td>-0.234668</td>\n",
       "      <td>...</td>\n",
       "      <td>0</td>\n",
       "      <td>0</td>\n",
       "      <td>0</td>\n",
       "      <td>0</td>\n",
       "      <td>0</td>\n",
       "      <td>0</td>\n",
       "      <td>0</td>\n",
       "      <td>0</td>\n",
       "      <td>0</td>\n",
       "      <td>0</td>\n",
       "    </tr>\n",
       "    <tr>\n",
       "      <th>26706</th>\n",
       "      <td>-1.746412</td>\n",
       "      <td>-1.974363</td>\n",
       "      <td>-0.207526</td>\n",
       "      <td>0.612871</td>\n",
       "      <td>-0.267608</td>\n",
       "      <td>-2.131558</td>\n",
       "      <td>-0.730282</td>\n",
       "      <td>-0.697337</td>\n",
       "      <td>-1.392563</td>\n",
       "      <td>-0.234668</td>\n",
       "      <td>...</td>\n",
       "      <td>0</td>\n",
       "      <td>0</td>\n",
       "      <td>0</td>\n",
       "      <td>0</td>\n",
       "      <td>0</td>\n",
       "      <td>0</td>\n",
       "      <td>0</td>\n",
       "      <td>0</td>\n",
       "      <td>0</td>\n",
       "      <td>0</td>\n",
       "    </tr>\n",
       "  </tbody>\n",
       "</table>\n",
       "<p>26707 rows × 98 columns</p>\n",
       "</div>"
      ],
      "text/plain": [
       "               h1n1_concern  h1n1_knowledge  behavioral_antiviral_meds  \\\n",
       "respondent_id                                                            \n",
       "0                 -0.661324       -1.974363                  -0.207526   \n",
       "1                  1.508852        1.177796                  -0.207526   \n",
       "2                 -0.661324       -0.398284                  -0.207526   \n",
       "3                 -0.661324       -0.398284                  -0.207526   \n",
       "4                  0.423764       -0.398284                  -0.207526   \n",
       "...                     ...             ...                        ...   \n",
       "26702              0.423764       -1.974363                  -0.207526   \n",
       "26703             -0.661324        1.177796                  -0.207526   \n",
       "26704              0.423764        1.177796                  -0.207526   \n",
       "26705             -0.661324       -0.398284                  -0.207526   \n",
       "26706             -1.746412       -1.974363                  -0.207526   \n",
       "\n",
       "               behavioral_avoidance  behavioral_face_mask  \\\n",
       "respondent_id                                               \n",
       "0                         -1.516432             -0.267608   \n",
       "1                          0.612871             -0.267608   \n",
       "2                          0.612871             -0.267608   \n",
       "3                          0.612871             -0.267608   \n",
       "4                          0.612871             -0.267608   \n",
       "...                             ...                   ...   \n",
       "26702                      0.612871             -0.267608   \n",
       "26703                      0.612871             -0.267608   \n",
       "26704                      0.612871              3.655003   \n",
       "26705                     -1.516432             -0.267608   \n",
       "26706                      0.612871             -0.267608   \n",
       "\n",
       "               behavioral_wash_hands  behavioral_large_gatherings  \\\n",
       "respondent_id                                                       \n",
       "0                          -2.131558                    -0.730282   \n",
       "1                           0.459236                    -0.730282   \n",
       "2                          -2.131558                    -0.730282   \n",
       "3                           0.459236                     1.331413   \n",
       "4                           0.459236                     1.331413   \n",
       "...                              ...                          ...   \n",
       "26702                      -2.131558                    -0.730282   \n",
       "26703                       0.459236                    -0.730282   \n",
       "26704                       0.459236                     1.331413   \n",
       "26705                      -2.131558                    -0.730282   \n",
       "26706                      -2.131558                    -0.730282   \n",
       "\n",
       "               behavioral_outside_home  behavioral_touch_face  \\\n",
       "respondent_id                                                   \n",
       "0                             1.395458               0.688295   \n",
       "1                             1.395458               0.688295   \n",
       "2                            -0.697337              -1.392563   \n",
       "3                            -0.697337              -1.392563   \n",
       "4                            -0.697337               0.688295   \n",
       "...                                ...                    ...   \n",
       "26702                         1.395458              -1.392563   \n",
       "26703                        -0.697337              -1.392563   \n",
       "26704                        -0.697337               0.688295   \n",
       "26705                        -0.697337              -3.473422   \n",
       "26706                        -0.697337              -1.392563   \n",
       "\n",
       "               doctor_recc_h1n1  ...  employment_occupation_qxajmpny  \\\n",
       "respondent_id                    ...                                   \n",
       "0                     -0.234668  ...                               0   \n",
       "1                     -0.234668  ...                               0   \n",
       "2                     -2.164246  ...                               0   \n",
       "3                     -0.234668  ...                               0   \n",
       "4                     -0.234668  ...                               0   \n",
       "...                         ...  ...                             ...   \n",
       "26702                 -0.234668  ...                               0   \n",
       "26703                  1.694911  ...                               0   \n",
       "26704                 -0.234668  ...                               0   \n",
       "26705                 -0.234668  ...                               0   \n",
       "26706                 -0.234668  ...                               0   \n",
       "\n",
       "               employment_occupation_rcertsgn  employment_occupation_tfqavkke  \\\n",
       "respondent_id                                                                   \n",
       "0                                           0                               0   \n",
       "1                                           0                               0   \n",
       "2                                           0                               0   \n",
       "3                                           0                               0   \n",
       "4                                           0                               0   \n",
       "...                                       ...                             ...   \n",
       "26702                                       0                               0   \n",
       "26703                                       0                               0   \n",
       "26704                                       0                               0   \n",
       "26705                                       0                               0   \n",
       "26706                                       0                               0   \n",
       "\n",
       "               employment_occupation_ukymxvdu  employment_occupation_uqqtjvyb  \\\n",
       "respondent_id                                                                   \n",
       "0                                           0                               0   \n",
       "1                                           0                               0   \n",
       "2                                           0                               0   \n",
       "3                                           0                               0   \n",
       "4                                           0                               0   \n",
       "...                                       ...                             ...   \n",
       "26702                                       0                               0   \n",
       "26703                                       0                               0   \n",
       "26704                                       0                               0   \n",
       "26705                                       0                               0   \n",
       "26706                                       0                               0   \n",
       "\n",
       "               employment_occupation_vlluhbov  employment_occupation_xgwztkwe  \\\n",
       "respondent_id                                                                   \n",
       "0                                           0                               0   \n",
       "1                                           0                               1   \n",
       "2                                           0                               0   \n",
       "3                                           0                               0   \n",
       "4                                           0                               0   \n",
       "...                                       ...                             ...   \n",
       "26702                                       0                               0   \n",
       "26703                                       0                               0   \n",
       "26704                                       0                               0   \n",
       "26705                                       0                               0   \n",
       "26706                                       0                               0   \n",
       "\n",
       "               employment_occupation_xqwwgdyp  employment_occupation_xtkaffoo  \\\n",
       "respondent_id                                                                   \n",
       "0                                           0                               0   \n",
       "1                                           0                               0   \n",
       "2                                           0                               1   \n",
       "3                                           0                               0   \n",
       "4                                           0                               0   \n",
       "...                                       ...                             ...   \n",
       "26702                                       0                               0   \n",
       "26703                                       0                               0   \n",
       "26704                                       0                               0   \n",
       "26705                                       0                               0   \n",
       "26706                                       0                               0   \n",
       "\n",
       "               employment_occupation_xzmlyyjv  \n",
       "respondent_id                                  \n",
       "0                                           0  \n",
       "1                                           0  \n",
       "2                                           0  \n",
       "3                                           0  \n",
       "4                                           0  \n",
       "...                                       ...  \n",
       "26702                                       0  \n",
       "26703                                       0  \n",
       "26704                                       0  \n",
       "26705                                       0  \n",
       "26706                                       0  \n",
       "\n",
       "[26707 rows x 98 columns]"
      ]
     },
     "execution_count": 130,
     "metadata": {},
     "output_type": "execute_result"
    }
   ],
   "source": [
    "train"
   ]
  },
  {
   "cell_type": "code",
   "execution_count": 22,
   "id": "77a6ff6f",
   "metadata": {},
   "outputs": [],
   "source": [
    "from mlxtend.classifier import StackingCVClassifier \n",
    "scaler = StandardScaler()\n",
    "train[num_cols] = scaler.fit_transform(train[num_cols])"
   ]
  },
  {
   "cell_type": "code",
   "execution_count": 23,
   "id": "88245c02",
   "metadata": {},
   "outputs": [
    {
     "data": {
      "text/html": [
       "<div>\n",
       "<style scoped>\n",
       "    .dataframe tbody tr th:only-of-type {\n",
       "        vertical-align: middle;\n",
       "    }\n",
       "\n",
       "    .dataframe tbody tr th {\n",
       "        vertical-align: top;\n",
       "    }\n",
       "\n",
       "    .dataframe thead th {\n",
       "        text-align: right;\n",
       "    }\n",
       "</style>\n",
       "<table border=\"1\" class=\"dataframe\">\n",
       "  <thead>\n",
       "    <tr style=\"text-align: right;\">\n",
       "      <th></th>\n",
       "      <th>h1n1_concern</th>\n",
       "      <th>h1n1_knowledge</th>\n",
       "      <th>behavioral_antiviral_meds</th>\n",
       "      <th>behavioral_avoidance</th>\n",
       "      <th>behavioral_face_mask</th>\n",
       "      <th>behavioral_wash_hands</th>\n",
       "      <th>behavioral_large_gatherings</th>\n",
       "      <th>behavioral_outside_home</th>\n",
       "      <th>behavioral_touch_face</th>\n",
       "      <th>doctor_recc_h1n1</th>\n",
       "      <th>...</th>\n",
       "      <th>health_worker</th>\n",
       "      <th>health_insurance</th>\n",
       "      <th>opinion_h1n1_vacc_effective</th>\n",
       "      <th>opinion_h1n1_risk</th>\n",
       "      <th>opinion_h1n1_sick_from_vacc</th>\n",
       "      <th>opinion_seas_vacc_effective</th>\n",
       "      <th>opinion_seas_risk</th>\n",
       "      <th>opinion_seas_sick_from_vacc</th>\n",
       "      <th>household_adults</th>\n",
       "      <th>household_children</th>\n",
       "    </tr>\n",
       "    <tr>\n",
       "      <th>respondent_id</th>\n",
       "      <th></th>\n",
       "      <th></th>\n",
       "      <th></th>\n",
       "      <th></th>\n",
       "      <th></th>\n",
       "      <th></th>\n",
       "      <th></th>\n",
       "      <th></th>\n",
       "      <th></th>\n",
       "      <th></th>\n",
       "      <th></th>\n",
       "      <th></th>\n",
       "      <th></th>\n",
       "      <th></th>\n",
       "      <th></th>\n",
       "      <th></th>\n",
       "      <th></th>\n",
       "      <th></th>\n",
       "      <th></th>\n",
       "      <th></th>\n",
       "      <th></th>\n",
       "    </tr>\n",
       "  </thead>\n",
       "  <tbody>\n",
       "    <tr>\n",
       "      <th>0</th>\n",
       "      <td>-0.661324</td>\n",
       "      <td>-1.974363</td>\n",
       "      <td>-0.207526</td>\n",
       "      <td>-1.516432</td>\n",
       "      <td>-0.267608</td>\n",
       "      <td>-2.131558</td>\n",
       "      <td>-0.730282</td>\n",
       "      <td>1.395458</td>\n",
       "      <td>0.688295</td>\n",
       "      <td>-0.234668</td>\n",
       "      <td>...</td>\n",
       "      <td>-0.215502</td>\n",
       "      <td>1.017933</td>\n",
       "      <td>-0.673617</td>\n",
       "      <td>-0.967590</td>\n",
       "      <td>-0.218130</td>\n",
       "      <td>-1.537966</td>\n",
       "      <td>-1.125614</td>\n",
       "      <td>-0.039863</td>\n",
       "      <td>-1.126271</td>\n",
       "      <td>-0.556137</td>\n",
       "    </tr>\n",
       "    <tr>\n",
       "      <th>1</th>\n",
       "      <td>1.508852</td>\n",
       "      <td>1.177796</td>\n",
       "      <td>-0.207526</td>\n",
       "      <td>0.612871</td>\n",
       "      <td>-0.267608</td>\n",
       "      <td>0.459236</td>\n",
       "      <td>-0.730282</td>\n",
       "      <td>1.395458</td>\n",
       "      <td>0.688295</td>\n",
       "      <td>-0.234668</td>\n",
       "      <td>...</td>\n",
       "      <td>-0.215502</td>\n",
       "      <td>1.017933</td>\n",
       "      <td>1.054473</td>\n",
       "      <td>1.275655</td>\n",
       "      <td>1.198256</td>\n",
       "      <td>0.048349</td>\n",
       "      <td>-0.442423</td>\n",
       "      <td>1.398827</td>\n",
       "      <td>-1.126271</td>\n",
       "      <td>-0.556137</td>\n",
       "    </tr>\n",
       "    <tr>\n",
       "      <th>2</th>\n",
       "      <td>-0.661324</td>\n",
       "      <td>-0.398284</td>\n",
       "      <td>-0.207526</td>\n",
       "      <td>0.612871</td>\n",
       "      <td>-0.267608</td>\n",
       "      <td>-2.131558</td>\n",
       "      <td>-0.730282</td>\n",
       "      <td>-0.697337</td>\n",
       "      <td>-1.392563</td>\n",
       "      <td>-2.164246</td>\n",
       "      <td>...</td>\n",
       "      <td>-0.215502</td>\n",
       "      <td>-1.050697</td>\n",
       "      <td>-0.673617</td>\n",
       "      <td>-0.967590</td>\n",
       "      <td>-0.926323</td>\n",
       "      <td>0.048349</td>\n",
       "      <td>-1.125614</td>\n",
       "      <td>-0.039863</td>\n",
       "      <td>1.466104</td>\n",
       "      <td>-0.556137</td>\n",
       "    </tr>\n",
       "    <tr>\n",
       "      <th>3</th>\n",
       "      <td>-0.661324</td>\n",
       "      <td>-0.398284</td>\n",
       "      <td>-0.207526</td>\n",
       "      <td>0.612871</td>\n",
       "      <td>-0.267608</td>\n",
       "      <td>0.459236</td>\n",
       "      <td>1.331413</td>\n",
       "      <td>-0.697337</td>\n",
       "      <td>-1.392563</td>\n",
       "      <td>-0.234668</td>\n",
       "      <td>...</td>\n",
       "      <td>-0.215502</td>\n",
       "      <td>-1.050697</td>\n",
       "      <td>-0.673617</td>\n",
       "      <td>0.527906</td>\n",
       "      <td>1.906448</td>\n",
       "      <td>0.841507</td>\n",
       "      <td>0.923959</td>\n",
       "      <td>-0.759208</td>\n",
       "      <td>-1.126271</td>\n",
       "      <td>-0.556137</td>\n",
       "    </tr>\n",
       "    <tr>\n",
       "      <th>4</th>\n",
       "      <td>0.423764</td>\n",
       "      <td>-0.398284</td>\n",
       "      <td>-0.207526</td>\n",
       "      <td>0.612871</td>\n",
       "      <td>-0.267608</td>\n",
       "      <td>0.459236</td>\n",
       "      <td>1.331413</td>\n",
       "      <td>-0.697337</td>\n",
       "      <td>0.688295</td>\n",
       "      <td>-0.234668</td>\n",
       "      <td>...</td>\n",
       "      <td>-0.215502</td>\n",
       "      <td>-1.050697</td>\n",
       "      <td>-0.673617</td>\n",
       "      <td>0.527906</td>\n",
       "      <td>-0.218130</td>\n",
       "      <td>-0.744809</td>\n",
       "      <td>-1.125614</td>\n",
       "      <td>1.398827</td>\n",
       "      <td>0.169916</td>\n",
       "      <td>-0.556137</td>\n",
       "    </tr>\n",
       "    <tr>\n",
       "      <th>...</th>\n",
       "      <td>...</td>\n",
       "      <td>...</td>\n",
       "      <td>...</td>\n",
       "      <td>...</td>\n",
       "      <td>...</td>\n",
       "      <td>...</td>\n",
       "      <td>...</td>\n",
       "      <td>...</td>\n",
       "      <td>...</td>\n",
       "      <td>...</td>\n",
       "      <td>...</td>\n",
       "      <td>...</td>\n",
       "      <td>...</td>\n",
       "      <td>...</td>\n",
       "      <td>...</td>\n",
       "      <td>...</td>\n",
       "      <td>...</td>\n",
       "      <td>...</td>\n",
       "      <td>...</td>\n",
       "      <td>...</td>\n",
       "      <td>...</td>\n",
       "    </tr>\n",
       "    <tr>\n",
       "      <th>26702</th>\n",
       "      <td>0.423764</td>\n",
       "      <td>-1.974363</td>\n",
       "      <td>-0.207526</td>\n",
       "      <td>0.612871</td>\n",
       "      <td>-0.267608</td>\n",
       "      <td>-2.131558</td>\n",
       "      <td>-0.730282</td>\n",
       "      <td>1.395458</td>\n",
       "      <td>-1.392563</td>\n",
       "      <td>-0.234668</td>\n",
       "      <td>...</td>\n",
       "      <td>-0.215502</td>\n",
       "      <td>-1.050697</td>\n",
       "      <td>-0.673617</td>\n",
       "      <td>-0.967590</td>\n",
       "      <td>-0.926323</td>\n",
       "      <td>0.841507</td>\n",
       "      <td>-0.442423</td>\n",
       "      <td>-0.039863</td>\n",
       "      <td>-1.126271</td>\n",
       "      <td>-0.556137</td>\n",
       "    </tr>\n",
       "    <tr>\n",
       "      <th>26703</th>\n",
       "      <td>-0.661324</td>\n",
       "      <td>1.177796</td>\n",
       "      <td>-0.207526</td>\n",
       "      <td>0.612871</td>\n",
       "      <td>-0.267608</td>\n",
       "      <td>0.459236</td>\n",
       "      <td>-0.730282</td>\n",
       "      <td>-0.697337</td>\n",
       "      <td>-1.392563</td>\n",
       "      <td>1.694911</td>\n",
       "      <td>...</td>\n",
       "      <td>2.531716</td>\n",
       "      <td>1.017933</td>\n",
       "      <td>0.190428</td>\n",
       "      <td>-0.219842</td>\n",
       "      <td>-0.218130</td>\n",
       "      <td>0.841507</td>\n",
       "      <td>-1.125614</td>\n",
       "      <td>-0.759208</td>\n",
       "      <td>0.169916</td>\n",
       "      <td>-0.556137</td>\n",
       "    </tr>\n",
       "    <tr>\n",
       "      <th>26704</th>\n",
       "      <td>0.423764</td>\n",
       "      <td>1.177796</td>\n",
       "      <td>-0.207526</td>\n",
       "      <td>0.612871</td>\n",
       "      <td>3.655003</td>\n",
       "      <td>0.459236</td>\n",
       "      <td>1.331413</td>\n",
       "      <td>-0.697337</td>\n",
       "      <td>0.688295</td>\n",
       "      <td>-0.234668</td>\n",
       "      <td>...</td>\n",
       "      <td>-0.215502</td>\n",
       "      <td>-1.050697</td>\n",
       "      <td>0.190428</td>\n",
       "      <td>1.275655</td>\n",
       "      <td>-0.218130</td>\n",
       "      <td>0.841507</td>\n",
       "      <td>0.923959</td>\n",
       "      <td>-0.039863</td>\n",
       "      <td>-1.126271</td>\n",
       "      <td>-0.556137</td>\n",
       "    </tr>\n",
       "    <tr>\n",
       "      <th>26705</th>\n",
       "      <td>-0.661324</td>\n",
       "      <td>-0.398284</td>\n",
       "      <td>-0.207526</td>\n",
       "      <td>-1.516432</td>\n",
       "      <td>-0.267608</td>\n",
       "      <td>-2.131558</td>\n",
       "      <td>-0.730282</td>\n",
       "      <td>-0.697337</td>\n",
       "      <td>-3.473422</td>\n",
       "      <td>-0.234668</td>\n",
       "      <td>...</td>\n",
       "      <td>-0.215502</td>\n",
       "      <td>-0.016382</td>\n",
       "      <td>-0.673617</td>\n",
       "      <td>-0.967590</td>\n",
       "      <td>-0.218130</td>\n",
       "      <td>-1.537966</td>\n",
       "      <td>-1.125614</td>\n",
       "      <td>-0.039863</td>\n",
       "      <td>0.169916</td>\n",
       "      <td>-0.556137</td>\n",
       "    </tr>\n",
       "    <tr>\n",
       "      <th>26706</th>\n",
       "      <td>-1.746412</td>\n",
       "      <td>-1.974363</td>\n",
       "      <td>-0.207526</td>\n",
       "      <td>0.612871</td>\n",
       "      <td>-0.267608</td>\n",
       "      <td>-2.131558</td>\n",
       "      <td>-0.730282</td>\n",
       "      <td>-0.697337</td>\n",
       "      <td>-1.392563</td>\n",
       "      <td>-0.234668</td>\n",
       "      <td>...</td>\n",
       "      <td>-0.215502</td>\n",
       "      <td>1.017933</td>\n",
       "      <td>1.054473</td>\n",
       "      <td>-0.967590</td>\n",
       "      <td>-0.926323</td>\n",
       "      <td>0.841507</td>\n",
       "      <td>-1.125614</td>\n",
       "      <td>-0.759208</td>\n",
       "      <td>0.169916</td>\n",
       "      <td>-0.556137</td>\n",
       "    </tr>\n",
       "  </tbody>\n",
       "</table>\n",
       "<p>26707 rows × 23 columns</p>\n",
       "</div>"
      ],
      "text/plain": [
       "               h1n1_concern  h1n1_knowledge  behavioral_antiviral_meds  \\\n",
       "respondent_id                                                            \n",
       "0                 -0.661324       -1.974363                  -0.207526   \n",
       "1                  1.508852        1.177796                  -0.207526   \n",
       "2                 -0.661324       -0.398284                  -0.207526   \n",
       "3                 -0.661324       -0.398284                  -0.207526   \n",
       "4                  0.423764       -0.398284                  -0.207526   \n",
       "...                     ...             ...                        ...   \n",
       "26702              0.423764       -1.974363                  -0.207526   \n",
       "26703             -0.661324        1.177796                  -0.207526   \n",
       "26704              0.423764        1.177796                  -0.207526   \n",
       "26705             -0.661324       -0.398284                  -0.207526   \n",
       "26706             -1.746412       -1.974363                  -0.207526   \n",
       "\n",
       "               behavioral_avoidance  behavioral_face_mask  \\\n",
       "respondent_id                                               \n",
       "0                         -1.516432             -0.267608   \n",
       "1                          0.612871             -0.267608   \n",
       "2                          0.612871             -0.267608   \n",
       "3                          0.612871             -0.267608   \n",
       "4                          0.612871             -0.267608   \n",
       "...                             ...                   ...   \n",
       "26702                      0.612871             -0.267608   \n",
       "26703                      0.612871             -0.267608   \n",
       "26704                      0.612871              3.655003   \n",
       "26705                     -1.516432             -0.267608   \n",
       "26706                      0.612871             -0.267608   \n",
       "\n",
       "               behavioral_wash_hands  behavioral_large_gatherings  \\\n",
       "respondent_id                                                       \n",
       "0                          -2.131558                    -0.730282   \n",
       "1                           0.459236                    -0.730282   \n",
       "2                          -2.131558                    -0.730282   \n",
       "3                           0.459236                     1.331413   \n",
       "4                           0.459236                     1.331413   \n",
       "...                              ...                          ...   \n",
       "26702                      -2.131558                    -0.730282   \n",
       "26703                       0.459236                    -0.730282   \n",
       "26704                       0.459236                     1.331413   \n",
       "26705                      -2.131558                    -0.730282   \n",
       "26706                      -2.131558                    -0.730282   \n",
       "\n",
       "               behavioral_outside_home  behavioral_touch_face  \\\n",
       "respondent_id                                                   \n",
       "0                             1.395458               0.688295   \n",
       "1                             1.395458               0.688295   \n",
       "2                            -0.697337              -1.392563   \n",
       "3                            -0.697337              -1.392563   \n",
       "4                            -0.697337               0.688295   \n",
       "...                                ...                    ...   \n",
       "26702                         1.395458              -1.392563   \n",
       "26703                        -0.697337              -1.392563   \n",
       "26704                        -0.697337               0.688295   \n",
       "26705                        -0.697337              -3.473422   \n",
       "26706                        -0.697337              -1.392563   \n",
       "\n",
       "               doctor_recc_h1n1  ...  health_worker  health_insurance  \\\n",
       "respondent_id                    ...                                    \n",
       "0                     -0.234668  ...      -0.215502          1.017933   \n",
       "1                     -0.234668  ...      -0.215502          1.017933   \n",
       "2                     -2.164246  ...      -0.215502         -1.050697   \n",
       "3                     -0.234668  ...      -0.215502         -1.050697   \n",
       "4                     -0.234668  ...      -0.215502         -1.050697   \n",
       "...                         ...  ...            ...               ...   \n",
       "26702                 -0.234668  ...      -0.215502         -1.050697   \n",
       "26703                  1.694911  ...       2.531716          1.017933   \n",
       "26704                 -0.234668  ...      -0.215502         -1.050697   \n",
       "26705                 -0.234668  ...      -0.215502         -0.016382   \n",
       "26706                 -0.234668  ...      -0.215502          1.017933   \n",
       "\n",
       "               opinion_h1n1_vacc_effective  opinion_h1n1_risk  \\\n",
       "respondent_id                                                   \n",
       "0                                -0.673617          -0.967590   \n",
       "1                                 1.054473           1.275655   \n",
       "2                                -0.673617          -0.967590   \n",
       "3                                -0.673617           0.527906   \n",
       "4                                -0.673617           0.527906   \n",
       "...                                    ...                ...   \n",
       "26702                            -0.673617          -0.967590   \n",
       "26703                             0.190428          -0.219842   \n",
       "26704                             0.190428           1.275655   \n",
       "26705                            -0.673617          -0.967590   \n",
       "26706                             1.054473          -0.967590   \n",
       "\n",
       "               opinion_h1n1_sick_from_vacc  opinion_seas_vacc_effective  \\\n",
       "respondent_id                                                             \n",
       "0                                -0.218130                    -1.537966   \n",
       "1                                 1.198256                     0.048349   \n",
       "2                                -0.926323                     0.048349   \n",
       "3                                 1.906448                     0.841507   \n",
       "4                                -0.218130                    -0.744809   \n",
       "...                                    ...                          ...   \n",
       "26702                            -0.926323                     0.841507   \n",
       "26703                            -0.218130                     0.841507   \n",
       "26704                            -0.218130                     0.841507   \n",
       "26705                            -0.218130                    -1.537966   \n",
       "26706                            -0.926323                     0.841507   \n",
       "\n",
       "               opinion_seas_risk  opinion_seas_sick_from_vacc  \\\n",
       "respondent_id                                                   \n",
       "0                      -1.125614                    -0.039863   \n",
       "1                      -0.442423                     1.398827   \n",
       "2                      -1.125614                    -0.039863   \n",
       "3                       0.923959                    -0.759208   \n",
       "4                      -1.125614                     1.398827   \n",
       "...                          ...                          ...   \n",
       "26702                  -0.442423                    -0.039863   \n",
       "26703                  -1.125614                    -0.759208   \n",
       "26704                   0.923959                    -0.039863   \n",
       "26705                  -1.125614                    -0.039863   \n",
       "26706                  -1.125614                    -0.759208   \n",
       "\n",
       "               household_adults  household_children  \n",
       "respondent_id                                        \n",
       "0                     -1.126271           -0.556137  \n",
       "1                     -1.126271           -0.556137  \n",
       "2                      1.466104           -0.556137  \n",
       "3                     -1.126271           -0.556137  \n",
       "4                      0.169916           -0.556137  \n",
       "...                         ...                 ...  \n",
       "26702                 -1.126271           -0.556137  \n",
       "26703                  0.169916           -0.556137  \n",
       "26704                 -1.126271           -0.556137  \n",
       "26705                  0.169916           -0.556137  \n",
       "26706                  0.169916           -0.556137  \n",
       "\n",
       "[26707 rows x 23 columns]"
      ]
     },
     "execution_count": 23,
     "metadata": {},
     "output_type": "execute_result"
    }
   ],
   "source": [
    "train[num_cols]"
   ]
  },
  {
   "cell_type": "code",
   "execution_count": 36,
   "id": "437986fd",
   "metadata": {},
   "outputs": [],
   "source": [
    "from sklearn.svm import NuSVC, SVC\n",
    "import xgboost as xg\n",
    "from sklearn.ensemble import RandomForestClassifier"
   ]
  },
  {
   "cell_type": "code",
   "execution_count": 37,
   "id": "ed4d9499",
   "metadata": {},
   "outputs": [],
   "source": [
    "from sklearn.linear_model import LogisticRegression\n",
    "\n",
    "from sklearn.ensemble import RandomForestClassifier\n",
    "\n",
    "# Initializing Support Vector classifier\n",
    "classifier1 = xg.XGBClassifier(\n",
    "    gamma=1,\n",
    "    learning_rate= 0.1,\n",
    "    max_depth= 7,\n",
    "    reg_lambda=0,\n",
    "    objective=\"binary:logistic\",\n",
    "    colsample_bytree=0.5,\n",
    "    subsample=0.8\n",
    ")\n",
    "\n",
    "# Initializing Multi-layer perceptron  classifier\n",
    "classifier2 = CatBoostClassifier(verbose=False,  cat_features=categorical_features_indices, \n",
    "                          iterations=500,\n",
    "    learning_rate=0.05745075659543725,\n",
    "    random_strength=4,\n",
    "    bagging_temperature=8,\n",
    "    max_bin=5,\n",
    "    grow_policy=\"Lossguide\",\n",
    "    min_data_in_leaf=7,\n",
    "    max_depth=6,\n",
    "    l2_leaf_reg=11.323094517862078,\n",
    "    one_hot_max_size=10,\n",
    "    auto_class_weights=\"Balanced\")\n",
    "\n",
    "# Initialing Nu Support Vector classifier\n",
    "classifier3 = NuSVC(degree = 1, kernel = \"rbf\", nu = 0.25, probability = True)\n",
    "\n",
    "# Initializing Random Forest classifier\n",
    "classifier4 = RandomForestClassifier(n_estimators = 500, criterion = \"gini\", max_depth = 10,\n",
    "                                     max_features = \"auto\", min_samples_leaf = 0.005,\n",
    "                                     min_samples_split = 0.005, n_jobs = -1, random_state = 1000)"
   ]
  },
  {
   "cell_type": "code",
   "execution_count": 42,
   "id": "06a40c24",
   "metadata": {},
   "outputs": [],
   "source": [
    "sclf = StackingCVClassifier(classifiers = [classifier1, classifier2, classifier3, classifier4],\n",
    "                            shuffle = False,\n",
    "                            use_probas = True,\n",
    "                            cv = 5,\n",
    "                            meta_classifier = LogisticRegression())"
   ]
  },
  {
   "cell_type": "code",
   "execution_count": 43,
   "id": "57fcc659",
   "metadata": {},
   "outputs": [],
   "source": [
    "# Create list to store classifiers\n",
    "classifiers = {\"Xgboost\": classifier1,\n",
    "               \"CatBoost\": classifier2,\n",
    "               \"NuSVC\": classifier3,\n",
    "               \"RF\": classifier4,\n",
    "               \"Stack\": sclf}"
   ]
  },
  {
   "cell_type": "code",
   "execution_count": 40,
   "id": "9ea9abb3",
   "metadata": {},
   "outputs": [],
   "source": [
    "X_train, X_test, y_train, y_test = train_test_split(\n",
    "    train,\n",
    "    labels.h1n1_vaccine,\n",
    "    test_size=0.30,\n",
    "    shuffle=True,\n",
    "    random_state=68\n",
    ")\n"
   ]
  },
  {
   "cell_type": "code",
   "execution_count": 79,
   "id": "bc91c0df",
   "metadata": {},
   "outputs": [],
   "source": [
    "train[ord_cols]= oe.fit_transform(train[ord_cols])"
   ]
  },
  {
   "cell_type": "code",
   "execution_count": 45,
   "id": "e4293d07",
   "metadata": {},
   "outputs": [
    {
     "name": "stderr",
     "output_type": "stream",
     "text": [
      "C:\\Users\\jvrdo\\anaconda3\\lib\\site-packages\\sklearn\\ensemble\\_forest.py:427: FutureWarning: `max_features='auto'` has been deprecated in 1.1 and will be removed in 1.3. To keep the past behaviour, explicitly set `max_features='sqrt'` or remove this parameter as it is also the default value for RandomForestClassifiers and ExtraTreesClassifiers.\n",
      "  warn(\n",
      "C:\\Users\\jvrdo\\anaconda3\\lib\\site-packages\\sklearn\\ensemble\\_forest.py:427: FutureWarning: `max_features='auto'` has been deprecated in 1.1 and will be removed in 1.3. To keep the past behaviour, explicitly set `max_features='sqrt'` or remove this parameter as it is also the default value for RandomForestClassifiers and ExtraTreesClassifiers.\n",
      "  warn(\n",
      "C:\\Users\\jvrdo\\anaconda3\\lib\\site-packages\\sklearn\\ensemble\\_forest.py:427: FutureWarning: `max_features='auto'` has been deprecated in 1.1 and will be removed in 1.3. To keep the past behaviour, explicitly set `max_features='sqrt'` or remove this parameter as it is also the default value for RandomForestClassifiers and ExtraTreesClassifiers.\n",
      "  warn(\n",
      "C:\\Users\\jvrdo\\anaconda3\\lib\\site-packages\\sklearn\\ensemble\\_forest.py:427: FutureWarning: `max_features='auto'` has been deprecated in 1.1 and will be removed in 1.3. To keep the past behaviour, explicitly set `max_features='sqrt'` or remove this parameter as it is also the default value for RandomForestClassifiers and ExtraTreesClassifiers.\n",
      "  warn(\n",
      "C:\\Users\\jvrdo\\anaconda3\\lib\\site-packages\\sklearn\\ensemble\\_forest.py:427: FutureWarning: `max_features='auto'` has been deprecated in 1.1 and will be removed in 1.3. To keep the past behaviour, explicitly set `max_features='sqrt'` or remove this parameter as it is also the default value for RandomForestClassifiers and ExtraTreesClassifiers.\n",
      "  warn(\n",
      "C:\\Users\\jvrdo\\anaconda3\\lib\\site-packages\\sklearn\\ensemble\\_forest.py:427: FutureWarning: `max_features='auto'` has been deprecated in 1.1 and will be removed in 1.3. To keep the past behaviour, explicitly set `max_features='sqrt'` or remove this parameter as it is also the default value for RandomForestClassifiers and ExtraTreesClassifiers.\n",
      "  warn(\n",
      "C:\\Users\\jvrdo\\anaconda3\\lib\\site-packages\\sklearn\\ensemble\\_forest.py:427: FutureWarning: `max_features='auto'` has been deprecated in 1.1 and will be removed in 1.3. To keep the past behaviour, explicitly set `max_features='sqrt'` or remove this parameter as it is also the default value for RandomForestClassifiers and ExtraTreesClassifiers.\n",
      "  warn(\n"
     ]
    }
   ],
   "source": [
    "# Train classifiers\n",
    "for key in classifiers:\n",
    "    # Get classifier\n",
    "    classifier = classifiers[key]\n",
    "    \n",
    "    # Fit classifier\n",
    "    classifier.fit(X_train, y_train)\n",
    "        \n",
    "    # Save fitted classifier\n",
    "    classifiers[key] = classifier"
   ]
  },
  {
   "cell_type": "code",
   "execution_count": 46,
   "id": "abedabb5",
   "metadata": {},
   "outputs": [],
   "source": [
    "# Get results\n",
    "results = pd.DataFrame()\n",
    "for key in classifiers:\n",
    "    # Make prediction on test set\n",
    "    y_pred = classifiers[key].predict_proba(X_test)[:,1]\n",
    "    \n",
    "    # Save results in pandas dataframe object\n",
    "    results[f\"{key}\"] = y_pred\n",
    "\n",
    "# Add the test set to the results object\n",
    "results[\"Target\"] = y_test"
   ]
  },
  {
   "cell_type": "code",
   "execution_count": 47,
   "id": "d8d8d60f",
   "metadata": {},
   "outputs": [
    {
     "name": "stderr",
     "output_type": "stream",
     "text": [
      "C:\\Users\\jvrdo\\anaconda3\\lib\\site-packages\\seaborn\\distributions.py:2557: FutureWarning: `distplot` is a deprecated function and will be removed in a future version. Please adapt your code to use either `displot` (a figure-level function with similar flexibility) or `histplot` (an axes-level function for histograms).\n",
      "  warnings.warn(msg, FutureWarning)\n",
      "C:\\Users\\jvrdo\\anaconda3\\lib\\site-packages\\seaborn\\distributions.py:2557: FutureWarning: `distplot` is a deprecated function and will be removed in a future version. Please adapt your code to use either `displot` (a figure-level function with similar flexibility) or `histplot` (an axes-level function for histograms).\n",
      "  warnings.warn(msg, FutureWarning)\n",
      "C:\\Users\\jvrdo\\anaconda3\\lib\\site-packages\\seaborn\\distributions.py:2557: FutureWarning: `distplot` is a deprecated function and will be removed in a future version. Please adapt your code to use either `displot` (a figure-level function with similar flexibility) or `histplot` (an axes-level function for histograms).\n",
      "  warnings.warn(msg, FutureWarning)\n",
      "C:\\Users\\jvrdo\\anaconda3\\lib\\site-packages\\seaborn\\distributions.py:2557: FutureWarning: `distplot` is a deprecated function and will be removed in a future version. Please adapt your code to use either `displot` (a figure-level function with similar flexibility) or `histplot` (an axes-level function for histograms).\n",
      "  warnings.warn(msg, FutureWarning)\n",
      "C:\\Users\\jvrdo\\anaconda3\\lib\\site-packages\\seaborn\\distributions.py:2557: FutureWarning: `distplot` is a deprecated function and will be removed in a future version. Please adapt your code to use either `displot` (a figure-level function with similar flexibility) or `histplot` (an axes-level function for histograms).\n",
      "  warnings.warn(msg, FutureWarning)\n"
     ]
    },
    {
     "data": {
      "image/png": "[encoded data removed]",
      "text/plain": [
       "<Figure size 936x288 with 5 Axes>"
      ]
     },
     "metadata": {},
     "output_type": "display_data"
    }
   ],
   "source": [
    "import seaborn as sns\n",
    "# Probability Distributions Figure\n",
    "# Set graph style\n",
    "sns.set(font_scale = 1)\n",
    "sns.set_style({\"axes.facecolor\": \"1.0\", \"axes.edgecolor\": \"0.85\", \"grid.color\": \"0.85\",\n",
    "               \"grid.linestyle\": \"-\", 'axes.labelcolor': '0.4', \"xtick.color\": \"0.4\",\n",
    "               'ytick.color': '0.4'})\n",
    "\n",
    "# Plot\n",
    "f, ax = plt.subplots(figsize=(13, 4), nrows=1, ncols = 5)\n",
    "\n",
    "for key, counter in zip(classifiers, range(5)):\n",
    "    # Get predictions\n",
    "    y_pred = results[key]\n",
    "    \n",
    "    # Get AUC\n",
    "    auc = roc_auc_score(y_test, y_pred)\n",
    "    textstr = f\"AUC: {auc:.3f}\"\n",
    "\n",
    "    # Plot false distribution\n",
    "    false_pred = results[results[\"Target\"] == 0]\n",
    "    sns.distplot(false_pred[key], hist=True, kde=False, \n",
    "                 bins=int(25), color = 'red',\n",
    "                 hist_kws={'edgecolor':'black'}, ax = ax[counter])\n",
    "    \n",
    "    # Plot true distribution\n",
    "    true_pred = results[results[\"Target\"] == 1]\n",
    "    sns.distplot(results[key], hist=True, kde=False, \n",
    "                 bins=int(25), color = 'green',\n",
    "                 hist_kws={'edgecolor':'black'}, ax = ax[counter])\n",
    "    \n",
    "    \n",
    "    # These are matplotlib.patch.Patch properties\n",
    "    props = dict(boxstyle='round', facecolor='white', alpha=0.5)\n",
    "    \n",
    "    # Place a text box in upper left in axes coords\n",
    "    ax[counter].text(0.05, 0.95, textstr, transform=ax[counter].transAxes, fontsize=14,\n",
    "                    verticalalignment = \"top\", bbox=props)\n",
    "    \n",
    "    # Set axis limits and labels\n",
    "    ax[counter].set_title(f\"{key} Distribution\")\n",
    "    ax[counter].set_xlim(0,1)\n",
    "    ax[counter].set_xlabel(\"Probability\")\n",
    "\n",
    "# Tight layout\n",
    "plt.tight_layout()"
   ]
  },
  {
   "cell_type": "code",
   "execution_count": 48,
   "id": "67bcaf4a",
   "metadata": {},
   "outputs": [
    {
     "data": {
      "text/html": [
       "<div>\n",
       "<style scoped>\n",
       "    .dataframe tbody tr th:only-of-type {\n",
       "        vertical-align: middle;\n",
       "    }\n",
       "\n",
       "    .dataframe tbody tr th {\n",
       "        vertical-align: top;\n",
       "    }\n",
       "\n",
       "    .dataframe thead th {\n",
       "        text-align: right;\n",
       "    }\n",
       "</style>\n",
       "<table border=\"1\" class=\"dataframe\">\n",
       "  <thead>\n",
       "    <tr style=\"text-align: right;\">\n",
       "      <th></th>\n",
       "      <th>Xgboost</th>\n",
       "      <th>CatBoost</th>\n",
       "      <th>NuSVC</th>\n",
       "      <th>RF</th>\n",
       "      <th>Stack</th>\n",
       "      <th>Target</th>\n",
       "    </tr>\n",
       "  </thead>\n",
       "  <tbody>\n",
       "    <tr>\n",
       "      <th>0</th>\n",
       "      <td>0.057226</td>\n",
       "      <td>0.150490</td>\n",
       "      <td>0.055197</td>\n",
       "      <td>0.178566</td>\n",
       "      <td>0.068618</td>\n",
       "      <td>NaN</td>\n",
       "    </tr>\n",
       "    <tr>\n",
       "      <th>1</th>\n",
       "      <td>0.085866</td>\n",
       "      <td>0.218560</td>\n",
       "      <td>0.081595</td>\n",
       "      <td>0.166924</td>\n",
       "      <td>0.080999</td>\n",
       "      <td>NaN</td>\n",
       "    </tr>\n",
       "    <tr>\n",
       "      <th>2</th>\n",
       "      <td>0.055811</td>\n",
       "      <td>0.057204</td>\n",
       "      <td>0.179648</td>\n",
       "      <td>0.191582</td>\n",
       "      <td>0.061248</td>\n",
       "      <td>NaN</td>\n",
       "    </tr>\n",
       "    <tr>\n",
       "      <th>3</th>\n",
       "      <td>0.069756</td>\n",
       "      <td>0.130070</td>\n",
       "      <td>0.103419</td>\n",
       "      <td>0.112385</td>\n",
       "      <td>0.058807</td>\n",
       "      <td>NaN</td>\n",
       "    </tr>\n",
       "    <tr>\n",
       "      <th>4</th>\n",
       "      <td>0.018994</td>\n",
       "      <td>0.035790</td>\n",
       "      <td>0.035535</td>\n",
       "      <td>0.121413</td>\n",
       "      <td>0.044282</td>\n",
       "      <td>0.0</td>\n",
       "    </tr>\n",
       "    <tr>\n",
       "      <th>...</th>\n",
       "      <td>...</td>\n",
       "      <td>...</td>\n",
       "      <td>...</td>\n",
       "      <td>...</td>\n",
       "      <td>...</td>\n",
       "      <td>...</td>\n",
       "    </tr>\n",
       "    <tr>\n",
       "      <th>8008</th>\n",
       "      <td>0.031465</td>\n",
       "      <td>0.174081</td>\n",
       "      <td>0.030077</td>\n",
       "      <td>0.160163</td>\n",
       "      <td>0.065141</td>\n",
       "      <td>0.0</td>\n",
       "    </tr>\n",
       "    <tr>\n",
       "      <th>8009</th>\n",
       "      <td>0.016251</td>\n",
       "      <td>0.020638</td>\n",
       "      <td>0.061299</td>\n",
       "      <td>0.108060</td>\n",
       "      <td>0.041784</td>\n",
       "      <td>0.0</td>\n",
       "    </tr>\n",
       "    <tr>\n",
       "      <th>8010</th>\n",
       "      <td>0.017061</td>\n",
       "      <td>0.031297</td>\n",
       "      <td>0.053592</td>\n",
       "      <td>0.080915</td>\n",
       "      <td>0.039978</td>\n",
       "      <td>0.0</td>\n",
       "    </tr>\n",
       "    <tr>\n",
       "      <th>8011</th>\n",
       "      <td>0.213054</td>\n",
       "      <td>0.769164</td>\n",
       "      <td>0.293003</td>\n",
       "      <td>0.154745</td>\n",
       "      <td>0.272436</td>\n",
       "      <td>NaN</td>\n",
       "    </tr>\n",
       "    <tr>\n",
       "      <th>8012</th>\n",
       "      <td>0.216421</td>\n",
       "      <td>0.482591</td>\n",
       "      <td>0.065625</td>\n",
       "      <td>0.409692</td>\n",
       "      <td>0.263936</td>\n",
       "      <td>0.0</td>\n",
       "    </tr>\n",
       "  </tbody>\n",
       "</table>\n",
       "<p>8013 rows × 6 columns</p>\n",
       "</div>"
      ],
      "text/plain": [
       "       Xgboost  CatBoost     NuSVC        RF     Stack  Target\n",
       "0     0.057226  0.150490  0.055197  0.178566  0.068618     NaN\n",
       "1     0.085866  0.218560  0.081595  0.166924  0.080999     NaN\n",
       "2     0.055811  0.057204  0.179648  0.191582  0.061248     NaN\n",
       "3     0.069756  0.130070  0.103419  0.112385  0.058807     NaN\n",
       "4     0.018994  0.035790  0.035535  0.121413  0.044282     0.0\n",
       "...        ...       ...       ...       ...       ...     ...\n",
       "8008  0.031465  0.174081  0.030077  0.160163  0.065141     0.0\n",
       "8009  0.016251  0.020638  0.061299  0.108060  0.041784     0.0\n",
       "8010  0.017061  0.031297  0.053592  0.080915  0.039978     0.0\n",
       "8011  0.213054  0.769164  0.293003  0.154745  0.272436     NaN\n",
       "8012  0.216421  0.482591  0.065625  0.409692  0.263936     0.0\n",
       "\n",
       "[8013 rows x 6 columns]"
      ]
     },
     "execution_count": 48,
     "metadata": {},
     "output_type": "execute_result"
    }
   ],
   "source": [
    "results"
   ]
  },
  {
   "cell_type": "code",
   "execution_count": 129,
   "id": "b2301b76",
   "metadata": {},
   "outputs": [
    {
     "name": "stdout",
     "output_type": "stream",
     "text": [
      "Fitting 5 folds for each of 7 candidates, totalling 35 fits\n"
     ]
    },
    {
     "ename": "ValueError",
     "evalue": "Invalid parameter 'C' for estimator StackingCVClassifier(classifiers=[XGBClassifier(base_score=0.5,\n                                                booster='gbtree',\n                                                callbacks=None,\n                                                colsample_bylevel=1,\n                                                colsample_bynode=1,\n                                                colsample_bytree=0.5,\n                                                early_stopping_rounds=None,\n                                                enable_categorical=False,\n                                                eval_metric=None, gamma=1,\n                                                gpu_id=-1,\n                                                grow_policy='depthwise',\n                                                importance_type=None,\n                                                interaction_constraints='',\n                                                learning_rate=0.1, max_bin=256,\n                                                max_ca...\n                                                random_state=0, reg_alpha=0,\n                                                reg_lambda=0, ...),\n                                  <catboost.core.CatBoostClassifier object at 0x0000024B0FC414C0>,\n                                  NuSVC(degree=1, nu=0.25, probability=True),\n                                  RandomForestClassifier(max_depth=10,\n                                                         max_features='auto',\n                                                         min_samples_leaf=0.005,\n                                                         min_samples_split=0.005,\n                                                         n_estimators=500,\n                                                         n_jobs=-1,\n                                                         random_state=1000)],\n                     cv=5, meta_classifier=LogisticRegression(), shuffle=False,\n                     use_probas=True). Valid parameters are: ['classifiers', 'cv', 'drop_proba_col', 'meta_classifier', 'n_jobs', 'pre_dispatch', 'random_state', 'shuffle', 'store_train_meta_features', 'stratify', 'use_clones', 'use_features_in_secondary', 'use_probas', 'verbose'].",
     "output_type": "error",
     "traceback": [
      "\u001b[1;31m---------------------------------------------------------------------------\u001b[0m",
      "\u001b[1;31m_RemoteTraceback\u001b[0m                          Traceback (most recent call last)",
      "\u001b[1;31m_RemoteTraceback\u001b[0m: \n\"\"\"\nTraceback (most recent call last):\n  File \"C:\\Users\\jvrdo\\anaconda3\\lib\\site-packages\\joblib\\externals\\loky\\process_executor.py\", line 431, in _process_worker\n    r = call_item()\n  File \"C:\\Users\\jvrdo\\anaconda3\\lib\\site-packages\\joblib\\externals\\loky\\process_executor.py\", line 285, in __call__\n    return self.fn(*self.args, **self.kwargs)\n  File \"C:\\Users\\jvrdo\\anaconda3\\lib\\site-packages\\joblib\\_parallel_backends.py\", line 595, in __call__\n    return self.func(*args, **kwargs)\n  File \"C:\\Users\\jvrdo\\anaconda3\\lib\\site-packages\\joblib\\parallel.py\", line 262, in __call__\n    return [func(*args, **kwargs)\n  File \"C:\\Users\\jvrdo\\anaconda3\\lib\\site-packages\\joblib\\parallel.py\", line 262, in <listcomp>\n    return [func(*args, **kwargs)\n  File \"C:\\Users\\jvrdo\\anaconda3\\lib\\site-packages\\sklearn\\utils\\fixes.py\", line 117, in __call__\n    return self.function(*args, **kwargs)\n  File \"C:\\Users\\jvrdo\\anaconda3\\lib\\site-packages\\sklearn\\model_selection\\_validation.py\", line 674, in _fit_and_score\n    estimator = estimator.set_params(**cloned_parameters)\n  File \"C:\\Users\\jvrdo\\anaconda3\\lib\\site-packages\\mlxtend\\classifier\\stacking_cv_classification.py\", line 320, in set_params\n    self._set_params(\"classifiers\", \"named_classifiers\", **params)\n  File \"C:\\Users\\jvrdo\\anaconda3\\lib\\site-packages\\mlxtend\\utils\\base_compostion.py\", line 39, in _set_params\n    super(_BaseXComposition, self).set_params(**params)\n  File \"C:\\Users\\jvrdo\\anaconda3\\lib\\site-packages\\sklearn\\base.py\", line 246, in set_params\n    raise ValueError(\nValueError: Invalid parameter 'C' for estimator StackingCVClassifier(classifiers=[XGBClassifier(base_score=0.5,\n                                                booster='gbtree',\n                                                callbacks=None,\n                                                colsample_bylevel=1,\n                                                colsample_bynode=1,\n                                                colsample_bytree=0.5,\n                                                early_stopping_rounds=None,\n                                                enable_categorical=False,\n                                                eval_metric=None, gamma=1,\n                                                gpu_id=-1,\n                                                grow_policy='depthwise',\n                                                importance_type=None,\n                                                interaction_constraints='',\n                                                learning_rate=0.1, max_bin=256,\n                                                max_ca...\n                                                random_state=0, reg_alpha=0,\n                                                reg_lambda=0, ...),\n                                  <catboost.core.CatBoostClassifier object at 0x0000024B0FC414C0>,\n                                  NuSVC(degree=1, nu=0.25, probability=True),\n                                  RandomForestClassifier(max_depth=10,\n                                                         max_features='auto',\n                                                         min_samples_leaf=0.005,\n                                                         min_samples_split=0.005,\n                                                         n_estimators=500,\n                                                         n_jobs=-1,\n                                                         random_state=1000)],\n                     cv=5, meta_classifier=LogisticRegression(), shuffle=False,\n                     use_probas=True). Valid parameters are: ['classifiers', 'cv', 'drop_proba_col', 'meta_classifier', 'n_jobs', 'pre_dispatch', 'random_state', 'shuffle', 'store_train_meta_features', 'stratify', 'use_clones', 'use_features_in_secondary', 'use_probas', 'verbose'].\n\"\"\"",
      "\nThe above exception was the direct cause of the following exception:\n",
      "\u001b[1;31mValueError\u001b[0m                                Traceback (most recent call last)",
      "\u001b[1;32m<ipython-input-129-0c4df5acbb92>\u001b[0m in \u001b[0;36m<module>\u001b[1;34m\u001b[0m\n\u001b[0;32m     14\u001b[0m \u001b[1;33m\u001b[0m\u001b[0m\n\u001b[0;32m     15\u001b[0m \u001b[1;31m# Fit GridSearchCV\u001b[0m\u001b[1;33m\u001b[0m\u001b[1;33m\u001b[0m\u001b[1;33m\u001b[0m\u001b[0m\n\u001b[1;32m---> 16\u001b[1;33m \u001b[0mgrid\u001b[0m\u001b[1;33m.\u001b[0m\u001b[0mfit\u001b[0m\u001b[1;33m(\u001b[0m\u001b[0mX_train\u001b[0m\u001b[1;33m,\u001b[0m \u001b[0my_train\u001b[0m\u001b[1;33m)\u001b[0m\u001b[1;33m\u001b[0m\u001b[1;33m\u001b[0m\u001b[0m\n\u001b[0m\u001b[0;32m     17\u001b[0m \u001b[1;33m\u001b[0m\u001b[0m\n\u001b[0;32m     18\u001b[0m \u001b[1;31m# Making prediction on test set\u001b[0m\u001b[1;33m\u001b[0m\u001b[1;33m\u001b[0m\u001b[1;33m\u001b[0m\u001b[0m\n",
      "\u001b[1;32m~\\anaconda3\\lib\\site-packages\\sklearn\\model_selection\\_search.py\u001b[0m in \u001b[0;36mfit\u001b[1;34m(self, X, y, groups, **fit_params)\u001b[0m\n\u001b[0;32m    873\u001b[0m                 \u001b[1;32mreturn\u001b[0m \u001b[0mresults\u001b[0m\u001b[1;33m\u001b[0m\u001b[1;33m\u001b[0m\u001b[0m\n\u001b[0;32m    874\u001b[0m \u001b[1;33m\u001b[0m\u001b[0m\n\u001b[1;32m--> 875\u001b[1;33m             \u001b[0mself\u001b[0m\u001b[1;33m.\u001b[0m\u001b[0m_run_search\u001b[0m\u001b[1;33m(\u001b[0m\u001b[0mevaluate_candidates\u001b[0m\u001b[1;33m)\u001b[0m\u001b[1;33m\u001b[0m\u001b[1;33m\u001b[0m\u001b[0m\n\u001b[0m\u001b[0;32m    876\u001b[0m \u001b[1;33m\u001b[0m\u001b[0m\n\u001b[0;32m    877\u001b[0m             \u001b[1;31m# multimetric is determined here because in the case of a callable\u001b[0m\u001b[1;33m\u001b[0m\u001b[1;33m\u001b[0m\u001b[1;33m\u001b[0m\u001b[0m\n",
      "\u001b[1;32m~\\anaconda3\\lib\\site-packages\\sklearn\\model_selection\\_search.py\u001b[0m in \u001b[0;36m_run_search\u001b[1;34m(self, evaluate_candidates)\u001b[0m\n\u001b[0;32m   1377\u001b[0m     \u001b[1;32mdef\u001b[0m \u001b[0m_run_search\u001b[0m\u001b[1;33m(\u001b[0m\u001b[0mself\u001b[0m\u001b[1;33m,\u001b[0m \u001b[0mevaluate_candidates\u001b[0m\u001b[1;33m)\u001b[0m\u001b[1;33m:\u001b[0m\u001b[1;33m\u001b[0m\u001b[1;33m\u001b[0m\u001b[0m\n\u001b[0;32m   1378\u001b[0m         \u001b[1;34m\"\"\"Search all candidates in param_grid\"\"\"\u001b[0m\u001b[1;33m\u001b[0m\u001b[1;33m\u001b[0m\u001b[0m\n\u001b[1;32m-> 1379\u001b[1;33m         \u001b[0mevaluate_candidates\u001b[0m\u001b[1;33m(\u001b[0m\u001b[0mParameterGrid\u001b[0m\u001b[1;33m(\u001b[0m\u001b[0mself\u001b[0m\u001b[1;33m.\u001b[0m\u001b[0mparam_grid\u001b[0m\u001b[1;33m)\u001b[0m\u001b[1;33m)\u001b[0m\u001b[1;33m\u001b[0m\u001b[1;33m\u001b[0m\u001b[0m\n\u001b[0m\u001b[0;32m   1380\u001b[0m \u001b[1;33m\u001b[0m\u001b[0m\n\u001b[0;32m   1381\u001b[0m \u001b[1;33m\u001b[0m\u001b[0m\n",
      "\u001b[1;32m~\\anaconda3\\lib\\site-packages\\sklearn\\model_selection\\_search.py\u001b[0m in \u001b[0;36mevaluate_candidates\u001b[1;34m(candidate_params, cv, more_results)\u001b[0m\n\u001b[0;32m    820\u001b[0m                     )\n\u001b[0;32m    821\u001b[0m \u001b[1;33m\u001b[0m\u001b[0m\n\u001b[1;32m--> 822\u001b[1;33m                 out = parallel(\n\u001b[0m\u001b[0;32m    823\u001b[0m                     delayed(_fit_and_score)(\n\u001b[0;32m    824\u001b[0m                         \u001b[0mclone\u001b[0m\u001b[1;33m(\u001b[0m\u001b[0mbase_estimator\u001b[0m\u001b[1;33m)\u001b[0m\u001b[1;33m,\u001b[0m\u001b[1;33m\u001b[0m\u001b[1;33m\u001b[0m\u001b[0m\n",
      "\u001b[1;32m~\\anaconda3\\lib\\site-packages\\joblib\\parallel.py\u001b[0m in \u001b[0;36m__call__\u001b[1;34m(self, iterable)\u001b[0m\n\u001b[0;32m   1052\u001b[0m \u001b[1;33m\u001b[0m\u001b[0m\n\u001b[0;32m   1053\u001b[0m             \u001b[1;32mwith\u001b[0m \u001b[0mself\u001b[0m\u001b[1;33m.\u001b[0m\u001b[0m_backend\u001b[0m\u001b[1;33m.\u001b[0m\u001b[0mretrieval_context\u001b[0m\u001b[1;33m(\u001b[0m\u001b[1;33m)\u001b[0m\u001b[1;33m:\u001b[0m\u001b[1;33m\u001b[0m\u001b[1;33m\u001b[0m\u001b[0m\n\u001b[1;32m-> 1054\u001b[1;33m                 \u001b[0mself\u001b[0m\u001b[1;33m.\u001b[0m\u001b[0mretrieve\u001b[0m\u001b[1;33m(\u001b[0m\u001b[1;33m)\u001b[0m\u001b[1;33m\u001b[0m\u001b[1;33m\u001b[0m\u001b[0m\n\u001b[0m\u001b[0;32m   1055\u001b[0m             \u001b[1;31m# Make sure that we get a last message telling us we are done\u001b[0m\u001b[1;33m\u001b[0m\u001b[1;33m\u001b[0m\u001b[1;33m\u001b[0m\u001b[0m\n\u001b[0;32m   1056\u001b[0m             \u001b[0melapsed_time\u001b[0m \u001b[1;33m=\u001b[0m \u001b[0mtime\u001b[0m\u001b[1;33m.\u001b[0m\u001b[0mtime\u001b[0m\u001b[1;33m(\u001b[0m\u001b[1;33m)\u001b[0m \u001b[1;33m-\u001b[0m \u001b[0mself\u001b[0m\u001b[1;33m.\u001b[0m\u001b[0m_start_time\u001b[0m\u001b[1;33m\u001b[0m\u001b[1;33m\u001b[0m\u001b[0m\n",
      "\u001b[1;32m~\\anaconda3\\lib\\site-packages\\joblib\\parallel.py\u001b[0m in \u001b[0;36mretrieve\u001b[1;34m(self)\u001b[0m\n\u001b[0;32m    931\u001b[0m             \u001b[1;32mtry\u001b[0m\u001b[1;33m:\u001b[0m\u001b[1;33m\u001b[0m\u001b[1;33m\u001b[0m\u001b[0m\n\u001b[0;32m    932\u001b[0m                 \u001b[1;32mif\u001b[0m \u001b[0mgetattr\u001b[0m\u001b[1;33m(\u001b[0m\u001b[0mself\u001b[0m\u001b[1;33m.\u001b[0m\u001b[0m_backend\u001b[0m\u001b[1;33m,\u001b[0m \u001b[1;34m'supports_timeout'\u001b[0m\u001b[1;33m,\u001b[0m \u001b[1;32mFalse\u001b[0m\u001b[1;33m)\u001b[0m\u001b[1;33m:\u001b[0m\u001b[1;33m\u001b[0m\u001b[1;33m\u001b[0m\u001b[0m\n\u001b[1;32m--> 933\u001b[1;33m                     \u001b[0mself\u001b[0m\u001b[1;33m.\u001b[0m\u001b[0m_output\u001b[0m\u001b[1;33m.\u001b[0m\u001b[0mextend\u001b[0m\u001b[1;33m(\u001b[0m\u001b[0mjob\u001b[0m\u001b[1;33m.\u001b[0m\u001b[0mget\u001b[0m\u001b[1;33m(\u001b[0m\u001b[0mtimeout\u001b[0m\u001b[1;33m=\u001b[0m\u001b[0mself\u001b[0m\u001b[1;33m.\u001b[0m\u001b[0mtimeout\u001b[0m\u001b[1;33m)\u001b[0m\u001b[1;33m)\u001b[0m\u001b[1;33m\u001b[0m\u001b[1;33m\u001b[0m\u001b[0m\n\u001b[0m\u001b[0;32m    934\u001b[0m                 \u001b[1;32melse\u001b[0m\u001b[1;33m:\u001b[0m\u001b[1;33m\u001b[0m\u001b[1;33m\u001b[0m\u001b[0m\n\u001b[0;32m    935\u001b[0m                     \u001b[0mself\u001b[0m\u001b[1;33m.\u001b[0m\u001b[0m_output\u001b[0m\u001b[1;33m.\u001b[0m\u001b[0mextend\u001b[0m\u001b[1;33m(\u001b[0m\u001b[0mjob\u001b[0m\u001b[1;33m.\u001b[0m\u001b[0mget\u001b[0m\u001b[1;33m(\u001b[0m\u001b[1;33m)\u001b[0m\u001b[1;33m)\u001b[0m\u001b[1;33m\u001b[0m\u001b[1;33m\u001b[0m\u001b[0m\n",
      "\u001b[1;32m~\\anaconda3\\lib\\site-packages\\joblib\\_parallel_backends.py\u001b[0m in \u001b[0;36mwrap_future_result\u001b[1;34m(future, timeout)\u001b[0m\n\u001b[0;32m    540\u001b[0m         AsyncResults.get from multiprocessing.\"\"\"\n\u001b[0;32m    541\u001b[0m         \u001b[1;32mtry\u001b[0m\u001b[1;33m:\u001b[0m\u001b[1;33m\u001b[0m\u001b[1;33m\u001b[0m\u001b[0m\n\u001b[1;32m--> 542\u001b[1;33m             \u001b[1;32mreturn\u001b[0m \u001b[0mfuture\u001b[0m\u001b[1;33m.\u001b[0m\u001b[0mresult\u001b[0m\u001b[1;33m(\u001b[0m\u001b[0mtimeout\u001b[0m\u001b[1;33m=\u001b[0m\u001b[0mtimeout\u001b[0m\u001b[1;33m)\u001b[0m\u001b[1;33m\u001b[0m\u001b[1;33m\u001b[0m\u001b[0m\n\u001b[0m\u001b[0;32m    543\u001b[0m         \u001b[1;32mexcept\u001b[0m \u001b[0mCfTimeoutError\u001b[0m \u001b[1;32mas\u001b[0m \u001b[0me\u001b[0m\u001b[1;33m:\u001b[0m\u001b[1;33m\u001b[0m\u001b[1;33m\u001b[0m\u001b[0m\n\u001b[0;32m    544\u001b[0m             \u001b[1;32mraise\u001b[0m \u001b[0mTimeoutError\u001b[0m \u001b[1;32mfrom\u001b[0m \u001b[0me\u001b[0m\u001b[1;33m\u001b[0m\u001b[1;33m\u001b[0m\u001b[0m\n",
      "\u001b[1;32m~\\anaconda3\\lib\\concurrent\\futures\\_base.py\u001b[0m in \u001b[0;36mresult\u001b[1;34m(self, timeout)\u001b[0m\n\u001b[0;32m    437\u001b[0m                 \u001b[1;32mraise\u001b[0m \u001b[0mCancelledError\u001b[0m\u001b[1;33m(\u001b[0m\u001b[1;33m)\u001b[0m\u001b[1;33m\u001b[0m\u001b[1;33m\u001b[0m\u001b[0m\n\u001b[0;32m    438\u001b[0m             \u001b[1;32melif\u001b[0m \u001b[0mself\u001b[0m\u001b[1;33m.\u001b[0m\u001b[0m_state\u001b[0m \u001b[1;33m==\u001b[0m \u001b[0mFINISHED\u001b[0m\u001b[1;33m:\u001b[0m\u001b[1;33m\u001b[0m\u001b[1;33m\u001b[0m\u001b[0m\n\u001b[1;32m--> 439\u001b[1;33m                 \u001b[1;32mreturn\u001b[0m \u001b[0mself\u001b[0m\u001b[1;33m.\u001b[0m\u001b[0m__get_result\u001b[0m\u001b[1;33m(\u001b[0m\u001b[1;33m)\u001b[0m\u001b[1;33m\u001b[0m\u001b[1;33m\u001b[0m\u001b[0m\n\u001b[0m\u001b[0;32m    440\u001b[0m             \u001b[1;32melse\u001b[0m\u001b[1;33m:\u001b[0m\u001b[1;33m\u001b[0m\u001b[1;33m\u001b[0m\u001b[0m\n\u001b[0;32m    441\u001b[0m                 \u001b[1;32mraise\u001b[0m \u001b[0mTimeoutError\u001b[0m\u001b[1;33m(\u001b[0m\u001b[1;33m)\u001b[0m\u001b[1;33m\u001b[0m\u001b[1;33m\u001b[0m\u001b[0m\n",
      "\u001b[1;32m~\\anaconda3\\lib\\concurrent\\futures\\_base.py\u001b[0m in \u001b[0;36m__get_result\u001b[1;34m(self)\u001b[0m\n\u001b[0;32m    386\u001b[0m     \u001b[1;32mdef\u001b[0m \u001b[0m__get_result\u001b[0m\u001b[1;33m(\u001b[0m\u001b[0mself\u001b[0m\u001b[1;33m)\u001b[0m\u001b[1;33m:\u001b[0m\u001b[1;33m\u001b[0m\u001b[1;33m\u001b[0m\u001b[0m\n\u001b[0;32m    387\u001b[0m         \u001b[1;32mif\u001b[0m \u001b[0mself\u001b[0m\u001b[1;33m.\u001b[0m\u001b[0m_exception\u001b[0m\u001b[1;33m:\u001b[0m\u001b[1;33m\u001b[0m\u001b[1;33m\u001b[0m\u001b[0m\n\u001b[1;32m--> 388\u001b[1;33m             \u001b[1;32mraise\u001b[0m \u001b[0mself\u001b[0m\u001b[1;33m.\u001b[0m\u001b[0m_exception\u001b[0m\u001b[1;33m\u001b[0m\u001b[1;33m\u001b[0m\u001b[0m\n\u001b[0m\u001b[0;32m    389\u001b[0m         \u001b[1;32melse\u001b[0m\u001b[1;33m:\u001b[0m\u001b[1;33m\u001b[0m\u001b[1;33m\u001b[0m\u001b[0m\n\u001b[0;32m    390\u001b[0m             \u001b[1;32mreturn\u001b[0m \u001b[0mself\u001b[0m\u001b[1;33m.\u001b[0m\u001b[0m_result\u001b[0m\u001b[1;33m\u001b[0m\u001b[1;33m\u001b[0m\u001b[0m\n",
      "\u001b[1;31mValueError\u001b[0m: Invalid parameter 'C' for estimator StackingCVClassifier(classifiers=[XGBClassifier(base_score=0.5,\n                                                booster='gbtree',\n                                                callbacks=None,\n                                                colsample_bylevel=1,\n                                                colsample_bynode=1,\n                                                colsample_bytree=0.5,\n                                                early_stopping_rounds=None,\n                                                enable_categorical=False,\n                                                eval_metric=None, gamma=1,\n                                                gpu_id=-1,\n                                                grow_policy='depthwise',\n                                                importance_type=None,\n                                                interaction_constraints='',\n                                                learning_rate=0.1, max_bin=256,\n                                                max_ca...\n                                                random_state=0, reg_alpha=0,\n                                                reg_lambda=0, ...),\n                                  <catboost.core.CatBoostClassifier object at 0x0000024B0FC414C0>,\n                                  NuSVC(degree=1, nu=0.25, probability=True),\n                                  RandomForestClassifier(max_depth=10,\n                                                         max_features='auto',\n                                                         min_samples_leaf=0.005,\n                                                         min_samples_split=0.005,\n                                                         n_estimators=500,\n                                                         n_jobs=-1,\n                                                         random_state=1000)],\n                     cv=5, meta_classifier=LogisticRegression(), shuffle=False,\n                     use_probas=True). Valid parameters are: ['classifiers', 'cv', 'drop_proba_col', 'meta_classifier', 'n_jobs', 'pre_dispatch', 'random_state', 'shuffle', 'store_train_meta_features', 'stratify', 'use_clones', 'use_features_in_secondary', 'use_probas', 'verbose']."
     ]
    }
   ],
   "source": [
    "from sklearn.model_selection import GridSearchCV\n",
    "# Tuning the meta classifier\n",
    "param_grid = {'C': [0.001, 0.01, 0.1, 1, 10, 100, 1000] }\n",
    "\n",
    "\n",
    "\n",
    "# Initialize GridSearchCV\n",
    "grid = GridSearchCV(estimator = sclf, \n",
    "                    param_grid = param_grid, \n",
    "                    cv = 5,\n",
    "                    scoring = \"roc_auc\",\n",
    "                    verbose = 10,\n",
    "                    n_jobs = -1)\n",
    "\n",
    "# Fit GridSearchCV\n",
    "grid.fit(X_train, y_train)\n",
    "\n",
    "# Making prediction on test set\n",
    "y_pred = grid.predict_proba(X_test)[:,1]\n",
    "\n",
    "# Getting AUC\n",
    "auc = metrics.roc_auc_score(y_test, y_pred)\n",
    "\n",
    "# Print results\n",
    "print(f\"The AUC of the tuned Stacking classifier is {auc:.3f}\")"
   ]
  },
  {
   "cell_type": "code",
   "execution_count": 50,
   "id": "b25c5185",
   "metadata": {},
   "outputs": [
    {
     "data": {
      "text/html": [
       "<div>\n",
       "<style scoped>\n",
       "    .dataframe tbody tr th:only-of-type {\n",
       "        vertical-align: middle;\n",
       "    }\n",
       "\n",
       "    .dataframe tbody tr th {\n",
       "        vertical-align: top;\n",
       "    }\n",
       "\n",
       "    .dataframe thead th {\n",
       "        text-align: right;\n",
       "    }\n",
       "</style>\n",
       "<table border=\"1\" class=\"dataframe\">\n",
       "  <thead>\n",
       "    <tr style=\"text-align: right;\">\n",
       "      <th></th>\n",
       "      <th>h1n1_concern</th>\n",
       "      <th>h1n1_knowledge</th>\n",
       "      <th>behavioral_antiviral_meds</th>\n",
       "      <th>behavioral_avoidance</th>\n",
       "      <th>behavioral_face_mask</th>\n",
       "      <th>behavioral_wash_hands</th>\n",
       "      <th>behavioral_large_gatherings</th>\n",
       "      <th>behavioral_outside_home</th>\n",
       "      <th>behavioral_touch_face</th>\n",
       "      <th>doctor_recc_h1n1</th>\n",
       "      <th>...</th>\n",
       "      <th>employment_occupation_qxajmpny</th>\n",
       "      <th>employment_occupation_rcertsgn</th>\n",
       "      <th>employment_occupation_tfqavkke</th>\n",
       "      <th>employment_occupation_ukymxvdu</th>\n",
       "      <th>employment_occupation_uqqtjvyb</th>\n",
       "      <th>employment_occupation_vlluhbov</th>\n",
       "      <th>employment_occupation_xgwztkwe</th>\n",
       "      <th>employment_occupation_xqwwgdyp</th>\n",
       "      <th>employment_occupation_xtkaffoo</th>\n",
       "      <th>employment_occupation_xzmlyyjv</th>\n",
       "    </tr>\n",
       "    <tr>\n",
       "      <th>respondent_id</th>\n",
       "      <th></th>\n",
       "      <th></th>\n",
       "      <th></th>\n",
       "      <th></th>\n",
       "      <th></th>\n",
       "      <th></th>\n",
       "      <th></th>\n",
       "      <th></th>\n",
       "      <th></th>\n",
       "      <th></th>\n",
       "      <th></th>\n",
       "      <th></th>\n",
       "      <th></th>\n",
       "      <th></th>\n",
       "      <th></th>\n",
       "      <th></th>\n",
       "      <th></th>\n",
       "      <th></th>\n",
       "      <th></th>\n",
       "      <th></th>\n",
       "      <th></th>\n",
       "    </tr>\n",
       "  </thead>\n",
       "  <tbody>\n",
       "    <tr>\n",
       "      <th>0</th>\n",
       "      <td>-0.661324</td>\n",
       "      <td>-1.974363</td>\n",
       "      <td>-0.207526</td>\n",
       "      <td>-1.516432</td>\n",
       "      <td>-0.267608</td>\n",
       "      <td>-2.131558</td>\n",
       "      <td>-0.730282</td>\n",
       "      <td>1.395458</td>\n",
       "      <td>0.688295</td>\n",
       "      <td>-0.234668</td>\n",
       "      <td>...</td>\n",
       "      <td>0</td>\n",
       "      <td>0</td>\n",
       "      <td>0</td>\n",
       "      <td>0</td>\n",
       "      <td>0</td>\n",
       "      <td>0</td>\n",
       "      <td>0</td>\n",
       "      <td>0</td>\n",
       "      <td>0</td>\n",
       "      <td>0</td>\n",
       "    </tr>\n",
       "    <tr>\n",
       "      <th>1</th>\n",
       "      <td>1.508852</td>\n",
       "      <td>1.177796</td>\n",
       "      <td>-0.207526</td>\n",
       "      <td>0.612871</td>\n",
       "      <td>-0.267608</td>\n",
       "      <td>0.459236</td>\n",
       "      <td>-0.730282</td>\n",
       "      <td>1.395458</td>\n",
       "      <td>0.688295</td>\n",
       "      <td>-0.234668</td>\n",
       "      <td>...</td>\n",
       "      <td>0</td>\n",
       "      <td>0</td>\n",
       "      <td>0</td>\n",
       "      <td>0</td>\n",
       "      <td>0</td>\n",
       "      <td>0</td>\n",
       "      <td>1</td>\n",
       "      <td>0</td>\n",
       "      <td>0</td>\n",
       "      <td>0</td>\n",
       "    </tr>\n",
       "    <tr>\n",
       "      <th>2</th>\n",
       "      <td>-0.661324</td>\n",
       "      <td>-0.398284</td>\n",
       "      <td>-0.207526</td>\n",
       "      <td>0.612871</td>\n",
       "      <td>-0.267608</td>\n",
       "      <td>-2.131558</td>\n",
       "      <td>-0.730282</td>\n",
       "      <td>-0.697337</td>\n",
       "      <td>-1.392563</td>\n",
       "      <td>-2.164246</td>\n",
       "      <td>...</td>\n",
       "      <td>0</td>\n",
       "      <td>0</td>\n",
       "      <td>0</td>\n",
       "      <td>0</td>\n",
       "      <td>0</td>\n",
       "      <td>0</td>\n",
       "      <td>0</td>\n",
       "      <td>0</td>\n",
       "      <td>1</td>\n",
       "      <td>0</td>\n",
       "    </tr>\n",
       "    <tr>\n",
       "      <th>3</th>\n",
       "      <td>-0.661324</td>\n",
       "      <td>-0.398284</td>\n",
       "      <td>-0.207526</td>\n",
       "      <td>0.612871</td>\n",
       "      <td>-0.267608</td>\n",
       "      <td>0.459236</td>\n",
       "      <td>1.331413</td>\n",
       "      <td>-0.697337</td>\n",
       "      <td>-1.392563</td>\n",
       "      <td>-0.234668</td>\n",
       "      <td>...</td>\n",
       "      <td>0</td>\n",
       "      <td>0</td>\n",
       "      <td>0</td>\n",
       "      <td>0</td>\n",
       "      <td>0</td>\n",
       "      <td>0</td>\n",
       "      <td>0</td>\n",
       "      <td>0</td>\n",
       "      <td>0</td>\n",
       "      <td>0</td>\n",
       "    </tr>\n",
       "    <tr>\n",
       "      <th>4</th>\n",
       "      <td>0.423764</td>\n",
       "      <td>-0.398284</td>\n",
       "      <td>-0.207526</td>\n",
       "      <td>0.612871</td>\n",
       "      <td>-0.267608</td>\n",
       "      <td>0.459236</td>\n",
       "      <td>1.331413</td>\n",
       "      <td>-0.697337</td>\n",
       "      <td>0.688295</td>\n",
       "      <td>-0.234668</td>\n",
       "      <td>...</td>\n",
       "      <td>0</td>\n",
       "      <td>0</td>\n",
       "      <td>0</td>\n",
       "      <td>0</td>\n",
       "      <td>0</td>\n",
       "      <td>0</td>\n",
       "      <td>0</td>\n",
       "      <td>0</td>\n",
       "      <td>0</td>\n",
       "      <td>0</td>\n",
       "    </tr>\n",
       "    <tr>\n",
       "      <th>...</th>\n",
       "      <td>...</td>\n",
       "      <td>...</td>\n",
       "      <td>...</td>\n",
       "      <td>...</td>\n",
       "      <td>...</td>\n",
       "      <td>...</td>\n",
       "      <td>...</td>\n",
       "      <td>...</td>\n",
       "      <td>...</td>\n",
       "      <td>...</td>\n",
       "      <td>...</td>\n",
       "      <td>...</td>\n",
       "      <td>...</td>\n",
       "      <td>...</td>\n",
       "      <td>...</td>\n",
       "      <td>...</td>\n",
       "      <td>...</td>\n",
       "      <td>...</td>\n",
       "      <td>...</td>\n",
       "      <td>...</td>\n",
       "      <td>...</td>\n",
       "    </tr>\n",
       "    <tr>\n",
       "      <th>26702</th>\n",
       "      <td>0.423764</td>\n",
       "      <td>-1.974363</td>\n",
       "      <td>-0.207526</td>\n",
       "      <td>0.612871</td>\n",
       "      <td>-0.267608</td>\n",
       "      <td>-2.131558</td>\n",
       "      <td>-0.730282</td>\n",
       "      <td>1.395458</td>\n",
       "      <td>-1.392563</td>\n",
       "      <td>-0.234668</td>\n",
       "      <td>...</td>\n",
       "      <td>0</td>\n",
       "      <td>0</td>\n",
       "      <td>0</td>\n",
       "      <td>0</td>\n",
       "      <td>0</td>\n",
       "      <td>0</td>\n",
       "      <td>0</td>\n",
       "      <td>0</td>\n",
       "      <td>0</td>\n",
       "      <td>0</td>\n",
       "    </tr>\n",
       "    <tr>\n",
       "      <th>26703</th>\n",
       "      <td>-0.661324</td>\n",
       "      <td>1.177796</td>\n",
       "      <td>-0.207526</td>\n",
       "      <td>0.612871</td>\n",
       "      <td>-0.267608</td>\n",
       "      <td>0.459236</td>\n",
       "      <td>-0.730282</td>\n",
       "      <td>-0.697337</td>\n",
       "      <td>-1.392563</td>\n",
       "      <td>1.694911</td>\n",
       "      <td>...</td>\n",
       "      <td>0</td>\n",
       "      <td>0</td>\n",
       "      <td>0</td>\n",
       "      <td>0</td>\n",
       "      <td>0</td>\n",
       "      <td>0</td>\n",
       "      <td>0</td>\n",
       "      <td>0</td>\n",
       "      <td>0</td>\n",
       "      <td>0</td>\n",
       "    </tr>\n",
       "    <tr>\n",
       "      <th>26704</th>\n",
       "      <td>0.423764</td>\n",
       "      <td>1.177796</td>\n",
       "      <td>-0.207526</td>\n",
       "      <td>0.612871</td>\n",
       "      <td>3.655003</td>\n",
       "      <td>0.459236</td>\n",
       "      <td>1.331413</td>\n",
       "      <td>-0.697337</td>\n",
       "      <td>0.688295</td>\n",
       "      <td>-0.234668</td>\n",
       "      <td>...</td>\n",
       "      <td>0</td>\n",
       "      <td>0</td>\n",
       "      <td>0</td>\n",
       "      <td>0</td>\n",
       "      <td>0</td>\n",
       "      <td>0</td>\n",
       "      <td>0</td>\n",
       "      <td>0</td>\n",
       "      <td>0</td>\n",
       "      <td>0</td>\n",
       "    </tr>\n",
       "    <tr>\n",
       "      <th>26705</th>\n",
       "      <td>-0.661324</td>\n",
       "      <td>-0.398284</td>\n",
       "      <td>-0.207526</td>\n",
       "      <td>-1.516432</td>\n",
       "      <td>-0.267608</td>\n",
       "      <td>-2.131558</td>\n",
       "      <td>-0.730282</td>\n",
       "      <td>-0.697337</td>\n",
       "      <td>-3.473422</td>\n",
       "      <td>-0.234668</td>\n",
       "      <td>...</td>\n",
       "      <td>0</td>\n",
       "      <td>0</td>\n",
       "      <td>0</td>\n",
       "      <td>0</td>\n",
       "      <td>0</td>\n",
       "      <td>0</td>\n",
       "      <td>0</td>\n",
       "      <td>0</td>\n",
       "      <td>0</td>\n",
       "      <td>0</td>\n",
       "    </tr>\n",
       "    <tr>\n",
       "      <th>26706</th>\n",
       "      <td>-1.746412</td>\n",
       "      <td>-1.974363</td>\n",
       "      <td>-0.207526</td>\n",
       "      <td>0.612871</td>\n",
       "      <td>-0.267608</td>\n",
       "      <td>-2.131558</td>\n",
       "      <td>-0.730282</td>\n",
       "      <td>-0.697337</td>\n",
       "      <td>-1.392563</td>\n",
       "      <td>-0.234668</td>\n",
       "      <td>...</td>\n",
       "      <td>0</td>\n",
       "      <td>0</td>\n",
       "      <td>0</td>\n",
       "      <td>0</td>\n",
       "      <td>0</td>\n",
       "      <td>0</td>\n",
       "      <td>0</td>\n",
       "      <td>0</td>\n",
       "      <td>0</td>\n",
       "      <td>0</td>\n",
       "    </tr>\n",
       "  </tbody>\n",
       "</table>\n",
       "<p>26707 rows × 98 columns</p>\n",
       "</div>"
      ],
      "text/plain": [
       "               h1n1_concern  h1n1_knowledge  behavioral_antiviral_meds  \\\n",
       "respondent_id                                                            \n",
       "0                 -0.661324       -1.974363                  -0.207526   \n",
       "1                  1.508852        1.177796                  -0.207526   \n",
       "2                 -0.661324       -0.398284                  -0.207526   \n",
       "3                 -0.661324       -0.398284                  -0.207526   \n",
       "4                  0.423764       -0.398284                  -0.207526   \n",
       "...                     ...             ...                        ...   \n",
       "26702              0.423764       -1.974363                  -0.207526   \n",
       "26703             -0.661324        1.177796                  -0.207526   \n",
       "26704              0.423764        1.177796                  -0.207526   \n",
       "26705             -0.661324       -0.398284                  -0.207526   \n",
       "26706             -1.746412       -1.974363                  -0.207526   \n",
       "\n",
       "               behavioral_avoidance  behavioral_face_mask  \\\n",
       "respondent_id                                               \n",
       "0                         -1.516432             -0.267608   \n",
       "1                          0.612871             -0.267608   \n",
       "2                          0.612871             -0.267608   \n",
       "3                          0.612871             -0.267608   \n",
       "4                          0.612871             -0.267608   \n",
       "...                             ...                   ...   \n",
       "26702                      0.612871             -0.267608   \n",
       "26703                      0.612871             -0.267608   \n",
       "26704                      0.612871              3.655003   \n",
       "26705                     -1.516432             -0.267608   \n",
       "26706                      0.612871             -0.267608   \n",
       "\n",
       "               behavioral_wash_hands  behavioral_large_gatherings  \\\n",
       "respondent_id                                                       \n",
       "0                          -2.131558                    -0.730282   \n",
       "1                           0.459236                    -0.730282   \n",
       "2                          -2.131558                    -0.730282   \n",
       "3                           0.459236                     1.331413   \n",
       "4                           0.459236                     1.331413   \n",
       "...                              ...                          ...   \n",
       "26702                      -2.131558                    -0.730282   \n",
       "26703                       0.459236                    -0.730282   \n",
       "26704                       0.459236                     1.331413   \n",
       "26705                      -2.131558                    -0.730282   \n",
       "26706                      -2.131558                    -0.730282   \n",
       "\n",
       "               behavioral_outside_home  behavioral_touch_face  \\\n",
       "respondent_id                                                   \n",
       "0                             1.395458               0.688295   \n",
       "1                             1.395458               0.688295   \n",
       "2                            -0.697337              -1.392563   \n",
       "3                            -0.697337              -1.392563   \n",
       "4                            -0.697337               0.688295   \n",
       "...                                ...                    ...   \n",
       "26702                         1.395458              -1.392563   \n",
       "26703                        -0.697337              -1.392563   \n",
       "26704                        -0.697337               0.688295   \n",
       "26705                        -0.697337              -3.473422   \n",
       "26706                        -0.697337              -1.392563   \n",
       "\n",
       "               doctor_recc_h1n1  ...  employment_occupation_qxajmpny  \\\n",
       "respondent_id                    ...                                   \n",
       "0                     -0.234668  ...                               0   \n",
       "1                     -0.234668  ...                               0   \n",
       "2                     -2.164246  ...                               0   \n",
       "3                     -0.234668  ...                               0   \n",
       "4                     -0.234668  ...                               0   \n",
       "...                         ...  ...                             ...   \n",
       "26702                 -0.234668  ...                               0   \n",
       "26703                  1.694911  ...                               0   \n",
       "26704                 -0.234668  ...                               0   \n",
       "26705                 -0.234668  ...                               0   \n",
       "26706                 -0.234668  ...                               0   \n",
       "\n",
       "               employment_occupation_rcertsgn  employment_occupation_tfqavkke  \\\n",
       "respondent_id                                                                   \n",
       "0                                           0                               0   \n",
       "1                                           0                               0   \n",
       "2                                           0                               0   \n",
       "3                                           0                               0   \n",
       "4                                           0                               0   \n",
       "...                                       ...                             ...   \n",
       "26702                                       0                               0   \n",
       "26703                                       0                               0   \n",
       "26704                                       0                               0   \n",
       "26705                                       0                               0   \n",
       "26706                                       0                               0   \n",
       "\n",
       "               employment_occupation_ukymxvdu  employment_occupation_uqqtjvyb  \\\n",
       "respondent_id                                                                   \n",
       "0                                           0                               0   \n",
       "1                                           0                               0   \n",
       "2                                           0                               0   \n",
       "3                                           0                               0   \n",
       "4                                           0                               0   \n",
       "...                                       ...                             ...   \n",
       "26702                                       0                               0   \n",
       "26703                                       0                               0   \n",
       "26704                                       0                               0   \n",
       "26705                                       0                               0   \n",
       "26706                                       0                               0   \n",
       "\n",
       "               employment_occupation_vlluhbov  employment_occupation_xgwztkwe  \\\n",
       "respondent_id                                                                   \n",
       "0                                           0                               0   \n",
       "1                                           0                               1   \n",
       "2                                           0                               0   \n",
       "3                                           0                               0   \n",
       "4                                           0                               0   \n",
       "...                                       ...                             ...   \n",
       "26702                                       0                               0   \n",
       "26703                                       0                               0   \n",
       "26704                                       0                               0   \n",
       "26705                                       0                               0   \n",
       "26706                                       0                               0   \n",
       "\n",
       "               employment_occupation_xqwwgdyp  employment_occupation_xtkaffoo  \\\n",
       "respondent_id                                                                   \n",
       "0                                           0                               0   \n",
       "1                                           0                               0   \n",
       "2                                           0                               1   \n",
       "3                                           0                               0   \n",
       "4                                           0                               0   \n",
       "...                                       ...                             ...   \n",
       "26702                                       0                               0   \n",
       "26703                                       0                               0   \n",
       "26704                                       0                               0   \n",
       "26705                                       0                               0   \n",
       "26706                                       0                               0   \n",
       "\n",
       "               employment_occupation_xzmlyyjv  \n",
       "respondent_id                                  \n",
       "0                                           0  \n",
       "1                                           0  \n",
       "2                                           0  \n",
       "3                                           0  \n",
       "4                                           0  \n",
       "...                                       ...  \n",
       "26702                                       0  \n",
       "26703                                       0  \n",
       "26704                                       0  \n",
       "26705                                       0  \n",
       "26706                                       0  \n",
       "\n",
       "[26707 rows x 98 columns]"
      ]
     },
     "execution_count": 50,
     "metadata": {},
     "output_type": "execute_result"
    }
   ],
   "source": [
    "train"
   ]
  },
  {
   "cell_type": "code",
   "execution_count": 51,
   "id": "082e268c",
   "metadata": {},
   "outputs": [
    {
     "data": {
      "text/plain": [
       "respondent_id\n",
       "0        0\n",
       "1        0\n",
       "2        0\n",
       "3        0\n",
       "4        0\n",
       "        ..\n",
       "26702    0\n",
       "26703    0\n",
       "26704    0\n",
       "26705    0\n",
       "26706    0\n",
       "Name: h1n1_vaccine, Length: 26707, dtype: int64"
      ]
     },
     "execution_count": 51,
     "metadata": {},
     "output_type": "execute_result"
    }
   ],
   "source": [
    "labels.h1n1_vaccine"
   ]
  },
  {
   "cell_type": "code",
   "execution_count": 55,
   "id": "fa988bf6",
   "metadata": {},
   "outputs": [],
   "source": [
    "test= pd.get_dummies(test, columns=cat_cols)"
   ]
  },
  {
   "cell_type": "code",
   "execution_count": 56,
   "id": "d2ba27af",
   "metadata": {},
   "outputs": [
    {
     "data": {
      "text/html": [
       "<div>\n",
       "<style scoped>\n",
       "    .dataframe tbody tr th:only-of-type {\n",
       "        vertical-align: middle;\n",
       "    }\n",
       "\n",
       "    .dataframe tbody tr th {\n",
       "        vertical-align: top;\n",
       "    }\n",
       "\n",
       "    .dataframe thead th {\n",
       "        text-align: right;\n",
       "    }\n",
       "</style>\n",
       "<table border=\"1\" class=\"dataframe\">\n",
       "  <thead>\n",
       "    <tr style=\"text-align: right;\">\n",
       "      <th></th>\n",
       "      <th>h1n1_concern</th>\n",
       "      <th>h1n1_knowledge</th>\n",
       "      <th>behavioral_antiviral_meds</th>\n",
       "      <th>behavioral_avoidance</th>\n",
       "      <th>behavioral_face_mask</th>\n",
       "      <th>behavioral_wash_hands</th>\n",
       "      <th>behavioral_large_gatherings</th>\n",
       "      <th>behavioral_outside_home</th>\n",
       "      <th>behavioral_touch_face</th>\n",
       "      <th>doctor_recc_h1n1</th>\n",
       "      <th>...</th>\n",
       "      <th>employment_occupation_qxajmpny</th>\n",
       "      <th>employment_occupation_rcertsgn</th>\n",
       "      <th>employment_occupation_tfqavkke</th>\n",
       "      <th>employment_occupation_ukymxvdu</th>\n",
       "      <th>employment_occupation_uqqtjvyb</th>\n",
       "      <th>employment_occupation_vlluhbov</th>\n",
       "      <th>employment_occupation_xgwztkwe</th>\n",
       "      <th>employment_occupation_xqwwgdyp</th>\n",
       "      <th>employment_occupation_xtkaffoo</th>\n",
       "      <th>employment_occupation_xzmlyyjv</th>\n",
       "    </tr>\n",
       "    <tr>\n",
       "      <th>respondent_id</th>\n",
       "      <th></th>\n",
       "      <th></th>\n",
       "      <th></th>\n",
       "      <th></th>\n",
       "      <th></th>\n",
       "      <th></th>\n",
       "      <th></th>\n",
       "      <th></th>\n",
       "      <th></th>\n",
       "      <th></th>\n",
       "      <th></th>\n",
       "      <th></th>\n",
       "      <th></th>\n",
       "      <th></th>\n",
       "      <th></th>\n",
       "      <th></th>\n",
       "      <th></th>\n",
       "      <th></th>\n",
       "      <th></th>\n",
       "      <th></th>\n",
       "      <th></th>\n",
       "    </tr>\n",
       "  </thead>\n",
       "  <tbody>\n",
       "    <tr>\n",
       "      <th>26707</th>\n",
       "      <td>2.0</td>\n",
       "      <td>2.0</td>\n",
       "      <td>0.0</td>\n",
       "      <td>1.0</td>\n",
       "      <td>0.0</td>\n",
       "      <td>1.0</td>\n",
       "      <td>1.0</td>\n",
       "      <td>0.0</td>\n",
       "      <td>1.0</td>\n",
       "      <td>0.0</td>\n",
       "      <td>...</td>\n",
       "      <td>0</td>\n",
       "      <td>0</td>\n",
       "      <td>0</td>\n",
       "      <td>0</td>\n",
       "      <td>0</td>\n",
       "      <td>0</td>\n",
       "      <td>0</td>\n",
       "      <td>0</td>\n",
       "      <td>0</td>\n",
       "      <td>0</td>\n",
       "    </tr>\n",
       "    <tr>\n",
       "      <th>26708</th>\n",
       "      <td>1.0</td>\n",
       "      <td>1.0</td>\n",
       "      <td>0.0</td>\n",
       "      <td>0.0</td>\n",
       "      <td>0.0</td>\n",
       "      <td>0.0</td>\n",
       "      <td>0.0</td>\n",
       "      <td>0.0</td>\n",
       "      <td>0.0</td>\n",
       "      <td>0.0</td>\n",
       "      <td>...</td>\n",
       "      <td>0</td>\n",
       "      <td>0</td>\n",
       "      <td>0</td>\n",
       "      <td>0</td>\n",
       "      <td>0</td>\n",
       "      <td>0</td>\n",
       "      <td>0</td>\n",
       "      <td>1</td>\n",
       "      <td>0</td>\n",
       "      <td>0</td>\n",
       "    </tr>\n",
       "    <tr>\n",
       "      <th>26709</th>\n",
       "      <td>2.0</td>\n",
       "      <td>2.0</td>\n",
       "      <td>0.0</td>\n",
       "      <td>0.0</td>\n",
       "      <td>1.0</td>\n",
       "      <td>1.0</td>\n",
       "      <td>1.0</td>\n",
       "      <td>1.0</td>\n",
       "      <td>1.0</td>\n",
       "      <td>0.0</td>\n",
       "      <td>...</td>\n",
       "      <td>0</td>\n",
       "      <td>0</td>\n",
       "      <td>0</td>\n",
       "      <td>0</td>\n",
       "      <td>0</td>\n",
       "      <td>0</td>\n",
       "      <td>0</td>\n",
       "      <td>0</td>\n",
       "      <td>0</td>\n",
       "      <td>0</td>\n",
       "    </tr>\n",
       "    <tr>\n",
       "      <th>26710</th>\n",
       "      <td>1.0</td>\n",
       "      <td>1.0</td>\n",
       "      <td>0.0</td>\n",
       "      <td>0.0</td>\n",
       "      <td>0.0</td>\n",
       "      <td>0.0</td>\n",
       "      <td>0.0</td>\n",
       "      <td>0.0</td>\n",
       "      <td>0.0</td>\n",
       "      <td>1.0</td>\n",
       "      <td>...</td>\n",
       "      <td>0</td>\n",
       "      <td>0</td>\n",
       "      <td>0</td>\n",
       "      <td>0</td>\n",
       "      <td>0</td>\n",
       "      <td>0</td>\n",
       "      <td>0</td>\n",
       "      <td>0</td>\n",
       "      <td>0</td>\n",
       "      <td>0</td>\n",
       "    </tr>\n",
       "    <tr>\n",
       "      <th>26711</th>\n",
       "      <td>3.0</td>\n",
       "      <td>1.0</td>\n",
       "      <td>1.0</td>\n",
       "      <td>1.0</td>\n",
       "      <td>0.0</td>\n",
       "      <td>1.0</td>\n",
       "      <td>1.0</td>\n",
       "      <td>1.0</td>\n",
       "      <td>1.0</td>\n",
       "      <td>0.0</td>\n",
       "      <td>...</td>\n",
       "      <td>0</td>\n",
       "      <td>0</td>\n",
       "      <td>0</td>\n",
       "      <td>0</td>\n",
       "      <td>0</td>\n",
       "      <td>0</td>\n",
       "      <td>0</td>\n",
       "      <td>0</td>\n",
       "      <td>0</td>\n",
       "      <td>0</td>\n",
       "    </tr>\n",
       "    <tr>\n",
       "      <th>...</th>\n",
       "      <td>...</td>\n",
       "      <td>...</td>\n",
       "      <td>...</td>\n",
       "      <td>...</td>\n",
       "      <td>...</td>\n",
       "      <td>...</td>\n",
       "      <td>...</td>\n",
       "      <td>...</td>\n",
       "      <td>...</td>\n",
       "      <td>...</td>\n",
       "      <td>...</td>\n",
       "      <td>...</td>\n",
       "      <td>...</td>\n",
       "      <td>...</td>\n",
       "      <td>...</td>\n",
       "      <td>...</td>\n",
       "      <td>...</td>\n",
       "      <td>...</td>\n",
       "      <td>...</td>\n",
       "      <td>...</td>\n",
       "      <td>...</td>\n",
       "    </tr>\n",
       "    <tr>\n",
       "      <th>53410</th>\n",
       "      <td>1.0</td>\n",
       "      <td>1.0</td>\n",
       "      <td>0.0</td>\n",
       "      <td>1.0</td>\n",
       "      <td>0.0</td>\n",
       "      <td>1.0</td>\n",
       "      <td>0.0</td>\n",
       "      <td>0.0</td>\n",
       "      <td>1.0</td>\n",
       "      <td>1.0</td>\n",
       "      <td>...</td>\n",
       "      <td>0</td>\n",
       "      <td>0</td>\n",
       "      <td>0</td>\n",
       "      <td>0</td>\n",
       "      <td>0</td>\n",
       "      <td>0</td>\n",
       "      <td>0</td>\n",
       "      <td>0</td>\n",
       "      <td>0</td>\n",
       "      <td>0</td>\n",
       "    </tr>\n",
       "    <tr>\n",
       "      <th>53411</th>\n",
       "      <td>3.0</td>\n",
       "      <td>1.0</td>\n",
       "      <td>0.0</td>\n",
       "      <td>1.0</td>\n",
       "      <td>0.0</td>\n",
       "      <td>1.0</td>\n",
       "      <td>1.0</td>\n",
       "      <td>1.0</td>\n",
       "      <td>1.0</td>\n",
       "      <td>0.0</td>\n",
       "      <td>...</td>\n",
       "      <td>0</td>\n",
       "      <td>0</td>\n",
       "      <td>0</td>\n",
       "      <td>0</td>\n",
       "      <td>0</td>\n",
       "      <td>1</td>\n",
       "      <td>0</td>\n",
       "      <td>0</td>\n",
       "      <td>0</td>\n",
       "      <td>0</td>\n",
       "    </tr>\n",
       "    <tr>\n",
       "      <th>53412</th>\n",
       "      <td>0.0</td>\n",
       "      <td>1.0</td>\n",
       "      <td>0.0</td>\n",
       "      <td>0.0</td>\n",
       "      <td>0.0</td>\n",
       "      <td>0.0</td>\n",
       "      <td>0.0</td>\n",
       "      <td>0.0</td>\n",
       "      <td>0.0</td>\n",
       "      <td>0.0</td>\n",
       "      <td>...</td>\n",
       "      <td>0</td>\n",
       "      <td>0</td>\n",
       "      <td>0</td>\n",
       "      <td>0</td>\n",
       "      <td>0</td>\n",
       "      <td>0</td>\n",
       "      <td>0</td>\n",
       "      <td>0</td>\n",
       "      <td>0</td>\n",
       "      <td>0</td>\n",
       "    </tr>\n",
       "    <tr>\n",
       "      <th>53413</th>\n",
       "      <td>3.0</td>\n",
       "      <td>1.0</td>\n",
       "      <td>0.0</td>\n",
       "      <td>1.0</td>\n",
       "      <td>0.0</td>\n",
       "      <td>1.0</td>\n",
       "      <td>0.0</td>\n",
       "      <td>1.0</td>\n",
       "      <td>0.0</td>\n",
       "      <td>0.0</td>\n",
       "      <td>...</td>\n",
       "      <td>0</td>\n",
       "      <td>0</td>\n",
       "      <td>0</td>\n",
       "      <td>0</td>\n",
       "      <td>0</td>\n",
       "      <td>0</td>\n",
       "      <td>0</td>\n",
       "      <td>0</td>\n",
       "      <td>0</td>\n",
       "      <td>0</td>\n",
       "    </tr>\n",
       "    <tr>\n",
       "      <th>53414</th>\n",
       "      <td>2.0</td>\n",
       "      <td>1.0</td>\n",
       "      <td>0.0</td>\n",
       "      <td>0.0</td>\n",
       "      <td>0.0</td>\n",
       "      <td>1.0</td>\n",
       "      <td>0.0</td>\n",
       "      <td>0.0</td>\n",
       "      <td>1.0</td>\n",
       "      <td>1.0</td>\n",
       "      <td>...</td>\n",
       "      <td>0</td>\n",
       "      <td>0</td>\n",
       "      <td>0</td>\n",
       "      <td>0</td>\n",
       "      <td>0</td>\n",
       "      <td>0</td>\n",
       "      <td>0</td>\n",
       "      <td>0</td>\n",
       "      <td>1</td>\n",
       "      <td>0</td>\n",
       "    </tr>\n",
       "  </tbody>\n",
       "</table>\n",
       "<p>26708 rows × 98 columns</p>\n",
       "</div>"
      ],
      "text/plain": [
       "               h1n1_concern  h1n1_knowledge  behavioral_antiviral_meds  \\\n",
       "respondent_id                                                            \n",
       "26707                   2.0             2.0                        0.0   \n",
       "26708                   1.0             1.0                        0.0   \n",
       "26709                   2.0             2.0                        0.0   \n",
       "26710                   1.0             1.0                        0.0   \n",
       "26711                   3.0             1.0                        1.0   \n",
       "...                     ...             ...                        ...   \n",
       "53410                   1.0             1.0                        0.0   \n",
       "53411                   3.0             1.0                        0.0   \n",
       "53412                   0.0             1.0                        0.0   \n",
       "53413                   3.0             1.0                        0.0   \n",
       "53414                   2.0             1.0                        0.0   \n",
       "\n",
       "               behavioral_avoidance  behavioral_face_mask  \\\n",
       "respondent_id                                               \n",
       "26707                           1.0                   0.0   \n",
       "26708                           0.0                   0.0   \n",
       "26709                           0.0                   1.0   \n",
       "26710                           0.0                   0.0   \n",
       "26711                           1.0                   0.0   \n",
       "...                             ...                   ...   \n",
       "53410                           1.0                   0.0   \n",
       "53411                           1.0                   0.0   \n",
       "53412                           0.0                   0.0   \n",
       "53413                           1.0                   0.0   \n",
       "53414                           0.0                   0.0   \n",
       "\n",
       "               behavioral_wash_hands  behavioral_large_gatherings  \\\n",
       "respondent_id                                                       \n",
       "26707                            1.0                          1.0   \n",
       "26708                            0.0                          0.0   \n",
       "26709                            1.0                          1.0   \n",
       "26710                            0.0                          0.0   \n",
       "26711                            1.0                          1.0   \n",
       "...                              ...                          ...   \n",
       "53410                            1.0                          0.0   \n",
       "53411                            1.0                          1.0   \n",
       "53412                            0.0                          0.0   \n",
       "53413                            1.0                          0.0   \n",
       "53414                            1.0                          0.0   \n",
       "\n",
       "               behavioral_outside_home  behavioral_touch_face  \\\n",
       "respondent_id                                                   \n",
       "26707                              0.0                    1.0   \n",
       "26708                              0.0                    0.0   \n",
       "26709                              1.0                    1.0   \n",
       "26710                              0.0                    0.0   \n",
       "26711                              1.0                    1.0   \n",
       "...                                ...                    ...   \n",
       "53410                              0.0                    1.0   \n",
       "53411                              1.0                    1.0   \n",
       "53412                              0.0                    0.0   \n",
       "53413                              1.0                    0.0   \n",
       "53414                              0.0                    1.0   \n",
       "\n",
       "               doctor_recc_h1n1  ...  employment_occupation_qxajmpny  \\\n",
       "respondent_id                    ...                                   \n",
       "26707                       0.0  ...                               0   \n",
       "26708                       0.0  ...                               0   \n",
       "26709                       0.0  ...                               0   \n",
       "26710                       1.0  ...                               0   \n",
       "26711                       0.0  ...                               0   \n",
       "...                         ...  ...                             ...   \n",
       "53410                       1.0  ...                               0   \n",
       "53411                       0.0  ...                               0   \n",
       "53412                       0.0  ...                               0   \n",
       "53413                       0.0  ...                               0   \n",
       "53414                       1.0  ...                               0   \n",
       "\n",
       "               employment_occupation_rcertsgn  employment_occupation_tfqavkke  \\\n",
       "respondent_id                                                                   \n",
       "26707                                       0                               0   \n",
       "26708                                       0                               0   \n",
       "26709                                       0                               0   \n",
       "26710                                       0                               0   \n",
       "26711                                       0                               0   \n",
       "...                                       ...                             ...   \n",
       "53410                                       0                               0   \n",
       "53411                                       0                               0   \n",
       "53412                                       0                               0   \n",
       "53413                                       0                               0   \n",
       "53414                                       0                               0   \n",
       "\n",
       "               employment_occupation_ukymxvdu  employment_occupation_uqqtjvyb  \\\n",
       "respondent_id                                                                   \n",
       "26707                                       0                               0   \n",
       "26708                                       0                               0   \n",
       "26709                                       0                               0   \n",
       "26710                                       0                               0   \n",
       "26711                                       0                               0   \n",
       "...                                       ...                             ...   \n",
       "53410                                       0                               0   \n",
       "53411                                       0                               0   \n",
       "53412                                       0                               0   \n",
       "53413                                       0                               0   \n",
       "53414                                       0                               0   \n",
       "\n",
       "               employment_occupation_vlluhbov  employment_occupation_xgwztkwe  \\\n",
       "respondent_id                                                                   \n",
       "26707                                       0                               0   \n",
       "26708                                       0                               0   \n",
       "26709                                       0                               0   \n",
       "26710                                       0                               0   \n",
       "26711                                       0                               0   \n",
       "...                                       ...                             ...   \n",
       "53410                                       0                               0   \n",
       "53411                                       1                               0   \n",
       "53412                                       0                               0   \n",
       "53413                                       0                               0   \n",
       "53414                                       0                               0   \n",
       "\n",
       "               employment_occupation_xqwwgdyp  employment_occupation_xtkaffoo  \\\n",
       "respondent_id                                                                   \n",
       "26707                                       0                               0   \n",
       "26708                                       1                               0   \n",
       "26709                                       0                               0   \n",
       "26710                                       0                               0   \n",
       "26711                                       0                               0   \n",
       "...                                       ...                             ...   \n",
       "53410                                       0                               0   \n",
       "53411                                       0                               0   \n",
       "53412                                       0                               0   \n",
       "53413                                       0                               0   \n",
       "53414                                       0                               1   \n",
       "\n",
       "               employment_occupation_xzmlyyjv  \n",
       "respondent_id                                  \n",
       "26707                                       0  \n",
       "26708                                       0  \n",
       "26709                                       0  \n",
       "26710                                       0  \n",
       "26711                                       0  \n",
       "...                                       ...  \n",
       "53410                                       0  \n",
       "53411                                       0  \n",
       "53412                                       0  \n",
       "53413                                       0  \n",
       "53414                                       0  \n",
       "\n",
       "[26708 rows x 98 columns]"
      ]
     },
     "execution_count": 56,
     "metadata": {},
     "output_type": "execute_result"
    }
   ],
   "source": [
    "test"
   ]
  },
  {
   "cell_type": "code",
   "execution_count": 57,
   "id": "dda9e663",
   "metadata": {},
   "outputs": [],
   "source": [
    "test[ord_cols]= oe.fit_transform(test[ord_cols])"
   ]
  },
  {
   "cell_type": "code",
   "execution_count": 59,
   "id": "917e4bc8",
   "metadata": {},
   "outputs": [],
   "source": [
    "test[num_cols] = scaler.fit_transform(test[num_cols])"
   ]
  },
  {
   "cell_type": "code",
   "execution_count": 60,
   "id": "13a8759a",
   "metadata": {},
   "outputs": [
    {
     "data": {
      "text/html": [
       "<div>\n",
       "<style scoped>\n",
       "    .dataframe tbody tr th:only-of-type {\n",
       "        vertical-align: middle;\n",
       "    }\n",
       "\n",
       "    .dataframe tbody tr th {\n",
       "        vertical-align: top;\n",
       "    }\n",
       "\n",
       "    .dataframe thead th {\n",
       "        text-align: right;\n",
       "    }\n",
       "</style>\n",
       "<table border=\"1\" class=\"dataframe\">\n",
       "  <thead>\n",
       "    <tr style=\"text-align: right;\">\n",
       "      <th></th>\n",
       "      <th>h1n1_concern</th>\n",
       "      <th>h1n1_knowledge</th>\n",
       "      <th>behavioral_antiviral_meds</th>\n",
       "      <th>behavioral_avoidance</th>\n",
       "      <th>behavioral_face_mask</th>\n",
       "      <th>behavioral_wash_hands</th>\n",
       "      <th>behavioral_large_gatherings</th>\n",
       "      <th>behavioral_outside_home</th>\n",
       "      <th>behavioral_touch_face</th>\n",
       "      <th>doctor_recc_h1n1</th>\n",
       "      <th>...</th>\n",
       "      <th>employment_occupation_qxajmpny</th>\n",
       "      <th>employment_occupation_rcertsgn</th>\n",
       "      <th>employment_occupation_tfqavkke</th>\n",
       "      <th>employment_occupation_ukymxvdu</th>\n",
       "      <th>employment_occupation_uqqtjvyb</th>\n",
       "      <th>employment_occupation_vlluhbov</th>\n",
       "      <th>employment_occupation_xgwztkwe</th>\n",
       "      <th>employment_occupation_xqwwgdyp</th>\n",
       "      <th>employment_occupation_xtkaffoo</th>\n",
       "      <th>employment_occupation_xzmlyyjv</th>\n",
       "    </tr>\n",
       "    <tr>\n",
       "      <th>respondent_id</th>\n",
       "      <th></th>\n",
       "      <th></th>\n",
       "      <th></th>\n",
       "      <th></th>\n",
       "      <th></th>\n",
       "      <th></th>\n",
       "      <th></th>\n",
       "      <th></th>\n",
       "      <th></th>\n",
       "      <th></th>\n",
       "      <th></th>\n",
       "      <th></th>\n",
       "      <th></th>\n",
       "      <th></th>\n",
       "      <th></th>\n",
       "      <th></th>\n",
       "      <th></th>\n",
       "      <th></th>\n",
       "      <th></th>\n",
       "      <th></th>\n",
       "      <th></th>\n",
       "    </tr>\n",
       "  </thead>\n",
       "  <tbody>\n",
       "    <tr>\n",
       "      <th>26707</th>\n",
       "      <td>0.421757</td>\n",
       "      <td>1.175993</td>\n",
       "      <td>-0.207533</td>\n",
       "      <td>0.606459</td>\n",
       "      <td>-0.268244</td>\n",
       "      <td>0.458500</td>\n",
       "      <td>1.353178</td>\n",
       "      <td>-0.697199</td>\n",
       "      <td>0.678145</td>\n",
       "      <td>-0.238128</td>\n",
       "      <td>...</td>\n",
       "      <td>0</td>\n",
       "      <td>0</td>\n",
       "      <td>0</td>\n",
       "      <td>0</td>\n",
       "      <td>0</td>\n",
       "      <td>0</td>\n",
       "      <td>0</td>\n",
       "      <td>0</td>\n",
       "      <td>0</td>\n",
       "      <td>0</td>\n",
       "    </tr>\n",
       "    <tr>\n",
       "      <th>26708</th>\n",
       "      <td>-0.673138</td>\n",
       "      <td>-0.403987</td>\n",
       "      <td>-0.207533</td>\n",
       "      <td>-1.528981</td>\n",
       "      <td>-0.268244</td>\n",
       "      <td>-2.137013</td>\n",
       "      <td>-0.721845</td>\n",
       "      <td>-0.697199</td>\n",
       "      <td>-1.412815</td>\n",
       "      <td>-0.238128</td>\n",
       "      <td>...</td>\n",
       "      <td>0</td>\n",
       "      <td>0</td>\n",
       "      <td>0</td>\n",
       "      <td>0</td>\n",
       "      <td>0</td>\n",
       "      <td>0</td>\n",
       "      <td>0</td>\n",
       "      <td>1</td>\n",
       "      <td>0</td>\n",
       "      <td>0</td>\n",
       "    </tr>\n",
       "    <tr>\n",
       "      <th>26709</th>\n",
       "      <td>0.421757</td>\n",
       "      <td>1.175993</td>\n",
       "      <td>-0.207533</td>\n",
       "      <td>-1.528981</td>\n",
       "      <td>3.646654</td>\n",
       "      <td>0.458500</td>\n",
       "      <td>1.353178</td>\n",
       "      <td>1.395731</td>\n",
       "      <td>0.678145</td>\n",
       "      <td>-0.238128</td>\n",
       "      <td>...</td>\n",
       "      <td>0</td>\n",
       "      <td>0</td>\n",
       "      <td>0</td>\n",
       "      <td>0</td>\n",
       "      <td>0</td>\n",
       "      <td>0</td>\n",
       "      <td>0</td>\n",
       "      <td>0</td>\n",
       "      <td>0</td>\n",
       "      <td>0</td>\n",
       "    </tr>\n",
       "    <tr>\n",
       "      <th>26710</th>\n",
       "      <td>-0.673138</td>\n",
       "      <td>-0.403987</td>\n",
       "      <td>-0.207533</td>\n",
       "      <td>-1.528981</td>\n",
       "      <td>-0.268244</td>\n",
       "      <td>-2.137013</td>\n",
       "      <td>-0.721845</td>\n",
       "      <td>-0.697199</td>\n",
       "      <td>-1.412815</td>\n",
       "      <td>1.685624</td>\n",
       "      <td>...</td>\n",
       "      <td>0</td>\n",
       "      <td>0</td>\n",
       "      <td>0</td>\n",
       "      <td>0</td>\n",
       "      <td>0</td>\n",
       "      <td>0</td>\n",
       "      <td>0</td>\n",
       "      <td>0</td>\n",
       "      <td>0</td>\n",
       "      <td>0</td>\n",
       "    </tr>\n",
       "    <tr>\n",
       "      <th>26711</th>\n",
       "      <td>1.516652</td>\n",
       "      <td>-0.403987</td>\n",
       "      <td>4.251681</td>\n",
       "      <td>0.606459</td>\n",
       "      <td>-0.268244</td>\n",
       "      <td>0.458500</td>\n",
       "      <td>1.353178</td>\n",
       "      <td>1.395731</td>\n",
       "      <td>0.678145</td>\n",
       "      <td>-0.238128</td>\n",
       "      <td>...</td>\n",
       "      <td>0</td>\n",
       "      <td>0</td>\n",
       "      <td>0</td>\n",
       "      <td>0</td>\n",
       "      <td>0</td>\n",
       "      <td>0</td>\n",
       "      <td>0</td>\n",
       "      <td>0</td>\n",
       "      <td>0</td>\n",
       "      <td>0</td>\n",
       "    </tr>\n",
       "    <tr>\n",
       "      <th>...</th>\n",
       "      <td>...</td>\n",
       "      <td>...</td>\n",
       "      <td>...</td>\n",
       "      <td>...</td>\n",
       "      <td>...</td>\n",
       "      <td>...</td>\n",
       "      <td>...</td>\n",
       "      <td>...</td>\n",
       "      <td>...</td>\n",
       "      <td>...</td>\n",
       "      <td>...</td>\n",
       "      <td>...</td>\n",
       "      <td>...</td>\n",
       "      <td>...</td>\n",
       "      <td>...</td>\n",
       "      <td>...</td>\n",
       "      <td>...</td>\n",
       "      <td>...</td>\n",
       "      <td>...</td>\n",
       "      <td>...</td>\n",
       "      <td>...</td>\n",
       "    </tr>\n",
       "    <tr>\n",
       "      <th>53410</th>\n",
       "      <td>-0.673138</td>\n",
       "      <td>-0.403987</td>\n",
       "      <td>-0.207533</td>\n",
       "      <td>0.606459</td>\n",
       "      <td>-0.268244</td>\n",
       "      <td>0.458500</td>\n",
       "      <td>-0.721845</td>\n",
       "      <td>-0.697199</td>\n",
       "      <td>0.678145</td>\n",
       "      <td>1.685624</td>\n",
       "      <td>...</td>\n",
       "      <td>0</td>\n",
       "      <td>0</td>\n",
       "      <td>0</td>\n",
       "      <td>0</td>\n",
       "      <td>0</td>\n",
       "      <td>0</td>\n",
       "      <td>0</td>\n",
       "      <td>0</td>\n",
       "      <td>0</td>\n",
       "      <td>0</td>\n",
       "    </tr>\n",
       "    <tr>\n",
       "      <th>53411</th>\n",
       "      <td>1.516652</td>\n",
       "      <td>-0.403987</td>\n",
       "      <td>-0.207533</td>\n",
       "      <td>0.606459</td>\n",
       "      <td>-0.268244</td>\n",
       "      <td>0.458500</td>\n",
       "      <td>1.353178</td>\n",
       "      <td>1.395731</td>\n",
       "      <td>0.678145</td>\n",
       "      <td>-0.238128</td>\n",
       "      <td>...</td>\n",
       "      <td>0</td>\n",
       "      <td>0</td>\n",
       "      <td>0</td>\n",
       "      <td>0</td>\n",
       "      <td>0</td>\n",
       "      <td>1</td>\n",
       "      <td>0</td>\n",
       "      <td>0</td>\n",
       "      <td>0</td>\n",
       "      <td>0</td>\n",
       "    </tr>\n",
       "    <tr>\n",
       "      <th>53412</th>\n",
       "      <td>-1.768033</td>\n",
       "      <td>-0.403987</td>\n",
       "      <td>-0.207533</td>\n",
       "      <td>-1.528981</td>\n",
       "      <td>-0.268244</td>\n",
       "      <td>-2.137013</td>\n",
       "      <td>-0.721845</td>\n",
       "      <td>-0.697199</td>\n",
       "      <td>-1.412815</td>\n",
       "      <td>-0.238128</td>\n",
       "      <td>...</td>\n",
       "      <td>0</td>\n",
       "      <td>0</td>\n",
       "      <td>0</td>\n",
       "      <td>0</td>\n",
       "      <td>0</td>\n",
       "      <td>0</td>\n",
       "      <td>0</td>\n",
       "      <td>0</td>\n",
       "      <td>0</td>\n",
       "      <td>0</td>\n",
       "    </tr>\n",
       "    <tr>\n",
       "      <th>53413</th>\n",
       "      <td>1.516652</td>\n",
       "      <td>-0.403987</td>\n",
       "      <td>-0.207533</td>\n",
       "      <td>0.606459</td>\n",
       "      <td>-0.268244</td>\n",
       "      <td>0.458500</td>\n",
       "      <td>-0.721845</td>\n",
       "      <td>1.395731</td>\n",
       "      <td>-1.412815</td>\n",
       "      <td>-0.238128</td>\n",
       "      <td>...</td>\n",
       "      <td>0</td>\n",
       "      <td>0</td>\n",
       "      <td>0</td>\n",
       "      <td>0</td>\n",
       "      <td>0</td>\n",
       "      <td>0</td>\n",
       "      <td>0</td>\n",
       "      <td>0</td>\n",
       "      <td>0</td>\n",
       "      <td>0</td>\n",
       "    </tr>\n",
       "    <tr>\n",
       "      <th>53414</th>\n",
       "      <td>0.421757</td>\n",
       "      <td>-0.403987</td>\n",
       "      <td>-0.207533</td>\n",
       "      <td>-1.528981</td>\n",
       "      <td>-0.268244</td>\n",
       "      <td>0.458500</td>\n",
       "      <td>-0.721845</td>\n",
       "      <td>-0.697199</td>\n",
       "      <td>0.678145</td>\n",
       "      <td>1.685624</td>\n",
       "      <td>...</td>\n",
       "      <td>0</td>\n",
       "      <td>0</td>\n",
       "      <td>0</td>\n",
       "      <td>0</td>\n",
       "      <td>0</td>\n",
       "      <td>0</td>\n",
       "      <td>0</td>\n",
       "      <td>0</td>\n",
       "      <td>1</td>\n",
       "      <td>0</td>\n",
       "    </tr>\n",
       "  </tbody>\n",
       "</table>\n",
       "<p>26708 rows × 98 columns</p>\n",
       "</div>"
      ],
      "text/plain": [
       "               h1n1_concern  h1n1_knowledge  behavioral_antiviral_meds  \\\n",
       "respondent_id                                                            \n",
       "26707              0.421757        1.175993                  -0.207533   \n",
       "26708             -0.673138       -0.403987                  -0.207533   \n",
       "26709              0.421757        1.175993                  -0.207533   \n",
       "26710             -0.673138       -0.403987                  -0.207533   \n",
       "26711              1.516652       -0.403987                   4.251681   \n",
       "...                     ...             ...                        ...   \n",
       "53410             -0.673138       -0.403987                  -0.207533   \n",
       "53411              1.516652       -0.403987                  -0.207533   \n",
       "53412             -1.768033       -0.403987                  -0.207533   \n",
       "53413              1.516652       -0.403987                  -0.207533   \n",
       "53414              0.421757       -0.403987                  -0.207533   \n",
       "\n",
       "               behavioral_avoidance  behavioral_face_mask  \\\n",
       "respondent_id                                               \n",
       "26707                      0.606459             -0.268244   \n",
       "26708                     -1.528981             -0.268244   \n",
       "26709                     -1.528981              3.646654   \n",
       "26710                     -1.528981             -0.268244   \n",
       "26711                      0.606459             -0.268244   \n",
       "...                             ...                   ...   \n",
       "53410                      0.606459             -0.268244   \n",
       "53411                      0.606459             -0.268244   \n",
       "53412                     -1.528981             -0.268244   \n",
       "53413                      0.606459             -0.268244   \n",
       "53414                     -1.528981             -0.268244   \n",
       "\n",
       "               behavioral_wash_hands  behavioral_large_gatherings  \\\n",
       "respondent_id                                                       \n",
       "26707                       0.458500                     1.353178   \n",
       "26708                      -2.137013                    -0.721845   \n",
       "26709                       0.458500                     1.353178   \n",
       "26710                      -2.137013                    -0.721845   \n",
       "26711                       0.458500                     1.353178   \n",
       "...                              ...                          ...   \n",
       "53410                       0.458500                    -0.721845   \n",
       "53411                       0.458500                     1.353178   \n",
       "53412                      -2.137013                    -0.721845   \n",
       "53413                       0.458500                    -0.721845   \n",
       "53414                       0.458500                    -0.721845   \n",
       "\n",
       "               behavioral_outside_home  behavioral_touch_face  \\\n",
       "respondent_id                                                   \n",
       "26707                        -0.697199               0.678145   \n",
       "26708                        -0.697199              -1.412815   \n",
       "26709                         1.395731               0.678145   \n",
       "26710                        -0.697199              -1.412815   \n",
       "26711                         1.395731               0.678145   \n",
       "...                                ...                    ...   \n",
       "53410                        -0.697199               0.678145   \n",
       "53411                         1.395731               0.678145   \n",
       "53412                        -0.697199              -1.412815   \n",
       "53413                         1.395731              -1.412815   \n",
       "53414                        -0.697199               0.678145   \n",
       "\n",
       "               doctor_recc_h1n1  ...  employment_occupation_qxajmpny  \\\n",
       "respondent_id                    ...                                   \n",
       "26707                 -0.238128  ...                               0   \n",
       "26708                 -0.238128  ...                               0   \n",
       "26709                 -0.238128  ...                               0   \n",
       "26710                  1.685624  ...                               0   \n",
       "26711                 -0.238128  ...                               0   \n",
       "...                         ...  ...                             ...   \n",
       "53410                  1.685624  ...                               0   \n",
       "53411                 -0.238128  ...                               0   \n",
       "53412                 -0.238128  ...                               0   \n",
       "53413                 -0.238128  ...                               0   \n",
       "53414                  1.685624  ...                               0   \n",
       "\n",
       "               employment_occupation_rcertsgn  employment_occupation_tfqavkke  \\\n",
       "respondent_id                                                                   \n",
       "26707                                       0                               0   \n",
       "26708                                       0                               0   \n",
       "26709                                       0                               0   \n",
       "26710                                       0                               0   \n",
       "26711                                       0                               0   \n",
       "...                                       ...                             ...   \n",
       "53410                                       0                               0   \n",
       "53411                                       0                               0   \n",
       "53412                                       0                               0   \n",
       "53413                                       0                               0   \n",
       "53414                                       0                               0   \n",
       "\n",
       "               employment_occupation_ukymxvdu  employment_occupation_uqqtjvyb  \\\n",
       "respondent_id                                                                   \n",
       "26707                                       0                               0   \n",
       "26708                                       0                               0   \n",
       "26709                                       0                               0   \n",
       "26710                                       0                               0   \n",
       "26711                                       0                               0   \n",
       "...                                       ...                             ...   \n",
       "53410                                       0                               0   \n",
       "53411                                       0                               0   \n",
       "53412                                       0                               0   \n",
       "53413                                       0                               0   \n",
       "53414                                       0                               0   \n",
       "\n",
       "               employment_occupation_vlluhbov  employment_occupation_xgwztkwe  \\\n",
       "respondent_id                                                                   \n",
       "26707                                       0                               0   \n",
       "26708                                       0                               0   \n",
       "26709                                       0                               0   \n",
       "26710                                       0                               0   \n",
       "26711                                       0                               0   \n",
       "...                                       ...                             ...   \n",
       "53410                                       0                               0   \n",
       "53411                                       1                               0   \n",
       "53412                                       0                               0   \n",
       "53413                                       0                               0   \n",
       "53414                                       0                               0   \n",
       "\n",
       "               employment_occupation_xqwwgdyp  employment_occupation_xtkaffoo  \\\n",
       "respondent_id                                                                   \n",
       "26707                                       0                               0   \n",
       "26708                                       1                               0   \n",
       "26709                                       0                               0   \n",
       "26710                                       0                               0   \n",
       "26711                                       0                               0   \n",
       "...                                       ...                             ...   \n",
       "53410                                       0                               0   \n",
       "53411                                       0                               0   \n",
       "53412                                       0                               0   \n",
       "53413                                       0                               0   \n",
       "53414                                       0                               1   \n",
       "\n",
       "               employment_occupation_xzmlyyjv  \n",
       "respondent_id                                  \n",
       "26707                                       0  \n",
       "26708                                       0  \n",
       "26709                                       0  \n",
       "26710                                       0  \n",
       "26711                                       0  \n",
       "...                                       ...  \n",
       "53410                                       0  \n",
       "53411                                       0  \n",
       "53412                                       0  \n",
       "53413                                       0  \n",
       "53414                                       0  \n",
       "\n",
       "[26708 rows x 98 columns]"
      ]
     },
     "execution_count": 60,
     "metadata": {},
     "output_type": "execute_result"
    }
   ],
   "source": [
    "test"
   ]
  },
  {
   "cell_type": "code",
   "execution_count": 61,
   "id": "c1003c97",
   "metadata": {},
   "outputs": [],
   "source": [
    "test_preds= sclf.predict_proba(test)"
   ]
  },
  {
   "cell_type": "code",
   "execution_count": 63,
   "id": "06943710",
   "metadata": {},
   "outputs": [],
   "source": [
    "test_preds = test_preds[:,1]"
   ]
  },
  {
   "cell_type": "code",
   "execution_count": 65,
   "id": "17ac3d2e",
   "metadata": {},
   "outputs": [],
   "source": [
    "h1n1_test= test_preds"
   ]
  },
  {
   "cell_type": "markdown",
   "id": "ed167dc6",
   "metadata": {},
   "source": [
    "## Creating ensamlbe for seasonal flu"
   ]
  },
  {
   "cell_type": "code",
   "execution_count": 104,
   "id": "cd8e09a2",
   "metadata": {},
   "outputs": [],
   "source": [
    "X_train, X_test, y_train, y_test = train_test_split(\n",
    "    train,\n",
    "    labels.seasonal_vaccine,\n",
    "    test_size=0.30,\n",
    "    shuffle=True,\n",
    "    random_state=68\n",
    ")\n"
   ]
  },
  {
   "cell_type": "code",
   "execution_count": 113,
   "id": "d195ed5b",
   "metadata": {},
   "outputs": [],
   "source": [
    "sclf_2 = StackingCVClassifier(classifiers = [classifier1_se, classifier2_se, classifier3_se, classifier4_se],\n",
    "                            shuffle = False,\n",
    "                            use_probas = True,\n",
    "                            cv = 5,\n",
    "                            meta_classifier = LogisticRegression())"
   ]
  },
  {
   "cell_type": "code",
   "execution_count": 114,
   "id": "e951c13e",
   "metadata": {},
   "outputs": [],
   "source": [
    "from sklearn.ensemble import GradientBoostingClassifier\n",
    "# Initializing Support Vector classifier\n",
    "classifier1_se = xg.XGBClassifier(\n",
    "    gamma=1,\n",
    "    learning_rate= 0.1,\n",
    "    max_depth= 7,\n",
    "    reg_lambda=0,\n",
    "    objective=\"binary:logistic\",\n",
    "    colsample_bytree=0.5,\n",
    "    subsample=0.8\n",
    ")\n",
    "\n",
    "# Initializing Multi-layer perceptron  classifier\n",
    "classifier2_se = CatBoostClassifier(verbose=False,  cat_features=categorical_features_indices, \n",
    "                          iterations=500,\n",
    "    learning_rate=0.05745075659543725,\n",
    "    random_strength=4,\n",
    "    bagging_temperature=8,\n",
    "    max_bin=5,\n",
    "    grow_policy=\"Lossguide\",\n",
    "    min_data_in_leaf=7,\n",
    "    max_depth=6,\n",
    "    l2_leaf_reg=11.323094517862078,\n",
    "    one_hot_max_size=10,\n",
    "    auto_class_weights=\"Balanced\")\n",
    "\n",
    "# Initialing Nu Support Vector classifier\n",
    "classifier3_se = GradientBoostingClassifier(n_estimators=100, learning_rate=1.0,\n",
    "                                            max_depth=3, random_state=68)\n",
    "\n",
    "# Initializing Random Forest classifier\n",
    "classifier4_se = RandomForestClassifier(n_estimators = 500, criterion = \"gini\", max_depth = 10,\n",
    "                                     max_features = \"auto\", min_samples_leaf = 0.005,\n",
    "                                     min_samples_split = 0.005, n_jobs = -1, random_state = 1000)"
   ]
  },
  {
   "cell_type": "code",
   "execution_count": 115,
   "id": "78faf1ae",
   "metadata": {},
   "outputs": [],
   "source": [
    "# Create list to store classifiers\n",
    "classifiers_2 = {\"Xgboost\": classifier1_se,\n",
    "               \"CatBoost\": classifier2_se,\n",
    "               \"GB_tree\": classifier3_se,\n",
    "               \"RF\": classifier4_se,\n",
    "               \"Stack\": sclf_2}"
   ]
  },
  {
   "cell_type": "code",
   "execution_count": 116,
   "id": "e5557a00",
   "metadata": {},
   "outputs": [
    {
     "name": "stderr",
     "output_type": "stream",
     "text": [
      "C:\\Users\\jvrdo\\anaconda3\\lib\\site-packages\\sklearn\\ensemble\\_forest.py:427: FutureWarning: `max_features='auto'` has been deprecated in 1.1 and will be removed in 1.3. To keep the past behaviour, explicitly set `max_features='sqrt'` or remove this parameter as it is also the default value for RandomForestClassifiers and ExtraTreesClassifiers.\n",
      "  warn(\n",
      "C:\\Users\\jvrdo\\anaconda3\\lib\\site-packages\\sklearn\\ensemble\\_forest.py:427: FutureWarning: `max_features='auto'` has been deprecated in 1.1 and will be removed in 1.3. To keep the past behaviour, explicitly set `max_features='sqrt'` or remove this parameter as it is also the default value for RandomForestClassifiers and ExtraTreesClassifiers.\n",
      "  warn(\n",
      "C:\\Users\\jvrdo\\anaconda3\\lib\\site-packages\\sklearn\\ensemble\\_forest.py:427: FutureWarning: `max_features='auto'` has been deprecated in 1.1 and will be removed in 1.3. To keep the past behaviour, explicitly set `max_features='sqrt'` or remove this parameter as it is also the default value for RandomForestClassifiers and ExtraTreesClassifiers.\n",
      "  warn(\n",
      "C:\\Users\\jvrdo\\anaconda3\\lib\\site-packages\\sklearn\\ensemble\\_forest.py:427: FutureWarning: `max_features='auto'` has been deprecated in 1.1 and will be removed in 1.3. To keep the past behaviour, explicitly set `max_features='sqrt'` or remove this parameter as it is also the default value for RandomForestClassifiers and ExtraTreesClassifiers.\n",
      "  warn(\n",
      "C:\\Users\\jvrdo\\anaconda3\\lib\\site-packages\\sklearn\\ensemble\\_forest.py:427: FutureWarning: `max_features='auto'` has been deprecated in 1.1 and will be removed in 1.3. To keep the past behaviour, explicitly set `max_features='sqrt'` or remove this parameter as it is also the default value for RandomForestClassifiers and ExtraTreesClassifiers.\n",
      "  warn(\n",
      "C:\\Users\\jvrdo\\anaconda3\\lib\\site-packages\\sklearn\\ensemble\\_forest.py:427: FutureWarning: `max_features='auto'` has been deprecated in 1.1 and will be removed in 1.3. To keep the past behaviour, explicitly set `max_features='sqrt'` or remove this parameter as it is also the default value for RandomForestClassifiers and ExtraTreesClassifiers.\n",
      "  warn(\n",
      "C:\\Users\\jvrdo\\anaconda3\\lib\\site-packages\\sklearn\\ensemble\\_forest.py:427: FutureWarning: `max_features='auto'` has been deprecated in 1.1 and will be removed in 1.3. To keep the past behaviour, explicitly set `max_features='sqrt'` or remove this parameter as it is also the default value for RandomForestClassifiers and ExtraTreesClassifiers.\n",
      "  warn(\n"
     ]
    }
   ],
   "source": [
    "# Train classifiers\n",
    "for key in classifiers_2:\n",
    "    # Get classifier\n",
    "    classifier = classifiers_2[key]\n",
    "    \n",
    "    # Fit classifier\n",
    "    classifier.fit(X_train, y_train)\n",
    "        \n",
    "    # Save fitted classifier\n",
    "    classifiers_2[key] = classifier"
   ]
  },
  {
   "cell_type": "code",
   "execution_count": 117,
   "id": "cb5b68e2",
   "metadata": {},
   "outputs": [],
   "source": [
    "# Get results\n",
    "results_2 = pd.DataFrame()\n",
    "for key in classifiers:\n",
    "    # Make prediction on test set\n",
    "    y_pred = classifiers[key].predict_proba(X_test)[:,1]\n",
    "    \n",
    "    # Save results in pandas dataframe object\n",
    "    results[f\"{key}\"] = y_pred\n",
    "\n",
    "# Add the test set to the results object\n",
    "results_2[\"Target\"] = y_test"
   ]
  },
  {
   "cell_type": "code",
   "execution_count": 125,
   "id": "09ff51f4",
   "metadata": {},
   "outputs": [],
   "source": [
    "test_preds_2= sclf_2.predict_proba(test)\n",
    "test_preds_2 = test_preds_2[:,1]"
   ]
  },
  {
   "cell_type": "code",
   "execution_count": 119,
   "id": "cd16c532",
   "metadata": {},
   "outputs": [
    {
     "name": "stderr",
     "output_type": "stream",
     "text": [
      "C:\\Users\\jvrdo\\anaconda3\\lib\\site-packages\\seaborn\\distributions.py:2557: FutureWarning: `distplot` is a deprecated function and will be removed in a future version. Please adapt your code to use either `displot` (a figure-level function with similar flexibility) or `histplot` (an axes-level function for histograms).\n",
      "  warnings.warn(msg, FutureWarning)\n",
      "C:\\Users\\jvrdo\\anaconda3\\lib\\site-packages\\seaborn\\distributions.py:2557: FutureWarning: `distplot` is a deprecated function and will be removed in a future version. Please adapt your code to use either `displot` (a figure-level function with similar flexibility) or `histplot` (an axes-level function for histograms).\n",
      "  warnings.warn(msg, FutureWarning)\n"
     ]
    },
    {
     "ename": "KeyError",
     "evalue": "'GB_tree'",
     "output_type": "error",
     "traceback": [
      "\u001b[1;31m---------------------------------------------------------------------------\u001b[0m",
      "\u001b[1;31mKeyError\u001b[0m                                  Traceback (most recent call last)",
      "\u001b[1;32m~\\anaconda3\\lib\\site-packages\\pandas\\core\\indexes\\base.py\u001b[0m in \u001b[0;36mget_loc\u001b[1;34m(self, key, method, tolerance)\u001b[0m\n\u001b[0;32m   3620\u001b[0m             \u001b[1;32mtry\u001b[0m\u001b[1;33m:\u001b[0m\u001b[1;33m\u001b[0m\u001b[1;33m\u001b[0m\u001b[0m\n\u001b[1;32m-> 3621\u001b[1;33m                 \u001b[1;32mreturn\u001b[0m \u001b[0mself\u001b[0m\u001b[1;33m.\u001b[0m\u001b[0m_engine\u001b[0m\u001b[1;33m.\u001b[0m\u001b[0mget_loc\u001b[0m\u001b[1;33m(\u001b[0m\u001b[0mcasted_key\u001b[0m\u001b[1;33m)\u001b[0m\u001b[1;33m\u001b[0m\u001b[1;33m\u001b[0m\u001b[0m\n\u001b[0m\u001b[0;32m   3622\u001b[0m             \u001b[1;32mexcept\u001b[0m \u001b[0mKeyError\u001b[0m \u001b[1;32mas\u001b[0m \u001b[0merr\u001b[0m\u001b[1;33m:\u001b[0m\u001b[1;33m\u001b[0m\u001b[1;33m\u001b[0m\u001b[0m\n",
      "\u001b[1;32m~\\anaconda3\\lib\\site-packages\\pandas\\_libs\\index.pyx\u001b[0m in \u001b[0;36mpandas._libs.index.IndexEngine.get_loc\u001b[1;34m()\u001b[0m\n",
      "\u001b[1;32m~\\anaconda3\\lib\\site-packages\\pandas\\_libs\\index.pyx\u001b[0m in \u001b[0;36mpandas._libs.index.IndexEngine.get_loc\u001b[1;34m()\u001b[0m\n",
      "\u001b[1;32mpandas\\_libs\\hashtable_class_helper.pxi\u001b[0m in \u001b[0;36mpandas._libs.hashtable.PyObjectHashTable.get_item\u001b[1;34m()\u001b[0m\n",
      "\u001b[1;32mpandas\\_libs\\hashtable_class_helper.pxi\u001b[0m in \u001b[0;36mpandas._libs.hashtable.PyObjectHashTable.get_item\u001b[1;34m()\u001b[0m\n",
      "\u001b[1;31mKeyError\u001b[0m: 'GB_tree'",
      "\nThe above exception was the direct cause of the following exception:\n",
      "\u001b[1;31mKeyError\u001b[0m                                  Traceback (most recent call last)",
      "\u001b[1;32m<ipython-input-119-f96c4a30551a>\u001b[0m in \u001b[0;36m<module>\u001b[1;34m\u001b[0m\n\u001b[0;32m     12\u001b[0m \u001b[1;32mfor\u001b[0m \u001b[0mkey\u001b[0m\u001b[1;33m,\u001b[0m \u001b[0mcounter\u001b[0m \u001b[1;32min\u001b[0m \u001b[0mzip\u001b[0m\u001b[1;33m(\u001b[0m\u001b[0mclassifiers_2\u001b[0m\u001b[1;33m,\u001b[0m \u001b[0mrange\u001b[0m\u001b[1;33m(\u001b[0m\u001b[1;36m5\u001b[0m\u001b[1;33m)\u001b[0m\u001b[1;33m)\u001b[0m\u001b[1;33m:\u001b[0m\u001b[1;33m\u001b[0m\u001b[1;33m\u001b[0m\u001b[0m\n\u001b[0;32m     13\u001b[0m     \u001b[1;31m# Get predictions\u001b[0m\u001b[1;33m\u001b[0m\u001b[1;33m\u001b[0m\u001b[1;33m\u001b[0m\u001b[0m\n\u001b[1;32m---> 14\u001b[1;33m     \u001b[0my_pred\u001b[0m \u001b[1;33m=\u001b[0m \u001b[0mresults\u001b[0m\u001b[1;33m[\u001b[0m\u001b[0mkey\u001b[0m\u001b[1;33m]\u001b[0m\u001b[1;33m\u001b[0m\u001b[1;33m\u001b[0m\u001b[0m\n\u001b[0m\u001b[0;32m     15\u001b[0m \u001b[1;33m\u001b[0m\u001b[0m\n\u001b[0;32m     16\u001b[0m     \u001b[1;31m# Get AUC\u001b[0m\u001b[1;33m\u001b[0m\u001b[1;33m\u001b[0m\u001b[1;33m\u001b[0m\u001b[0m\n",
      "\u001b[1;32m~\\anaconda3\\lib\\site-packages\\pandas\\core\\frame.py\u001b[0m in \u001b[0;36m__getitem__\u001b[1;34m(self, key)\u001b[0m\n\u001b[0;32m   3503\u001b[0m             \u001b[1;32mif\u001b[0m \u001b[0mself\u001b[0m\u001b[1;33m.\u001b[0m\u001b[0mcolumns\u001b[0m\u001b[1;33m.\u001b[0m\u001b[0mnlevels\u001b[0m \u001b[1;33m>\u001b[0m \u001b[1;36m1\u001b[0m\u001b[1;33m:\u001b[0m\u001b[1;33m\u001b[0m\u001b[1;33m\u001b[0m\u001b[0m\n\u001b[0;32m   3504\u001b[0m                 \u001b[1;32mreturn\u001b[0m \u001b[0mself\u001b[0m\u001b[1;33m.\u001b[0m\u001b[0m_getitem_multilevel\u001b[0m\u001b[1;33m(\u001b[0m\u001b[0mkey\u001b[0m\u001b[1;33m)\u001b[0m\u001b[1;33m\u001b[0m\u001b[1;33m\u001b[0m\u001b[0m\n\u001b[1;32m-> 3505\u001b[1;33m             \u001b[0mindexer\u001b[0m \u001b[1;33m=\u001b[0m \u001b[0mself\u001b[0m\u001b[1;33m.\u001b[0m\u001b[0mcolumns\u001b[0m\u001b[1;33m.\u001b[0m\u001b[0mget_loc\u001b[0m\u001b[1;33m(\u001b[0m\u001b[0mkey\u001b[0m\u001b[1;33m)\u001b[0m\u001b[1;33m\u001b[0m\u001b[1;33m\u001b[0m\u001b[0m\n\u001b[0m\u001b[0;32m   3506\u001b[0m             \u001b[1;32mif\u001b[0m \u001b[0mis_integer\u001b[0m\u001b[1;33m(\u001b[0m\u001b[0mindexer\u001b[0m\u001b[1;33m)\u001b[0m\u001b[1;33m:\u001b[0m\u001b[1;33m\u001b[0m\u001b[1;33m\u001b[0m\u001b[0m\n\u001b[0;32m   3507\u001b[0m                 \u001b[0mindexer\u001b[0m \u001b[1;33m=\u001b[0m \u001b[1;33m[\u001b[0m\u001b[0mindexer\u001b[0m\u001b[1;33m]\u001b[0m\u001b[1;33m\u001b[0m\u001b[1;33m\u001b[0m\u001b[0m\n",
      "\u001b[1;32m~\\anaconda3\\lib\\site-packages\\pandas\\core\\indexes\\base.py\u001b[0m in \u001b[0;36mget_loc\u001b[1;34m(self, key, method, tolerance)\u001b[0m\n\u001b[0;32m   3621\u001b[0m                 \u001b[1;32mreturn\u001b[0m \u001b[0mself\u001b[0m\u001b[1;33m.\u001b[0m\u001b[0m_engine\u001b[0m\u001b[1;33m.\u001b[0m\u001b[0mget_loc\u001b[0m\u001b[1;33m(\u001b[0m\u001b[0mcasted_key\u001b[0m\u001b[1;33m)\u001b[0m\u001b[1;33m\u001b[0m\u001b[1;33m\u001b[0m\u001b[0m\n\u001b[0;32m   3622\u001b[0m             \u001b[1;32mexcept\u001b[0m \u001b[0mKeyError\u001b[0m \u001b[1;32mas\u001b[0m \u001b[0merr\u001b[0m\u001b[1;33m:\u001b[0m\u001b[1;33m\u001b[0m\u001b[1;33m\u001b[0m\u001b[0m\n\u001b[1;32m-> 3623\u001b[1;33m                 \u001b[1;32mraise\u001b[0m \u001b[0mKeyError\u001b[0m\u001b[1;33m(\u001b[0m\u001b[0mkey\u001b[0m\u001b[1;33m)\u001b[0m \u001b[1;32mfrom\u001b[0m \u001b[0merr\u001b[0m\u001b[1;33m\u001b[0m\u001b[1;33m\u001b[0m\u001b[0m\n\u001b[0m\u001b[0;32m   3624\u001b[0m             \u001b[1;32mexcept\u001b[0m \u001b[0mTypeError\u001b[0m\u001b[1;33m:\u001b[0m\u001b[1;33m\u001b[0m\u001b[1;33m\u001b[0m\u001b[0m\n\u001b[0;32m   3625\u001b[0m                 \u001b[1;31m# If we have a listlike key, _check_indexing_error will raise\u001b[0m\u001b[1;33m\u001b[0m\u001b[1;33m\u001b[0m\u001b[1;33m\u001b[0m\u001b[0m\n",
      "\u001b[1;31mKeyError\u001b[0m: 'GB_tree'"
     ]
    },
    {
     "data": {
      "image/png": "[encoded data removed]",
      "text/plain": [
       "<Figure size 936x288 with 5 Axes>"
      ]
     },
     "metadata": {},
     "output_type": "display_data"
    }
   ],
   "source": [
    "import seaborn as sns\n",
    "# Probability Distributions Figure\n",
    "# Set graph style\n",
    "sns.set(font_scale = 1)\n",
    "sns.set_style({\"axes.facecolor\": \"1.0\", \"axes.edgecolor\": \"0.85\", \"grid.color\": \"0.85\",\n",
    "               \"grid.linestyle\": \"-\", 'axes.labelcolor': '0.4', \"xtick.color\": \"0.4\",\n",
    "               'ytick.color': '0.4'})\n",
    "\n",
    "# Plot\n",
    "f, ax = plt.subplots(figsize=(13, 4), nrows=1, ncols = 5)\n",
    "\n",
    "for key, counter in zip(classifiers_2, range(5)):\n",
    "    # Get predictions\n",
    "    y_pred = results[key]\n",
    "    \n",
    "    # Get AUC\n",
    "    auc = roc_auc_score(y_test, y_pred)\n",
    "    textstr = f\"AUC: {auc:.3f}\"\n",
    "\n",
    "    # Plot false distribution\n",
    "    false_pred = results[results[\"Target\"] == 0]\n",
    "    sns.distplot(false_pred[key], hist=True, kde=False, \n",
    "                 bins=int(25), color = 'red',\n",
    "                 hist_kws={'edgecolor':'black'}, ax = ax[counter])\n",
    "    \n",
    "    # Plot true distribution\n",
    "    true_pred = results[results[\"Target\"] == 1]\n",
    "    sns.distplot(results[key], hist=True, kde=False, \n",
    "                 bins=int(25), color = 'green',\n",
    "                 hist_kws={'edgecolor':'black'}, ax = ax[counter])\n",
    "    \n",
    "    \n",
    "    # These are matplotlib.patch.Patch properties\n",
    "    props = dict(boxstyle='round', facecolor='white', alpha=0.5)\n",
    "    \n",
    "    # Place a text box in upper left in axes coords\n",
    "    ax[counter].text(0.05, 0.95, textstr, transform=ax[counter].transAxes, fontsize=14,\n",
    "                    verticalalignment = \"top\", bbox=props)\n",
    "    \n",
    "    # Set axis limits and labels\n",
    "    ax[counter].set_title(f\"{key} Distribution\")\n",
    "    ax[counter].set_xlim(0,1)\n",
    "    ax[counter].set_xlabel(\"Probability\")\n",
    "\n",
    "# Tight layout\n",
    "plt.tight_layout()"
   ]
  },
  {
   "cell_type": "code",
   "execution_count": 93,
   "id": "c1de6318",
   "metadata": {},
   "outputs": [],
   "source": [
    "predictions_se_fin = predictions_se_fin[:,1]"
   ]
  },
  {
   "cell_type": "code",
   "execution_count": 94,
   "id": "9f66da52",
   "metadata": {},
   "outputs": [
    {
     "data": {
      "text/plain": [
       "array([0.3181417 , 0.05232625, 0.63963895, ..., 0.26819249, 0.30653372,\n",
       "       0.72545671])"
      ]
     },
     "execution_count": 94,
     "metadata": {},
     "output_type": "execute_result"
    }
   ],
   "source": [
    "predictions_se_fin"
   ]
  },
  {
   "cell_type": "code",
   "execution_count": 99,
   "id": "5dd32538",
   "metadata": {},
   "outputs": [
    {
     "data": {
      "text/plain": [
       "(26708,)"
      ]
     },
     "execution_count": 99,
     "metadata": {},
     "output_type": "execute_result"
    }
   ],
   "source": [
    "h1n1_test.shape"
   ]
  },
  {
   "cell_type": "code",
   "execution_count": 126,
   "id": "dc50b668",
   "metadata": {},
   "outputs": [
    {
     "data": {
      "text/html": [
       "<div>\n",
       "<style scoped>\n",
       "    .dataframe tbody tr th:only-of-type {\n",
       "        vertical-align: middle;\n",
       "    }\n",
       "\n",
       "    .dataframe tbody tr th {\n",
       "        vertical-align: top;\n",
       "    }\n",
       "\n",
       "    .dataframe thead th {\n",
       "        text-align: right;\n",
       "    }\n",
       "</style>\n",
       "<table border=\"1\" class=\"dataframe\">\n",
       "  <thead>\n",
       "    <tr style=\"text-align: right;\">\n",
       "      <th></th>\n",
       "      <th>h1n1_vaccine</th>\n",
       "      <th>seasonal_vaccine</th>\n",
       "    </tr>\n",
       "    <tr>\n",
       "      <th>respondent_id</th>\n",
       "      <th></th>\n",
       "      <th></th>\n",
       "    </tr>\n",
       "  </thead>\n",
       "  <tbody>\n",
       "    <tr>\n",
       "      <th>26707</th>\n",
       "      <td>0.081886</td>\n",
       "      <td>0.276669</td>\n",
       "    </tr>\n",
       "    <tr>\n",
       "      <th>26708</th>\n",
       "      <td>0.045500</td>\n",
       "      <td>0.067985</td>\n",
       "    </tr>\n",
       "    <tr>\n",
       "      <th>26709</th>\n",
       "      <td>0.154835</td>\n",
       "      <td>0.745883</td>\n",
       "    </tr>\n",
       "    <tr>\n",
       "      <th>26710</th>\n",
       "      <td>0.605110</td>\n",
       "      <td>0.881999</td>\n",
       "    </tr>\n",
       "    <tr>\n",
       "      <th>26711</th>\n",
       "      <td>0.185520</td>\n",
       "      <td>0.387886</td>\n",
       "    </tr>\n",
       "    <tr>\n",
       "      <th>...</th>\n",
       "      <td>...</td>\n",
       "      <td>...</td>\n",
       "    </tr>\n",
       "    <tr>\n",
       "      <th>53410</th>\n",
       "      <td>0.255227</td>\n",
       "      <td>0.482889</td>\n",
       "    </tr>\n",
       "    <tr>\n",
       "      <th>53411</th>\n",
       "      <td>0.163228</td>\n",
       "      <td>0.242303</td>\n",
       "    </tr>\n",
       "    <tr>\n",
       "      <th>53412</th>\n",
       "      <td>0.141303</td>\n",
       "      <td>0.180148</td>\n",
       "    </tr>\n",
       "    <tr>\n",
       "      <th>53413</th>\n",
       "      <td>0.041218</td>\n",
       "      <td>0.318234</td>\n",
       "    </tr>\n",
       "    <tr>\n",
       "      <th>53414</th>\n",
       "      <td>0.562349</td>\n",
       "      <td>0.693601</td>\n",
       "    </tr>\n",
       "  </tbody>\n",
       "</table>\n",
       "<p>26708 rows × 2 columns</p>\n",
       "</div>"
      ],
      "text/plain": [
       "               h1n1_vaccine  seasonal_vaccine\n",
       "respondent_id                                \n",
       "26707              0.081886          0.276669\n",
       "26708              0.045500          0.067985\n",
       "26709              0.154835          0.745883\n",
       "26710              0.605110          0.881999\n",
       "26711              0.185520          0.387886\n",
       "...                     ...               ...\n",
       "53410              0.255227          0.482889\n",
       "53411              0.163228          0.242303\n",
       "53412              0.141303          0.180148\n",
       "53413              0.041218          0.318234\n",
       "53414              0.562349          0.693601\n",
       "\n",
       "[26708 rows x 2 columns]"
      ]
     },
     "execution_count": 126,
     "metadata": {},
     "output_type": "execute_result"
    }
   ],
   "source": [
    "submission_df[\"h1n1_vaccine\"] = h1n1_test\n",
    "submission_df[\"seasonal_vaccine\"] = test_preds_2\n",
    "\n",
    "submission_df"
   ]
  },
  {
   "cell_type": "code",
   "execution_count": 127,
   "id": "e430c19d",
   "metadata": {},
   "outputs": [],
   "source": [
    "submission_df.to_csv('my_submission_stacked_2.csv')"
   ]
  },
  {
   "cell_type": "code",
   "execution_count": null,
   "id": "6abf41cc",
   "metadata": {},
   "outputs": [],
   "source": []
  }
 ],
 "metadata": {
  "kernelspec": {
   "display_name": "Python 3",
   "language": "python",
   "name": "python3"
  },
  "language_info": {
   "codemirror_mode": {
    "name": "ipython",
    "version": 3
   },
   "file_extension": ".py",
   "mimetype": "text/x-python",
   "name": "python",
   "nbconvert_exporter": "python",
   "pygments_lexer": "ipython3",
   "version": "3.8.8"
  }
 },
 "nbformat": 4,
 "nbformat_minor": 5
}
